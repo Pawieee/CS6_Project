{
 "cells": [
  {
   "cell_type": "markdown",
   "id": "7e7c216e271a8eb3",
   "metadata": {},
   "source": [
    "# CS6 PROJECT\n",
    "# ACTIVITY SELECTION PROBLEM: A THREE-WAY APPROACH SOLUTION\n",
    "\n",
    "The activity selection problem is a combinatorial optimization problem that deals with the selection of non-conflicting activities to perform within a given time frame, given a set  of activities each marked by a start time (s)ᵢ and finish time (fᵢ). The problem is to select the maximum number of activities that can be performed by a single person or machine, assuming that a person can only work on a single activity at a time.\n"
   ]
  },
  {
   "cell_type": "markdown",
   "id": "b84b2921ff98dbde",
   "metadata": {},
   "source": [
    "## Problem Statement:\n",
    "Design and implement three approaches of algorithms to solve the activity selection problem, analyze the time and space complexity, and determine which approach is optimal."
   ]
  },
  {
   "cell_type": "markdown",
   "id": "901b44607c836259",
   "metadata": {},
   "source": [
    "## Requirements\n",
    "1. Implement each algorithm approach\n",
    "    * Greedy Algorithm\n",
    "    * Divide and Conquer Algorithm\n",
    "    * Dynamic Programming Algorithm\n",
    "2. Develop a program that generates random tuples of varying sizes for testing purposes.\n",
    "3. Measure the time and space complexity of each algorithm on different sample sizes.\n",
    "4. Analyze and compare the time and space complexity of each algorithm."
   ]
  },
  {
   "cell_type": "markdown",
   "id": "fcebe5f54a785505",
   "metadata": {},
   "source": [
    "## Implementation\n",
    "### Greedy Algorithm"
   ]
  },
  {
   "cell_type": "code",
   "execution_count": null,
   "id": "255e6f4cbcb23aef",
   "metadata": {},
   "outputs": [],
   "source": [
    "def greedy_algo(activities):\n",
    "   # Sort activities by finish time\n",
    "   activities.sort(key=lambda x: x[1])\n",
    "\n",
    "   # The first activity is always selected\n",
    "   i = 0\n",
    "   final = [activities[0]]\n",
    "\n",
    "   # Consider rest of the activities\n",
    "   for j in range(len(activities)):\n",
    "       # If this activity has start time greater than\n",
    "       # or equal to the finish time of previously selected\n",
    "       # activity, then select it\n",
    "       if activities[j][0] >= activities[i][1]:\n",
    "           final.append(activities[j])\n",
    "           i = j\n",
    "           \n",
    "   return final"
   ]
  },
  {
   "cell_type": "code",
   "execution_count": null,
   "id": "f4837bf38aa57252",
   "metadata": {},
   "outputs": [],
   "source": []
  },
  {
   "cell_type": "markdown",
   "id": "a3e5d0dcab269545",
   "metadata": {},
   "source": [
    "### Divide and Conquer Algorithm"
   ]
  },
  {
   "cell_type": "code",
   "execution_count": null,
   "id": "143ea9d22f4b03a2",
   "metadata": {},
   "outputs": [],
   "source": [
    "def div_algo(activities):\n",
    "   if len(activities) <= 1:\n",
    "       return activities\n",
    "\n",
    "   mid = len(activities) // 2\n",
    "   left = activities[:mid]\n",
    "   right = activities[mid:]\n",
    "\n",
    "   left = div_algo(left)\n",
    "   right = div_algo(right)\n",
    "\n",
    "   return merge(left, right)\n",
    "\n",
    "def merge(left, right):\n",
    "   merged = []\n",
    "   i = j = 0\n",
    "\n",
    "   while i < len(left) and j < len(right):\n",
    "       if merged:\n",
    "           # Case where merged[] has content/s\n",
    "           # Check for activity with the least finish time\n",
    "           if left[i][1] < right[j][1] and left[i][0] >= merged[-1][1]:\n",
    "               merged.append(left[i])\n",
    "               i += 1\n",
    "           elif left[i][1] > right[j][1] and right[j][0] >= merged[-1][1]:\n",
    "               merged.append(right[j])\n",
    "               j += 1\n",
    "           else:\n",
    "               # If finish times are the same, choose the one that has lesser duration\n",
    "               if left[i][1] - left[i][0] <= right[j][1] - right[j][0] and left[i][0] >= merged[-1][1]:\n",
    "                   merged.append(left[i])\n",
    "                   i += 1\n",
    "               else:\n",
    "                   if right[j][0] >= merged[-1][1]:\n",
    "                       merged.append(right[j])\n",
    "                   j += 1\n",
    "       else:\n",
    "           # Case where merged[] is empty\n",
    "           # Check for activity with the least finish time\n",
    "           if left[i][1] < right[j][1]:\n",
    "               merged.append(left[i])\n",
    "               i += 1\n",
    "           elif left[i][1] > right[j][1]:\n",
    "               merged.append(right[j])\n",
    "               j += 1\n",
    "           else:\n",
    "               # Filter for overlapping time and same finish time\n",
    "               # If finish times are the same, choose the one that has lesser duration\n",
    "               if left[i][1] - left[i][0] <= right[j][1] - right[j][0]:\n",
    "                   merged.append(left[i])\n",
    "                   i += 1\n",
    "               else:\n",
    "                   merged.append(right[j])\n",
    "                   j += 1\n",
    "\n",
    "   # Append any remaining activities from either list\n",
    "   while i < len(left) or j < len(right):\n",
    "       # If there are activities in both halves\n",
    "       if i < len(left) and j < len(right):\n",
    "           lefty = left[i]\n",
    "           righty = right[j]\n",
    "           # Choose the activity with the lowest duration\n",
    "           if lefty[1] - lefty[0] < righty[1] - righty[0]:\n",
    "               if not merged or lefty[0] >= merged[-1][1]:\n",
    "                   merged.append(lefty)\n",
    "               i += 1\n",
    "           else:\n",
    "               if not merged or righty[0] >= merged[-1][1]:\n",
    "                   merged.append(righty)\n",
    "               j += 1\n",
    "       # If there are only activities in the left half\n",
    "       elif i < len(left):\n",
    "           lefty = left[i]\n",
    "           if not merged or lefty[0] >= merged[-1][1]:\n",
    "               merged.append(lefty)\n",
    "           i += 1\n",
    "       # If there are only activities in the right half\n",
    "       elif j < len(right):\n",
    "           righty = right[j]\n",
    "           if not merged or righty[0] >= merged[-1][1]:\n",
    "               merged.append(righty)\n",
    "           j += 1\n",
    "\n",
    "   return merged"
   ]
  },
  {
   "cell_type": "markdown",
   "id": "d059ea28a928d651",
   "metadata": {},
   "source": [
    "### Dynamic Programming Algorithm"
   ]
  },
  {
   "cell_type": "code",
   "execution_count": null,
   "id": "4a115dbe2026782c",
   "metadata": {},
   "outputs": [],
   "source": [
    "def dynamic_algo(activities):\n",
    "   # Sort activities according to their finish time\n",
    "   activities.sort(key=lambda x: x[1])\n",
    "\n",
    "   n = len(activities)\n",
    "\n",
    "   # Array to store solutions of sub-problems\n",
    "   dp = [0 for _ in range(n)]\n",
    "   selected = [[] for _ in range(n)]\n",
    "\n",
    "\n",
    "   # The first activity always gets selected\n",
    "   dp[0] = 1\n",
    "   selected[0] = [activities[0]]\n",
    "\n",
    "   # Fill entries in dp[] using recursive property\n",
    "   for i in range(1, n):\n",
    "       # Find the maximum number of activities that can\n",
    "       # be performed by including the i-th activity\n",
    "       for j in range(i):\n",
    "           if activities[j][1] <= activities[i][0] and dp[j] + 1 > dp[i]:\n",
    "               dp[i] = dp[j] + 1\n",
    "               selected[i] = selected[j].copy()\n",
    "       if not selected[i] or (selected[i] and selected[i][-1][1] <= activities[i][0]):\n",
    "           selected[i].append(activities[i])\n",
    "\n",
    "   # Find the index of the maximum value in dp[]\n",
    "   max_index = dp.index(max(dp))\n",
    "\n",
    "   return selected[max_index]\n"
   ]
  },
  {
   "cell_type": "markdown",
   "id": "58ed6ad0aa52ff19",
   "metadata": {},
   "source": [
    "### Random list of tuples generation"
   ]
  },
  {
   "cell_type": "code",
   "execution_count": 1,
   "id": "9f519a30598b2834",
   "metadata": {
    "ExecuteTime": {
     "end_time": "2024-04-30T08:58:33.137354Z",
     "start_time": "2024-04-30T08:58:33.131645Z"
    }
   },
   "outputs": [],
   "source": [
    "import random\n",
    "\n",
    "def rand_tuple(size, seed):\n",
    "   random.seed(seed)\n",
    "\n",
    "   tuple_list = []\n",
    "   for _ in range(size):\n",
    "       while True:\n",
    "           s = random.randint(1, 9)\n",
    "           f = random.randint(1, 9)\n",
    "           if s < f:\n",
    "               if (s, f) not in tuple_list:\n",
    "                   tuple_list.append((s, f))\n",
    "                   break\n",
    "                   \n",
    "   return tuple_list"
   ]
  },
  {
   "cell_type": "code",
   "execution_count": 1,
   "id": "555fbdb0026a2111",
   "metadata": {
    "ExecuteTime": {
     "end_time": "2024-04-30T09:15:15.641361Z",
     "start_time": "2024-04-30T09:15:15.639353Z"
    }
   },
   "outputs": [],
   "source": []
  },
  {
   "cell_type": "markdown",
   "id": "b0da0b1ad48f396b",
   "metadata": {},
   "source": [
    "## Time Complexity Analysis\n",
    "### Greedy Algorithm \n",
    "\n",
    "```\n",
    "def greedy_algo(activities):      \t\n",
    " \tactivities.sort(key=lambda x: x[1])                                 \t        O(n log n)\n",
    "\n",
    " \ti = 0                                                                           O(1)\n",
    " \tfinal = [activities[0]]                                                      \tO(1)\n",
    " \tsize = len(activities)                                                     \t    O(1)\n",
    "\n",
    " \tfor j in range(size):                                                       \tO(1)\n",
    "     \tif activities[j][0] >= activities[i][1]:                               \t\n",
    "         \tfinal.append(activities[j])                                       \t\tO(1)\n",
    "         \ti = j                                                                     O(1)\n",
    " \treturn final                                                                   \tO(1)\n",
    " \n",
    "Tgreedy = O(n log n) + O(1) + O(1)  + O(1)  + O(1) + n(O(1) + O(1))\n",
    "      \t= O(n log n) 4 (O(1)) + n (2 O(1))\n",
    "      \t= n1 log n1 + C1 + n2C2\n",
    "Tgreedy  = O(n log n)\n",
    "```"
   ]
  }
 ],
 "metadata": {
  "kernelspec": {
   "display_name": "Python 3 (ipykernel)",
   "language": "python",
   "name": "python3"
  },
  "language_info": {
   "codemirror_mode": {
    "name": "ipython",
    "version": 3
   },
   "file_extension": ".py",
   "mimetype": "text/x-python",
   "name": "python",
   "nbconvert_exporter": "python",
   "pygments_lexer": "ipython3",
   "version": "3.12.1"
  }
 },
 "nbformat": 4,
 "nbformat_minor": 5
}
