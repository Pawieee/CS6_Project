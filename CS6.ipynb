{
 "cells": [
  {
   "cell_type": "markdown",
   "id": "7e7c216e271a8eb3",
   "metadata": {},
   "source": [
    "# CS6 PROJECT\n",
    "# ACTIVITY SELECTION PROBLEM: A THREE-WAY APPROACH SOLUTION\n",
    "\n",
    "The activity selection problem is a combinatorial optimization problem that deals with the selection of non-conflicting activities to perform within a given time frame, given a set  of activities each marked by a start time (s)ᵢ and finish time (fᵢ). The problem is to select the maximum number of activities that can be performed by a single person or machine, assuming that a person can only work on a single activity at a time.\n"
   ]
  },
  {
   "cell_type": "markdown",
   "id": "b84b2921ff98dbde",
   "metadata": {},
   "source": [
    "## Problem Statement:\n",
    "Design and implement three approaches of algorithms to solve the activity selection problem, analyze the time and space complexity, and determine which approach is optimal."
   ]
  },
  {
   "cell_type": "markdown",
   "id": "901b44607c836259",
   "metadata": {},
   "source": [
    "## Requirements\n",
    "1. Implement each algorithm approach\n",
    "    * Greedy Algorithm\n",
    "    * Divide and Conquer Algorithm\n",
    "    * Dynamic Programming Algorithm\n",
    "2. Develop a program that generates random tuples of varying sizes for testing purposes.\n",
    "3. Measure the time and space complexity of each algorithm on different sample sizes.\n",
    "4. Analyze and compare the time and space complexity of each algorithm."
   ]
  },
  {
   "cell_type": "markdown",
   "id": "fcebe5f54a785505",
   "metadata": {},
   "source": [
    "## Implementation\n",
    "### Greedy Algorithm"
   ]
  },
  {
   "cell_type": "code",
   "id": "255e6f4cbcb23aef",
   "metadata": {
    "ExecuteTime": {
     "end_time": "2024-05-08T06:37:48.192109Z",
     "start_time": "2024-05-08T06:37:48.188259Z"
    }
   },
   "source": [
    "def greedy_algo(activities):\n",
    "   # Sort activities by finish time\n",
    "   activities.sort(key=lambda x: x[1])\n",
    "\n",
    "   # The first activity is always selected\n",
    "   i = 0\n",
    "   final = [activities[0]]\n",
    "\n",
    "   # Consider rest of the activities\n",
    "   for j in range(len(activities)):\n",
    "       # If this activity has start time greater than\n",
    "       # or equal to the finish time of previously selected\n",
    "       # activity, then select it\n",
    "       if activities[j][0] >= activities[i][1]:\n",
    "           final.append(activities[j])\n",
    "           i = j\n",
    "           \n",
    "   return final"
   ],
   "outputs": [],
   "execution_count": 108
  },
  {
   "cell_type": "markdown",
   "id": "a3e5d0dcab269545",
   "metadata": {},
   "source": [
    "### Divide and Conquer Algorithm"
   ]
  },
  {
   "cell_type": "code",
   "id": "143ea9d22f4b03a2",
   "metadata": {
    "ExecuteTime": {
     "end_time": "2024-05-08T06:37:48.209450Z",
     "start_time": "2024-05-08T06:37:48.201662Z"
    }
   },
   "source": [
    "def div_algo(activities):\n",
    "   if len(activities) <= 1:\n",
    "       return activities\n",
    "\n",
    "   mid = len(activities) // 2\n",
    "   left = activities[:mid]\n",
    "   right = activities[mid:]\n",
    "\n",
    "   left = div_algo(left)\n",
    "   right = div_algo(right)\n",
    "\n",
    "   return merge(left, right)\n",
    "\n",
    "def merge(left, right):\n",
    "   merged = []\n",
    "   i = j = 0\n",
    "\n",
    "   while i < len(left) and j < len(right):\n",
    "       if merged:\n",
    "           # Case where merged[] has content/s\n",
    "           # Check for activity with the least finish time\n",
    "           if left[i][1] < right[j][1] and left[i][0] >= merged[-1][1]:\n",
    "               merged.append(left[i])\n",
    "               i += 1\n",
    "           elif left[i][1] > right[j][1] and right[j][0] >= merged[-1][1]:\n",
    "               merged.append(right[j])\n",
    "               j += 1\n",
    "           else:\n",
    "               # If finish times are the same, choose the one that has lesser duration\n",
    "               if left[i][1] - left[i][0] <= right[j][1] - right[j][0] and left[i][0] >= merged[-1][1]:\n",
    "                   merged.append(left[i])\n",
    "                   i += 1\n",
    "               else:\n",
    "                   if right[j][0] >= merged[-1][1]:\n",
    "                       merged.append(right[j])\n",
    "                   j += 1\n",
    "       else:\n",
    "           # Case where merged[] is empty\n",
    "           # Check for activity with the least finish time\n",
    "           if left[i][1] < right[j][1]:\n",
    "               merged.append(left[i])\n",
    "               i += 1\n",
    "           elif left[i][1] > right[j][1]:\n",
    "               merged.append(right[j])\n",
    "               j += 1\n",
    "           else:\n",
    "               # Filter for overlapping time and same finish time\n",
    "               # If finish times are the same, choose the one that has lesser duration\n",
    "               if left[i][1] - left[i][0] <= right[j][1] - right[j][0]:\n",
    "                   merged.append(left[i])\n",
    "                   i += 1\n",
    "               else:\n",
    "                   merged.append(right[j])\n",
    "                   j += 1\n",
    "\n",
    "   # Append any remaining activities from either list\n",
    "   while i < len(left) or j < len(right):\n",
    "       # If there are activities in both halves\n",
    "       if i < len(left) and j < len(right):\n",
    "           lefty = left[i]\n",
    "           righty = right[j]\n",
    "           # Choose the activity with the lowest duration\n",
    "           if lefty[1] - lefty[0] < righty[1] - righty[0]:\n",
    "               if not merged or lefty[0] >= merged[-1][1]:\n",
    "                   merged.append(lefty)\n",
    "               i += 1\n",
    "           else:\n",
    "               if not merged or righty[0] >= merged[-1][1]:\n",
    "                   merged.append(righty)\n",
    "               j += 1\n",
    "       # If there are only activities in the left half\n",
    "       elif i < len(left):\n",
    "           lefty = left[i]\n",
    "           if not merged or lefty[0] >= merged[-1][1]:\n",
    "               merged.append(lefty)\n",
    "           i += 1\n",
    "       # If there are only activities in the right half\n",
    "       elif j < len(right):\n",
    "           righty = right[j]\n",
    "           if not merged or righty[0] >= merged[-1][1]:\n",
    "               merged.append(righty)\n",
    "           j += 1\n",
    "\n",
    "   return merged"
   ],
   "outputs": [],
   "execution_count": 109
  },
  {
   "cell_type": "markdown",
   "id": "d059ea28a928d651",
   "metadata": {},
   "source": [
    "### Dynamic Programming Algorithm"
   ]
  },
  {
   "cell_type": "code",
   "id": "4a115dbe2026782c",
   "metadata": {
    "ExecuteTime": {
     "end_time": "2024-05-08T06:37:48.238047Z",
     "start_time": "2024-05-08T06:37:48.233209Z"
    }
   },
   "source": [
    "def dynamic_algo(activities):\n",
    "   # Sort activities according to their finish time\n",
    "   activities.sort(key=lambda x: x[1])\n",
    "\n",
    "   n = len(activities)\n",
    "\n",
    "   # Array to store solutions of sub-problems\n",
    "   dp = [0 for _ in range(n)]\n",
    "   selected = [[] for _ in range(n)]\n",
    "\n",
    "\n",
    "   # The first activity always gets selected\n",
    "   dp[0] = 1\n",
    "   selected[0] = [activities[0]]\n",
    "\n",
    "   # Fill entries in dp[] using recursive property\n",
    "   for i in range(1, n):\n",
    "       # Find the maximum number of activities that can\n",
    "       # be performed by including the i-th activity\n",
    "       for j in range(i):\n",
    "           if activities[j][1] <= activities[i][0] and dp[j] + 1 > dp[i]:\n",
    "               dp[i] = dp[j] + 1\n",
    "               selected[i] = selected[j].copy()\n",
    "       if not selected[i] or (selected[i] and selected[i][-1][1] <= activities[i][0]):\n",
    "           selected[i].append(activities[i])\n",
    "\n",
    "   # Find the index of the maximum value in dp[]\n",
    "   max_index = dp.index(max(dp))\n",
    "\n",
    "   return selected[max_index]\n"
   ],
   "outputs": [],
   "execution_count": 110
  },
  {
   "cell_type": "markdown",
   "id": "58ed6ad0aa52ff19",
   "metadata": {},
   "source": [
    "### Random list of tuples generation"
   ]
  },
  {
   "cell_type": "code",
   "id": "9f519a30598b2834",
   "metadata": {
    "ExecuteTime": {
     "end_time": "2024-05-08T06:37:48.241548Z",
     "start_time": "2024-05-08T06:37:48.239049Z"
    }
   },
   "source": [
    "import random\n",
    "\n",
    "# MAX NUMBER IS 276\n",
    "def rand_tuple(size, seed):\n",
    "   random.seed(seed)\n",
    "\n",
    "   tuple_list = []\n",
    "   for _ in range(size):\n",
    "       while True:\n",
    "           s = random.randint(1, 24)\n",
    "           f = random.randint(1, 24)\n",
    "           if s < f:\n",
    "               if (s, f) not in tuple_list:\n",
    "                   tuple_list.append((s, f))\n",
    "                   break\n",
    "                   \n",
    "   return tuple_list"
   ],
   "outputs": [],
   "execution_count": 111
  },
  {
   "cell_type": "markdown",
   "id": "b0da0b1ad48f396b",
   "metadata": {},
   "source": [
    "## Time Complexity Analysis\n",
    "### Greedy Algorithm \n",
    "\n",
    "```\n",
    "def greedy_algo(activities):      \t\n",
    " \tactivities.sort(key=lambda x: x[1])  # O(n log n)\n",
    "\n",
    " \ti = 0  # O(1)\n",
    " \tfinal = [activities[0]]  # O(1)\n",
    " \tsize = len(activities)  # O(1)\n",
    "\n",
    " \tfor j in range(size):  # O(1)\n",
    "     \tif activities[j][0] >= activities[i][1]:                               \t\n",
    "         \tfinal.append(activities[j])  # O(1)\n",
    "         \ti = j  # O(1)\n",
    " \treturn final  # O(1)\n",
    " \n",
    "Tgreedy = O(n log n) + O(1) + O(1)  + O(1)  + O(1) + n(O(1) + O(1))\n",
    "      \t= O(n log n) 4 (O(1)) + n (2 O(1))\n",
    "      \t= n log n + C + nC\n",
    "Tgreedy  = O(n log n)\n",
    "```\n",
    "\n",
    "\n",
    "### Divide and Conquer Algorithm\n",
    "\n",
    "```\n",
    "def div_algo(activities):\n",
    " \tif len(activities) <= 1:                                                    \t      \t\n",
    "     \treturn activities  ** # O(1)\n",
    "\n",
    " \tmid = len(activities) // 2  # O(1)\n",
    " \tleft = activities[:mid]  # O(1)\n",
    " \tright = activities[mid:]  # O(1)\n",
    "\n",
    " \tleft = div_algo(left)  # O(n/2)\n",
    " \tright = div_algo(right)  # O(n/2)\n",
    "\n",
    " \treturn merge(left, right)  #  O(n)\n",
    "\n",
    "\n",
    " def merge(left, right):\n",
    " \tmerged = []  # O(1)\n",
    " \ti = j = 0  # O(1)\n",
    "\n",
    " \twhile i < len(left) and j < len(right):  # O(n)\n",
    "     \tif merged:\n",
    "         \tif left[i][1] < right[j][1] and left[i][0] >= merged[-1][1]:\n",
    "             \tmerged.append(left[i])  # O(1)\n",
    "             \ti += 1  # O(1)\n",
    "         \telif left[i][1] > right[j][1] and right[j][0] >= merged[-1][1]:\n",
    "             \tmerged.append(right[j])  # O(1)\n",
    "             \tj += 1  # O(1)\n",
    "         \telse:\n",
    "             \tif left[i][1] - left[i][0] <= right[j][1] - right[j][0] and left[i][0] >= merged[-1][1]:\n",
    "                 \tmerged.append(left[i])  # O(1)\n",
    "                 \ti += 1  # O(1)\n",
    "             \telse:\n",
    "                 \tif right[j][0] >= merged[-1][1]:\n",
    "                     \tmerged.append(right[j])  # O(1)\n",
    "                 \tj += 1  # O(1)\n",
    "     \telse:\n",
    "     \t    if left[i][1] < right[j][1]:\n",
    "             \tmerged.append(left[i])  # O(1)\n",
    "             \ti += 1  # O(1)\n",
    "         \telif left[i][1] > right[j][1]:\n",
    "             \tmerged.append(right[j])  # O(1)\n",
    "             \tj += 1  # O(1)\n",
    "         \telse:\n",
    "             \tif left[i][1] - left[i][0] <= right[j][1] - right[j][0]:\n",
    "                 \tmerged.append(left[i])  # O(1)\n",
    "                 \ti += 1  # O(1)\n",
    "             \telse:\n",
    "                 \tmerged.append(right[j])  # O(1)\n",
    "                 \tj += 1  # O(1)\n",
    "\n",
    " \twhile i < len(left) or j < len(right):  # O(n)\n",
    "     \tif i < len(left) and j < len(right):\n",
    "         \tlefty = left[i]  # O(1)\n",
    "         \trighty = right[j]  # O(1)\n",
    "         \tif lefty[1] - lefty[0] < righty[1] - righty[0]:\n",
    "             \tif not merged or lefty[0] >= merged[-1][1]:\n",
    "                 \tmerged.append(lefty)  # O(1)\n",
    "             \ti += 1  # O(1)\n",
    "         \telse:\n",
    "             \tif not merged or righty[0] >= merged[-1][1]:\n",
    "                 \tmerged.append(righty)  # O(1)\n",
    "             \tj += 1  # O(1)\n",
    "     \telif i < len(left):\n",
    "         \tlefty = left[i]  # O(1)\n",
    "         \tif not merged or lefty[0] >= merged[-1][1]:\n",
    "             \tmerged.append(lefty)  # O(1)\n",
    "         \ti += 1  # O(1)\n",
    "     \telif j < len(right):\n",
    "         \trighty = right[j]  # O(1)\n",
    "         \tif not merged or righty[0] >= merged[-1][1]:\n",
    "             \tmerged.append(righty)  # O(1)\n",
    "         \tj += 1  # O(1)\n",
    "\n",
    " \treturn merged  # O(1)\n",
    " \n",
    "    Tdiv = Tdivide x Tmerge\n",
    " Tdivide = O(1) + O(1) + O(1) + O(1) + O(n/2) + O(n/2) + O(n)\n",
    "      \t= 4 x O(1) + 2 x O(n/2) + O(n)\n",
    "      \t= 4C + 2n/2k + n\n",
    "      \t= 4C + n/2k ; n/2k = 1, k = log2n\n",
    "Tdivide = O(log n)\n",
    " \n",
    "Tmerge = 2 x O(1) + n x (16 x O(1)) + n (13 x O(1))\n",
    "      \t= 2C + nC + nC\n",
    "      \t= 2C + 2nC\n",
    "Tmerge  = O(n)\n",
    "Tdiv \t= O (n log n)\n",
    "\n",
    "```\n",
    "\n",
    "### Dynamic Programming Algorithm\n",
    "```\n",
    "def dynamic_algo(activities):\n",
    " \tactivities.sort(key=lambda x: x[1])  # O(n log n)\n",
    "\n",
    " \tn = len(activities)  # O(1)\n",
    "\n",
    " \tdp = [0 for _ in range(n)]  # O(n)\n",
    " \tselected = [[] for _ in range(n)]  # O(n)\n",
    "\n",
    " \tdp[0] = 1  # O(1)\n",
    " \tselected[0] = [activities[0]]  # O(1)\n",
    "\n",
    " \t# Fill entries in dp[] using recursive property\n",
    " \tfor i in range(1, n):  # O(n)\n",
    "     \tfor j in range(i):  # O(n)\n",
    "         \tif activities[j][1] <= activities[i][0] and dp[j] + 1 > dp[i]:\n",
    "             \tdp[i] = dp[j] + 1  # O(1)\n",
    "             \tselected[i] = selected[j].copy()  # O(1)\n",
    "     \tif not selected[i] or (selected[i] and selected[i][-1][1] <= activities[i][0]):\n",
    "         \tselected[i].append(activities[i])  # O(1)\n",
    "\n",
    " \tmax_index = dp.index(max(dp))  # O(1)\n",
    "\n",
    " \treturn selected[max_index]  # O(1)\n",
    " \n",
    "Tdynamic = O(n log n) + O(n) + O(n)+ O(1) + O(1) + O(1) + O(1) + O(1) + O(n (O (n) + O(1) + O(1) + O(1)))\n",
    "      \t = O(n log n)5 x O(1) + 2 x O(n) + O(n) x O(n) x 3 x O(1)\n",
    "      \t= n log n + 5C + 2n + n2 x 3n\n",
    "Tdynamic = O(n2)\n",
    "```"
   ]
  },
  {
   "cell_type": "markdown",
   "id": "562b5ca9eafe2752",
   "metadata": {},
   "source": [
    "## Space Complexity Analysis\n",
    "### Greedy Algorithm\n",
    "\n",
    "```\n",
    "def greedy_algo(activities):  # O(n)\n",
    " \tactivities.sort(key=lambda x: x[1])                                 \t\n",
    "\n",
    " \ti = 0  # O(1)\n",
    " \tfinal = [activities[0]]  # O(1)\n",
    " \tsize = len(activities)  # O(1)\n",
    "\n",
    " \tfor j in range(size):  # O(1)\n",
    "     \tif activities[j][0] >= activities[i][1]:                               \t\n",
    "         \tfinal.append(activities[j])                                       \t\n",
    "         \ti = j                                                                      \t\n",
    " \treturn final  # O(n)         \t                                    \t\n",
    "Tgreedy = O(n) + O(1) + O(1)  + O(1)  + O(1)\n",
    "      \t= O(n) 4 x O(1)\n",
    "      \t= n + 4C1\n",
    "Tgreedy  = O(n)\n",
    "```\n",
    "\n",
    "## Divide and Conquer Algorithm\n",
    "```\n",
    "def div_algo(activities):  # O(n)\n",
    " \tif len(activities) <= 1:                                                    \t      \t\n",
    "     \treturn activities                                                                  \t\n",
    "\n",
    " \tmid = len(activities) // 2  # O(1)\n",
    " \tleft = activities[:mid]  # O(n/2)\n",
    " \tright = activities[mid:]  # O(n/2)\n",
    "\n",
    " \tleft = div_algo(left)  # O(n)\n",
    " \tright = div_algo(right)  # O(n)\n",
    "\n",
    " \treturn merge(left, right)  # O(n)\n",
    "\n",
    "\n",
    " def merge(left, right):\n",
    " \tmerged = []  # O(1)\n",
    " \ti = j = 0  # O(1)\n",
    "\n",
    " \twhile i < len(left) and j < len(right):                                          \t\n",
    "     \tif merged:\n",
    "         \tif left[i][1] < right[j][1] and left[i][0] >= merged[-1][1]:\n",
    "                 merged.append(left[i])                                                 \t\n",
    "             \ti += 1                                                                         \t\n",
    "         \telif left[i][1] > right[j][1] and right[j][0] >= merged[-1][1]:\n",
    "                 merged.append(right[j])                                               \t\n",
    "             \tj += 1                                                                         \t\n",
    "         \telse:\n",
    "             \tif left[i][1] - left[i][0] <= right[j][1] - right[j][0] and left[i][0] >= merged[-1][1]:\n",
    "                     merged.append(left[i])                                             \t\n",
    "                 \ti += 1                                                                     \t\n",
    "             \telse:\n",
    "                 \tif right[j][0] >= merged[-1][1]:\n",
    "                         merged.append(right[j])                                       \t\n",
    "                 \tj += 1                                                                     \t\n",
    "     \telse:\n",
    "         \tif left[i][1] < right[j][1]:\n",
    "                 merged.append(left[i])                                                 \t\n",
    "             \ti += 1   \t                                                                  \t\n",
    "         \telif left[i][1] > right[j][1]:\n",
    "                 merged.append(right[j])                                               \t\n",
    "             \tj += 1                                                                         \t\n",
    "         \telse:\n",
    "             \tif left[i][1] - left[i][0] <= right[j][1] - right[j][0]:\n",
    "                     merged.append(left[i])                                             \t\n",
    "                 \ti += 1                                                                     \t\n",
    "             \telse:\n",
    "                     merged.append(right[j])                                           \t\n",
    "                 \tj += 1                                                                     \t\n",
    "\n",
    " \twhile i < len(left) or j < len(right):                                             \t\n",
    "     \tif i < len(left) and j < len(right):\n",
    "         \tlefty = left[i]  # O(1)\n",
    "         \trighty = right[j]  # O(1)\n",
    "         \tif lefty[1] - lefty[0] < righty[1] - righty[0]:\n",
    "             \tif not merged or lefty[0] >= merged[-1][1]:\n",
    "                 \tmerged.append(lefty)                                              \t\n",
    "             \ti += 1                                                                         \t\n",
    "         \telse:\n",
    "             \tif not merged or righty[0] >= merged[-1][1]:\n",
    "                     merged.append(righty)                                            \t\n",
    "             \tj += 1                                                                         \t\n",
    "     \telif i < len(left):\n",
    "         \tlefty = left[i]                                                                    \t\n",
    "         \tif not merged or lefty[0] >= merged[-1][1]:\n",
    "             \tmerged.append(lefty)                                                  \t\n",
    "         \ti += 1                                                                             \t\n",
    "     \telif j < len(right):\n",
    "         \trighty = right[j]                                                                \t\n",
    "         \tif not merged or righty[0] >= merged[-1][1]:\n",
    "                 merged.append(righty)                                                \t\n",
    "         \tj += 1                                                                             \t\n",
    "\n",
    " \treturn merged  # O(n)\n",
    " \n",
    "    Tdiv = max(Tdivide, Tmerge) \n",
    " Tdivide = O(n) + O(n) + O(n) + O(n) + O(n/2) + O(n/2) + O(1)\n",
    "      \t= 4 x O(n) + 2 x O(n/2) + O(n)\n",
    "      \t= 4n + 2n/2k + n3 \n",
    "Tdivide = O(n)\n",
    "Tmerge = 4 x O(1) + O(n)\n",
    "      \t= 4C1 + n\n",
    "Tmerge  = O(n)\n",
    "Tdiv \t= O (n)\n",
    "```\n",
    "\n",
    "## Dynamic Programming Algorithm\n",
    "```\n",
    "def dynamic_algo(activities):  # O(n)\n",
    " \tactivities.sort(key=lambda x: x[1])                                           \t\n",
    "\n",
    " \tn = len(activities)  # O(1)\n",
    "\n",
    " \tdp = [0 for _ in range(n)]  # O(n)\n",
    " \tselected = [[] for _ in range(n)]  # O(n) x O(n)\n",
    "\n",
    " \tdp[0] = 1  # O(1)\n",
    " \tselected[0] = [activities[0]]  # O(1)\n",
    "\n",
    " \t# Fill entries in dp[] using recursive property\n",
    " \tfor i in range(1, n):                                                                 \t\n",
    "     \tfor j in range(i):  # O(1)\n",
    "         \tif activities[j][1] <= activities[i][0] and dp[j] + 1 > dp[i]:\n",
    "             \tdp[i] = dp[j] + 1                                                           \t\n",
    "             \tselected[i] = selected[j].copy()                                     \t\n",
    "     \tif not selected[i] or (selected[i] and selected[i][-1][1] <= activities[i][0]):\n",
    "             selected[i].append(activities[i])                                        \t\n",
    "\n",
    " \tmax_index = dp.index(max(dp))  # O(1)\n",
    "\n",
    " \treturn selected[max_index]  # O(n)\n",
    " Tdynamic = O(n) + O(n) +  O(n) + O(n) + O(1) + O(1) + O(1) + O(1) + O(1) + O(1)\n",
    "      \t = 3 x O(n) + O(n²) + 5 x O(1)\n",
    "      \t= 3n + n² + 5C1\n",
    "Tdynamic = O(n²)\n",
    "```"
   ]
  },
  {
   "cell_type": "markdown",
   "id": "3db40be1bb33d07e",
   "metadata": {},
   "source": [
    "### Sample List of Activities"
   ]
  },
  {
   "cell_type": "code",
   "id": "178c5224e24ac78e",
   "metadata": {
    "ExecuteTime": {
     "end_time": "2024-05-08T06:37:48.246784Z",
     "start_time": "2024-05-08T06:37:48.243550Z"
    }
   },
   "source": [
    "Act_1 = rand_tuple(10, 1)\n",
    "Act_2 = rand_tuple(10, 2)\n",
    "Act_3 = rand_tuple(10, 3)\n",
    "print(f\"Act_1: {Act_1}\")\n",
    "print(f\"Act_2: {Act_2}\")\n",
    "print(f\"Act_3: {Act_3}\")"
   ],
   "outputs": [
    {
     "name": "stdout",
     "output_type": "stream",
     "text": [
      "Act_1: [(5, 19), (3, 9), (4, 16), (15, 16), (13, 14), (9, 24), (8, 19), (4, 11), (1, 21), (13, 22)]\n",
      "Act_2: [(2, 3), (3, 12), (6, 24), (9, 20), (7, 20), (2, 19), (14, 21), (13, 24), (12, 15), (11, 13)]\n",
      "Act_3: [(8, 19), (12, 20), (16, 21), (7, 23), (16, 18), (13, 21), (5, 8), (6, 19), (2, 10), (1, 9)]\n"
     ]
    }
   ],
   "execution_count": 112
  },
  {
   "cell_type": "markdown",
   "id": "4f7ac2df62fd55d0",
   "metadata": {},
   "source": [
    "## Visualization"
   ]
  },
  {
   "cell_type": "code",
   "id": "b263c64789951c14",
   "metadata": {
    "ExecuteTime": {
     "end_time": "2024-05-08T06:37:48.259491Z",
     "start_time": "2024-05-08T06:37:48.246784Z"
    }
   },
   "source": [
    "# Import necessary libraries\n",
    "import pandas as pd\n",
    "import panel as pn\n",
    "import time\n",
    "pn.extension('tabulator')\n",
    "import hvplot.pandas"
   ],
   "outputs": [
    {
     "data": {
      "application/javascript": "(function(root) {\n  function now() {\n    return new Date();\n  }\n\n  var force = true;\n  var py_version = '3.4.1'.replace('rc', '-rc.').replace('.dev', '-dev.');\n  var reloading = true;\n  var Bokeh = root.Bokeh;\n\n  if (typeof (root._bokeh_timeout) === \"undefined\" || force) {\n    root._bokeh_timeout = Date.now() + 5000;\n    root._bokeh_failed_load = false;\n  }\n\n  function run_callbacks() {\n    try {\n      root._bokeh_onload_callbacks.forEach(function(callback) {\n        if (callback != null)\n          callback();\n      });\n    } finally {\n      delete root._bokeh_onload_callbacks;\n    }\n    console.debug(\"Bokeh: all callbacks have finished\");\n  }\n\n  function load_libs(css_urls, js_urls, js_modules, js_exports, callback) {\n    if (css_urls == null) css_urls = [];\n    if (js_urls == null) js_urls = [];\n    if (js_modules == null) js_modules = [];\n    if (js_exports == null) js_exports = {};\n\n    root._bokeh_onload_callbacks.push(callback);\n\n    if (root._bokeh_is_loading > 0) {\n      console.debug(\"Bokeh: BokehJS is being loaded, scheduling callback at\", now());\n      return null;\n    }\n    if (js_urls.length === 0 && js_modules.length === 0 && Object.keys(js_exports).length === 0) {\n      run_callbacks();\n      return null;\n    }\n    if (!reloading) {\n      console.debug(\"Bokeh: BokehJS not loaded, scheduling load and callback at\", now());\n    }\n\n    function on_load() {\n      root._bokeh_is_loading--;\n      if (root._bokeh_is_loading === 0) {\n        console.debug(\"Bokeh: all BokehJS libraries/stylesheets loaded\");\n        run_callbacks()\n      }\n    }\n    window._bokeh_on_load = on_load\n\n    function on_error() {\n      console.error(\"failed to load \" + url);\n    }\n\n    var skip = [];\n    if (window.requirejs) {\n      window.requirejs.config({'packages': {}, 'paths': {'tabulator': 'https://cdn.jsdelivr.net/npm/tabulator-tables@5.5.0/dist/js/tabulator.min', 'moment': 'https://cdn.jsdelivr.net/npm/luxon/build/global/luxon.min'}, 'shim': {}});\n      require([\"tabulator\"], function(Tabulator) {\n\twindow.Tabulator = Tabulator\n\ton_load()\n      })\n      require([\"moment\"], function(moment) {\n\twindow.moment = moment\n\ton_load()\n      })\n      root._bokeh_is_loading = css_urls.length + 2;\n    } else {\n      root._bokeh_is_loading = css_urls.length + js_urls.length + js_modules.length + Object.keys(js_exports).length;\n    }\n\n    var existing_stylesheets = []\n    var links = document.getElementsByTagName('link')\n    for (var i = 0; i < links.length; i++) {\n      var link = links[i]\n      if (link.href != null) {\n\texisting_stylesheets.push(link.href)\n      }\n    }\n    for (var i = 0; i < css_urls.length; i++) {\n      var url = css_urls[i];\n      if (existing_stylesheets.indexOf(url) !== -1) {\n\ton_load()\n\tcontinue;\n      }\n      const element = document.createElement(\"link\");\n      element.onload = on_load;\n      element.onerror = on_error;\n      element.rel = \"stylesheet\";\n      element.type = \"text/css\";\n      element.href = url;\n      console.debug(\"Bokeh: injecting link tag for BokehJS stylesheet: \", url);\n      document.body.appendChild(element);\n    }    if (((window.Tabulator !== undefined) && (!(window.Tabulator instanceof HTMLElement))) || window.requirejs) {\n      var urls = ['https://cdn.holoviz.org/panel/1.4.2/dist/bundled/datatabulator/tabulator-tables@5.5.0/dist/js/tabulator.min.js'];\n      for (var i = 0; i < urls.length; i++) {\n        skip.push(urls[i])\n      }\n    }    if (((window.moment !== undefined) && (!(window.moment instanceof HTMLElement))) || window.requirejs) {\n      var urls = ['https://cdn.holoviz.org/panel/1.4.2/dist/bundled/datatabulator/luxon/build/global/luxon.min.js'];\n      for (var i = 0; i < urls.length; i++) {\n        skip.push(urls[i])\n      }\n    }    var existing_scripts = []\n    var scripts = document.getElementsByTagName('script')\n    for (var i = 0; i < scripts.length; i++) {\n      var script = scripts[i]\n      if (script.src != null) {\n\texisting_scripts.push(script.src)\n      }\n    }\n    for (var i = 0; i < js_urls.length; i++) {\n      var url = js_urls[i];\n      if (skip.indexOf(url) !== -1 || existing_scripts.indexOf(url) !== -1) {\n\tif (!window.requirejs) {\n\t  on_load();\n\t}\n\tcontinue;\n      }\n      var element = document.createElement('script');\n      element.onload = on_load;\n      element.onerror = on_error;\n      element.async = false;\n      element.src = url;\n      console.debug(\"Bokeh: injecting script tag for BokehJS library: \", url);\n      document.head.appendChild(element);\n    }\n    for (var i = 0; i < js_modules.length; i++) {\n      var url = js_modules[i];\n      if (skip.indexOf(url) !== -1 || existing_scripts.indexOf(url) !== -1) {\n\tif (!window.requirejs) {\n\t  on_load();\n\t}\n\tcontinue;\n      }\n      var element = document.createElement('script');\n      element.onload = on_load;\n      element.onerror = on_error;\n      element.async = false;\n      element.src = url;\n      element.type = \"module\";\n      console.debug(\"Bokeh: injecting script tag for BokehJS library: \", url);\n      document.head.appendChild(element);\n    }\n    for (const name in js_exports) {\n      var url = js_exports[name];\n      if (skip.indexOf(url) >= 0 || root[name] != null) {\n\tif (!window.requirejs) {\n\t  on_load();\n\t}\n\tcontinue;\n      }\n      var element = document.createElement('script');\n      element.onerror = on_error;\n      element.async = false;\n      element.type = \"module\";\n      console.debug(\"Bokeh: injecting script tag for BokehJS library: \", url);\n      element.textContent = `\n      import ${name} from \"${url}\"\n      window.${name} = ${name}\n      window._bokeh_on_load()\n      `\n      document.head.appendChild(element);\n    }\n    if (!js_urls.length && !js_modules.length) {\n      on_load()\n    }\n  };\n\n  function inject_raw_css(css) {\n    const element = document.createElement(\"style\");\n    element.appendChild(document.createTextNode(css));\n    document.body.appendChild(element);\n  }\n\n  var js_urls = [\"https://cdn.holoviz.org/panel/1.4.2/dist/bundled/datatabulator/tabulator-tables@5.5.0/dist/js/tabulator.min.js\", \"https://cdn.holoviz.org/panel/1.4.2/dist/bundled/datatabulator/luxon/build/global/luxon.min.js\"];\n  var js_modules = [];\n  var js_exports = {};\n  var css_urls = [\"https://cdn.holoviz.org/panel/1.4.2/dist/bundled/datatabulator/tabulator-tables@5.5.0/dist/css/tabulator_simple.min.css?v=1.4.2\"];\n  var inline_js = [    function(Bokeh) {\n      Bokeh.set_log_level(\"info\");\n    },\nfunction(Bokeh) {} // ensure no trailing comma for IE\n  ];\n\n  function run_inline_js() {\n    if ((root.Bokeh !== undefined) || (force === true)) {\n      for (var i = 0; i < inline_js.length; i++) {\n\ttry {\n          inline_js[i].call(root, root.Bokeh);\n\t} catch(e) {\n\t  if (!reloading) {\n\t    throw e;\n\t  }\n\t}\n      }\n      // Cache old bokeh versions\n      if (Bokeh != undefined && !reloading) {\n\tvar NewBokeh = root.Bokeh;\n\tif (Bokeh.versions === undefined) {\n\t  Bokeh.versions = new Map();\n\t}\n\tif (NewBokeh.version !== Bokeh.version) {\n\t  Bokeh.versions.set(NewBokeh.version, NewBokeh)\n\t}\n\troot.Bokeh = Bokeh;\n      }} else if (Date.now() < root._bokeh_timeout) {\n      setTimeout(run_inline_js, 100);\n    } else if (!root._bokeh_failed_load) {\n      console.log(\"Bokeh: BokehJS failed to load within specified timeout.\");\n      root._bokeh_failed_load = true;\n    }\n    root._bokeh_is_initializing = false\n  }\n\n  function load_or_wait() {\n    // Implement a backoff loop that tries to ensure we do not load multiple\n    // versions of Bokeh and its dependencies at the same time.\n    // In recent versions we use the root._bokeh_is_initializing flag\n    // to determine whether there is an ongoing attempt to initialize\n    // bokeh, however for backward compatibility we also try to ensure\n    // that we do not start loading a newer (Panel>=1.0 and Bokeh>3) version\n    // before older versions are fully initialized.\n    if (root._bokeh_is_initializing && Date.now() > root._bokeh_timeout) {\n      root._bokeh_is_initializing = false;\n      root._bokeh_onload_callbacks = undefined;\n      console.log(\"Bokeh: BokehJS was loaded multiple times but one version failed to initialize.\");\n      load_or_wait();\n    } else if (root._bokeh_is_initializing || (typeof root._bokeh_is_initializing === \"undefined\" && root._bokeh_onload_callbacks !== undefined)) {\n      setTimeout(load_or_wait, 100);\n    } else {\n      root._bokeh_is_initializing = true\n      root._bokeh_onload_callbacks = []\n      var bokeh_loaded = Bokeh != null && (Bokeh.version === py_version || (Bokeh.versions !== undefined && Bokeh.versions.has(py_version)));\n      if (!reloading && !bokeh_loaded) {\n\troot.Bokeh = undefined;\n      }\n      load_libs(css_urls, js_urls, js_modules, js_exports, function() {\n\tconsole.debug(\"Bokeh: BokehJS plotting callback run at\", now());\n\trun_inline_js();\n      });\n    }\n  }\n  // Give older versions of the autoload script a head-start to ensure\n  // they initialize before we start loading newer version.\n  setTimeout(load_or_wait, 100)\n}(window));",
      "application/vnd.holoviews_load.v0+json": "(function(root) {\n  function now() {\n    return new Date();\n  }\n\n  var force = true;\n  var py_version = '3.4.1'.replace('rc', '-rc.').replace('.dev', '-dev.');\n  var reloading = true;\n  var Bokeh = root.Bokeh;\n\n  if (typeof (root._bokeh_timeout) === \"undefined\" || force) {\n    root._bokeh_timeout = Date.now() + 5000;\n    root._bokeh_failed_load = false;\n  }\n\n  function run_callbacks() {\n    try {\n      root._bokeh_onload_callbacks.forEach(function(callback) {\n        if (callback != null)\n          callback();\n      });\n    } finally {\n      delete root._bokeh_onload_callbacks;\n    }\n    console.debug(\"Bokeh: all callbacks have finished\");\n  }\n\n  function load_libs(css_urls, js_urls, js_modules, js_exports, callback) {\n    if (css_urls == null) css_urls = [];\n    if (js_urls == null) js_urls = [];\n    if (js_modules == null) js_modules = [];\n    if (js_exports == null) js_exports = {};\n\n    root._bokeh_onload_callbacks.push(callback);\n\n    if (root._bokeh_is_loading > 0) {\n      console.debug(\"Bokeh: BokehJS is being loaded, scheduling callback at\", now());\n      return null;\n    }\n    if (js_urls.length === 0 && js_modules.length === 0 && Object.keys(js_exports).length === 0) {\n      run_callbacks();\n      return null;\n    }\n    if (!reloading) {\n      console.debug(\"Bokeh: BokehJS not loaded, scheduling load and callback at\", now());\n    }\n\n    function on_load() {\n      root._bokeh_is_loading--;\n      if (root._bokeh_is_loading === 0) {\n        console.debug(\"Bokeh: all BokehJS libraries/stylesheets loaded\");\n        run_callbacks()\n      }\n    }\n    window._bokeh_on_load = on_load\n\n    function on_error() {\n      console.error(\"failed to load \" + url);\n    }\n\n    var skip = [];\n    if (window.requirejs) {\n      window.requirejs.config({'packages': {}, 'paths': {'tabulator': 'https://cdn.jsdelivr.net/npm/tabulator-tables@5.5.0/dist/js/tabulator.min', 'moment': 'https://cdn.jsdelivr.net/npm/luxon/build/global/luxon.min'}, 'shim': {}});\n      require([\"tabulator\"], function(Tabulator) {\n\twindow.Tabulator = Tabulator\n\ton_load()\n      })\n      require([\"moment\"], function(moment) {\n\twindow.moment = moment\n\ton_load()\n      })\n      root._bokeh_is_loading = css_urls.length + 2;\n    } else {\n      root._bokeh_is_loading = css_urls.length + js_urls.length + js_modules.length + Object.keys(js_exports).length;\n    }\n\n    var existing_stylesheets = []\n    var links = document.getElementsByTagName('link')\n    for (var i = 0; i < links.length; i++) {\n      var link = links[i]\n      if (link.href != null) {\n\texisting_stylesheets.push(link.href)\n      }\n    }\n    for (var i = 0; i < css_urls.length; i++) {\n      var url = css_urls[i];\n      if (existing_stylesheets.indexOf(url) !== -1) {\n\ton_load()\n\tcontinue;\n      }\n      const element = document.createElement(\"link\");\n      element.onload = on_load;\n      element.onerror = on_error;\n      element.rel = \"stylesheet\";\n      element.type = \"text/css\";\n      element.href = url;\n      console.debug(\"Bokeh: injecting link tag for BokehJS stylesheet: \", url);\n      document.body.appendChild(element);\n    }    if (((window.Tabulator !== undefined) && (!(window.Tabulator instanceof HTMLElement))) || window.requirejs) {\n      var urls = ['https://cdn.holoviz.org/panel/1.4.2/dist/bundled/datatabulator/tabulator-tables@5.5.0/dist/js/tabulator.min.js'];\n      for (var i = 0; i < urls.length; i++) {\n        skip.push(urls[i])\n      }\n    }    if (((window.moment !== undefined) && (!(window.moment instanceof HTMLElement))) || window.requirejs) {\n      var urls = ['https://cdn.holoviz.org/panel/1.4.2/dist/bundled/datatabulator/luxon/build/global/luxon.min.js'];\n      for (var i = 0; i < urls.length; i++) {\n        skip.push(urls[i])\n      }\n    }    var existing_scripts = []\n    var scripts = document.getElementsByTagName('script')\n    for (var i = 0; i < scripts.length; i++) {\n      var script = scripts[i]\n      if (script.src != null) {\n\texisting_scripts.push(script.src)\n      }\n    }\n    for (var i = 0; i < js_urls.length; i++) {\n      var url = js_urls[i];\n      if (skip.indexOf(url) !== -1 || existing_scripts.indexOf(url) !== -1) {\n\tif (!window.requirejs) {\n\t  on_load();\n\t}\n\tcontinue;\n      }\n      var element = document.createElement('script');\n      element.onload = on_load;\n      element.onerror = on_error;\n      element.async = false;\n      element.src = url;\n      console.debug(\"Bokeh: injecting script tag for BokehJS library: \", url);\n      document.head.appendChild(element);\n    }\n    for (var i = 0; i < js_modules.length; i++) {\n      var url = js_modules[i];\n      if (skip.indexOf(url) !== -1 || existing_scripts.indexOf(url) !== -1) {\n\tif (!window.requirejs) {\n\t  on_load();\n\t}\n\tcontinue;\n      }\n      var element = document.createElement('script');\n      element.onload = on_load;\n      element.onerror = on_error;\n      element.async = false;\n      element.src = url;\n      element.type = \"module\";\n      console.debug(\"Bokeh: injecting script tag for BokehJS library: \", url);\n      document.head.appendChild(element);\n    }\n    for (const name in js_exports) {\n      var url = js_exports[name];\n      if (skip.indexOf(url) >= 0 || root[name] != null) {\n\tif (!window.requirejs) {\n\t  on_load();\n\t}\n\tcontinue;\n      }\n      var element = document.createElement('script');\n      element.onerror = on_error;\n      element.async = false;\n      element.type = \"module\";\n      console.debug(\"Bokeh: injecting script tag for BokehJS library: \", url);\n      element.textContent = `\n      import ${name} from \"${url}\"\n      window.${name} = ${name}\n      window._bokeh_on_load()\n      `\n      document.head.appendChild(element);\n    }\n    if (!js_urls.length && !js_modules.length) {\n      on_load()\n    }\n  };\n\n  function inject_raw_css(css) {\n    const element = document.createElement(\"style\");\n    element.appendChild(document.createTextNode(css));\n    document.body.appendChild(element);\n  }\n\n  var js_urls = [\"https://cdn.holoviz.org/panel/1.4.2/dist/bundled/datatabulator/tabulator-tables@5.5.0/dist/js/tabulator.min.js\", \"https://cdn.holoviz.org/panel/1.4.2/dist/bundled/datatabulator/luxon/build/global/luxon.min.js\"];\n  var js_modules = [];\n  var js_exports = {};\n  var css_urls = [\"https://cdn.holoviz.org/panel/1.4.2/dist/bundled/datatabulator/tabulator-tables@5.5.0/dist/css/tabulator_simple.min.css?v=1.4.2\"];\n  var inline_js = [    function(Bokeh) {\n      Bokeh.set_log_level(\"info\");\n    },\nfunction(Bokeh) {} // ensure no trailing comma for IE\n  ];\n\n  function run_inline_js() {\n    if ((root.Bokeh !== undefined) || (force === true)) {\n      for (var i = 0; i < inline_js.length; i++) {\n\ttry {\n          inline_js[i].call(root, root.Bokeh);\n\t} catch(e) {\n\t  if (!reloading) {\n\t    throw e;\n\t  }\n\t}\n      }\n      // Cache old bokeh versions\n      if (Bokeh != undefined && !reloading) {\n\tvar NewBokeh = root.Bokeh;\n\tif (Bokeh.versions === undefined) {\n\t  Bokeh.versions = new Map();\n\t}\n\tif (NewBokeh.version !== Bokeh.version) {\n\t  Bokeh.versions.set(NewBokeh.version, NewBokeh)\n\t}\n\troot.Bokeh = Bokeh;\n      }} else if (Date.now() < root._bokeh_timeout) {\n      setTimeout(run_inline_js, 100);\n    } else if (!root._bokeh_failed_load) {\n      console.log(\"Bokeh: BokehJS failed to load within specified timeout.\");\n      root._bokeh_failed_load = true;\n    }\n    root._bokeh_is_initializing = false\n  }\n\n  function load_or_wait() {\n    // Implement a backoff loop that tries to ensure we do not load multiple\n    // versions of Bokeh and its dependencies at the same time.\n    // In recent versions we use the root._bokeh_is_initializing flag\n    // to determine whether there is an ongoing attempt to initialize\n    // bokeh, however for backward compatibility we also try to ensure\n    // that we do not start loading a newer (Panel>=1.0 and Bokeh>3) version\n    // before older versions are fully initialized.\n    if (root._bokeh_is_initializing && Date.now() > root._bokeh_timeout) {\n      root._bokeh_is_initializing = false;\n      root._bokeh_onload_callbacks = undefined;\n      console.log(\"Bokeh: BokehJS was loaded multiple times but one version failed to initialize.\");\n      load_or_wait();\n    } else if (root._bokeh_is_initializing || (typeof root._bokeh_is_initializing === \"undefined\" && root._bokeh_onload_callbacks !== undefined)) {\n      setTimeout(load_or_wait, 100);\n    } else {\n      root._bokeh_is_initializing = true\n      root._bokeh_onload_callbacks = []\n      var bokeh_loaded = Bokeh != null && (Bokeh.version === py_version || (Bokeh.versions !== undefined && Bokeh.versions.has(py_version)));\n      if (!reloading && !bokeh_loaded) {\n\troot.Bokeh = undefined;\n      }\n      load_libs(css_urls, js_urls, js_modules, js_exports, function() {\n\tconsole.debug(\"Bokeh: BokehJS plotting callback run at\", now());\n\trun_inline_js();\n      });\n    }\n  }\n  // Give older versions of the autoload script a head-start to ensure\n  // they initialize before we start loading newer version.\n  setTimeout(load_or_wait, 100)\n}(window));"
     },
     "metadata": {},
     "output_type": "display_data"
    },
    {
     "data": {
      "application/vnd.holoviews_load.v0+json": "\nif ((window.PyViz === undefined) || (window.PyViz instanceof HTMLElement)) {\n  window.PyViz = {comms: {}, comm_status:{}, kernels:{}, receivers: {}, plot_index: []}\n}\n\n\n    function JupyterCommManager() {\n    }\n\n    JupyterCommManager.prototype.register_target = function(plot_id, comm_id, msg_handler) {\n      if (window.comm_manager || ((window.Jupyter !== undefined) && (Jupyter.notebook.kernel != null))) {\n        var comm_manager = window.comm_manager || Jupyter.notebook.kernel.comm_manager;\n        comm_manager.register_target(comm_id, function(comm) {\n          comm.on_msg(msg_handler);\n        });\n      } else if ((plot_id in window.PyViz.kernels) && (window.PyViz.kernels[plot_id])) {\n        window.PyViz.kernels[plot_id].registerCommTarget(comm_id, function(comm) {\n          comm.onMsg = msg_handler;\n        });\n      } else if (typeof google != 'undefined' && google.colab.kernel != null) {\n        google.colab.kernel.comms.registerTarget(comm_id, (comm) => {\n          var messages = comm.messages[Symbol.asyncIterator]();\n          function processIteratorResult(result) {\n            var message = result.value;\n            console.log(message)\n            var content = {data: message.data, comm_id};\n            var buffers = []\n            for (var buffer of message.buffers || []) {\n              buffers.push(new DataView(buffer))\n            }\n            var metadata = message.metadata || {};\n            var msg = {content, buffers, metadata}\n            msg_handler(msg);\n            return messages.next().then(processIteratorResult);\n          }\n          return messages.next().then(processIteratorResult);\n        })\n      }\n    }\n\n    JupyterCommManager.prototype.get_client_comm = function(plot_id, comm_id, msg_handler) {\n      if (comm_id in window.PyViz.comms) {\n        return window.PyViz.comms[comm_id];\n      } else if (window.comm_manager || ((window.Jupyter !== undefined) && (Jupyter.notebook.kernel != null))) {\n        var comm_manager = window.comm_manager || Jupyter.notebook.kernel.comm_manager;\n        var comm = comm_manager.new_comm(comm_id, {}, {}, {}, comm_id);\n        if (msg_handler) {\n          comm.on_msg(msg_handler);\n        }\n      } else if ((plot_id in window.PyViz.kernels) && (window.PyViz.kernels[plot_id])) {\n        var comm = window.PyViz.kernels[plot_id].connectToComm(comm_id);\n        comm.open();\n        if (msg_handler) {\n          comm.onMsg = msg_handler;\n        }\n      } else if (typeof google != 'undefined' && google.colab.kernel != null) {\n        var comm_promise = google.colab.kernel.comms.open(comm_id)\n        comm_promise.then((comm) => {\n          window.PyViz.comms[comm_id] = comm;\n          if (msg_handler) {\n            var messages = comm.messages[Symbol.asyncIterator]();\n            function processIteratorResult(result) {\n              var message = result.value;\n              var content = {data: message.data};\n              var metadata = message.metadata || {comm_id};\n              var msg = {content, metadata}\n              msg_handler(msg);\n              return messages.next().then(processIteratorResult);\n            }\n            return messages.next().then(processIteratorResult);\n          }\n        }) \n        var sendClosure = (data, metadata, buffers, disposeOnDone) => {\n          return comm_promise.then((comm) => {\n            comm.send(data, metadata, buffers, disposeOnDone);\n          });\n        };\n        var comm = {\n          send: sendClosure\n        };\n      }\n      window.PyViz.comms[comm_id] = comm;\n      return comm;\n    }\n    window.PyViz.comm_manager = new JupyterCommManager();\n    \n\n\nvar JS_MIME_TYPE = 'application/javascript';\nvar HTML_MIME_TYPE = 'text/html';\nvar EXEC_MIME_TYPE = 'application/vnd.holoviews_exec.v0+json';\nvar CLASS_NAME = 'output';\n\n/**\n * Render data to the DOM node\n */\nfunction render(props, node) {\n  var div = document.createElement(\"div\");\n  var script = document.createElement(\"script\");\n  node.appendChild(div);\n  node.appendChild(script);\n}\n\n/**\n * Handle when a new output is added\n */\nfunction handle_add_output(event, handle) {\n  var output_area = handle.output_area;\n  var output = handle.output;\n  if ((output.data == undefined) || (!output.data.hasOwnProperty(EXEC_MIME_TYPE))) {\n    return\n  }\n  var id = output.metadata[EXEC_MIME_TYPE][\"id\"];\n  var toinsert = output_area.element.find(\".\" + CLASS_NAME.split(' ')[0]);\n  if (id !== undefined) {\n    var nchildren = toinsert.length;\n    var html_node = toinsert[nchildren-1].children[0];\n    html_node.innerHTML = output.data[HTML_MIME_TYPE];\n    var scripts = [];\n    var nodelist = html_node.querySelectorAll(\"script\");\n    for (var i in nodelist) {\n      if (nodelist.hasOwnProperty(i)) {\n        scripts.push(nodelist[i])\n      }\n    }\n\n    scripts.forEach( function (oldScript) {\n      var newScript = document.createElement(\"script\");\n      var attrs = [];\n      var nodemap = oldScript.attributes;\n      for (var j in nodemap) {\n        if (nodemap.hasOwnProperty(j)) {\n          attrs.push(nodemap[j])\n        }\n      }\n      attrs.forEach(function(attr) { newScript.setAttribute(attr.name, attr.value) });\n      newScript.appendChild(document.createTextNode(oldScript.innerHTML));\n      oldScript.parentNode.replaceChild(newScript, oldScript);\n    });\n    if (JS_MIME_TYPE in output.data) {\n      toinsert[nchildren-1].children[1].textContent = output.data[JS_MIME_TYPE];\n    }\n    output_area._hv_plot_id = id;\n    if ((window.Bokeh !== undefined) && (id in Bokeh.index)) {\n      window.PyViz.plot_index[id] = Bokeh.index[id];\n    } else {\n      window.PyViz.plot_index[id] = null;\n    }\n  } else if (output.metadata[EXEC_MIME_TYPE][\"server_id\"] !== undefined) {\n    var bk_div = document.createElement(\"div\");\n    bk_div.innerHTML = output.data[HTML_MIME_TYPE];\n    var script_attrs = bk_div.children[0].attributes;\n    for (var i = 0; i < script_attrs.length; i++) {\n      toinsert[toinsert.length - 1].childNodes[1].setAttribute(script_attrs[i].name, script_attrs[i].value);\n    }\n    // store reference to server id on output_area\n    output_area._bokeh_server_id = output.metadata[EXEC_MIME_TYPE][\"server_id\"];\n  }\n}\n\n/**\n * Handle when an output is cleared or removed\n */\nfunction handle_clear_output(event, handle) {\n  var id = handle.cell.output_area._hv_plot_id;\n  var server_id = handle.cell.output_area._bokeh_server_id;\n  if (((id === undefined) || !(id in PyViz.plot_index)) && (server_id !== undefined)) { return; }\n  var comm = window.PyViz.comm_manager.get_client_comm(\"hv-extension-comm\", \"hv-extension-comm\", function () {});\n  if (server_id !== null) {\n    comm.send({event_type: 'server_delete', 'id': server_id});\n    return;\n  } else if (comm !== null) {\n    comm.send({event_type: 'delete', 'id': id});\n  }\n  delete PyViz.plot_index[id];\n  if ((window.Bokeh !== undefined) & (id in window.Bokeh.index)) {\n    var doc = window.Bokeh.index[id].model.document\n    doc.clear();\n    const i = window.Bokeh.documents.indexOf(doc);\n    if (i > -1) {\n      window.Bokeh.documents.splice(i, 1);\n    }\n  }\n}\n\n/**\n * Handle kernel restart event\n */\nfunction handle_kernel_cleanup(event, handle) {\n  delete PyViz.comms[\"hv-extension-comm\"];\n  window.PyViz.plot_index = {}\n}\n\n/**\n * Handle update_display_data messages\n */\nfunction handle_update_output(event, handle) {\n  handle_clear_output(event, {cell: {output_area: handle.output_area}})\n  handle_add_output(event, handle)\n}\n\nfunction register_renderer(events, OutputArea) {\n  function append_mime(data, metadata, element) {\n    // create a DOM node to render to\n    var toinsert = this.create_output_subarea(\n    metadata,\n    CLASS_NAME,\n    EXEC_MIME_TYPE\n    );\n    this.keyboard_manager.register_events(toinsert);\n    // Render to node\n    var props = {data: data, metadata: metadata[EXEC_MIME_TYPE]};\n    render(props, toinsert[0]);\n    element.append(toinsert);\n    return toinsert\n  }\n\n  events.on('output_added.OutputArea', handle_add_output);\n  events.on('output_updated.OutputArea', handle_update_output);\n  events.on('clear_output.CodeCell', handle_clear_output);\n  events.on('delete.Cell', handle_clear_output);\n  events.on('kernel_ready.Kernel', handle_kernel_cleanup);\n\n  OutputArea.prototype.register_mime_type(EXEC_MIME_TYPE, append_mime, {\n    safe: true,\n    index: 0\n  });\n}\n\nif (window.Jupyter !== undefined) {\n  try {\n    var events = require('base/js/events');\n    var OutputArea = require('notebook/js/outputarea').OutputArea;\n    if (OutputArea.prototype.mime_types().indexOf(EXEC_MIME_TYPE) == -1) {\n      register_renderer(events, OutputArea);\n    }\n  } catch(err) {\n  }\n}\n",
      "application/javascript": "\nif ((window.PyViz === undefined) || (window.PyViz instanceof HTMLElement)) {\n  window.PyViz = {comms: {}, comm_status:{}, kernels:{}, receivers: {}, plot_index: []}\n}\n\n\n    function JupyterCommManager() {\n    }\n\n    JupyterCommManager.prototype.register_target = function(plot_id, comm_id, msg_handler) {\n      if (window.comm_manager || ((window.Jupyter !== undefined) && (Jupyter.notebook.kernel != null))) {\n        var comm_manager = window.comm_manager || Jupyter.notebook.kernel.comm_manager;\n        comm_manager.register_target(comm_id, function(comm) {\n          comm.on_msg(msg_handler);\n        });\n      } else if ((plot_id in window.PyViz.kernels) && (window.PyViz.kernels[plot_id])) {\n        window.PyViz.kernels[plot_id].registerCommTarget(comm_id, function(comm) {\n          comm.onMsg = msg_handler;\n        });\n      } else if (typeof google != 'undefined' && google.colab.kernel != null) {\n        google.colab.kernel.comms.registerTarget(comm_id, (comm) => {\n          var messages = comm.messages[Symbol.asyncIterator]();\n          function processIteratorResult(result) {\n            var message = result.value;\n            console.log(message)\n            var content = {data: message.data, comm_id};\n            var buffers = []\n            for (var buffer of message.buffers || []) {\n              buffers.push(new DataView(buffer))\n            }\n            var metadata = message.metadata || {};\n            var msg = {content, buffers, metadata}\n            msg_handler(msg);\n            return messages.next().then(processIteratorResult);\n          }\n          return messages.next().then(processIteratorResult);\n        })\n      }\n    }\n\n    JupyterCommManager.prototype.get_client_comm = function(plot_id, comm_id, msg_handler) {\n      if (comm_id in window.PyViz.comms) {\n        return window.PyViz.comms[comm_id];\n      } else if (window.comm_manager || ((window.Jupyter !== undefined) && (Jupyter.notebook.kernel != null))) {\n        var comm_manager = window.comm_manager || Jupyter.notebook.kernel.comm_manager;\n        var comm = comm_manager.new_comm(comm_id, {}, {}, {}, comm_id);\n        if (msg_handler) {\n          comm.on_msg(msg_handler);\n        }\n      } else if ((plot_id in window.PyViz.kernels) && (window.PyViz.kernels[plot_id])) {\n        var comm = window.PyViz.kernels[plot_id].connectToComm(comm_id);\n        comm.open();\n        if (msg_handler) {\n          comm.onMsg = msg_handler;\n        }\n      } else if (typeof google != 'undefined' && google.colab.kernel != null) {\n        var comm_promise = google.colab.kernel.comms.open(comm_id)\n        comm_promise.then((comm) => {\n          window.PyViz.comms[comm_id] = comm;\n          if (msg_handler) {\n            var messages = comm.messages[Symbol.asyncIterator]();\n            function processIteratorResult(result) {\n              var message = result.value;\n              var content = {data: message.data};\n              var metadata = message.metadata || {comm_id};\n              var msg = {content, metadata}\n              msg_handler(msg);\n              return messages.next().then(processIteratorResult);\n            }\n            return messages.next().then(processIteratorResult);\n          }\n        }) \n        var sendClosure = (data, metadata, buffers, disposeOnDone) => {\n          return comm_promise.then((comm) => {\n            comm.send(data, metadata, buffers, disposeOnDone);\n          });\n        };\n        var comm = {\n          send: sendClosure\n        };\n      }\n      window.PyViz.comms[comm_id] = comm;\n      return comm;\n    }\n    window.PyViz.comm_manager = new JupyterCommManager();\n    \n\n\nvar JS_MIME_TYPE = 'application/javascript';\nvar HTML_MIME_TYPE = 'text/html';\nvar EXEC_MIME_TYPE = 'application/vnd.holoviews_exec.v0+json';\nvar CLASS_NAME = 'output';\n\n/**\n * Render data to the DOM node\n */\nfunction render(props, node) {\n  var div = document.createElement(\"div\");\n  var script = document.createElement(\"script\");\n  node.appendChild(div);\n  node.appendChild(script);\n}\n\n/**\n * Handle when a new output is added\n */\nfunction handle_add_output(event, handle) {\n  var output_area = handle.output_area;\n  var output = handle.output;\n  if ((output.data == undefined) || (!output.data.hasOwnProperty(EXEC_MIME_TYPE))) {\n    return\n  }\n  var id = output.metadata[EXEC_MIME_TYPE][\"id\"];\n  var toinsert = output_area.element.find(\".\" + CLASS_NAME.split(' ')[0]);\n  if (id !== undefined) {\n    var nchildren = toinsert.length;\n    var html_node = toinsert[nchildren-1].children[0];\n    html_node.innerHTML = output.data[HTML_MIME_TYPE];\n    var scripts = [];\n    var nodelist = html_node.querySelectorAll(\"script\");\n    for (var i in nodelist) {\n      if (nodelist.hasOwnProperty(i)) {\n        scripts.push(nodelist[i])\n      }\n    }\n\n    scripts.forEach( function (oldScript) {\n      var newScript = document.createElement(\"script\");\n      var attrs = [];\n      var nodemap = oldScript.attributes;\n      for (var j in nodemap) {\n        if (nodemap.hasOwnProperty(j)) {\n          attrs.push(nodemap[j])\n        }\n      }\n      attrs.forEach(function(attr) { newScript.setAttribute(attr.name, attr.value) });\n      newScript.appendChild(document.createTextNode(oldScript.innerHTML));\n      oldScript.parentNode.replaceChild(newScript, oldScript);\n    });\n    if (JS_MIME_TYPE in output.data) {\n      toinsert[nchildren-1].children[1].textContent = output.data[JS_MIME_TYPE];\n    }\n    output_area._hv_plot_id = id;\n    if ((window.Bokeh !== undefined) && (id in Bokeh.index)) {\n      window.PyViz.plot_index[id] = Bokeh.index[id];\n    } else {\n      window.PyViz.plot_index[id] = null;\n    }\n  } else if (output.metadata[EXEC_MIME_TYPE][\"server_id\"] !== undefined) {\n    var bk_div = document.createElement(\"div\");\n    bk_div.innerHTML = output.data[HTML_MIME_TYPE];\n    var script_attrs = bk_div.children[0].attributes;\n    for (var i = 0; i < script_attrs.length; i++) {\n      toinsert[toinsert.length - 1].childNodes[1].setAttribute(script_attrs[i].name, script_attrs[i].value);\n    }\n    // store reference to server id on output_area\n    output_area._bokeh_server_id = output.metadata[EXEC_MIME_TYPE][\"server_id\"];\n  }\n}\n\n/**\n * Handle when an output is cleared or removed\n */\nfunction handle_clear_output(event, handle) {\n  var id = handle.cell.output_area._hv_plot_id;\n  var server_id = handle.cell.output_area._bokeh_server_id;\n  if (((id === undefined) || !(id in PyViz.plot_index)) && (server_id !== undefined)) { return; }\n  var comm = window.PyViz.comm_manager.get_client_comm(\"hv-extension-comm\", \"hv-extension-comm\", function () {});\n  if (server_id !== null) {\n    comm.send({event_type: 'server_delete', 'id': server_id});\n    return;\n  } else if (comm !== null) {\n    comm.send({event_type: 'delete', 'id': id});\n  }\n  delete PyViz.plot_index[id];\n  if ((window.Bokeh !== undefined) & (id in window.Bokeh.index)) {\n    var doc = window.Bokeh.index[id].model.document\n    doc.clear();\n    const i = window.Bokeh.documents.indexOf(doc);\n    if (i > -1) {\n      window.Bokeh.documents.splice(i, 1);\n    }\n  }\n}\n\n/**\n * Handle kernel restart event\n */\nfunction handle_kernel_cleanup(event, handle) {\n  delete PyViz.comms[\"hv-extension-comm\"];\n  window.PyViz.plot_index = {}\n}\n\n/**\n * Handle update_display_data messages\n */\nfunction handle_update_output(event, handle) {\n  handle_clear_output(event, {cell: {output_area: handle.output_area}})\n  handle_add_output(event, handle)\n}\n\nfunction register_renderer(events, OutputArea) {\n  function append_mime(data, metadata, element) {\n    // create a DOM node to render to\n    var toinsert = this.create_output_subarea(\n    metadata,\n    CLASS_NAME,\n    EXEC_MIME_TYPE\n    );\n    this.keyboard_manager.register_events(toinsert);\n    // Render to node\n    var props = {data: data, metadata: metadata[EXEC_MIME_TYPE]};\n    render(props, toinsert[0]);\n    element.append(toinsert);\n    return toinsert\n  }\n\n  events.on('output_added.OutputArea', handle_add_output);\n  events.on('output_updated.OutputArea', handle_update_output);\n  events.on('clear_output.CodeCell', handle_clear_output);\n  events.on('delete.Cell', handle_clear_output);\n  events.on('kernel_ready.Kernel', handle_kernel_cleanup);\n\n  OutputArea.prototype.register_mime_type(EXEC_MIME_TYPE, append_mime, {\n    safe: true,\n    index: 0\n  });\n}\n\nif (window.Jupyter !== undefined) {\n  try {\n    var events = require('base/js/events');\n    var OutputArea = require('notebook/js/outputarea').OutputArea;\n    if (OutputArea.prototype.mime_types().indexOf(EXEC_MIME_TYPE) == -1) {\n      register_renderer(events, OutputArea);\n    }\n  } catch(err) {\n  }\n}\n"
     },
     "metadata": {},
     "output_type": "display_data"
    },
    {
     "data": {
      "text/html": [
       "<style>*[data-root-id],\n",
       "*[data-root-id] > * {\n",
       "  box-sizing: border-box;\n",
       "  font-family: var(--jp-ui-font-family);\n",
       "  font-size: var(--jp-ui-font-size1);\n",
       "  color: var(--vscode-editor-foreground, var(--jp-ui-font-color1));\n",
       "}\n",
       "\n",
       "/* Override VSCode background color */\n",
       ".cell-output-ipywidget-background:has(\n",
       "    > .cell-output-ipywidget-background > .lm-Widget > *[data-root-id]\n",
       "  ),\n",
       ".cell-output-ipywidget-background:has(> .lm-Widget > *[data-root-id]) {\n",
       "  background-color: transparent !important;\n",
       "}\n",
       "</style>"
      ]
     },
     "metadata": {},
     "output_type": "display_data"
    },
    {
     "data": {
      "text/html": [
       "<div id='2d54bec5-afda-48e0-9865-d4717187a20e'>\n",
       "  <div id=\"f1c743e0-c0a1-4732-9065-101ccccd85cb\" data-root-id=\"2d54bec5-afda-48e0-9865-d4717187a20e\" style=\"display: contents;\"></div>\n",
       "</div>\n",
       "<script type=\"application/javascript\">(function(root) {\n",
       "  var docs_json = {\"f25ab297-116a-4f89-a65f-5a2f82504679\":{\"version\":\"3.4.1\",\"title\":\"Bokeh Application\",\"roots\":[{\"type\":\"object\",\"name\":\"panel.models.browser.BrowserInfo\",\"id\":\"2d54bec5-afda-48e0-9865-d4717187a20e\"},{\"type\":\"object\",\"name\":\"panel.models.comm_manager.CommManager\",\"id\":\"5fdc4d10-625c-4dfc-9e34-199d66ca895f\",\"attributes\":{\"plot_id\":\"2d54bec5-afda-48e0-9865-d4717187a20e\",\"comm_id\":\"baf1ed88bb454c85882cd5f7400b0ac8\",\"client_comm_id\":\"19aa6c137d3f4955850e9cb3aba33099\"}}],\"defs\":[{\"type\":\"model\",\"name\":\"ReactiveHTML1\"},{\"type\":\"model\",\"name\":\"FlexBox1\",\"properties\":[{\"name\":\"align_content\",\"kind\":\"Any\",\"default\":\"flex-start\"},{\"name\":\"align_items\",\"kind\":\"Any\",\"default\":\"flex-start\"},{\"name\":\"flex_direction\",\"kind\":\"Any\",\"default\":\"row\"},{\"name\":\"flex_wrap\",\"kind\":\"Any\",\"default\":\"wrap\"},{\"name\":\"gap\",\"kind\":\"Any\",\"default\":\"\"},{\"name\":\"justify_content\",\"kind\":\"Any\",\"default\":\"flex-start\"}]},{\"type\":\"model\",\"name\":\"FloatPanel1\",\"properties\":[{\"name\":\"config\",\"kind\":\"Any\",\"default\":{\"type\":\"map\"}},{\"name\":\"contained\",\"kind\":\"Any\",\"default\":true},{\"name\":\"position\",\"kind\":\"Any\",\"default\":\"right-top\"},{\"name\":\"offsetx\",\"kind\":\"Any\",\"default\":null},{\"name\":\"offsety\",\"kind\":\"Any\",\"default\":null},{\"name\":\"theme\",\"kind\":\"Any\",\"default\":\"primary\"},{\"name\":\"status\",\"kind\":\"Any\",\"default\":\"normalized\"}]},{\"type\":\"model\",\"name\":\"GridStack1\",\"properties\":[{\"name\":\"mode\",\"kind\":\"Any\",\"default\":\"warn\"},{\"name\":\"ncols\",\"kind\":\"Any\",\"default\":null},{\"name\":\"nrows\",\"kind\":\"Any\",\"default\":null},{\"name\":\"allow_resize\",\"kind\":\"Any\",\"default\":true},{\"name\":\"allow_drag\",\"kind\":\"Any\",\"default\":true},{\"name\":\"state\",\"kind\":\"Any\",\"default\":[]}]},{\"type\":\"model\",\"name\":\"drag1\",\"properties\":[{\"name\":\"slider_width\",\"kind\":\"Any\",\"default\":5},{\"name\":\"slider_color\",\"kind\":\"Any\",\"default\":\"black\"},{\"name\":\"value\",\"kind\":\"Any\",\"default\":50}]},{\"type\":\"model\",\"name\":\"click1\",\"properties\":[{\"name\":\"terminal_output\",\"kind\":\"Any\",\"default\":\"\"},{\"name\":\"debug_name\",\"kind\":\"Any\",\"default\":\"\"},{\"name\":\"clears\",\"kind\":\"Any\",\"default\":0}]},{\"type\":\"model\",\"name\":\"FastWrapper1\",\"properties\":[{\"name\":\"object\",\"kind\":\"Any\",\"default\":null},{\"name\":\"style\",\"kind\":\"Any\",\"default\":null}]},{\"type\":\"model\",\"name\":\"NotificationAreaBase1\",\"properties\":[{\"name\":\"js_events\",\"kind\":\"Any\",\"default\":{\"type\":\"map\"}},{\"name\":\"position\",\"kind\":\"Any\",\"default\":\"bottom-right\"},{\"name\":\"_clear\",\"kind\":\"Any\",\"default\":0}]},{\"type\":\"model\",\"name\":\"NotificationArea1\",\"properties\":[{\"name\":\"js_events\",\"kind\":\"Any\",\"default\":{\"type\":\"map\"}},{\"name\":\"notifications\",\"kind\":\"Any\",\"default\":[]},{\"name\":\"position\",\"kind\":\"Any\",\"default\":\"bottom-right\"},{\"name\":\"_clear\",\"kind\":\"Any\",\"default\":0},{\"name\":\"types\",\"kind\":\"Any\",\"default\":[{\"type\":\"map\",\"entries\":[[\"type\",\"warning\"],[\"background\",\"#ffc107\"],[\"icon\",{\"type\":\"map\",\"entries\":[[\"className\",\"fas fa-exclamation-triangle\"],[\"tagName\",\"i\"],[\"color\",\"white\"]]}]]},{\"type\":\"map\",\"entries\":[[\"type\",\"info\"],[\"background\",\"#007bff\"],[\"icon\",{\"type\":\"map\",\"entries\":[[\"className\",\"fas fa-info-circle\"],[\"tagName\",\"i\"],[\"color\",\"white\"]]}]]}]}]},{\"type\":\"model\",\"name\":\"Notification\",\"properties\":[{\"name\":\"background\",\"kind\":\"Any\",\"default\":null},{\"name\":\"duration\",\"kind\":\"Any\",\"default\":3000},{\"name\":\"icon\",\"kind\":\"Any\",\"default\":null},{\"name\":\"message\",\"kind\":\"Any\",\"default\":\"\"},{\"name\":\"notification_type\",\"kind\":\"Any\",\"default\":null},{\"name\":\"_destroyed\",\"kind\":\"Any\",\"default\":false}]},{\"type\":\"model\",\"name\":\"TemplateActions1\",\"properties\":[{\"name\":\"open_modal\",\"kind\":\"Any\",\"default\":0},{\"name\":\"close_modal\",\"kind\":\"Any\",\"default\":0}]},{\"type\":\"model\",\"name\":\"BootstrapTemplateActions1\",\"properties\":[{\"name\":\"open_modal\",\"kind\":\"Any\",\"default\":0},{\"name\":\"close_modal\",\"kind\":\"Any\",\"default\":0}]},{\"type\":\"model\",\"name\":\"TemplateEditor1\",\"properties\":[{\"name\":\"layout\",\"kind\":\"Any\",\"default\":[]}]},{\"type\":\"model\",\"name\":\"MaterialTemplateActions1\",\"properties\":[{\"name\":\"open_modal\",\"kind\":\"Any\",\"default\":0},{\"name\":\"close_modal\",\"kind\":\"Any\",\"default\":0}]},{\"type\":\"model\",\"name\":\"copy_to_clipboard1\",\"properties\":[{\"name\":\"fill\",\"kind\":\"Any\",\"default\":\"none\"},{\"name\":\"value\",\"kind\":\"Any\",\"default\":null}]}]}};\n",
       "  var render_items = [{\"docid\":\"f25ab297-116a-4f89-a65f-5a2f82504679\",\"roots\":{\"2d54bec5-afda-48e0-9865-d4717187a20e\":\"f1c743e0-c0a1-4732-9065-101ccccd85cb\"},\"root_ids\":[\"2d54bec5-afda-48e0-9865-d4717187a20e\"]}];\n",
       "  var docs = Object.values(docs_json)\n",
       "  if (!docs) {\n",
       "    return\n",
       "  }\n",
       "  const py_version = docs[0].version.replace('rc', '-rc.').replace('.dev', '-dev.')\n",
       "  function embed_document(root) {\n",
       "    var Bokeh = get_bokeh(root)\n",
       "    Bokeh.embed.embed_items_notebook(docs_json, render_items);\n",
       "    for (const render_item of render_items) {\n",
       "      for (const root_id of render_item.root_ids) {\n",
       "\tconst id_el = document.getElementById(root_id)\n",
       "\tif (id_el.children.length && (id_el.children[0].className === 'bk-root')) {\n",
       "\t  const root_el = id_el.children[0]\n",
       "\t  root_el.id = root_el.id + '-rendered'\n",
       "\t}\n",
       "      }\n",
       "    }\n",
       "  }\n",
       "  function get_bokeh(root) {\n",
       "    if (root.Bokeh === undefined) {\n",
       "      return null\n",
       "    } else if (root.Bokeh.version !== py_version) {\n",
       "      if (root.Bokeh.versions === undefined || !root.Bokeh.versions.has(py_version)) {\n",
       "\treturn null\n",
       "      }\n",
       "      return root.Bokeh.versions.get(py_version);\n",
       "    } else if (root.Bokeh.version === py_version) {\n",
       "      return root.Bokeh\n",
       "    }\n",
       "    return null\n",
       "  }\n",
       "  function is_loaded(root) {\n",
       "    var Bokeh = get_bokeh(root)\n",
       "    return (Bokeh != null && Bokeh.Panel !== undefined && ( root.Tabulator !== undefined) && ( root.Tabulator !== undefined) && ( root.Tabulator !== undefined) && ( root.Tabulator !== undefined))\n",
       "  }\n",
       "  if (is_loaded(root)) {\n",
       "    embed_document(root);\n",
       "  } else {\n",
       "    var attempts = 0;\n",
       "    var timer = setInterval(function(root) {\n",
       "      if (is_loaded(root)) {\n",
       "        clearInterval(timer);\n",
       "        embed_document(root);\n",
       "      } else if (document.readyState == \"complete\") {\n",
       "        attempts++;\n",
       "        if (attempts > 200) {\n",
       "          clearInterval(timer);\n",
       "\t  var Bokeh = get_bokeh(root)\n",
       "\t  if (Bokeh == null || Bokeh.Panel == null) {\n",
       "            console.warn(\"Panel: ERROR: Unable to run Panel code because Bokeh or Panel library is missing\");\n",
       "\t  } else {\n",
       "\t    console.warn(\"Panel: WARNING: Attempting to render but not all required libraries could be resolved.\")\n",
       "\t    embed_document(root)\n",
       "\t  }\n",
       "        }\n",
       "      }\n",
       "    }, 25, root)\n",
       "  }\n",
       "})(window);</script>"
      ],
      "application/vnd.holoviews_exec.v0+json": ""
     },
     "metadata": {
      "application/vnd.holoviews_exec.v0+json": {
       "id": "2d54bec5-afda-48e0-9865-d4717187a20e"
      }
     },
     "output_type": "display_data"
    }
   ],
   "execution_count": 113
  },
  {
   "cell_type": "code",
   "id": "89a1d4924645f6bb",
   "metadata": {
    "ExecuteTime": {
     "end_time": "2024-05-08T06:37:48.888475Z",
     "start_time": "2024-05-08T06:37:48.259491Z"
    }
   },
   "source": [
    "# Create for-loop to generate a list of size-time dictionary\n",
    "temp_data = [{'Algorithm': 'Greedy', 'Size': 0, 'Runtime in nanoseconds': 0},\n",
    "             {'Algorithm': 'Divide and Conquer', 'Size': 0, 'Runtime in nanoseconds': 0},\n",
    "             {'Algorithm': 'Dynamic', 'Size': 0, 'Runtime in nanoseconds': 0}]\n",
    "for i in range(1, 277):\n",
    "    # For Greedy Algorithm\n",
    "    start_wall = time.time_ns()\n",
    "    sample = greedy_algo(rand_tuple(i, 2))\n",
    "    end_wall = time.time_ns()\n",
    "    total_time = end_wall - start_wall\n",
    "    temp_data.append({'Algorithm': 'Greedy', 'Size': i, 'Runtime in nanoseconds': total_time})\n",
    "    \n",
    "    # For Divide and Conquer Algorithm\n",
    "    start_wall = time.time_ns()\n",
    "    sample = div_algo(rand_tuple(i, 2))\n",
    "    end_wall = time.time_ns()\n",
    "    total_time = end_wall - start_wall\n",
    "    temp_data.append({'Algorithm': 'Divide and Conquer', 'Size': i, 'Runtime in nanoseconds': total_time})\n",
    "    \n",
    "    # For Dynamic Programming Algorithm\n",
    "    start_wall = time.time_ns()\n",
    "    sample = dynamic_algo(rand_tuple(i, 2))\n",
    "    end_wall = time.time_ns()\n",
    "    total_time = end_wall - start_wall\n",
    "    temp_data.append({'Algorithm': 'Dynamic', 'Size': i, 'Runtime in nanoseconds': total_time})\n"
   ],
   "outputs": [],
   "execution_count": 114
  },
  {
   "cell_type": "code",
   "id": "15539e58c1b40169",
   "metadata": {
    "ExecuteTime": {
     "end_time": "2024-05-08T06:37:48.904514Z",
     "start_time": "2024-05-08T06:37:48.888475Z"
    }
   },
   "source": [
    "# Make a dataframe\n",
    "df = pd.DataFrame(temp_data)\n",
    "print(df)\n",
    "\n",
    "# Make it interactive\n",
    "idf = df.interactive()"
   ],
   "outputs": [
    {
     "name": "stdout",
     "output_type": "stream",
     "text": [
      "              Algorithm  Size  Runtime in nanoseconds\n",
      "0                Greedy     0                       0\n",
      "1    Divide and Conquer     0                       0\n",
      "2               Dynamic     0                       0\n",
      "3                Greedy     1                       0\n",
      "4    Divide and Conquer     1                       0\n",
      "..                  ...   ...                     ...\n",
      "826  Divide and Conquer   275                 2977800\n",
      "827             Dynamic   275                 4000600\n",
      "828              Greedy   276                 3000200\n",
      "829  Divide and Conquer   276                 3010200\n",
      "830             Dynamic   276                 4015900\n",
      "\n",
      "[831 rows x 3 columns]\n"
     ]
    }
   ],
   "execution_count": 115
  },
  {
   "cell_type": "code",
   "id": "db51c12b9e072db1",
   "metadata": {
    "ExecuteTime": {
     "end_time": "2024-05-08T06:37:48.907792Z",
     "start_time": "2024-05-08T06:37:48.905517Z"
    }
   },
   "source": [
    "# Define panel widgets\n",
    "size_slider = pn.widgets.IntSlider(name='Size', start=1, end=276, step=1)"
   ],
   "outputs": [],
   "execution_count": 116
  },
  {
   "cell_type": "code",
   "id": "8cb4e81a520625ef",
   "metadata": {
    "ExecuteTime": {
     "end_time": "2024-05-08T06:37:49.040503Z",
     "start_time": "2024-05-08T06:37:48.907792Z"
    }
   },
   "source": [
    "algos = ['Greedy', 'Divide and Conquer', 'Dynamic']\n",
    "runtime_pipeline = (\n",
    "    idf[(idf['Size'] <= size_slider) & (idf['Algorithm'].isin(algos))]\n",
    "    .reset_index()\n",
    "    .reset_index(drop=True)\n",
    ")"
   ],
   "outputs": [],
   "execution_count": 117
  },
  {
   "cell_type": "code",
   "id": "d1e5ff4a37b24384",
   "metadata": {
    "ExecuteTime": {
     "end_time": "2024-05-08T06:37:49.150660Z",
     "start_time": "2024-05-08T06:37:49.040503Z"
    }
   },
   "source": [
    "runtime_plot = runtime_pipeline.hvplot(x = 'Size',by='Algorithm', y='Runtime in nanoseconds', line_width=2, title='Runtime Comparison')\n",
    "runtime_plot"
   ],
   "outputs": [
    {
     "data": {},
     "metadata": {},
     "output_type": "display_data"
    },
    {
     "data": {},
     "metadata": {},
     "output_type": "display_data"
    },
    {
     "data": {
      "text/html": [
       "<div id='37d6d620-34a4-4876-a8b9-befa31c4b74e'>\n",
       "  <div id=\"c5b13b35-db26-4fe0-9e73-60037bb281e5\" data-root-id=\"37d6d620-34a4-4876-a8b9-befa31c4b74e\" style=\"display: contents;\"></div>\n",
       "</div>\n",
       "<script type=\"application/javascript\">(function(root) {\n",
       "  var docs_json = {\"3a528cfa-5d74-4df9-9f7c-040f87c716ee\":{\"version\":\"3.4.1\",\"title\":\"Bokeh Application\",\"roots\":[{\"type\":\"object\",\"name\":\"Row\",\"id\":\"37d6d620-34a4-4876-a8b9-befa31c4b74e\",\"attributes\":{\"name\":\"Row152326\",\"stylesheets\":[\"\\n:host(.pn-loading):before, .pn-loading:before {\\n  background-color: #c3c3c3;\\n  mask-size: auto calc(min(50%, 400px));\\n  -webkit-mask-size: auto calc(min(50%, 400px));\\n}\",{\"type\":\"object\",\"name\":\"ImportedStyleSheet\",\"id\":\"27424e42-90f2-4792-9d9a-23e8205e7e7e\",\"attributes\":{\"url\":\"https://cdn.holoviz.org/panel/1.4.2/dist/css/loading.css\"}},{\"type\":\"object\",\"name\":\"ImportedStyleSheet\",\"id\":\"22bdb8d9-3292-43b8-b1e2-5918e5099536\",\"attributes\":{\"url\":\"https://cdn.holoviz.org/panel/1.4.2/dist/css/listpanel.css\"}},{\"type\":\"object\",\"name\":\"ImportedStyleSheet\",\"id\":\"895e0eff-d949-48ce-9ba6-881ad7b6280b\",\"attributes\":{\"url\":\"https://cdn.holoviz.org/panel/1.4.2/dist/bundled/theme/default.css\"}},{\"type\":\"object\",\"name\":\"ImportedStyleSheet\",\"id\":\"f4a1acc9-f4ac-4dcd-9610-cb66cd92a50a\",\"attributes\":{\"url\":\"https://cdn.holoviz.org/panel/1.4.2/dist/bundled/theme/native.css\"}}],\"margin\":0,\"align\":\"start\",\"children\":[{\"type\":\"object\",\"name\":\"panel.models.layout.Column\",\"id\":\"d1ce764d-caa9-4c92-86c9-55d4abffcccf\",\"attributes\":{\"name\":\"Column152325\",\"stylesheets\":[\"\\n:host(.pn-loading):before, .pn-loading:before {\\n  background-color: #c3c3c3;\\n  mask-size: auto calc(min(50%, 400px));\\n  -webkit-mask-size: auto calc(min(50%, 400px));\\n}\",{\"id\":\"27424e42-90f2-4792-9d9a-23e8205e7e7e\"},{\"id\":\"22bdb8d9-3292-43b8-b1e2-5918e5099536\"},{\"id\":\"895e0eff-d949-48ce-9ba6-881ad7b6280b\"},{\"id\":\"f4a1acc9-f4ac-4dcd-9610-cb66cd92a50a\"}],\"margin\":0,\"align\":\"start\",\"children\":[{\"type\":\"object\",\"name\":\"panel.models.layout.Column\",\"id\":\"51db50d3-cd14-4b26-b7b7-cb56bc5e2176\",\"attributes\":{\"name\":\"Column152316\",\"stylesheets\":[\"\\n:host(.pn-loading):before, .pn-loading:before {\\n  background-color: #c3c3c3;\\n  mask-size: auto calc(min(50%, 400px));\\n  -webkit-mask-size: auto calc(min(50%, 400px));\\n}\",{\"id\":\"27424e42-90f2-4792-9d9a-23e8205e7e7e\"},{\"id\":\"22bdb8d9-3292-43b8-b1e2-5918e5099536\"},{\"id\":\"895e0eff-d949-48ce-9ba6-881ad7b6280b\"},{\"id\":\"f4a1acc9-f4ac-4dcd-9610-cb66cd92a50a\"}],\"margin\":0,\"align\":\"start\",\"children\":[{\"type\":\"object\",\"name\":\"Slider\",\"id\":\"a5f496d8-966e-436b-a922-69d8d7ecc1d9\",\"attributes\":{\"stylesheets\":[\"\\n:host(.pn-loading):before, .pn-loading:before {\\n  background-color: #c3c3c3;\\n  mask-size: auto calc(min(50%, 400px));\\n  -webkit-mask-size: auto calc(min(50%, 400px));\\n}\",{\"id\":\"27424e42-90f2-4792-9d9a-23e8205e7e7e\"},{\"id\":\"895e0eff-d949-48ce-9ba6-881ad7b6280b\"},{\"id\":\"f4a1acc9-f4ac-4dcd-9610-cb66cd92a50a\"}],\"margin\":[5,10],\"align\":\"start\",\"title\":\"Size\",\"start\":1,\"end\":276,\"value\":1}}]}},{\"type\":\"object\",\"name\":\"Figure\",\"id\":\"ba569dd5-21cf-4744-8bb2-0263b99a05ea\",\"attributes\":{\"width\":700,\"height\":300,\"margin\":[5,10],\"sizing_mode\":\"fixed\",\"align\":\"start\",\"x_range\":{\"type\":\"object\",\"name\":\"Range1d\",\"id\":\"b2af1386-0241-46d2-b2ad-bc056e62a9cc\",\"attributes\":{\"tags\":[[[\"Size\",\"Size\",null]],[]],\"reset_start\":0.0,\"reset_end\":1.0}},\"y_range\":{\"type\":\"object\",\"name\":\"Range1d\",\"id\":\"88f4515b-4045-4f4e-94e2-bf3288a321ed\",\"attributes\":{\"tags\":[[[\"Runtime in nanoseconds\",\"Runtime in nanoseconds\",null]],{\"type\":\"map\",\"entries\":[[\"invert_yaxis\",false],[\"autorange\",false]]}],\"start\":-1.2,\"end\":1.2,\"reset_start\":-1.2,\"reset_end\":1.2}},\"x_scale\":{\"type\":\"object\",\"name\":\"LinearScale\",\"id\":\"76ec51af-1f92-45b5-8f4e-51da947be7cd\"},\"y_scale\":{\"type\":\"object\",\"name\":\"LinearScale\",\"id\":\"1c7c35b5-0475-4525-a097-54ffce47ffd6\"},\"title\":{\"type\":\"object\",\"name\":\"Title\",\"id\":\"6f01c47a-e90d-4410-84ae-9568be308f89\",\"attributes\":{\"text\":\"Runtime Comparison\",\"text_color\":\"black\",\"text_font_size\":\"12pt\"}},\"renderers\":[{\"type\":\"object\",\"name\":\"GlyphRenderer\",\"id\":\"408738ee-5613-4442-a16f-37509ab4c670\",\"attributes\":{\"name\":\"Divide and Conquer\",\"data_source\":{\"type\":\"object\",\"name\":\"ColumnDataSource\",\"id\":\"f53007b7-1fbf-4984-9b5f-d4eddd9f6529\",\"attributes\":{\"selected\":{\"type\":\"object\",\"name\":\"Selection\",\"id\":\"7638a401-455f-4dca-a049-d19913028602\",\"attributes\":{\"indices\":[],\"line_indices\":[]}},\"selection_policy\":{\"type\":\"object\",\"name\":\"UnionRenderers\",\"id\":\"60543074-f873-4e3a-8448-69a915b8201f\"},\"data\":{\"type\":\"map\",\"entries\":[[\"Size\",{\"type\":\"ndarray\",\"array\":{\"type\":\"bytes\",\"data\":\"AAAAAAEAAAA=\"},\"shape\":[2],\"dtype\":\"int32\",\"order\":\"little\"}],[\"Runtime in nanoseconds\",{\"type\":\"ndarray\",\"array\":{\"type\":\"bytes\",\"data\":\"AAAAAAAAAAA=\"},\"shape\":[2],\"dtype\":\"int32\",\"order\":\"little\"}],[\"Runtime_in_nanoseconds\",{\"type\":\"ndarray\",\"array\":{\"type\":\"bytes\",\"data\":\"AAAAAAAAAAA=\"},\"shape\":[2],\"dtype\":\"int32\",\"order\":\"little\"}],[\"Algorithm\",[\"Divide and Conquer\",\"Divide and Conquer\"]]]}}},\"view\":{\"type\":\"object\",\"name\":\"CDSView\",\"id\":\"b15b468b-7ef1-4933-988a-2ca08d046422\",\"attributes\":{\"filter\":{\"type\":\"object\",\"name\":\"AllIndices\",\"id\":\"78b885fd-1e34-404e-b947-da86600d5cf8\"}}},\"glyph\":{\"type\":\"object\",\"name\":\"Line\",\"id\":\"7ef64272-801d-4e2d-a462-54fc2e676618\",\"attributes\":{\"tags\":[\"apply_ranges\"],\"x\":{\"type\":\"field\",\"field\":\"Size\"},\"y\":{\"type\":\"field\",\"field\":\"Runtime in nanoseconds\"},\"line_color\":\"#30a2da\",\"line_width\":2}},\"selection_glyph\":{\"type\":\"object\",\"name\":\"Line\",\"id\":\"a1607ca5-8ed4-4c12-9cdc-9b9234d4688b\",\"attributes\":{\"tags\":[\"apply_ranges\"],\"x\":{\"type\":\"field\",\"field\":\"Size\"},\"y\":{\"type\":\"field\",\"field\":\"Runtime in nanoseconds\"},\"line_color\":\"#30a2da\",\"line_width\":2}},\"nonselection_glyph\":{\"type\":\"object\",\"name\":\"Line\",\"id\":\"2d11bdfc-3497-4c5f-a763-d4ce15c9f9b4\",\"attributes\":{\"tags\":[\"apply_ranges\"],\"x\":{\"type\":\"field\",\"field\":\"Size\"},\"y\":{\"type\":\"field\",\"field\":\"Runtime in nanoseconds\"},\"line_color\":\"#30a2da\",\"line_alpha\":0.1,\"line_width\":2}},\"muted_glyph\":{\"type\":\"object\",\"name\":\"Line\",\"id\":\"49fca19d-43f2-4148-9c8d-5fa3d33ca783\",\"attributes\":{\"tags\":[\"apply_ranges\"],\"x\":{\"type\":\"field\",\"field\":\"Size\"},\"y\":{\"type\":\"field\",\"field\":\"Runtime in nanoseconds\"},\"line_color\":\"#30a2da\",\"line_alpha\":0.2,\"line_width\":2}}}},{\"type\":\"object\",\"name\":\"GlyphRenderer\",\"id\":\"20cc05b0-d24d-4e5a-85fa-1cc79040562e\",\"attributes\":{\"name\":\"Dynamic\",\"data_source\":{\"type\":\"object\",\"name\":\"ColumnDataSource\",\"id\":\"580b00da-e530-4793-a897-e5bc00d2b657\",\"attributes\":{\"selected\":{\"type\":\"object\",\"name\":\"Selection\",\"id\":\"0e6cef2e-0378-42fd-95dd-c4bb511af344\",\"attributes\":{\"indices\":[],\"line_indices\":[]}},\"selection_policy\":{\"type\":\"object\",\"name\":\"UnionRenderers\",\"id\":\"3e51bcdd-385e-472a-99a5-4ee79458b368\"},\"data\":{\"type\":\"map\",\"entries\":[[\"Size\",{\"type\":\"ndarray\",\"array\":{\"type\":\"bytes\",\"data\":\"AAAAAAEAAAA=\"},\"shape\":[2],\"dtype\":\"int32\",\"order\":\"little\"}],[\"Runtime in nanoseconds\",{\"type\":\"ndarray\",\"array\":{\"type\":\"bytes\",\"data\":\"AAAAAAAAAAA=\"},\"shape\":[2],\"dtype\":\"int32\",\"order\":\"little\"}],[\"Runtime_in_nanoseconds\",{\"type\":\"ndarray\",\"array\":{\"type\":\"bytes\",\"data\":\"AAAAAAAAAAA=\"},\"shape\":[2],\"dtype\":\"int32\",\"order\":\"little\"}],[\"Algorithm\",[\"Dynamic\",\"Dynamic\"]]]}}},\"view\":{\"type\":\"object\",\"name\":\"CDSView\",\"id\":\"5415d4c3-aa83-465f-9e8b-2981bece4e41\",\"attributes\":{\"filter\":{\"type\":\"object\",\"name\":\"AllIndices\",\"id\":\"0ba63b8f-5845-4ef9-839b-f8b7ce1ab4ed\"}}},\"glyph\":{\"type\":\"object\",\"name\":\"Line\",\"id\":\"53d2b213-22f1-48ec-a392-8e75163742d9\",\"attributes\":{\"tags\":[\"apply_ranges\"],\"x\":{\"type\":\"field\",\"field\":\"Size\"},\"y\":{\"type\":\"field\",\"field\":\"Runtime in nanoseconds\"},\"line_color\":\"#fc4f30\",\"line_width\":2}},\"selection_glyph\":{\"type\":\"object\",\"name\":\"Line\",\"id\":\"d411e935-166f-4cde-b962-8f26c258ff2f\",\"attributes\":{\"tags\":[\"apply_ranges\"],\"x\":{\"type\":\"field\",\"field\":\"Size\"},\"y\":{\"type\":\"field\",\"field\":\"Runtime in nanoseconds\"},\"line_color\":\"#fc4f30\",\"line_width\":2}},\"nonselection_glyph\":{\"type\":\"object\",\"name\":\"Line\",\"id\":\"5e572123-a34d-43f6-95a4-d7005f63227c\",\"attributes\":{\"tags\":[\"apply_ranges\"],\"x\":{\"type\":\"field\",\"field\":\"Size\"},\"y\":{\"type\":\"field\",\"field\":\"Runtime in nanoseconds\"},\"line_color\":\"#fc4f30\",\"line_alpha\":0.1,\"line_width\":2}},\"muted_glyph\":{\"type\":\"object\",\"name\":\"Line\",\"id\":\"acd2fa28-853e-4607-9d47-532f7e065dc3\",\"attributes\":{\"tags\":[\"apply_ranges\"],\"x\":{\"type\":\"field\",\"field\":\"Size\"},\"y\":{\"type\":\"field\",\"field\":\"Runtime in nanoseconds\"},\"line_color\":\"#fc4f30\",\"line_alpha\":0.2,\"line_width\":2}}}},{\"type\":\"object\",\"name\":\"GlyphRenderer\",\"id\":\"1ced9190-dc1a-45ea-8142-d6837c41b395\",\"attributes\":{\"name\":\"Greedy\",\"data_source\":{\"type\":\"object\",\"name\":\"ColumnDataSource\",\"id\":\"32dd93c7-bb87-4efe-b44c-5822a97d089b\",\"attributes\":{\"selected\":{\"type\":\"object\",\"name\":\"Selection\",\"id\":\"3654f55d-d9ff-422d-b20d-a869e9439b09\",\"attributes\":{\"indices\":[],\"line_indices\":[]}},\"selection_policy\":{\"type\":\"object\",\"name\":\"UnionRenderers\",\"id\":\"4e46d0b7-6d73-4494-b485-c84cffcc5ffc\"},\"data\":{\"type\":\"map\",\"entries\":[[\"Size\",{\"type\":\"ndarray\",\"array\":{\"type\":\"bytes\",\"data\":\"AAAAAAEAAAA=\"},\"shape\":[2],\"dtype\":\"int32\",\"order\":\"little\"}],[\"Runtime in nanoseconds\",{\"type\":\"ndarray\",\"array\":{\"type\":\"bytes\",\"data\":\"AAAAAAAAAAA=\"},\"shape\":[2],\"dtype\":\"int32\",\"order\":\"little\"}],[\"Runtime_in_nanoseconds\",{\"type\":\"ndarray\",\"array\":{\"type\":\"bytes\",\"data\":\"AAAAAAAAAAA=\"},\"shape\":[2],\"dtype\":\"int32\",\"order\":\"little\"}],[\"Algorithm\",[\"Greedy\",\"Greedy\"]]]}}},\"view\":{\"type\":\"object\",\"name\":\"CDSView\",\"id\":\"be9ac687-5772-4f85-a482-33e637428d10\",\"attributes\":{\"filter\":{\"type\":\"object\",\"name\":\"AllIndices\",\"id\":\"941da215-938d-49e5-83be-e1e8ce3c6af6\"}}},\"glyph\":{\"type\":\"object\",\"name\":\"Line\",\"id\":\"c9853803-b2cf-4c9a-a115-8d5beb6dc9f1\",\"attributes\":{\"tags\":[\"apply_ranges\"],\"x\":{\"type\":\"field\",\"field\":\"Size\"},\"y\":{\"type\":\"field\",\"field\":\"Runtime in nanoseconds\"},\"line_color\":\"#e5ae38\",\"line_width\":2}},\"selection_glyph\":{\"type\":\"object\",\"name\":\"Line\",\"id\":\"d97fab2b-13b2-49fc-adb8-fc5d4ec4f3e8\",\"attributes\":{\"tags\":[\"apply_ranges\"],\"x\":{\"type\":\"field\",\"field\":\"Size\"},\"y\":{\"type\":\"field\",\"field\":\"Runtime in nanoseconds\"},\"line_color\":\"#e5ae38\",\"line_width\":2}},\"nonselection_glyph\":{\"type\":\"object\",\"name\":\"Line\",\"id\":\"0530b9b2-c14e-40aa-8eb1-f5b9bebf98e0\",\"attributes\":{\"tags\":[\"apply_ranges\"],\"x\":{\"type\":\"field\",\"field\":\"Size\"},\"y\":{\"type\":\"field\",\"field\":\"Runtime in nanoseconds\"},\"line_color\":\"#e5ae38\",\"line_alpha\":0.1,\"line_width\":2}},\"muted_glyph\":{\"type\":\"object\",\"name\":\"Line\",\"id\":\"b2cc11fd-eee8-476a-8bc0-673bce7f25da\",\"attributes\":{\"tags\":[\"apply_ranges\"],\"x\":{\"type\":\"field\",\"field\":\"Size\"},\"y\":{\"type\":\"field\",\"field\":\"Runtime in nanoseconds\"},\"line_color\":\"#e5ae38\",\"line_alpha\":0.2,\"line_width\":2}}}}],\"toolbar\":{\"type\":\"object\",\"name\":\"Toolbar\",\"id\":\"e68e8004-4aa0-45fa-8a1e-c91f84355582\",\"attributes\":{\"tools\":[{\"type\":\"object\",\"name\":\"WheelZoomTool\",\"id\":\"63b7cddd-f48f-4216-8d5f-4222c9079504\",\"attributes\":{\"tags\":[\"hv_created\"],\"renderers\":\"auto\",\"zoom_together\":\"none\"}},{\"type\":\"object\",\"name\":\"HoverTool\",\"id\":\"b960b981-40a6-4e0c-98ff-fe907f60d44b\",\"attributes\":{\"tags\":[\"hv_created\"],\"renderers\":[{\"id\":\"408738ee-5613-4442-a16f-37509ab4c670\"},{\"id\":\"20cc05b0-d24d-4e5a-85fa-1cc79040562e\"},{\"id\":\"1ced9190-dc1a-45ea-8142-d6837c41b395\"}],\"tooltips\":[[\"Algorithm\",\"@{Algorithm}\"],[\"Size\",\"@{Size}\"],[\"Runtime in nanoseconds\",\"@{Runtime_in_nanoseconds}\"]]}},{\"type\":\"object\",\"name\":\"SaveTool\",\"id\":\"36341954-a5a1-4600-9ae8-09a0cb162dd6\"},{\"type\":\"object\",\"name\":\"PanTool\",\"id\":\"04b26aaf-1785-440f-816c-9856a58a4bac\"},{\"type\":\"object\",\"name\":\"BoxZoomTool\",\"id\":\"b5320fc9-3c47-4080-98c8-77ee217ad1de\",\"attributes\":{\"overlay\":{\"type\":\"object\",\"name\":\"BoxAnnotation\",\"id\":\"fc0a21c5-ad6e-4d92-8713-110d15d7a5ab\",\"attributes\":{\"syncable\":false,\"level\":\"overlay\",\"visible\":false,\"left\":{\"type\":\"number\",\"value\":\"nan\"},\"right\":{\"type\":\"number\",\"value\":\"nan\"},\"top\":{\"type\":\"number\",\"value\":\"nan\"},\"bottom\":{\"type\":\"number\",\"value\":\"nan\"},\"left_units\":\"canvas\",\"right_units\":\"canvas\",\"top_units\":\"canvas\",\"bottom_units\":\"canvas\",\"line_color\":\"black\",\"line_alpha\":1.0,\"line_width\":2,\"line_dash\":[4,4],\"fill_color\":\"lightgrey\",\"fill_alpha\":0.5}}}},{\"type\":\"object\",\"name\":\"ResetTool\",\"id\":\"01a74360-917e-4b9e-aa1b-97fa37470499\"}],\"active_drag\":{\"id\":\"04b26aaf-1785-440f-816c-9856a58a4bac\"},\"active_scroll\":{\"id\":\"63b7cddd-f48f-4216-8d5f-4222c9079504\"}}},\"left\":[{\"type\":\"object\",\"name\":\"LinearAxis\",\"id\":\"bad80b01-3c99-4b25-bcb5-2e6183111fcb\",\"attributes\":{\"ticker\":{\"type\":\"object\",\"name\":\"BasicTicker\",\"id\":\"1a126c4e-75e2-4eca-8fa0-9e8e28955641\",\"attributes\":{\"mantissas\":[1,2,5]}},\"formatter\":{\"type\":\"object\",\"name\":\"BasicTickFormatter\",\"id\":\"7fdadf88-5be8-4c5a-8fbf-6d0690e85e6b\"},\"axis_label\":\"Runtime in nanoseconds\",\"major_label_policy\":{\"type\":\"object\",\"name\":\"AllLabels\",\"id\":\"0e00ac5a-1279-4e24-85ee-4634dffd6b66\"}}}],\"right\":[{\"type\":\"object\",\"name\":\"Legend\",\"id\":\"a5297b9e-6b7f-49ea-85a2-c8ef0e3e0e93\",\"attributes\":{\"location\":[0,0],\"title\":\"Algorithm\",\"click_policy\":\"mute\",\"items\":[{\"type\":\"object\",\"name\":\"LegendItem\",\"id\":\"e80121d0-5e3a-4668-a237-b693578a57da\",\"attributes\":{\"label\":{\"type\":\"value\",\"value\":\"Divide and Conquer\"},\"renderers\":[{\"id\":\"408738ee-5613-4442-a16f-37509ab4c670\"}]}},{\"type\":\"object\",\"name\":\"LegendItem\",\"id\":\"acad2315-1e9e-4eba-b859-17a83594cd7d\",\"attributes\":{\"label\":{\"type\":\"value\",\"value\":\"Dynamic\"},\"renderers\":[{\"id\":\"20cc05b0-d24d-4e5a-85fa-1cc79040562e\"}]}},{\"type\":\"object\",\"name\":\"LegendItem\",\"id\":\"92d65845-e42b-4311-ba40-2b42beac4750\",\"attributes\":{\"label\":{\"type\":\"value\",\"value\":\"Greedy\"},\"renderers\":[{\"id\":\"1ced9190-dc1a-45ea-8142-d6837c41b395\"}]}}]}}],\"below\":[{\"type\":\"object\",\"name\":\"LinearAxis\",\"id\":\"e01a8fd3-2c1f-4e47-b7f3-9e25a3577d8e\",\"attributes\":{\"ticker\":{\"type\":\"object\",\"name\":\"BasicTicker\",\"id\":\"5046cc77-6a75-4b18-83ed-7b6adab43f59\",\"attributes\":{\"mantissas\":[1,2,5]}},\"formatter\":{\"type\":\"object\",\"name\":\"BasicTickFormatter\",\"id\":\"7351e90c-cee8-4e32-9785-55b1b0b52956\"},\"axis_label\":\"Size\",\"major_label_policy\":{\"type\":\"object\",\"name\":\"AllLabels\",\"id\":\"7a62863f-0d39-4b45-9172-5536fbc751a1\"}}}],\"center\":[{\"type\":\"object\",\"name\":\"Grid\",\"id\":\"0f299152-9b0b-430a-b2de-f83c6c940ea4\",\"attributes\":{\"axis\":{\"id\":\"e01a8fd3-2c1f-4e47-b7f3-9e25a3577d8e\"},\"grid_line_color\":null}},{\"type\":\"object\",\"name\":\"Grid\",\"id\":\"9792f961-dd5a-45b5-922b-7646a3e7370f\",\"attributes\":{\"dimension\":1,\"axis\":{\"id\":\"bad80b01-3c99-4b25-bcb5-2e6183111fcb\"},\"grid_line_color\":null}}],\"min_border_top\":10,\"min_border_bottom\":10,\"min_border_left\":10,\"min_border_right\":10,\"output_backend\":\"webgl\"}}]}}]}},{\"type\":\"object\",\"name\":\"panel.models.comm_manager.CommManager\",\"id\":\"e3c61486-e824-4e55-8341-269977b38aa0\",\"attributes\":{\"plot_id\":\"37d6d620-34a4-4876-a8b9-befa31c4b74e\",\"comm_id\":\"7dbfa1dcf4844c2f85de522e8b62585e\",\"client_comm_id\":\"d726891c1b3140538fe9e4a9d5c8cc98\"}}],\"defs\":[{\"type\":\"model\",\"name\":\"ReactiveHTML1\"},{\"type\":\"model\",\"name\":\"FlexBox1\",\"properties\":[{\"name\":\"align_content\",\"kind\":\"Any\",\"default\":\"flex-start\"},{\"name\":\"align_items\",\"kind\":\"Any\",\"default\":\"flex-start\"},{\"name\":\"flex_direction\",\"kind\":\"Any\",\"default\":\"row\"},{\"name\":\"flex_wrap\",\"kind\":\"Any\",\"default\":\"wrap\"},{\"name\":\"gap\",\"kind\":\"Any\",\"default\":\"\"},{\"name\":\"justify_content\",\"kind\":\"Any\",\"default\":\"flex-start\"}]},{\"type\":\"model\",\"name\":\"FloatPanel1\",\"properties\":[{\"name\":\"config\",\"kind\":\"Any\",\"default\":{\"type\":\"map\"}},{\"name\":\"contained\",\"kind\":\"Any\",\"default\":true},{\"name\":\"position\",\"kind\":\"Any\",\"default\":\"right-top\"},{\"name\":\"offsetx\",\"kind\":\"Any\",\"default\":null},{\"name\":\"offsety\",\"kind\":\"Any\",\"default\":null},{\"name\":\"theme\",\"kind\":\"Any\",\"default\":\"primary\"},{\"name\":\"status\",\"kind\":\"Any\",\"default\":\"normalized\"}]},{\"type\":\"model\",\"name\":\"GridStack1\",\"properties\":[{\"name\":\"mode\",\"kind\":\"Any\",\"default\":\"warn\"},{\"name\":\"ncols\",\"kind\":\"Any\",\"default\":null},{\"name\":\"nrows\",\"kind\":\"Any\",\"default\":null},{\"name\":\"allow_resize\",\"kind\":\"Any\",\"default\":true},{\"name\":\"allow_drag\",\"kind\":\"Any\",\"default\":true},{\"name\":\"state\",\"kind\":\"Any\",\"default\":[]}]},{\"type\":\"model\",\"name\":\"drag1\",\"properties\":[{\"name\":\"slider_width\",\"kind\":\"Any\",\"default\":5},{\"name\":\"slider_color\",\"kind\":\"Any\",\"default\":\"black\"},{\"name\":\"value\",\"kind\":\"Any\",\"default\":50}]},{\"type\":\"model\",\"name\":\"click1\",\"properties\":[{\"name\":\"terminal_output\",\"kind\":\"Any\",\"default\":\"\"},{\"name\":\"debug_name\",\"kind\":\"Any\",\"default\":\"\"},{\"name\":\"clears\",\"kind\":\"Any\",\"default\":0}]},{\"type\":\"model\",\"name\":\"FastWrapper1\",\"properties\":[{\"name\":\"object\",\"kind\":\"Any\",\"default\":null},{\"name\":\"style\",\"kind\":\"Any\",\"default\":null}]},{\"type\":\"model\",\"name\":\"NotificationAreaBase1\",\"properties\":[{\"name\":\"js_events\",\"kind\":\"Any\",\"default\":{\"type\":\"map\"}},{\"name\":\"position\",\"kind\":\"Any\",\"default\":\"bottom-right\"},{\"name\":\"_clear\",\"kind\":\"Any\",\"default\":0}]},{\"type\":\"model\",\"name\":\"NotificationArea1\",\"properties\":[{\"name\":\"js_events\",\"kind\":\"Any\",\"default\":{\"type\":\"map\"}},{\"name\":\"notifications\",\"kind\":\"Any\",\"default\":[]},{\"name\":\"position\",\"kind\":\"Any\",\"default\":\"bottom-right\"},{\"name\":\"_clear\",\"kind\":\"Any\",\"default\":0},{\"name\":\"types\",\"kind\":\"Any\",\"default\":[{\"type\":\"map\",\"entries\":[[\"type\",\"warning\"],[\"background\",\"#ffc107\"],[\"icon\",{\"type\":\"map\",\"entries\":[[\"className\",\"fas fa-exclamation-triangle\"],[\"tagName\",\"i\"],[\"color\",\"white\"]]}]]},{\"type\":\"map\",\"entries\":[[\"type\",\"info\"],[\"background\",\"#007bff\"],[\"icon\",{\"type\":\"map\",\"entries\":[[\"className\",\"fas fa-info-circle\"],[\"tagName\",\"i\"],[\"color\",\"white\"]]}]]}]}]},{\"type\":\"model\",\"name\":\"Notification\",\"properties\":[{\"name\":\"background\",\"kind\":\"Any\",\"default\":null},{\"name\":\"duration\",\"kind\":\"Any\",\"default\":3000},{\"name\":\"icon\",\"kind\":\"Any\",\"default\":null},{\"name\":\"message\",\"kind\":\"Any\",\"default\":\"\"},{\"name\":\"notification_type\",\"kind\":\"Any\",\"default\":null},{\"name\":\"_destroyed\",\"kind\":\"Any\",\"default\":false}]},{\"type\":\"model\",\"name\":\"TemplateActions1\",\"properties\":[{\"name\":\"open_modal\",\"kind\":\"Any\",\"default\":0},{\"name\":\"close_modal\",\"kind\":\"Any\",\"default\":0}]},{\"type\":\"model\",\"name\":\"BootstrapTemplateActions1\",\"properties\":[{\"name\":\"open_modal\",\"kind\":\"Any\",\"default\":0},{\"name\":\"close_modal\",\"kind\":\"Any\",\"default\":0}]},{\"type\":\"model\",\"name\":\"TemplateEditor1\",\"properties\":[{\"name\":\"layout\",\"kind\":\"Any\",\"default\":[]}]},{\"type\":\"model\",\"name\":\"MaterialTemplateActions1\",\"properties\":[{\"name\":\"open_modal\",\"kind\":\"Any\",\"default\":0},{\"name\":\"close_modal\",\"kind\":\"Any\",\"default\":0}]},{\"type\":\"model\",\"name\":\"copy_to_clipboard1\",\"properties\":[{\"name\":\"fill\",\"kind\":\"Any\",\"default\":\"none\"},{\"name\":\"value\",\"kind\":\"Any\",\"default\":null}]}]}};\n",
       "  var render_items = [{\"docid\":\"3a528cfa-5d74-4df9-9f7c-040f87c716ee\",\"roots\":{\"37d6d620-34a4-4876-a8b9-befa31c4b74e\":\"c5b13b35-db26-4fe0-9e73-60037bb281e5\"},\"root_ids\":[\"37d6d620-34a4-4876-a8b9-befa31c4b74e\"]}];\n",
       "  var docs = Object.values(docs_json)\n",
       "  if (!docs) {\n",
       "    return\n",
       "  }\n",
       "  const py_version = docs[0].version.replace('rc', '-rc.').replace('.dev', '-dev.')\n",
       "  function embed_document(root) {\n",
       "    var Bokeh = get_bokeh(root)\n",
       "    Bokeh.embed.embed_items_notebook(docs_json, render_items);\n",
       "    for (const render_item of render_items) {\n",
       "      for (const root_id of render_item.root_ids) {\n",
       "\tconst id_el = document.getElementById(root_id)\n",
       "\tif (id_el.children.length && (id_el.children[0].className === 'bk-root')) {\n",
       "\t  const root_el = id_el.children[0]\n",
       "\t  root_el.id = root_el.id + '-rendered'\n",
       "\t}\n",
       "      }\n",
       "    }\n",
       "  }\n",
       "  function get_bokeh(root) {\n",
       "    if (root.Bokeh === undefined) {\n",
       "      return null\n",
       "    } else if (root.Bokeh.version !== py_version) {\n",
       "      if (root.Bokeh.versions === undefined || !root.Bokeh.versions.has(py_version)) {\n",
       "\treturn null\n",
       "      }\n",
       "      return root.Bokeh.versions.get(py_version);\n",
       "    } else if (root.Bokeh.version === py_version) {\n",
       "      return root.Bokeh\n",
       "    }\n",
       "    return null\n",
       "  }\n",
       "  function is_loaded(root) {\n",
       "    var Bokeh = get_bokeh(root)\n",
       "    return (Bokeh != null && Bokeh.Panel !== undefined && ( root.Tabulator !== undefined) && ( root.Tabulator !== undefined) && ( root.Tabulator !== undefined) && ( root.Tabulator !== undefined))\n",
       "  }\n",
       "  if (is_loaded(root)) {\n",
       "    embed_document(root);\n",
       "  } else {\n",
       "    var attempts = 0;\n",
       "    var timer = setInterval(function(root) {\n",
       "      if (is_loaded(root)) {\n",
       "        clearInterval(timer);\n",
       "        embed_document(root);\n",
       "      } else if (document.readyState == \"complete\") {\n",
       "        attempts++;\n",
       "        if (attempts > 200) {\n",
       "          clearInterval(timer);\n",
       "\t  var Bokeh = get_bokeh(root)\n",
       "\t  if (Bokeh == null || Bokeh.Panel == null) {\n",
       "            console.warn(\"Panel: ERROR: Unable to run Panel code because Bokeh or Panel library is missing\");\n",
       "\t  } else {\n",
       "\t    console.warn(\"Panel: WARNING: Attempting to render but not all required libraries could be resolved.\")\n",
       "\t    embed_document(root)\n",
       "\t  }\n",
       "        }\n",
       "      }\n",
       "    }, 25, root)\n",
       "  }\n",
       "})(window);</script>"
      ],
      "application/vnd.holoviews_exec.v0+json": "",
      "text/plain": [
       "<hvplot.interactive.Interactive at 0x2072a00abd0>"
      ]
     },
     "execution_count": 118,
     "metadata": {
      "application/vnd.holoviews_exec.v0+json": {
       "id": "37d6d620-34a4-4876-a8b9-befa31c4b74e"
      }
     },
     "output_type": "execute_result"
    }
   ],
   "execution_count": 118
  },
  {
   "cell_type": "code",
   "id": "b2fd52c0e9212ede",
   "metadata": {
    "ExecuteTime": {
     "end_time": "2024-05-08T06:37:49.157264Z",
     "start_time": "2024-05-08T06:37:49.151756Z"
    }
   },
   "source": [
    "# Provide theoretical space and time analysis\n",
    "# Create for-loop to generate a list of theoretical size-time dictionary\n",
    "# FOR TIME AND SPACE COMPLEXITY\n",
    "import math\n",
    "\n",
    "\n",
    "temp_data1 = [{'Algorithm': 'Greedy', 'Size': 0, 'Time Complexity': 0, 'Space Complexity': 0},\n",
    "              {'Algorithm': 'Divide and Conquer', 'Size': 0, 'Time Complexity': 0, 'Space Complexity': 0},\n",
    "              {'Algorithm': 'Dynamic', 'Size': 0, 'Time Complexity': 0, 'Space Complexity': 0}\n",
    "              ]\n",
    "for i in range(1, 277):\n",
    "    # For all algos\n",
    "    g_time = i * math.log(i,2)\n",
    "    g_space = i\n",
    "    temp_data1.append({'Algorithm': 'Greedy', 'Size': i, 'Time Complexity': g_time, 'Space Complexity': i})\n",
    "    \n",
    "    div_time = i * math.log(i, 2)\n",
    "    temp_data1.append({'Algorithm': 'Divide and Conquer', 'Size': i, 'Time Complexity': div_time, 'Space Complexity': i})\n",
    "    \n",
    "    dyn_time = i ** 2\n",
    "    temp_data1.append({'Algorithm': 'Dynamic', 'Size': i, 'Time Complexity': dyn_time, 'Space Complexity': i ** 2})\n",
    "   # temp_data.append({'Size': i, 'Greedy Runtime': g_time, 'Divide and Conquer Runtime': div_time, 'Dynamic Runtime': dyn_time})\n",
    "\n"
   ],
   "outputs": [],
   "execution_count": 119
  },
  {
   "cell_type": "code",
   "id": "1980107a1eb2de24",
   "metadata": {
    "ExecuteTime": {
     "end_time": "2024-05-08T06:37:49.177191Z",
     "start_time": "2024-05-08T06:37:49.158273Z"
    }
   },
   "source": [
    "# Make a dataframe\n",
    "df1 = pd.DataFrame(temp_data1)\n",
    "print(df1)\n",
    "\n",
    "# Make it interactive\n",
    "idf1 = df1.interactive()"
   ],
   "outputs": [
    {
     "name": "stdout",
     "output_type": "stream",
     "text": [
      "              Algorithm  Size  Time Complexity  Space Complexity\n",
      "0                Greedy     0         0.000000                 0\n",
      "1    Divide and Conquer     0         0.000000                 0\n",
      "2               Dynamic     0         0.000000                 0\n",
      "3                Greedy     1         0.000000                 1\n",
      "4    Divide and Conquer     1         0.000000                 1\n",
      "..                  ...   ...              ...               ...\n",
      "826  Divide and Conquer   275      2228.404147               275\n",
      "827             Dynamic   275     75625.000000             75625\n",
      "828              Greedy   276      2237.952750               276\n",
      "829  Divide and Conquer   276      2237.952750               276\n",
      "830             Dynamic   276     76176.000000             76176\n",
      "\n",
      "[831 rows x 4 columns]\n"
     ]
    }
   ],
   "execution_count": 120
  },
  {
   "cell_type": "code",
   "id": "81c7c0c5840ee340",
   "metadata": {
    "ExecuteTime": {
     "end_time": "2024-05-08T06:37:49.181130Z",
     "start_time": "2024-05-08T06:37:49.178193Z"
    }
   },
   "source": [
    "# Define panel widgets\n",
    "size_slider = pn.widgets.IntSlider(name='Size', start=1, end=276, step=1)"
   ],
   "outputs": [],
   "execution_count": 121
  },
  {
   "cell_type": "code",
   "id": "e913062a71337ef3",
   "metadata": {
    "ExecuteTime": {
     "end_time": "2024-05-08T06:37:49.190176Z",
     "start_time": "2024-05-08T06:37:49.182132Z"
    }
   },
   "source": [
    "# Radio buttons for different algorithm runtimes\n",
    "yaxis = pn.widgets.RadioButtonGroup(\n",
    "    name = 'Y Axis',\n",
    "    options = ['Time Complexity','Space Complexity'],\n",
    "    button_type='success'\n",
    ")"
   ],
   "outputs": [],
   "execution_count": 122
  },
  {
   "cell_type": "code",
   "id": "962d0265d84f9b5a",
   "metadata": {
    "ExecuteTime": {
     "end_time": "2024-05-08T06:37:49.427593Z",
     "start_time": "2024-05-08T06:37:49.191182Z"
    }
   },
   "source": [
    "algos = ['Greedy', 'Divide and Conquer', 'Dynamic']\n",
    "runtime_pipeline = (\n",
    "    idf1[(idf1['Size'] <= size_slider)]\n",
    "    .reset_index()\n",
    "    .reset_index(drop=True)\n",
    ")\n"
   ],
   "outputs": [],
   "execution_count": 123
  },
  {
   "cell_type": "code",
   "id": "1e01b173d3f40b54",
   "metadata": {
    "ExecuteTime": {
     "end_time": "2024-05-08T06:37:49.534379Z",
     "start_time": "2024-05-08T06:37:49.428973Z"
    }
   },
   "source": [
    "runtime_plot = runtime_pipeline.hvplot(x = 'Size', by='Algorithm', y=yaxis, line_width=2, title='Theoretical Complexity Comparison')\n",
    "runtime_plot"
   ],
   "outputs": [
    {
     "data": {},
     "metadata": {},
     "output_type": "display_data"
    },
    {
     "data": {},
     "metadata": {},
     "output_type": "display_data"
    },
    {
     "data": {
      "text/html": [
       "<div id='07dfd451-d1a6-42bc-bccf-9f3fdfd1f735'>\n",
       "  <div id=\"d13d7310-cca7-4ceb-a1c3-c971022aef7a\" data-root-id=\"07dfd451-d1a6-42bc-bccf-9f3fdfd1f735\" style=\"display: contents;\"></div>\n",
       "</div>\n",
       "<script type=\"application/javascript\">(function(root) {\n",
       "  var docs_json = {\"0a101afa-c028-481c-aa8f-3c6f1be743e8\":{\"version\":\"3.4.1\",\"title\":\"Bokeh Application\",\"roots\":[{\"type\":\"object\",\"name\":\"Row\",\"id\":\"07dfd451-d1a6-42bc-bccf-9f3fdfd1f735\",\"attributes\":{\"name\":\"Row152702\",\"stylesheets\":[\"\\n:host(.pn-loading):before, .pn-loading:before {\\n  background-color: #c3c3c3;\\n  mask-size: auto calc(min(50%, 400px));\\n  -webkit-mask-size: auto calc(min(50%, 400px));\\n}\",{\"type\":\"object\",\"name\":\"ImportedStyleSheet\",\"id\":\"9a3c594f-2e5c-4f01-9209-3ff60cf0a2ff\",\"attributes\":{\"url\":\"https://cdn.holoviz.org/panel/1.4.2/dist/css/loading.css\"}},{\"type\":\"object\",\"name\":\"ImportedStyleSheet\",\"id\":\"0463482b-4025-4a5f-9e8d-f80a1f203f12\",\"attributes\":{\"url\":\"https://cdn.holoviz.org/panel/1.4.2/dist/css/listpanel.css\"}},{\"type\":\"object\",\"name\":\"ImportedStyleSheet\",\"id\":\"d44df02f-c543-4a41-9cb6-bc1e5e49a663\",\"attributes\":{\"url\":\"https://cdn.holoviz.org/panel/1.4.2/dist/bundled/theme/default.css\"}},{\"type\":\"object\",\"name\":\"ImportedStyleSheet\",\"id\":\"a863a68e-d92c-4109-8351-2d9af3c44b13\",\"attributes\":{\"url\":\"https://cdn.holoviz.org/panel/1.4.2/dist/bundled/theme/native.css\"}}],\"margin\":0,\"align\":\"start\",\"children\":[{\"type\":\"object\",\"name\":\"panel.models.layout.Column\",\"id\":\"b615cccf-e89f-4aef-8a2c-71581229b6ff\",\"attributes\":{\"name\":\"Column152701\",\"stylesheets\":[\"\\n:host(.pn-loading):before, .pn-loading:before {\\n  background-color: #c3c3c3;\\n  mask-size: auto calc(min(50%, 400px));\\n  -webkit-mask-size: auto calc(min(50%, 400px));\\n}\",{\"id\":\"9a3c594f-2e5c-4f01-9209-3ff60cf0a2ff\"},{\"id\":\"0463482b-4025-4a5f-9e8d-f80a1f203f12\"},{\"id\":\"d44df02f-c543-4a41-9cb6-bc1e5e49a663\"},{\"id\":\"a863a68e-d92c-4109-8351-2d9af3c44b13\"}],\"margin\":0,\"align\":\"start\",\"children\":[{\"type\":\"object\",\"name\":\"panel.models.layout.Column\",\"id\":\"418b3e31-5985-4656-b33a-82a344c955c6\",\"attributes\":{\"name\":\"Column152692\",\"stylesheets\":[\"\\n:host(.pn-loading):before, .pn-loading:before {\\n  background-color: #c3c3c3;\\n  mask-size: auto calc(min(50%, 400px));\\n  -webkit-mask-size: auto calc(min(50%, 400px));\\n}\",{\"id\":\"9a3c594f-2e5c-4f01-9209-3ff60cf0a2ff\"},{\"id\":\"0463482b-4025-4a5f-9e8d-f80a1f203f12\"},{\"id\":\"d44df02f-c543-4a41-9cb6-bc1e5e49a663\"},{\"id\":\"a863a68e-d92c-4109-8351-2d9af3c44b13\"}],\"margin\":0,\"align\":\"start\",\"children\":[{\"type\":\"object\",\"name\":\"Slider\",\"id\":\"42b8976b-e110-4205-8ebc-84556b1c904c\",\"attributes\":{\"stylesheets\":[\"\\n:host(.pn-loading):before, .pn-loading:before {\\n  background-color: #c3c3c3;\\n  mask-size: auto calc(min(50%, 400px));\\n  -webkit-mask-size: auto calc(min(50%, 400px));\\n}\",{\"id\":\"9a3c594f-2e5c-4f01-9209-3ff60cf0a2ff\"},{\"id\":\"d44df02f-c543-4a41-9cb6-bc1e5e49a663\"},{\"id\":\"a863a68e-d92c-4109-8351-2d9af3c44b13\"}],\"margin\":[5,10],\"align\":\"start\",\"title\":\"Size\",\"start\":1,\"end\":276,\"value\":1}},{\"type\":\"object\",\"name\":\"panel.models.widgets.RadioButtonGroup\",\"id\":\"62be5720-23d4-4a85-ba9f-7abc6b8ddd51\",\"attributes\":{\"button_type\":\"success\",\"css_classes\":[\"solid\"],\"stylesheets\":[\"\\n:host(.pn-loading):before, .pn-loading:before {\\n  background-color: #c3c3c3;\\n  mask-size: auto calc(min(50%, 400px));\\n  -webkit-mask-size: auto calc(min(50%, 400px));\\n}\",{\"id\":\"9a3c594f-2e5c-4f01-9209-3ff60cf0a2ff\"},{\"type\":\"object\",\"name\":\"ImportedStyleSheet\",\"id\":\"98ef36cb-b417-4777-9497-608fd4764b5d\",\"attributes\":{\"url\":\"https://cdn.holoviz.org/panel/1.4.2/dist/css/button.css\"}},{\"id\":\"d44df02f-c543-4a41-9cb6-bc1e5e49a663\"},{\"id\":\"a863a68e-d92c-4109-8351-2d9af3c44b13\"}],\"margin\":[5,10],\"align\":\"start\",\"labels\":[\"Time Complexity\",\"Space Complexity\"],\"active\":0}}]}},{\"type\":\"object\",\"name\":\"Figure\",\"id\":\"bbb21d6e-aa15-44b3-8031-eb06a11057b9\",\"attributes\":{\"width\":700,\"height\":300,\"margin\":[5,10],\"sizing_mode\":\"fixed\",\"align\":\"start\",\"x_range\":{\"type\":\"object\",\"name\":\"Range1d\",\"id\":\"7ce77cbb-1019-4d33-950e-f13ea78c82f0\",\"attributes\":{\"tags\":[[[\"Size\",\"Size\",null]],[]],\"reset_start\":0.0,\"reset_end\":1.0}},\"y_range\":{\"type\":\"object\",\"name\":\"Range1d\",\"id\":\"8eeb4402-150f-49d3-a9c1-0414b945147d\",\"attributes\":{\"tags\":[[[\"Time Complexity\",\"Time Complexity\",null]],{\"type\":\"map\",\"entries\":[[\"invert_yaxis\",false],[\"autorange\",false]]}],\"start\":-0.1,\"end\":1.1,\"reset_start\":-0.1,\"reset_end\":1.1}},\"x_scale\":{\"type\":\"object\",\"name\":\"LinearScale\",\"id\":\"aa168a69-1325-47eb-b24c-65c4818a59c9\"},\"y_scale\":{\"type\":\"object\",\"name\":\"LinearScale\",\"id\":\"bbe11058-3cbf-4aa2-9a27-6e2820a42ea6\"},\"title\":{\"type\":\"object\",\"name\":\"Title\",\"id\":\"35f9bdb9-afba-401a-87e7-7b0477a7c388\",\"attributes\":{\"text\":\"Theoretical Complexity Comparison\",\"text_color\":\"black\",\"text_font_size\":\"12pt\"}},\"renderers\":[{\"type\":\"object\",\"name\":\"GlyphRenderer\",\"id\":\"47ce3133-8464-4760-919d-275423541979\",\"attributes\":{\"name\":\"Divide and Conquer\",\"data_source\":{\"type\":\"object\",\"name\":\"ColumnDataSource\",\"id\":\"1459a44d-0178-45bd-afcd-21e463af3c64\",\"attributes\":{\"selected\":{\"type\":\"object\",\"name\":\"Selection\",\"id\":\"8ae67088-4486-4bd6-ac52-2dc0d1bf8b8b\",\"attributes\":{\"indices\":[],\"line_indices\":[]}},\"selection_policy\":{\"type\":\"object\",\"name\":\"UnionRenderers\",\"id\":\"93ed0af6-98c0-4e74-8039-0314ca6254b5\"},\"data\":{\"type\":\"map\",\"entries\":[[\"Size\",{\"type\":\"ndarray\",\"array\":{\"type\":\"bytes\",\"data\":\"AAAAAAEAAAA=\"},\"shape\":[2],\"dtype\":\"int32\",\"order\":\"little\"}],[\"Time Complexity\",{\"type\":\"ndarray\",\"array\":{\"type\":\"bytes\",\"data\":\"AAAAAAAAAAAAAAAAAAAAAA==\"},\"shape\":[2],\"dtype\":\"float64\",\"order\":\"little\"}],[\"Time_Complexity\",{\"type\":\"ndarray\",\"array\":{\"type\":\"bytes\",\"data\":\"AAAAAAAAAAAAAAAAAAAAAA==\"},\"shape\":[2],\"dtype\":\"float64\",\"order\":\"little\"}],[\"Algorithm\",[\"Divide and Conquer\",\"Divide and Conquer\"]]]}}},\"view\":{\"type\":\"object\",\"name\":\"CDSView\",\"id\":\"73633fbf-aa68-44c0-bc78-2af213d46c5b\",\"attributes\":{\"filter\":{\"type\":\"object\",\"name\":\"AllIndices\",\"id\":\"b8f8eb09-23c2-4b41-8ebc-534e203bcc83\"}}},\"glyph\":{\"type\":\"object\",\"name\":\"Line\",\"id\":\"5fa53c06-584d-4a0d-9e7c-9450f9bc6a15\",\"attributes\":{\"tags\":[\"apply_ranges\"],\"x\":{\"type\":\"field\",\"field\":\"Size\"},\"y\":{\"type\":\"field\",\"field\":\"Time Complexity\"},\"line_color\":\"#30a2da\",\"line_width\":2}},\"selection_glyph\":{\"type\":\"object\",\"name\":\"Line\",\"id\":\"8d1e36a9-55d1-4a17-b1b9-2ca671dc7f6a\",\"attributes\":{\"tags\":[\"apply_ranges\"],\"x\":{\"type\":\"field\",\"field\":\"Size\"},\"y\":{\"type\":\"field\",\"field\":\"Time Complexity\"},\"line_color\":\"#30a2da\",\"line_width\":2}},\"nonselection_glyph\":{\"type\":\"object\",\"name\":\"Line\",\"id\":\"5ef34275-03a3-40c2-8112-f68012b13a3b\",\"attributes\":{\"tags\":[\"apply_ranges\"],\"x\":{\"type\":\"field\",\"field\":\"Size\"},\"y\":{\"type\":\"field\",\"field\":\"Time Complexity\"},\"line_color\":\"#30a2da\",\"line_alpha\":0.1,\"line_width\":2}},\"muted_glyph\":{\"type\":\"object\",\"name\":\"Line\",\"id\":\"7a1920f9-1b30-41e8-95eb-200769551c71\",\"attributes\":{\"tags\":[\"apply_ranges\"],\"x\":{\"type\":\"field\",\"field\":\"Size\"},\"y\":{\"type\":\"field\",\"field\":\"Time Complexity\"},\"line_color\":\"#30a2da\",\"line_alpha\":0.2,\"line_width\":2}}}},{\"type\":\"object\",\"name\":\"GlyphRenderer\",\"id\":\"1664a637-8866-4f8e-aa1e-ef7020a295af\",\"attributes\":{\"name\":\"Dynamic\",\"data_source\":{\"type\":\"object\",\"name\":\"ColumnDataSource\",\"id\":\"aec966e6-9954-4cba-bc6b-9ceb066abc4f\",\"attributes\":{\"selected\":{\"type\":\"object\",\"name\":\"Selection\",\"id\":\"ce34467d-31af-4ba9-9055-b5daa66e9e78\",\"attributes\":{\"indices\":[],\"line_indices\":[]}},\"selection_policy\":{\"type\":\"object\",\"name\":\"UnionRenderers\",\"id\":\"8053091b-74c1-4b6a-b7ed-44037c15386a\"},\"data\":{\"type\":\"map\",\"entries\":[[\"Size\",{\"type\":\"ndarray\",\"array\":{\"type\":\"bytes\",\"data\":\"AAAAAAEAAAA=\"},\"shape\":[2],\"dtype\":\"int32\",\"order\":\"little\"}],[\"Time Complexity\",{\"type\":\"ndarray\",\"array\":{\"type\":\"bytes\",\"data\":\"AAAAAAAAAAAAAAAAAADwPw==\"},\"shape\":[2],\"dtype\":\"float64\",\"order\":\"little\"}],[\"Time_Complexity\",{\"type\":\"ndarray\",\"array\":{\"type\":\"bytes\",\"data\":\"AAAAAAAAAAAAAAAAAADwPw==\"},\"shape\":[2],\"dtype\":\"float64\",\"order\":\"little\"}],[\"Algorithm\",[\"Dynamic\",\"Dynamic\"]]]}}},\"view\":{\"type\":\"object\",\"name\":\"CDSView\",\"id\":\"c4b6f5ee-b37c-44cd-99be-9950db38f6fb\",\"attributes\":{\"filter\":{\"type\":\"object\",\"name\":\"AllIndices\",\"id\":\"26ec42eb-1ef1-44d1-89ce-b096c1026953\"}}},\"glyph\":{\"type\":\"object\",\"name\":\"Line\",\"id\":\"17841d6f-a41f-4465-903a-7bad096c180a\",\"attributes\":{\"tags\":[\"apply_ranges\"],\"x\":{\"type\":\"field\",\"field\":\"Size\"},\"y\":{\"type\":\"field\",\"field\":\"Time Complexity\"},\"line_color\":\"#fc4f30\",\"line_width\":2}},\"selection_glyph\":{\"type\":\"object\",\"name\":\"Line\",\"id\":\"6eef337c-3ae3-4685-a1df-bc33a3354c25\",\"attributes\":{\"tags\":[\"apply_ranges\"],\"x\":{\"type\":\"field\",\"field\":\"Size\"},\"y\":{\"type\":\"field\",\"field\":\"Time Complexity\"},\"line_color\":\"#fc4f30\",\"line_width\":2}},\"nonselection_glyph\":{\"type\":\"object\",\"name\":\"Line\",\"id\":\"c7c4a156-29a4-4852-b05d-671a8712eb03\",\"attributes\":{\"tags\":[\"apply_ranges\"],\"x\":{\"type\":\"field\",\"field\":\"Size\"},\"y\":{\"type\":\"field\",\"field\":\"Time Complexity\"},\"line_color\":\"#fc4f30\",\"line_alpha\":0.1,\"line_width\":2}},\"muted_glyph\":{\"type\":\"object\",\"name\":\"Line\",\"id\":\"c7ac7d35-3c44-4302-b774-3e4275437dc3\",\"attributes\":{\"tags\":[\"apply_ranges\"],\"x\":{\"type\":\"field\",\"field\":\"Size\"},\"y\":{\"type\":\"field\",\"field\":\"Time Complexity\"},\"line_color\":\"#fc4f30\",\"line_alpha\":0.2,\"line_width\":2}}}},{\"type\":\"object\",\"name\":\"GlyphRenderer\",\"id\":\"20760346-fac1-4b5a-a6a6-3826a8c9e8b9\",\"attributes\":{\"name\":\"Greedy\",\"data_source\":{\"type\":\"object\",\"name\":\"ColumnDataSource\",\"id\":\"0c9acc6b-c553-4584-b536-66c51e4d45c0\",\"attributes\":{\"selected\":{\"type\":\"object\",\"name\":\"Selection\",\"id\":\"e09e15e6-2848-4452-a950-e3b98b499155\",\"attributes\":{\"indices\":[],\"line_indices\":[]}},\"selection_policy\":{\"type\":\"object\",\"name\":\"UnionRenderers\",\"id\":\"9ed63148-cc56-4fb8-96d3-960842193d4d\"},\"data\":{\"type\":\"map\",\"entries\":[[\"Size\",{\"type\":\"ndarray\",\"array\":{\"type\":\"bytes\",\"data\":\"AAAAAAEAAAA=\"},\"shape\":[2],\"dtype\":\"int32\",\"order\":\"little\"}],[\"Time Complexity\",{\"type\":\"ndarray\",\"array\":{\"type\":\"bytes\",\"data\":\"AAAAAAAAAAAAAAAAAAAAAA==\"},\"shape\":[2],\"dtype\":\"float64\",\"order\":\"little\"}],[\"Time_Complexity\",{\"type\":\"ndarray\",\"array\":{\"type\":\"bytes\",\"data\":\"AAAAAAAAAAAAAAAAAAAAAA==\"},\"shape\":[2],\"dtype\":\"float64\",\"order\":\"little\"}],[\"Algorithm\",[\"Greedy\",\"Greedy\"]]]}}},\"view\":{\"type\":\"object\",\"name\":\"CDSView\",\"id\":\"9a1a062c-41be-4028-bc54-702bbebb6bb1\",\"attributes\":{\"filter\":{\"type\":\"object\",\"name\":\"AllIndices\",\"id\":\"0dbe3bdd-a8d4-438f-bba5-53360dcb4bd8\"}}},\"glyph\":{\"type\":\"object\",\"name\":\"Line\",\"id\":\"5ac57661-e534-4a7d-b1d1-c842eced1169\",\"attributes\":{\"tags\":[\"apply_ranges\"],\"x\":{\"type\":\"field\",\"field\":\"Size\"},\"y\":{\"type\":\"field\",\"field\":\"Time Complexity\"},\"line_color\":\"#e5ae38\",\"line_width\":2}},\"selection_glyph\":{\"type\":\"object\",\"name\":\"Line\",\"id\":\"52cdbfd3-9dd8-4a28-a016-bc55b4534d7c\",\"attributes\":{\"tags\":[\"apply_ranges\"],\"x\":{\"type\":\"field\",\"field\":\"Size\"},\"y\":{\"type\":\"field\",\"field\":\"Time Complexity\"},\"line_color\":\"#e5ae38\",\"line_width\":2}},\"nonselection_glyph\":{\"type\":\"object\",\"name\":\"Line\",\"id\":\"f6faa4d8-111d-4ec6-990e-1b46cae1e7b5\",\"attributes\":{\"tags\":[\"apply_ranges\"],\"x\":{\"type\":\"field\",\"field\":\"Size\"},\"y\":{\"type\":\"field\",\"field\":\"Time Complexity\"},\"line_color\":\"#e5ae38\",\"line_alpha\":0.1,\"line_width\":2}},\"muted_glyph\":{\"type\":\"object\",\"name\":\"Line\",\"id\":\"24ac555e-b283-4eb5-9af4-23f1c1b660a1\",\"attributes\":{\"tags\":[\"apply_ranges\"],\"x\":{\"type\":\"field\",\"field\":\"Size\"},\"y\":{\"type\":\"field\",\"field\":\"Time Complexity\"},\"line_color\":\"#e5ae38\",\"line_alpha\":0.2,\"line_width\":2}}}}],\"toolbar\":{\"type\":\"object\",\"name\":\"Toolbar\",\"id\":\"64760f29-66d8-4f5d-a59a-7561576c78bc\",\"attributes\":{\"tools\":[{\"type\":\"object\",\"name\":\"WheelZoomTool\",\"id\":\"ca3c75d5-8060-4c2c-bcbd-b92e270e01f0\",\"attributes\":{\"tags\":[\"hv_created\"],\"renderers\":\"auto\",\"zoom_together\":\"none\"}},{\"type\":\"object\",\"name\":\"HoverTool\",\"id\":\"48ff31b8-3174-4549-9739-c18902862532\",\"attributes\":{\"tags\":[\"hv_created\"],\"renderers\":[{\"id\":\"47ce3133-8464-4760-919d-275423541979\"},{\"id\":\"1664a637-8866-4f8e-aa1e-ef7020a295af\"},{\"id\":\"20760346-fac1-4b5a-a6a6-3826a8c9e8b9\"}],\"tooltips\":[[\"Algorithm\",\"@{Algorithm}\"],[\"Size\",\"@{Size}\"],[\"Time Complexity\",\"@{Time_Complexity}\"]]}},{\"type\":\"object\",\"name\":\"SaveTool\",\"id\":\"ea7357b4-c47d-489b-9c02-fb18149d915d\"},{\"type\":\"object\",\"name\":\"PanTool\",\"id\":\"37de40bd-d394-403f-9df9-a35ae7bfdc4f\"},{\"type\":\"object\",\"name\":\"BoxZoomTool\",\"id\":\"42f46e94-059b-41d3-99b2-8ea1aed56dda\",\"attributes\":{\"overlay\":{\"type\":\"object\",\"name\":\"BoxAnnotation\",\"id\":\"e0183775-df1d-47de-a943-25de7ed286cd\",\"attributes\":{\"syncable\":false,\"level\":\"overlay\",\"visible\":false,\"left\":{\"type\":\"number\",\"value\":\"nan\"},\"right\":{\"type\":\"number\",\"value\":\"nan\"},\"top\":{\"type\":\"number\",\"value\":\"nan\"},\"bottom\":{\"type\":\"number\",\"value\":\"nan\"},\"left_units\":\"canvas\",\"right_units\":\"canvas\",\"top_units\":\"canvas\",\"bottom_units\":\"canvas\",\"line_color\":\"black\",\"line_alpha\":1.0,\"line_width\":2,\"line_dash\":[4,4],\"fill_color\":\"lightgrey\",\"fill_alpha\":0.5}}}},{\"type\":\"object\",\"name\":\"ResetTool\",\"id\":\"a5526558-ae82-488c-9980-09235a55ae86\"}],\"active_drag\":{\"id\":\"37de40bd-d394-403f-9df9-a35ae7bfdc4f\"},\"active_scroll\":{\"id\":\"ca3c75d5-8060-4c2c-bcbd-b92e270e01f0\"}}},\"left\":[{\"type\":\"object\",\"name\":\"LinearAxis\",\"id\":\"41fe67dd-0d55-48a2-bf40-776c419c9670\",\"attributes\":{\"ticker\":{\"type\":\"object\",\"name\":\"BasicTicker\",\"id\":\"b188b69f-7d33-4db8-92a7-66f7bf874647\",\"attributes\":{\"mantissas\":[1,2,5]}},\"formatter\":{\"type\":\"object\",\"name\":\"BasicTickFormatter\",\"id\":\"507bdde8-71e5-4fbe-844e-e35a2ae75ddc\"},\"axis_label\":\"Time Complexity\",\"major_label_policy\":{\"type\":\"object\",\"name\":\"AllLabels\",\"id\":\"20c36313-21a3-4362-9c1b-526704ddf328\"}}}],\"right\":[{\"type\":\"object\",\"name\":\"Legend\",\"id\":\"1f2a2e5e-7f48-4f97-a469-038b615a5ca7\",\"attributes\":{\"location\":[0,0],\"title\":\"Algorithm\",\"click_policy\":\"mute\",\"items\":[{\"type\":\"object\",\"name\":\"LegendItem\",\"id\":\"1a85c6bd-dc27-4b8b-9109-6de5cfd647b6\",\"attributes\":{\"label\":{\"type\":\"value\",\"value\":\"Divide and Conquer\"},\"renderers\":[{\"id\":\"47ce3133-8464-4760-919d-275423541979\"}]}},{\"type\":\"object\",\"name\":\"LegendItem\",\"id\":\"948753c6-2669-429f-8192-8e86fe33e44e\",\"attributes\":{\"label\":{\"type\":\"value\",\"value\":\"Dynamic\"},\"renderers\":[{\"id\":\"1664a637-8866-4f8e-aa1e-ef7020a295af\"}]}},{\"type\":\"object\",\"name\":\"LegendItem\",\"id\":\"4d24d57e-6622-4d04-b134-b3058e38f524\",\"attributes\":{\"label\":{\"type\":\"value\",\"value\":\"Greedy\"},\"renderers\":[{\"id\":\"20760346-fac1-4b5a-a6a6-3826a8c9e8b9\"}]}}]}}],\"below\":[{\"type\":\"object\",\"name\":\"LinearAxis\",\"id\":\"b3a88832-d5f5-4e71-a37e-847547a80348\",\"attributes\":{\"ticker\":{\"type\":\"object\",\"name\":\"BasicTicker\",\"id\":\"f9794ddb-cf91-4e60-99bd-6a55e87c33d2\",\"attributes\":{\"mantissas\":[1,2,5]}},\"formatter\":{\"type\":\"object\",\"name\":\"BasicTickFormatter\",\"id\":\"5b30535e-ade4-46ae-92cf-6d1e2ec6e95c\"},\"axis_label\":\"Size\",\"major_label_policy\":{\"type\":\"object\",\"name\":\"AllLabels\",\"id\":\"e235aefc-0c1c-4f89-b136-8bb2b7a12592\"}}}],\"center\":[{\"type\":\"object\",\"name\":\"Grid\",\"id\":\"1b11af15-9a2d-4b72-81e9-c2b40514369f\",\"attributes\":{\"axis\":{\"id\":\"b3a88832-d5f5-4e71-a37e-847547a80348\"},\"grid_line_color\":null}},{\"type\":\"object\",\"name\":\"Grid\",\"id\":\"426ce16d-1eb7-47de-b16e-f6bdeb62bdf1\",\"attributes\":{\"dimension\":1,\"axis\":{\"id\":\"41fe67dd-0d55-48a2-bf40-776c419c9670\"},\"grid_line_color\":null}}],\"min_border_top\":10,\"min_border_bottom\":10,\"min_border_left\":10,\"min_border_right\":10,\"output_backend\":\"webgl\"}}]}}]}},{\"type\":\"object\",\"name\":\"panel.models.comm_manager.CommManager\",\"id\":\"5c1731fe-7927-421f-9f74-d5fce4fbde47\",\"attributes\":{\"plot_id\":\"07dfd451-d1a6-42bc-bccf-9f3fdfd1f735\",\"comm_id\":\"36cefb486f2c470d951a054206a87755\",\"client_comm_id\":\"9121ea04c85f49068f66d1b7166eef85\"}}],\"defs\":[{\"type\":\"model\",\"name\":\"ReactiveHTML1\"},{\"type\":\"model\",\"name\":\"FlexBox1\",\"properties\":[{\"name\":\"align_content\",\"kind\":\"Any\",\"default\":\"flex-start\"},{\"name\":\"align_items\",\"kind\":\"Any\",\"default\":\"flex-start\"},{\"name\":\"flex_direction\",\"kind\":\"Any\",\"default\":\"row\"},{\"name\":\"flex_wrap\",\"kind\":\"Any\",\"default\":\"wrap\"},{\"name\":\"gap\",\"kind\":\"Any\",\"default\":\"\"},{\"name\":\"justify_content\",\"kind\":\"Any\",\"default\":\"flex-start\"}]},{\"type\":\"model\",\"name\":\"FloatPanel1\",\"properties\":[{\"name\":\"config\",\"kind\":\"Any\",\"default\":{\"type\":\"map\"}},{\"name\":\"contained\",\"kind\":\"Any\",\"default\":true},{\"name\":\"position\",\"kind\":\"Any\",\"default\":\"right-top\"},{\"name\":\"offsetx\",\"kind\":\"Any\",\"default\":null},{\"name\":\"offsety\",\"kind\":\"Any\",\"default\":null},{\"name\":\"theme\",\"kind\":\"Any\",\"default\":\"primary\"},{\"name\":\"status\",\"kind\":\"Any\",\"default\":\"normalized\"}]},{\"type\":\"model\",\"name\":\"GridStack1\",\"properties\":[{\"name\":\"mode\",\"kind\":\"Any\",\"default\":\"warn\"},{\"name\":\"ncols\",\"kind\":\"Any\",\"default\":null},{\"name\":\"nrows\",\"kind\":\"Any\",\"default\":null},{\"name\":\"allow_resize\",\"kind\":\"Any\",\"default\":true},{\"name\":\"allow_drag\",\"kind\":\"Any\",\"default\":true},{\"name\":\"state\",\"kind\":\"Any\",\"default\":[]}]},{\"type\":\"model\",\"name\":\"drag1\",\"properties\":[{\"name\":\"slider_width\",\"kind\":\"Any\",\"default\":5},{\"name\":\"slider_color\",\"kind\":\"Any\",\"default\":\"black\"},{\"name\":\"value\",\"kind\":\"Any\",\"default\":50}]},{\"type\":\"model\",\"name\":\"click1\",\"properties\":[{\"name\":\"terminal_output\",\"kind\":\"Any\",\"default\":\"\"},{\"name\":\"debug_name\",\"kind\":\"Any\",\"default\":\"\"},{\"name\":\"clears\",\"kind\":\"Any\",\"default\":0}]},{\"type\":\"model\",\"name\":\"FastWrapper1\",\"properties\":[{\"name\":\"object\",\"kind\":\"Any\",\"default\":null},{\"name\":\"style\",\"kind\":\"Any\",\"default\":null}]},{\"type\":\"model\",\"name\":\"NotificationAreaBase1\",\"properties\":[{\"name\":\"js_events\",\"kind\":\"Any\",\"default\":{\"type\":\"map\"}},{\"name\":\"position\",\"kind\":\"Any\",\"default\":\"bottom-right\"},{\"name\":\"_clear\",\"kind\":\"Any\",\"default\":0}]},{\"type\":\"model\",\"name\":\"NotificationArea1\",\"properties\":[{\"name\":\"js_events\",\"kind\":\"Any\",\"default\":{\"type\":\"map\"}},{\"name\":\"notifications\",\"kind\":\"Any\",\"default\":[]},{\"name\":\"position\",\"kind\":\"Any\",\"default\":\"bottom-right\"},{\"name\":\"_clear\",\"kind\":\"Any\",\"default\":0},{\"name\":\"types\",\"kind\":\"Any\",\"default\":[{\"type\":\"map\",\"entries\":[[\"type\",\"warning\"],[\"background\",\"#ffc107\"],[\"icon\",{\"type\":\"map\",\"entries\":[[\"className\",\"fas fa-exclamation-triangle\"],[\"tagName\",\"i\"],[\"color\",\"white\"]]}]]},{\"type\":\"map\",\"entries\":[[\"type\",\"info\"],[\"background\",\"#007bff\"],[\"icon\",{\"type\":\"map\",\"entries\":[[\"className\",\"fas fa-info-circle\"],[\"tagName\",\"i\"],[\"color\",\"white\"]]}]]}]}]},{\"type\":\"model\",\"name\":\"Notification\",\"properties\":[{\"name\":\"background\",\"kind\":\"Any\",\"default\":null},{\"name\":\"duration\",\"kind\":\"Any\",\"default\":3000},{\"name\":\"icon\",\"kind\":\"Any\",\"default\":null},{\"name\":\"message\",\"kind\":\"Any\",\"default\":\"\"},{\"name\":\"notification_type\",\"kind\":\"Any\",\"default\":null},{\"name\":\"_destroyed\",\"kind\":\"Any\",\"default\":false}]},{\"type\":\"model\",\"name\":\"TemplateActions1\",\"properties\":[{\"name\":\"open_modal\",\"kind\":\"Any\",\"default\":0},{\"name\":\"close_modal\",\"kind\":\"Any\",\"default\":0}]},{\"type\":\"model\",\"name\":\"BootstrapTemplateActions1\",\"properties\":[{\"name\":\"open_modal\",\"kind\":\"Any\",\"default\":0},{\"name\":\"close_modal\",\"kind\":\"Any\",\"default\":0}]},{\"type\":\"model\",\"name\":\"TemplateEditor1\",\"properties\":[{\"name\":\"layout\",\"kind\":\"Any\",\"default\":[]}]},{\"type\":\"model\",\"name\":\"MaterialTemplateActions1\",\"properties\":[{\"name\":\"open_modal\",\"kind\":\"Any\",\"default\":0},{\"name\":\"close_modal\",\"kind\":\"Any\",\"default\":0}]},{\"type\":\"model\",\"name\":\"copy_to_clipboard1\",\"properties\":[{\"name\":\"fill\",\"kind\":\"Any\",\"default\":\"none\"},{\"name\":\"value\",\"kind\":\"Any\",\"default\":null}]}]}};\n",
       "  var render_items = [{\"docid\":\"0a101afa-c028-481c-aa8f-3c6f1be743e8\",\"roots\":{\"07dfd451-d1a6-42bc-bccf-9f3fdfd1f735\":\"d13d7310-cca7-4ceb-a1c3-c971022aef7a\"},\"root_ids\":[\"07dfd451-d1a6-42bc-bccf-9f3fdfd1f735\"]}];\n",
       "  var docs = Object.values(docs_json)\n",
       "  if (!docs) {\n",
       "    return\n",
       "  }\n",
       "  const py_version = docs[0].version.replace('rc', '-rc.').replace('.dev', '-dev.')\n",
       "  function embed_document(root) {\n",
       "    var Bokeh = get_bokeh(root)\n",
       "    Bokeh.embed.embed_items_notebook(docs_json, render_items);\n",
       "    for (const render_item of render_items) {\n",
       "      for (const root_id of render_item.root_ids) {\n",
       "\tconst id_el = document.getElementById(root_id)\n",
       "\tif (id_el.children.length && (id_el.children[0].className === 'bk-root')) {\n",
       "\t  const root_el = id_el.children[0]\n",
       "\t  root_el.id = root_el.id + '-rendered'\n",
       "\t}\n",
       "      }\n",
       "    }\n",
       "  }\n",
       "  function get_bokeh(root) {\n",
       "    if (root.Bokeh === undefined) {\n",
       "      return null\n",
       "    } else if (root.Bokeh.version !== py_version) {\n",
       "      if (root.Bokeh.versions === undefined || !root.Bokeh.versions.has(py_version)) {\n",
       "\treturn null\n",
       "      }\n",
       "      return root.Bokeh.versions.get(py_version);\n",
       "    } else if (root.Bokeh.version === py_version) {\n",
       "      return root.Bokeh\n",
       "    }\n",
       "    return null\n",
       "  }\n",
       "  function is_loaded(root) {\n",
       "    var Bokeh = get_bokeh(root)\n",
       "    return (Bokeh != null && Bokeh.Panel !== undefined && ( root.Tabulator !== undefined) && ( root.Tabulator !== undefined) && ( root.Tabulator !== undefined) && ( root.Tabulator !== undefined))\n",
       "  }\n",
       "  if (is_loaded(root)) {\n",
       "    embed_document(root);\n",
       "  } else {\n",
       "    var attempts = 0;\n",
       "    var timer = setInterval(function(root) {\n",
       "      if (is_loaded(root)) {\n",
       "        clearInterval(timer);\n",
       "        embed_document(root);\n",
       "      } else if (document.readyState == \"complete\") {\n",
       "        attempts++;\n",
       "        if (attempts > 200) {\n",
       "          clearInterval(timer);\n",
       "\t  var Bokeh = get_bokeh(root)\n",
       "\t  if (Bokeh == null || Bokeh.Panel == null) {\n",
       "            console.warn(\"Panel: ERROR: Unable to run Panel code because Bokeh or Panel library is missing\");\n",
       "\t  } else {\n",
       "\t    console.warn(\"Panel: WARNING: Attempting to render but not all required libraries could be resolved.\")\n",
       "\t    embed_document(root)\n",
       "\t  }\n",
       "        }\n",
       "      }\n",
       "    }, 25, root)\n",
       "  }\n",
       "})(window);</script>"
      ],
      "application/vnd.holoviews_exec.v0+json": "",
      "text/plain": [
       "<hvplot.interactive.Interactive at 0x2072a00b0b0>"
      ]
     },
     "execution_count": 124,
     "metadata": {
      "application/vnd.holoviews_exec.v0+json": {
       "id": "07dfd451-d1a6-42bc-bccf-9f3fdfd1f735"
      }
     },
     "output_type": "execute_result"
    }
   ],
   "execution_count": 124
  },
  {
   "metadata": {},
   "cell_type": "markdown",
   "source": [
    "## Conclusion\n",
    "Based on the grap"
   ],
   "id": "f5cb0464515c49a0"
  }
 ],
 "metadata": {
  "kernelspec": {
   "display_name": "Python 3 (ipykernel)",
   "language": "python",
   "name": "python3"
  },
  "language_info": {
   "codemirror_mode": {
    "name": "ipython",
    "version": 3
   },
   "file_extension": ".py",
   "mimetype": "text/x-python",
   "name": "python",
   "nbconvert_exporter": "python",
   "pygments_lexer": "ipython3",
   "version": "3.12.1"
  }
 },
 "nbformat": 4,
 "nbformat_minor": 5
}
