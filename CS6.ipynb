{
 "cells": [
  {
   "cell_type": "markdown",
   "id": "7e7c216e271a8eb3",
   "metadata": {},
   "source": [
    "# CS6 PROJECT\n",
    "# ACTIVITY SELECTION PROBLEM: A THREE-WAY APPROACH SOLUTION\n",
    "\n",
    "The activity selection problem is a combinatorial optimization problem that deals with the selection of non-conflicting activities to perform within a given time frame, given a set  of activities each marked by a start time (s)ᵢ and finish time (fᵢ). The problem is to select the maximum number of activities that can be performed by a single person or machine, assuming that a person can only work on a single activity at a time.\n"
   ]
  },
  {
   "cell_type": "markdown",
   "id": "b84b2921ff98dbde",
   "metadata": {},
   "source": [
    "## Problem Statement:\n",
    "Design and implement three approaches of algorithms to solve the activity selection problem, analyze the time and space complexity, and determine which approach is optimal."
   ]
  },
  {
   "cell_type": "markdown",
   "id": "901b44607c836259",
   "metadata": {},
   "source": [
    "## Requirements\n",
    "1. Implement each algorithm approach\n",
    "    * Greedy Algorithm\n",
    "    * Divide and Conquer Algorithm\n",
    "    * Dynamic Programming Algorithm\n",
    "2. Develop a program that generates random tuples of varying sizes for testing purposes.\n",
    "3. Measure the time and space complexity of each algorithm on different sample sizes.\n",
    "4. Analyze and compare the time and space complexity of each algorithm."
   ]
  },
  {
   "cell_type": "markdown",
   "id": "fcebe5f54a785505",
   "metadata": {},
   "source": [
    "## Implementation\n",
    "### Greedy Algorithm"
   ]
  },
  {
   "cell_type": "code",
   "id": "255e6f4cbcb23aef",
   "metadata": {
    "ExecuteTime": {
     "end_time": "2024-05-08T06:07:49.258340Z",
     "start_time": "2024-05-08T06:07:49.254552Z"
    }
   },
   "source": [
    "def greedy_algo(activities):\n",
    "   # Sort activities by finish time\n",
    "   activities.sort(key=lambda x: x[1])\n",
    "\n",
    "   # The first activity is always selected\n",
    "   i = 0\n",
    "   final = [activities[0]]\n",
    "\n",
    "   # Consider rest of the activities\n",
    "   for j in range(len(activities)):\n",
    "       # If this activity has start time greater than\n",
    "       # or equal to the finish time of previously selected\n",
    "       # activity, then select it\n",
    "       if activities[j][0] >= activities[i][1]:\n",
    "           final.append(activities[j])\n",
    "           i = j\n",
    "           \n",
    "   return final"
   ],
   "outputs": [],
   "execution_count": 6
  },
  {
   "cell_type": "markdown",
   "id": "a3e5d0dcab269545",
   "metadata": {},
   "source": [
    "### Divide and Conquer Algorithm"
   ]
  },
  {
   "cell_type": "code",
   "id": "143ea9d22f4b03a2",
   "metadata": {
    "ExecuteTime": {
     "end_time": "2024-05-08T06:07:49.593776Z",
     "start_time": "2024-05-08T06:07:49.585963Z"
    }
   },
   "source": [
    "def div_algo(activities):\n",
    "   if len(activities) <= 1:\n",
    "       return activities\n",
    "\n",
    "   mid = len(activities) // 2\n",
    "   left = activities[:mid]\n",
    "   right = activities[mid:]\n",
    "\n",
    "   left = div_algo(left)\n",
    "   right = div_algo(right)\n",
    "\n",
    "   return merge(left, right)\n",
    "\n",
    "def merge(left, right):\n",
    "   merged = []\n",
    "   i = j = 0\n",
    "\n",
    "   while i < len(left) and j < len(right):\n",
    "       if merged:\n",
    "           # Case where merged[] has content/s\n",
    "           # Check for activity with the least finish time\n",
    "           if left[i][1] < right[j][1] and left[i][0] >= merged[-1][1]:\n",
    "               merged.append(left[i])\n",
    "               i += 1\n",
    "           elif left[i][1] > right[j][1] and right[j][0] >= merged[-1][1]:\n",
    "               merged.append(right[j])\n",
    "               j += 1\n",
    "           else:\n",
    "               # If finish times are the same, choose the one that has lesser duration\n",
    "               if left[i][1] - left[i][0] <= right[j][1] - right[j][0] and left[i][0] >= merged[-1][1]:\n",
    "                   merged.append(left[i])\n",
    "                   i += 1\n",
    "               else:\n",
    "                   if right[j][0] >= merged[-1][1]:\n",
    "                       merged.append(right[j])\n",
    "                   j += 1\n",
    "       else:\n",
    "           # Case where merged[] is empty\n",
    "           # Check for activity with the least finish time\n",
    "           if left[i][1] < right[j][1]:\n",
    "               merged.append(left[i])\n",
    "               i += 1\n",
    "           elif left[i][1] > right[j][1]:\n",
    "               merged.append(right[j])\n",
    "               j += 1\n",
    "           else:\n",
    "               # Filter for overlapping time and same finish time\n",
    "               # If finish times are the same, choose the one that has lesser duration\n",
    "               if left[i][1] - left[i][0] <= right[j][1] - right[j][0]:\n",
    "                   merged.append(left[i])\n",
    "                   i += 1\n",
    "               else:\n",
    "                   merged.append(right[j])\n",
    "                   j += 1\n",
    "\n",
    "   # Append any remaining activities from either list\n",
    "   while i < len(left) or j < len(right):\n",
    "       # If there are activities in both halves\n",
    "       if i < len(left) and j < len(right):\n",
    "           lefty = left[i]\n",
    "           righty = right[j]\n",
    "           # Choose the activity with the lowest duration\n",
    "           if lefty[1] - lefty[0] < righty[1] - righty[0]:\n",
    "               if not merged or lefty[0] >= merged[-1][1]:\n",
    "                   merged.append(lefty)\n",
    "               i += 1\n",
    "           else:\n",
    "               if not merged or righty[0] >= merged[-1][1]:\n",
    "                   merged.append(righty)\n",
    "               j += 1\n",
    "       # If there are only activities in the left half\n",
    "       elif i < len(left):\n",
    "           lefty = left[i]\n",
    "           if not merged or lefty[0] >= merged[-1][1]:\n",
    "               merged.append(lefty)\n",
    "           i += 1\n",
    "       # If there are only activities in the right half\n",
    "       elif j < len(right):\n",
    "           righty = right[j]\n",
    "           if not merged or righty[0] >= merged[-1][1]:\n",
    "               merged.append(righty)\n",
    "           j += 1\n",
    "\n",
    "   return merged"
   ],
   "outputs": [],
   "execution_count": 7
  },
  {
   "cell_type": "markdown",
   "id": "d059ea28a928d651",
   "metadata": {},
   "source": [
    "### Dynamic Programming Algorithm"
   ]
  },
  {
   "cell_type": "code",
   "id": "4a115dbe2026782c",
   "metadata": {
    "ExecuteTime": {
     "end_time": "2024-05-08T06:07:49.915710Z",
     "start_time": "2024-05-08T06:07:49.911259Z"
    }
   },
   "source": [
    "def dynamic_algo(activities):\n",
    "   # Sort activities according to their finish time\n",
    "   activities.sort(key=lambda x: x[1])\n",
    "\n",
    "   n = len(activities)\n",
    "\n",
    "   # Array to store solutions of sub-problems\n",
    "   dp = [0 for _ in range(n)]\n",
    "   selected = [[] for _ in range(n)]\n",
    "\n",
    "\n",
    "   # The first activity always gets selected\n",
    "   dp[0] = 1\n",
    "   selected[0] = [activities[0]]\n",
    "\n",
    "   # Fill entries in dp[] using recursive property\n",
    "   for i in range(1, n):\n",
    "       # Find the maximum number of activities that can\n",
    "       # be performed by including the i-th activity\n",
    "       for j in range(i):\n",
    "           if activities[j][1] <= activities[i][0] and dp[j] + 1 > dp[i]:\n",
    "               dp[i] = dp[j] + 1\n",
    "               selected[i] = selected[j].copy()\n",
    "       if not selected[i] or (selected[i] and selected[i][-1][1] <= activities[i][0]):\n",
    "           selected[i].append(activities[i])\n",
    "\n",
    "   # Find the index of the maximum value in dp[]\n",
    "   max_index = dp.index(max(dp))\n",
    "\n",
    "   return selected[max_index]\n"
   ],
   "outputs": [],
   "execution_count": 8
  },
  {
   "cell_type": "markdown",
   "id": "58ed6ad0aa52ff19",
   "metadata": {},
   "source": [
    "### Random list of tuples generation"
   ]
  },
  {
   "cell_type": "code",
   "id": "9f519a30598b2834",
   "metadata": {
    "ExecuteTime": {
     "end_time": "2024-05-08T06:07:50.257694Z",
     "start_time": "2024-05-08T06:07:50.253489Z"
    }
   },
   "source": [
    "import random\n",
    "\n",
    "# MAX NUMBER IS 276\n",
    "def rand_tuple(size, seed):\n",
    "   random.seed(seed)\n",
    "\n",
    "   tuple_list = []\n",
    "   for _ in range(size):\n",
    "       while True:\n",
    "           s = random.randint(1, 24)\n",
    "           f = random.randint(1, 24)\n",
    "           if s < f:\n",
    "               if (s, f) not in tuple_list:\n",
    "                   tuple_list.append((s, f))\n",
    "                   break\n",
    "                   \n",
    "   return tuple_list"
   ],
   "outputs": [],
   "execution_count": 9
  },
  {
   "cell_type": "markdown",
   "id": "b0da0b1ad48f396b",
   "metadata": {},
   "source": [
    "## Time Complexity Analysis\n",
    "### Greedy Algorithm \n",
    "\n",
    "```\n",
    "def greedy_algo(activities):      \t\n",
    " \tactivities.sort(key=lambda x: x[1])  # O(n log n)\n",
    "\n",
    " \ti = 0  # O(1)\n",
    " \tfinal = [activities[0]]  # O(1)\n",
    " \tsize = len(activities)  # O(1)\n",
    "\n",
    " \tfor j in range(size):  # O(1)\n",
    "     \tif activities[j][0] >= activities[i][1]:                               \t\n",
    "         \tfinal.append(activities[j])  # O(1)\n",
    "         \ti = j  # O(1)\n",
    " \treturn final  # O(1)\n",
    " \n",
    "Tgreedy = O(n log n) + O(1) + O(1)  + O(1)  + O(1) + n(O(1) + O(1))\n",
    "      \t= O(n log n) 4 (O(1)) + n (2 O(1))\n",
    "      \t= n log n + C + nC\n",
    "Tgreedy  = O(n log n)\n",
    "```\n",
    "\n",
    "\n",
    "### Divide and Conquer Algorithm\n",
    "\n",
    "```\n",
    "def div_algo(activities):\n",
    " \tif len(activities) <= 1:                                                    \t      \t\n",
    "     \treturn activities  ** # O(1)\n",
    "\n",
    " \tmid = len(activities) // 2  # O(1)\n",
    " \tleft = activities[:mid]  # O(1)\n",
    " \tright = activities[mid:]  # O(1)\n",
    "\n",
    " \tleft = div_algo(left)  # O(n/2)\n",
    " \tright = div_algo(right)  # O(n/2)\n",
    "\n",
    " \treturn merge(left, right)  #  O(n)\n",
    "\n",
    "\n",
    " def merge(left, right):\n",
    " \tmerged = []  # O(1)\n",
    " \ti = j = 0  # O(1)\n",
    "\n",
    " \twhile i < len(left) and j < len(right):  # O(n)\n",
    "     \tif merged:\n",
    "         \tif left[i][1] < right[j][1] and left[i][0] >= merged[-1][1]:\n",
    "             \tmerged.append(left[i])  # O(1)\n",
    "             \ti += 1  # O(1)\n",
    "         \telif left[i][1] > right[j][1] and right[j][0] >= merged[-1][1]:\n",
    "             \tmerged.append(right[j])  # O(1)\n",
    "             \tj += 1  # O(1)\n",
    "         \telse:\n",
    "             \tif left[i][1] - left[i][0] <= right[j][1] - right[j][0] and left[i][0] >= merged[-1][1]:\n",
    "                 \tmerged.append(left[i])  # O(1)\n",
    "                 \ti += 1  # O(1)\n",
    "             \telse:\n",
    "                 \tif right[j][0] >= merged[-1][1]:\n",
    "                     \tmerged.append(right[j])  # O(1)\n",
    "                 \tj += 1  # O(1)\n",
    "     \telse:\n",
    "     \t    if left[i][1] < right[j][1]:\n",
    "             \tmerged.append(left[i])  # O(1)\n",
    "             \ti += 1  # O(1)\n",
    "         \telif left[i][1] > right[j][1]:\n",
    "             \tmerged.append(right[j])  # O(1)\n",
    "             \tj += 1  # O(1)\n",
    "         \telse:\n",
    "             \tif left[i][1] - left[i][0] <= right[j][1] - right[j][0]:\n",
    "                 \tmerged.append(left[i])  # O(1)\n",
    "                 \ti += 1  # O(1)\n",
    "             \telse:\n",
    "                 \tmerged.append(right[j])  # O(1)\n",
    "                 \tj += 1  # O(1)\n",
    "\n",
    " \twhile i < len(left) or j < len(right):  # O(n)\n",
    "     \tif i < len(left) and j < len(right):\n",
    "         \tlefty = left[i]  # O(1)\n",
    "         \trighty = right[j]  # O(1)\n",
    "         \tif lefty[1] - lefty[0] < righty[1] - righty[0]:\n",
    "             \tif not merged or lefty[0] >= merged[-1][1]:\n",
    "                 \tmerged.append(lefty)  # O(1)\n",
    "             \ti += 1  # O(1)\n",
    "         \telse:\n",
    "             \tif not merged or righty[0] >= merged[-1][1]:\n",
    "                 \tmerged.append(righty)  # O(1)\n",
    "             \tj += 1  # O(1)\n",
    "     \telif i < len(left):\n",
    "         \tlefty = left[i]  # O(1)\n",
    "         \tif not merged or lefty[0] >= merged[-1][1]:\n",
    "             \tmerged.append(lefty)  # O(1)\n",
    "         \ti += 1  # O(1)\n",
    "     \telif j < len(right):\n",
    "         \trighty = right[j]  # O(1)\n",
    "         \tif not merged or righty[0] >= merged[-1][1]:\n",
    "             \tmerged.append(righty)  # O(1)\n",
    "         \tj += 1  # O(1)\n",
    "\n",
    " \treturn merged  # O(1)\n",
    " \n",
    "    Tdiv = Tdivide x Tmerge\n",
    " Tdivide = O(1) + O(1) + O(1) + O(1) + O(n/2) + O(n/2) + O(n)\n",
    "      \t= 4 x O(1) + 2 x O(n/2) + O(n)\n",
    "      \t= 4C + 2n/2k + n\n",
    "      \t= 4C + n/2k ; n/2k = 1, k = log2n\n",
    "Tdivide = O(log n)\n",
    " \n",
    "Tmerge = 2 x O(1) + n x (16 x O(1)) + n (13 x O(1))\n",
    "      \t= 2C + nC + nC\n",
    "      \t= 2C + 2nC\n",
    "Tmerge  = O(n)\n",
    "Tdiv \t= O (n log n)\n",
    "\n",
    "```\n",
    "\n",
    "### Dynamic Programming Algorithm\n",
    "```\n",
    "def dynamic_algo(activities):\n",
    " \tactivities.sort(key=lambda x: x[1])  # O(n log n)\n",
    "\n",
    " \tn = len(activities)  # O(1)\n",
    "\n",
    " \tdp = [0 for _ in range(n)]  # O(n)\n",
    " \tselected = [[] for _ in range(n)]  # O(n)\n",
    "\n",
    " \tdp[0] = 1  # O(1)\n",
    " \tselected[0] = [activities[0]]  # O(1)\n",
    "\n",
    " \t# Fill entries in dp[] using recursive property\n",
    " \tfor i in range(1, n):  # O(n)\n",
    "     \tfor j in range(i):  # O(n)\n",
    "         \tif activities[j][1] <= activities[i][0] and dp[j] + 1 > dp[i]:\n",
    "             \tdp[i] = dp[j] + 1  # O(1)\n",
    "             \tselected[i] = selected[j].copy()  # O(1)\n",
    "     \tif not selected[i] or (selected[i] and selected[i][-1][1] <= activities[i][0]):\n",
    "         \tselected[i].append(activities[i])  # O(1)\n",
    "\n",
    " \tmax_index = dp.index(max(dp))  # O(1)\n",
    "\n",
    " \treturn selected[max_index]  # O(1)\n",
    " \n",
    "Tdynamic = O(n log n) + O(n) + O(n)+ O(1) + O(1) + O(1) + O(1) + O(1) + O(n (O (n) + O(1) + O(1) + O(1)))\n",
    "      \t = O(n log n)5 x O(1) + 2 x O(n) + O(n) x O(n) x 3 x O(1)\n",
    "      \t= n log n + 5C + 2n + n2 x 3n\n",
    "Tdynamic = O(n2)\n",
    "```"
   ]
  },
  {
   "cell_type": "markdown",
   "id": "562b5ca9eafe2752",
   "metadata": {},
   "source": [
    "## Space Complexity Analysis\n",
    "### Greedy Algorithm\n",
    "\n",
    "```\n",
    "def greedy_algo(activities):  # O(n)\n",
    " \tactivities.sort(key=lambda x: x[1])                                 \t\n",
    "\n",
    " \ti = 0  # O(1)\n",
    " \tfinal = [activities[0]]  # O(1)\n",
    " \tsize = len(activities)  # O(1)\n",
    "\n",
    " \tfor j in range(size):  # O(1)\n",
    "     \tif activities[j][0] >= activities[i][1]:                               \t\n",
    "         \tfinal.append(activities[j])                                       \t\n",
    "         \ti = j                                                                      \t\n",
    " \treturn final  # O(n)         \t                                    \t\n",
    "Tgreedy = O(n) + O(1) + O(1)  + O(1)  + O(1)\n",
    "      \t= O(n) 4 x O(1)\n",
    "      \t= n + 4C1\n",
    "Tgreedy  = O(n)\n",
    "```\n",
    "\n",
    "## Divide and Conquer Algorithm\n",
    "```\n",
    "def div_algo(activities):  # O(n)\n",
    " \tif len(activities) <= 1:                                                    \t      \t\n",
    "     \treturn activities                                                                  \t\n",
    "\n",
    " \tmid = len(activities) // 2  # O(1)\n",
    " \tleft = activities[:mid]  # O(n/2)\n",
    " \tright = activities[mid:]  # O(n/2)\n",
    "\n",
    " \tleft = div_algo(left)  # O(n)\n",
    " \tright = div_algo(right)  # O(n)\n",
    "\n",
    " \treturn merge(left, right)  # O(n)\n",
    "\n",
    "\n",
    " def merge(left, right):\n",
    " \tmerged = []  # O(1)\n",
    " \ti = j = 0  # O(1)\n",
    "\n",
    " \twhile i < len(left) and j < len(right):                                          \t\n",
    "     \tif merged:\n",
    "         \tif left[i][1] < right[j][1] and left[i][0] >= merged[-1][1]:\n",
    "                 merged.append(left[i])                                                 \t\n",
    "             \ti += 1                                                                         \t\n",
    "         \telif left[i][1] > right[j][1] and right[j][0] >= merged[-1][1]:\n",
    "                 merged.append(right[j])                                               \t\n",
    "             \tj += 1                                                                         \t\n",
    "         \telse:\n",
    "             \tif left[i][1] - left[i][0] <= right[j][1] - right[j][0] and left[i][0] >= merged[-1][1]:\n",
    "                     merged.append(left[i])                                             \t\n",
    "                 \ti += 1                                                                     \t\n",
    "             \telse:\n",
    "                 \tif right[j][0] >= merged[-1][1]:\n",
    "                         merged.append(right[j])                                       \t\n",
    "                 \tj += 1                                                                     \t\n",
    "     \telse:\n",
    "         \tif left[i][1] < right[j][1]:\n",
    "                 merged.append(left[i])                                                 \t\n",
    "             \ti += 1   \t                                                                  \t\n",
    "         \telif left[i][1] > right[j][1]:\n",
    "                 merged.append(right[j])                                               \t\n",
    "             \tj += 1                                                                         \t\n",
    "         \telse:\n",
    "             \tif left[i][1] - left[i][0] <= right[j][1] - right[j][0]:\n",
    "                     merged.append(left[i])                                             \t\n",
    "                 \ti += 1                                                                     \t\n",
    "             \telse:\n",
    "                     merged.append(right[j])                                           \t\n",
    "                 \tj += 1                                                                     \t\n",
    "\n",
    " \twhile i < len(left) or j < len(right):                                             \t\n",
    "     \tif i < len(left) and j < len(right):\n",
    "         \tlefty = left[i]  # O(1)\n",
    "         \trighty = right[j]  # O(1)\n",
    "         \tif lefty[1] - lefty[0] < righty[1] - righty[0]:\n",
    "             \tif not merged or lefty[0] >= merged[-1][1]:\n",
    "                 \tmerged.append(lefty)                                              \t\n",
    "             \ti += 1                                                                         \t\n",
    "         \telse:\n",
    "             \tif not merged or righty[0] >= merged[-1][1]:\n",
    "                     merged.append(righty)                                            \t\n",
    "             \tj += 1                                                                         \t\n",
    "     \telif i < len(left):\n",
    "         \tlefty = left[i]                                                                    \t\n",
    "         \tif not merged or lefty[0] >= merged[-1][1]:\n",
    "             \tmerged.append(lefty)                                                  \t\n",
    "         \ti += 1                                                                             \t\n",
    "     \telif j < len(right):\n",
    "         \trighty = right[j]                                                                \t\n",
    "         \tif not merged or righty[0] >= merged[-1][1]:\n",
    "                 merged.append(righty)                                                \t\n",
    "         \tj += 1                                                                             \t\n",
    "\n",
    " \treturn merged  # O(n)\n",
    " \n",
    "    Tdiv = max(Tdivide, Tmerge) \n",
    " Tdivide = O(n) + O(n) + O(n) + O(n) + O(n/2) + O(n/2) + O(1)\n",
    "      \t= 4 x O(n) + 2 x O(n/2) + O(n)\n",
    "      \t= 4n + 2n/2k + n3 \n",
    "Tdivide = O(n)\n",
    "Tmerge = 4 x O(1) + O(n)\n",
    "      \t= 4C1 + n\n",
    "Tmerge  = O(n)\n",
    "Tdiv \t= O (n)\n",
    "```\n",
    "\n",
    "## Dynamic Programming Algorithm\n",
    "```\n",
    "def dynamic_algo(activities):  # O(n)\n",
    " \tactivities.sort(key=lambda x: x[1])                                           \t\n",
    "\n",
    " \tn = len(activities)  # O(1)\n",
    "\n",
    " \tdp = [0 for _ in range(n)]  # O(n)\n",
    " \tselected = [[] for _ in range(n)]  # O(n) x O(n)\n",
    "\n",
    " \tdp[0] = 1  # O(1)\n",
    " \tselected[0] = [activities[0]]  # O(1)\n",
    "\n",
    " \t# Fill entries in dp[] using recursive property\n",
    " \tfor i in range(1, n):                                                                 \t\n",
    "     \tfor j in range(i):  # O(1)\n",
    "         \tif activities[j][1] <= activities[i][0] and dp[j] + 1 > dp[i]:\n",
    "             \tdp[i] = dp[j] + 1                                                           \t\n",
    "             \tselected[i] = selected[j].copy()                                     \t\n",
    "     \tif not selected[i] or (selected[i] and selected[i][-1][1] <= activities[i][0]):\n",
    "             selected[i].append(activities[i])                                        \t\n",
    "\n",
    " \tmax_index = dp.index(max(dp))  # O(1)\n",
    "\n",
    " \treturn selected[max_index]  # O(n)\n",
    " Tdynamic = O(n) + O(n) +  O(n) + O(n) + O(1) + O(1) + O(1) + O(1) + O(1) + O(1)\n",
    "      \t = 3 x O(n) + O(n²) + 5 x O(1)\n",
    "      \t= 3n + n² + 5C1\n",
    "Tdynamic = O(n²)\n",
    "```"
   ]
  },
  {
   "cell_type": "markdown",
   "id": "3db40be1bb33d07e",
   "metadata": {},
   "source": [
    "### Sample List of Activities"
   ]
  },
  {
   "cell_type": "code",
   "id": "178c5224e24ac78e",
   "metadata": {
    "ExecuteTime": {
     "end_time": "2024-05-08T06:07:58.549823Z",
     "start_time": "2024-05-08T06:07:58.546100Z"
    }
   },
   "source": [
    "Act_1 = rand_tuple(10, 1)\n",
    "Act_2 = rand_tuple(10, 2)\n",
    "Act_3 = rand_tuple(10, 3)\n",
    "print(f\"Act_1: {Act_1}\")\n",
    "print(f\"Act_2: {Act_2}\")\n",
    "print(f\"Act_3: {Act_3}\")"
   ],
   "outputs": [
    {
     "name": "stdout",
     "output_type": "stream",
     "text": [
      "Act_1: [(5, 19), (3, 9), (4, 16), (15, 16), (13, 14), (9, 24), (8, 19), (4, 11), (1, 21), (13, 22)]\n",
      "Act_2: [(2, 3), (3, 12), (6, 24), (9, 20), (7, 20), (2, 19), (14, 21), (13, 24), (12, 15), (11, 13)]\n",
      "Act_3: [(8, 19), (12, 20), (16, 21), (7, 23), (16, 18), (13, 21), (5, 8), (6, 19), (2, 10), (1, 9)]\n"
     ]
    }
   ],
   "execution_count": 10
  },
  {
   "cell_type": "markdown",
   "id": "4f7ac2df62fd55d0",
   "metadata": {},
   "source": [
    "## Visualization"
   ]
  },
  {
   "cell_type": "code",
   "id": "b263c64789951c14",
   "metadata": {
    "ExecuteTime": {
     "end_time": "2024-05-08T06:08:01.384929Z",
     "start_time": "2024-05-08T06:08:01.366025Z"
    }
   },
   "source": [
    "# Import necessary libraries\n",
    "import pandas as pd\n",
    "import panel as pn\n",
    "import time\n",
    "pn.extension('tabulator')\n",
    "import hvplot.pandas"
   ],
   "outputs": [
    {
     "data": {
      "application/javascript": "(function(root) {\n  function now() {\n    return new Date();\n  }\n\n  var force = true;\n  var py_version = '3.4.1'.replace('rc', '-rc.').replace('.dev', '-dev.');\n  var reloading = true;\n  var Bokeh = root.Bokeh;\n\n  if (typeof (root._bokeh_timeout) === \"undefined\" || force) {\n    root._bokeh_timeout = Date.now() + 5000;\n    root._bokeh_failed_load = false;\n  }\n\n  function run_callbacks() {\n    try {\n      root._bokeh_onload_callbacks.forEach(function(callback) {\n        if (callback != null)\n          callback();\n      });\n    } finally {\n      delete root._bokeh_onload_callbacks;\n    }\n    console.debug(\"Bokeh: all callbacks have finished\");\n  }\n\n  function load_libs(css_urls, js_urls, js_modules, js_exports, callback) {\n    if (css_urls == null) css_urls = [];\n    if (js_urls == null) js_urls = [];\n    if (js_modules == null) js_modules = [];\n    if (js_exports == null) js_exports = {};\n\n    root._bokeh_onload_callbacks.push(callback);\n\n    if (root._bokeh_is_loading > 0) {\n      console.debug(\"Bokeh: BokehJS is being loaded, scheduling callback at\", now());\n      return null;\n    }\n    if (js_urls.length === 0 && js_modules.length === 0 && Object.keys(js_exports).length === 0) {\n      run_callbacks();\n      return null;\n    }\n    if (!reloading) {\n      console.debug(\"Bokeh: BokehJS not loaded, scheduling load and callback at\", now());\n    }\n\n    function on_load() {\n      root._bokeh_is_loading--;\n      if (root._bokeh_is_loading === 0) {\n        console.debug(\"Bokeh: all BokehJS libraries/stylesheets loaded\");\n        run_callbacks()\n      }\n    }\n    window._bokeh_on_load = on_load\n\n    function on_error() {\n      console.error(\"failed to load \" + url);\n    }\n\n    var skip = [];\n    if (window.requirejs) {\n      window.requirejs.config({'packages': {}, 'paths': {'tabulator': 'https://cdn.jsdelivr.net/npm/tabulator-tables@5.5.0/dist/js/tabulator.min', 'moment': 'https://cdn.jsdelivr.net/npm/luxon/build/global/luxon.min'}, 'shim': {}});\n      require([\"tabulator\"], function(Tabulator) {\n\twindow.Tabulator = Tabulator\n\ton_load()\n      })\n      require([\"moment\"], function(moment) {\n\twindow.moment = moment\n\ton_load()\n      })\n      root._bokeh_is_loading = css_urls.length + 2;\n    } else {\n      root._bokeh_is_loading = css_urls.length + js_urls.length + js_modules.length + Object.keys(js_exports).length;\n    }\n\n    var existing_stylesheets = []\n    var links = document.getElementsByTagName('link')\n    for (var i = 0; i < links.length; i++) {\n      var link = links[i]\n      if (link.href != null) {\n\texisting_stylesheets.push(link.href)\n      }\n    }\n    for (var i = 0; i < css_urls.length; i++) {\n      var url = css_urls[i];\n      if (existing_stylesheets.indexOf(url) !== -1) {\n\ton_load()\n\tcontinue;\n      }\n      const element = document.createElement(\"link\");\n      element.onload = on_load;\n      element.onerror = on_error;\n      element.rel = \"stylesheet\";\n      element.type = \"text/css\";\n      element.href = url;\n      console.debug(\"Bokeh: injecting link tag for BokehJS stylesheet: \", url);\n      document.body.appendChild(element);\n    }    if (((window.Tabulator !== undefined) && (!(window.Tabulator instanceof HTMLElement))) || window.requirejs) {\n      var urls = ['https://cdn.holoviz.org/panel/1.4.2/dist/bundled/datatabulator/tabulator-tables@5.5.0/dist/js/tabulator.min.js'];\n      for (var i = 0; i < urls.length; i++) {\n        skip.push(urls[i])\n      }\n    }    if (((window.moment !== undefined) && (!(window.moment instanceof HTMLElement))) || window.requirejs) {\n      var urls = ['https://cdn.holoviz.org/panel/1.4.2/dist/bundled/datatabulator/luxon/build/global/luxon.min.js'];\n      for (var i = 0; i < urls.length; i++) {\n        skip.push(urls[i])\n      }\n    }    var existing_scripts = []\n    var scripts = document.getElementsByTagName('script')\n    for (var i = 0; i < scripts.length; i++) {\n      var script = scripts[i]\n      if (script.src != null) {\n\texisting_scripts.push(script.src)\n      }\n    }\n    for (var i = 0; i < js_urls.length; i++) {\n      var url = js_urls[i];\n      if (skip.indexOf(url) !== -1 || existing_scripts.indexOf(url) !== -1) {\n\tif (!window.requirejs) {\n\t  on_load();\n\t}\n\tcontinue;\n      }\n      var element = document.createElement('script');\n      element.onload = on_load;\n      element.onerror = on_error;\n      element.async = false;\n      element.src = url;\n      console.debug(\"Bokeh: injecting script tag for BokehJS library: \", url);\n      document.head.appendChild(element);\n    }\n    for (var i = 0; i < js_modules.length; i++) {\n      var url = js_modules[i];\n      if (skip.indexOf(url) !== -1 || existing_scripts.indexOf(url) !== -1) {\n\tif (!window.requirejs) {\n\t  on_load();\n\t}\n\tcontinue;\n      }\n      var element = document.createElement('script');\n      element.onload = on_load;\n      element.onerror = on_error;\n      element.async = false;\n      element.src = url;\n      element.type = \"module\";\n      console.debug(\"Bokeh: injecting script tag for BokehJS library: \", url);\n      document.head.appendChild(element);\n    }\n    for (const name in js_exports) {\n      var url = js_exports[name];\n      if (skip.indexOf(url) >= 0 || root[name] != null) {\n\tif (!window.requirejs) {\n\t  on_load();\n\t}\n\tcontinue;\n      }\n      var element = document.createElement('script');\n      element.onerror = on_error;\n      element.async = false;\n      element.type = \"module\";\n      console.debug(\"Bokeh: injecting script tag for BokehJS library: \", url);\n      element.textContent = `\n      import ${name} from \"${url}\"\n      window.${name} = ${name}\n      window._bokeh_on_load()\n      `\n      document.head.appendChild(element);\n    }\n    if (!js_urls.length && !js_modules.length) {\n      on_load()\n    }\n  };\n\n  function inject_raw_css(css) {\n    const element = document.createElement(\"style\");\n    element.appendChild(document.createTextNode(css));\n    document.body.appendChild(element);\n  }\n\n  var js_urls = [\"https://cdn.holoviz.org/panel/1.4.2/dist/bundled/datatabulator/tabulator-tables@5.5.0/dist/js/tabulator.min.js\", \"https://cdn.holoviz.org/panel/1.4.2/dist/bundled/datatabulator/luxon/build/global/luxon.min.js\"];\n  var js_modules = [];\n  var js_exports = {};\n  var css_urls = [\"https://cdn.holoviz.org/panel/1.4.2/dist/bundled/datatabulator/tabulator-tables@5.5.0/dist/css/tabulator_simple.min.css?v=1.4.2\"];\n  var inline_js = [    function(Bokeh) {\n      Bokeh.set_log_level(\"info\");\n    },\nfunction(Bokeh) {} // ensure no trailing comma for IE\n  ];\n\n  function run_inline_js() {\n    if ((root.Bokeh !== undefined) || (force === true)) {\n      for (var i = 0; i < inline_js.length; i++) {\n\ttry {\n          inline_js[i].call(root, root.Bokeh);\n\t} catch(e) {\n\t  if (!reloading) {\n\t    throw e;\n\t  }\n\t}\n      }\n      // Cache old bokeh versions\n      if (Bokeh != undefined && !reloading) {\n\tvar NewBokeh = root.Bokeh;\n\tif (Bokeh.versions === undefined) {\n\t  Bokeh.versions = new Map();\n\t}\n\tif (NewBokeh.version !== Bokeh.version) {\n\t  Bokeh.versions.set(NewBokeh.version, NewBokeh)\n\t}\n\troot.Bokeh = Bokeh;\n      }} else if (Date.now() < root._bokeh_timeout) {\n      setTimeout(run_inline_js, 100);\n    } else if (!root._bokeh_failed_load) {\n      console.log(\"Bokeh: BokehJS failed to load within specified timeout.\");\n      root._bokeh_failed_load = true;\n    }\n    root._bokeh_is_initializing = false\n  }\n\n  function load_or_wait() {\n    // Implement a backoff loop that tries to ensure we do not load multiple\n    // versions of Bokeh and its dependencies at the same time.\n    // In recent versions we use the root._bokeh_is_initializing flag\n    // to determine whether there is an ongoing attempt to initialize\n    // bokeh, however for backward compatibility we also try to ensure\n    // that we do not start loading a newer (Panel>=1.0 and Bokeh>3) version\n    // before older versions are fully initialized.\n    if (root._bokeh_is_initializing && Date.now() > root._bokeh_timeout) {\n      root._bokeh_is_initializing = false;\n      root._bokeh_onload_callbacks = undefined;\n      console.log(\"Bokeh: BokehJS was loaded multiple times but one version failed to initialize.\");\n      load_or_wait();\n    } else if (root._bokeh_is_initializing || (typeof root._bokeh_is_initializing === \"undefined\" && root._bokeh_onload_callbacks !== undefined)) {\n      setTimeout(load_or_wait, 100);\n    } else {\n      root._bokeh_is_initializing = true\n      root._bokeh_onload_callbacks = []\n      var bokeh_loaded = Bokeh != null && (Bokeh.version === py_version || (Bokeh.versions !== undefined && Bokeh.versions.has(py_version)));\n      if (!reloading && !bokeh_loaded) {\n\troot.Bokeh = undefined;\n      }\n      load_libs(css_urls, js_urls, js_modules, js_exports, function() {\n\tconsole.debug(\"Bokeh: BokehJS plotting callback run at\", now());\n\trun_inline_js();\n      });\n    }\n  }\n  // Give older versions of the autoload script a head-start to ensure\n  // they initialize before we start loading newer version.\n  setTimeout(load_or_wait, 100)\n}(window));",
      "application/vnd.holoviews_load.v0+json": "(function(root) {\n  function now() {\n    return new Date();\n  }\n\n  var force = true;\n  var py_version = '3.4.1'.replace('rc', '-rc.').replace('.dev', '-dev.');\n  var reloading = true;\n  var Bokeh = root.Bokeh;\n\n  if (typeof (root._bokeh_timeout) === \"undefined\" || force) {\n    root._bokeh_timeout = Date.now() + 5000;\n    root._bokeh_failed_load = false;\n  }\n\n  function run_callbacks() {\n    try {\n      root._bokeh_onload_callbacks.forEach(function(callback) {\n        if (callback != null)\n          callback();\n      });\n    } finally {\n      delete root._bokeh_onload_callbacks;\n    }\n    console.debug(\"Bokeh: all callbacks have finished\");\n  }\n\n  function load_libs(css_urls, js_urls, js_modules, js_exports, callback) {\n    if (css_urls == null) css_urls = [];\n    if (js_urls == null) js_urls = [];\n    if (js_modules == null) js_modules = [];\n    if (js_exports == null) js_exports = {};\n\n    root._bokeh_onload_callbacks.push(callback);\n\n    if (root._bokeh_is_loading > 0) {\n      console.debug(\"Bokeh: BokehJS is being loaded, scheduling callback at\", now());\n      return null;\n    }\n    if (js_urls.length === 0 && js_modules.length === 0 && Object.keys(js_exports).length === 0) {\n      run_callbacks();\n      return null;\n    }\n    if (!reloading) {\n      console.debug(\"Bokeh: BokehJS not loaded, scheduling load and callback at\", now());\n    }\n\n    function on_load() {\n      root._bokeh_is_loading--;\n      if (root._bokeh_is_loading === 0) {\n        console.debug(\"Bokeh: all BokehJS libraries/stylesheets loaded\");\n        run_callbacks()\n      }\n    }\n    window._bokeh_on_load = on_load\n\n    function on_error() {\n      console.error(\"failed to load \" + url);\n    }\n\n    var skip = [];\n    if (window.requirejs) {\n      window.requirejs.config({'packages': {}, 'paths': {'tabulator': 'https://cdn.jsdelivr.net/npm/tabulator-tables@5.5.0/dist/js/tabulator.min', 'moment': 'https://cdn.jsdelivr.net/npm/luxon/build/global/luxon.min'}, 'shim': {}});\n      require([\"tabulator\"], function(Tabulator) {\n\twindow.Tabulator = Tabulator\n\ton_load()\n      })\n      require([\"moment\"], function(moment) {\n\twindow.moment = moment\n\ton_load()\n      })\n      root._bokeh_is_loading = css_urls.length + 2;\n    } else {\n      root._bokeh_is_loading = css_urls.length + js_urls.length + js_modules.length + Object.keys(js_exports).length;\n    }\n\n    var existing_stylesheets = []\n    var links = document.getElementsByTagName('link')\n    for (var i = 0; i < links.length; i++) {\n      var link = links[i]\n      if (link.href != null) {\n\texisting_stylesheets.push(link.href)\n      }\n    }\n    for (var i = 0; i < css_urls.length; i++) {\n      var url = css_urls[i];\n      if (existing_stylesheets.indexOf(url) !== -1) {\n\ton_load()\n\tcontinue;\n      }\n      const element = document.createElement(\"link\");\n      element.onload = on_load;\n      element.onerror = on_error;\n      element.rel = \"stylesheet\";\n      element.type = \"text/css\";\n      element.href = url;\n      console.debug(\"Bokeh: injecting link tag for BokehJS stylesheet: \", url);\n      document.body.appendChild(element);\n    }    if (((window.Tabulator !== undefined) && (!(window.Tabulator instanceof HTMLElement))) || window.requirejs) {\n      var urls = ['https://cdn.holoviz.org/panel/1.4.2/dist/bundled/datatabulator/tabulator-tables@5.5.0/dist/js/tabulator.min.js'];\n      for (var i = 0; i < urls.length; i++) {\n        skip.push(urls[i])\n      }\n    }    if (((window.moment !== undefined) && (!(window.moment instanceof HTMLElement))) || window.requirejs) {\n      var urls = ['https://cdn.holoviz.org/panel/1.4.2/dist/bundled/datatabulator/luxon/build/global/luxon.min.js'];\n      for (var i = 0; i < urls.length; i++) {\n        skip.push(urls[i])\n      }\n    }    var existing_scripts = []\n    var scripts = document.getElementsByTagName('script')\n    for (var i = 0; i < scripts.length; i++) {\n      var script = scripts[i]\n      if (script.src != null) {\n\texisting_scripts.push(script.src)\n      }\n    }\n    for (var i = 0; i < js_urls.length; i++) {\n      var url = js_urls[i];\n      if (skip.indexOf(url) !== -1 || existing_scripts.indexOf(url) !== -1) {\n\tif (!window.requirejs) {\n\t  on_load();\n\t}\n\tcontinue;\n      }\n      var element = document.createElement('script');\n      element.onload = on_load;\n      element.onerror = on_error;\n      element.async = false;\n      element.src = url;\n      console.debug(\"Bokeh: injecting script tag for BokehJS library: \", url);\n      document.head.appendChild(element);\n    }\n    for (var i = 0; i < js_modules.length; i++) {\n      var url = js_modules[i];\n      if (skip.indexOf(url) !== -1 || existing_scripts.indexOf(url) !== -1) {\n\tif (!window.requirejs) {\n\t  on_load();\n\t}\n\tcontinue;\n      }\n      var element = document.createElement('script');\n      element.onload = on_load;\n      element.onerror = on_error;\n      element.async = false;\n      element.src = url;\n      element.type = \"module\";\n      console.debug(\"Bokeh: injecting script tag for BokehJS library: \", url);\n      document.head.appendChild(element);\n    }\n    for (const name in js_exports) {\n      var url = js_exports[name];\n      if (skip.indexOf(url) >= 0 || root[name] != null) {\n\tif (!window.requirejs) {\n\t  on_load();\n\t}\n\tcontinue;\n      }\n      var element = document.createElement('script');\n      element.onerror = on_error;\n      element.async = false;\n      element.type = \"module\";\n      console.debug(\"Bokeh: injecting script tag for BokehJS library: \", url);\n      element.textContent = `\n      import ${name} from \"${url}\"\n      window.${name} = ${name}\n      window._bokeh_on_load()\n      `\n      document.head.appendChild(element);\n    }\n    if (!js_urls.length && !js_modules.length) {\n      on_load()\n    }\n  };\n\n  function inject_raw_css(css) {\n    const element = document.createElement(\"style\");\n    element.appendChild(document.createTextNode(css));\n    document.body.appendChild(element);\n  }\n\n  var js_urls = [\"https://cdn.holoviz.org/panel/1.4.2/dist/bundled/datatabulator/tabulator-tables@5.5.0/dist/js/tabulator.min.js\", \"https://cdn.holoviz.org/panel/1.4.2/dist/bundled/datatabulator/luxon/build/global/luxon.min.js\"];\n  var js_modules = [];\n  var js_exports = {};\n  var css_urls = [\"https://cdn.holoviz.org/panel/1.4.2/dist/bundled/datatabulator/tabulator-tables@5.5.0/dist/css/tabulator_simple.min.css?v=1.4.2\"];\n  var inline_js = [    function(Bokeh) {\n      Bokeh.set_log_level(\"info\");\n    },\nfunction(Bokeh) {} // ensure no trailing comma for IE\n  ];\n\n  function run_inline_js() {\n    if ((root.Bokeh !== undefined) || (force === true)) {\n      for (var i = 0; i < inline_js.length; i++) {\n\ttry {\n          inline_js[i].call(root, root.Bokeh);\n\t} catch(e) {\n\t  if (!reloading) {\n\t    throw e;\n\t  }\n\t}\n      }\n      // Cache old bokeh versions\n      if (Bokeh != undefined && !reloading) {\n\tvar NewBokeh = root.Bokeh;\n\tif (Bokeh.versions === undefined) {\n\t  Bokeh.versions = new Map();\n\t}\n\tif (NewBokeh.version !== Bokeh.version) {\n\t  Bokeh.versions.set(NewBokeh.version, NewBokeh)\n\t}\n\troot.Bokeh = Bokeh;\n      }} else if (Date.now() < root._bokeh_timeout) {\n      setTimeout(run_inline_js, 100);\n    } else if (!root._bokeh_failed_load) {\n      console.log(\"Bokeh: BokehJS failed to load within specified timeout.\");\n      root._bokeh_failed_load = true;\n    }\n    root._bokeh_is_initializing = false\n  }\n\n  function load_or_wait() {\n    // Implement a backoff loop that tries to ensure we do not load multiple\n    // versions of Bokeh and its dependencies at the same time.\n    // In recent versions we use the root._bokeh_is_initializing flag\n    // to determine whether there is an ongoing attempt to initialize\n    // bokeh, however for backward compatibility we also try to ensure\n    // that we do not start loading a newer (Panel>=1.0 and Bokeh>3) version\n    // before older versions are fully initialized.\n    if (root._bokeh_is_initializing && Date.now() > root._bokeh_timeout) {\n      root._bokeh_is_initializing = false;\n      root._bokeh_onload_callbacks = undefined;\n      console.log(\"Bokeh: BokehJS was loaded multiple times but one version failed to initialize.\");\n      load_or_wait();\n    } else if (root._bokeh_is_initializing || (typeof root._bokeh_is_initializing === \"undefined\" && root._bokeh_onload_callbacks !== undefined)) {\n      setTimeout(load_or_wait, 100);\n    } else {\n      root._bokeh_is_initializing = true\n      root._bokeh_onload_callbacks = []\n      var bokeh_loaded = Bokeh != null && (Bokeh.version === py_version || (Bokeh.versions !== undefined && Bokeh.versions.has(py_version)));\n      if (!reloading && !bokeh_loaded) {\n\troot.Bokeh = undefined;\n      }\n      load_libs(css_urls, js_urls, js_modules, js_exports, function() {\n\tconsole.debug(\"Bokeh: BokehJS plotting callback run at\", now());\n\trun_inline_js();\n      });\n    }\n  }\n  // Give older versions of the autoload script a head-start to ensure\n  // they initialize before we start loading newer version.\n  setTimeout(load_or_wait, 100)\n}(window));"
     },
     "metadata": {},
     "output_type": "display_data"
    },
    {
     "data": {
      "application/vnd.holoviews_load.v0+json": "\nif ((window.PyViz === undefined) || (window.PyViz instanceof HTMLElement)) {\n  window.PyViz = {comms: {}, comm_status:{}, kernels:{}, receivers: {}, plot_index: []}\n}\n\n\n    function JupyterCommManager() {\n    }\n\n    JupyterCommManager.prototype.register_target = function(plot_id, comm_id, msg_handler) {\n      if (window.comm_manager || ((window.Jupyter !== undefined) && (Jupyter.notebook.kernel != null))) {\n        var comm_manager = window.comm_manager || Jupyter.notebook.kernel.comm_manager;\n        comm_manager.register_target(comm_id, function(comm) {\n          comm.on_msg(msg_handler);\n        });\n      } else if ((plot_id in window.PyViz.kernels) && (window.PyViz.kernels[plot_id])) {\n        window.PyViz.kernels[plot_id].registerCommTarget(comm_id, function(comm) {\n          comm.onMsg = msg_handler;\n        });\n      } else if (typeof google != 'undefined' && google.colab.kernel != null) {\n        google.colab.kernel.comms.registerTarget(comm_id, (comm) => {\n          var messages = comm.messages[Symbol.asyncIterator]();\n          function processIteratorResult(result) {\n            var message = result.value;\n            console.log(message)\n            var content = {data: message.data, comm_id};\n            var buffers = []\n            for (var buffer of message.buffers || []) {\n              buffers.push(new DataView(buffer))\n            }\n            var metadata = message.metadata || {};\n            var msg = {content, buffers, metadata}\n            msg_handler(msg);\n            return messages.next().then(processIteratorResult);\n          }\n          return messages.next().then(processIteratorResult);\n        })\n      }\n    }\n\n    JupyterCommManager.prototype.get_client_comm = function(plot_id, comm_id, msg_handler) {\n      if (comm_id in window.PyViz.comms) {\n        return window.PyViz.comms[comm_id];\n      } else if (window.comm_manager || ((window.Jupyter !== undefined) && (Jupyter.notebook.kernel != null))) {\n        var comm_manager = window.comm_manager || Jupyter.notebook.kernel.comm_manager;\n        var comm = comm_manager.new_comm(comm_id, {}, {}, {}, comm_id);\n        if (msg_handler) {\n          comm.on_msg(msg_handler);\n        }\n      } else if ((plot_id in window.PyViz.kernels) && (window.PyViz.kernels[plot_id])) {\n        var comm = window.PyViz.kernels[plot_id].connectToComm(comm_id);\n        comm.open();\n        if (msg_handler) {\n          comm.onMsg = msg_handler;\n        }\n      } else if (typeof google != 'undefined' && google.colab.kernel != null) {\n        var comm_promise = google.colab.kernel.comms.open(comm_id)\n        comm_promise.then((comm) => {\n          window.PyViz.comms[comm_id] = comm;\n          if (msg_handler) {\n            var messages = comm.messages[Symbol.asyncIterator]();\n            function processIteratorResult(result) {\n              var message = result.value;\n              var content = {data: message.data};\n              var metadata = message.metadata || {comm_id};\n              var msg = {content, metadata}\n              msg_handler(msg);\n              return messages.next().then(processIteratorResult);\n            }\n            return messages.next().then(processIteratorResult);\n          }\n        }) \n        var sendClosure = (data, metadata, buffers, disposeOnDone) => {\n          return comm_promise.then((comm) => {\n            comm.send(data, metadata, buffers, disposeOnDone);\n          });\n        };\n        var comm = {\n          send: sendClosure\n        };\n      }\n      window.PyViz.comms[comm_id] = comm;\n      return comm;\n    }\n    window.PyViz.comm_manager = new JupyterCommManager();\n    \n\n\nvar JS_MIME_TYPE = 'application/javascript';\nvar HTML_MIME_TYPE = 'text/html';\nvar EXEC_MIME_TYPE = 'application/vnd.holoviews_exec.v0+json';\nvar CLASS_NAME = 'output';\n\n/**\n * Render data to the DOM node\n */\nfunction render(props, node) {\n  var div = document.createElement(\"div\");\n  var script = document.createElement(\"script\");\n  node.appendChild(div);\n  node.appendChild(script);\n}\n\n/**\n * Handle when a new output is added\n */\nfunction handle_add_output(event, handle) {\n  var output_area = handle.output_area;\n  var output = handle.output;\n  if ((output.data == undefined) || (!output.data.hasOwnProperty(EXEC_MIME_TYPE))) {\n    return\n  }\n  var id = output.metadata[EXEC_MIME_TYPE][\"id\"];\n  var toinsert = output_area.element.find(\".\" + CLASS_NAME.split(' ')[0]);\n  if (id !== undefined) {\n    var nchildren = toinsert.length;\n    var html_node = toinsert[nchildren-1].children[0];\n    html_node.innerHTML = output.data[HTML_MIME_TYPE];\n    var scripts = [];\n    var nodelist = html_node.querySelectorAll(\"script\");\n    for (var i in nodelist) {\n      if (nodelist.hasOwnProperty(i)) {\n        scripts.push(nodelist[i])\n      }\n    }\n\n    scripts.forEach( function (oldScript) {\n      var newScript = document.createElement(\"script\");\n      var attrs = [];\n      var nodemap = oldScript.attributes;\n      for (var j in nodemap) {\n        if (nodemap.hasOwnProperty(j)) {\n          attrs.push(nodemap[j])\n        }\n      }\n      attrs.forEach(function(attr) { newScript.setAttribute(attr.name, attr.value) });\n      newScript.appendChild(document.createTextNode(oldScript.innerHTML));\n      oldScript.parentNode.replaceChild(newScript, oldScript);\n    });\n    if (JS_MIME_TYPE in output.data) {\n      toinsert[nchildren-1].children[1].textContent = output.data[JS_MIME_TYPE];\n    }\n    output_area._hv_plot_id = id;\n    if ((window.Bokeh !== undefined) && (id in Bokeh.index)) {\n      window.PyViz.plot_index[id] = Bokeh.index[id];\n    } else {\n      window.PyViz.plot_index[id] = null;\n    }\n  } else if (output.metadata[EXEC_MIME_TYPE][\"server_id\"] !== undefined) {\n    var bk_div = document.createElement(\"div\");\n    bk_div.innerHTML = output.data[HTML_MIME_TYPE];\n    var script_attrs = bk_div.children[0].attributes;\n    for (var i = 0; i < script_attrs.length; i++) {\n      toinsert[toinsert.length - 1].childNodes[1].setAttribute(script_attrs[i].name, script_attrs[i].value);\n    }\n    // store reference to server id on output_area\n    output_area._bokeh_server_id = output.metadata[EXEC_MIME_TYPE][\"server_id\"];\n  }\n}\n\n/**\n * Handle when an output is cleared or removed\n */\nfunction handle_clear_output(event, handle) {\n  var id = handle.cell.output_area._hv_plot_id;\n  var server_id = handle.cell.output_area._bokeh_server_id;\n  if (((id === undefined) || !(id in PyViz.plot_index)) && (server_id !== undefined)) { return; }\n  var comm = window.PyViz.comm_manager.get_client_comm(\"hv-extension-comm\", \"hv-extension-comm\", function () {});\n  if (server_id !== null) {\n    comm.send({event_type: 'server_delete', 'id': server_id});\n    return;\n  } else if (comm !== null) {\n    comm.send({event_type: 'delete', 'id': id});\n  }\n  delete PyViz.plot_index[id];\n  if ((window.Bokeh !== undefined) & (id in window.Bokeh.index)) {\n    var doc = window.Bokeh.index[id].model.document\n    doc.clear();\n    const i = window.Bokeh.documents.indexOf(doc);\n    if (i > -1) {\n      window.Bokeh.documents.splice(i, 1);\n    }\n  }\n}\n\n/**\n * Handle kernel restart event\n */\nfunction handle_kernel_cleanup(event, handle) {\n  delete PyViz.comms[\"hv-extension-comm\"];\n  window.PyViz.plot_index = {}\n}\n\n/**\n * Handle update_display_data messages\n */\nfunction handle_update_output(event, handle) {\n  handle_clear_output(event, {cell: {output_area: handle.output_area}})\n  handle_add_output(event, handle)\n}\n\nfunction register_renderer(events, OutputArea) {\n  function append_mime(data, metadata, element) {\n    // create a DOM node to render to\n    var toinsert = this.create_output_subarea(\n    metadata,\n    CLASS_NAME,\n    EXEC_MIME_TYPE\n    );\n    this.keyboard_manager.register_events(toinsert);\n    // Render to node\n    var props = {data: data, metadata: metadata[EXEC_MIME_TYPE]};\n    render(props, toinsert[0]);\n    element.append(toinsert);\n    return toinsert\n  }\n\n  events.on('output_added.OutputArea', handle_add_output);\n  events.on('output_updated.OutputArea', handle_update_output);\n  events.on('clear_output.CodeCell', handle_clear_output);\n  events.on('delete.Cell', handle_clear_output);\n  events.on('kernel_ready.Kernel', handle_kernel_cleanup);\n\n  OutputArea.prototype.register_mime_type(EXEC_MIME_TYPE, append_mime, {\n    safe: true,\n    index: 0\n  });\n}\n\nif (window.Jupyter !== undefined) {\n  try {\n    var events = require('base/js/events');\n    var OutputArea = require('notebook/js/outputarea').OutputArea;\n    if (OutputArea.prototype.mime_types().indexOf(EXEC_MIME_TYPE) == -1) {\n      register_renderer(events, OutputArea);\n    }\n  } catch(err) {\n  }\n}\n",
      "application/javascript": "\nif ((window.PyViz === undefined) || (window.PyViz instanceof HTMLElement)) {\n  window.PyViz = {comms: {}, comm_status:{}, kernels:{}, receivers: {}, plot_index: []}\n}\n\n\n    function JupyterCommManager() {\n    }\n\n    JupyterCommManager.prototype.register_target = function(plot_id, comm_id, msg_handler) {\n      if (window.comm_manager || ((window.Jupyter !== undefined) && (Jupyter.notebook.kernel != null))) {\n        var comm_manager = window.comm_manager || Jupyter.notebook.kernel.comm_manager;\n        comm_manager.register_target(comm_id, function(comm) {\n          comm.on_msg(msg_handler);\n        });\n      } else if ((plot_id in window.PyViz.kernels) && (window.PyViz.kernels[plot_id])) {\n        window.PyViz.kernels[plot_id].registerCommTarget(comm_id, function(comm) {\n          comm.onMsg = msg_handler;\n        });\n      } else if (typeof google != 'undefined' && google.colab.kernel != null) {\n        google.colab.kernel.comms.registerTarget(comm_id, (comm) => {\n          var messages = comm.messages[Symbol.asyncIterator]();\n          function processIteratorResult(result) {\n            var message = result.value;\n            console.log(message)\n            var content = {data: message.data, comm_id};\n            var buffers = []\n            for (var buffer of message.buffers || []) {\n              buffers.push(new DataView(buffer))\n            }\n            var metadata = message.metadata || {};\n            var msg = {content, buffers, metadata}\n            msg_handler(msg);\n            return messages.next().then(processIteratorResult);\n          }\n          return messages.next().then(processIteratorResult);\n        })\n      }\n    }\n\n    JupyterCommManager.prototype.get_client_comm = function(plot_id, comm_id, msg_handler) {\n      if (comm_id in window.PyViz.comms) {\n        return window.PyViz.comms[comm_id];\n      } else if (window.comm_manager || ((window.Jupyter !== undefined) && (Jupyter.notebook.kernel != null))) {\n        var comm_manager = window.comm_manager || Jupyter.notebook.kernel.comm_manager;\n        var comm = comm_manager.new_comm(comm_id, {}, {}, {}, comm_id);\n        if (msg_handler) {\n          comm.on_msg(msg_handler);\n        }\n      } else if ((plot_id in window.PyViz.kernels) && (window.PyViz.kernels[plot_id])) {\n        var comm = window.PyViz.kernels[plot_id].connectToComm(comm_id);\n        comm.open();\n        if (msg_handler) {\n          comm.onMsg = msg_handler;\n        }\n      } else if (typeof google != 'undefined' && google.colab.kernel != null) {\n        var comm_promise = google.colab.kernel.comms.open(comm_id)\n        comm_promise.then((comm) => {\n          window.PyViz.comms[comm_id] = comm;\n          if (msg_handler) {\n            var messages = comm.messages[Symbol.asyncIterator]();\n            function processIteratorResult(result) {\n              var message = result.value;\n              var content = {data: message.data};\n              var metadata = message.metadata || {comm_id};\n              var msg = {content, metadata}\n              msg_handler(msg);\n              return messages.next().then(processIteratorResult);\n            }\n            return messages.next().then(processIteratorResult);\n          }\n        }) \n        var sendClosure = (data, metadata, buffers, disposeOnDone) => {\n          return comm_promise.then((comm) => {\n            comm.send(data, metadata, buffers, disposeOnDone);\n          });\n        };\n        var comm = {\n          send: sendClosure\n        };\n      }\n      window.PyViz.comms[comm_id] = comm;\n      return comm;\n    }\n    window.PyViz.comm_manager = new JupyterCommManager();\n    \n\n\nvar JS_MIME_TYPE = 'application/javascript';\nvar HTML_MIME_TYPE = 'text/html';\nvar EXEC_MIME_TYPE = 'application/vnd.holoviews_exec.v0+json';\nvar CLASS_NAME = 'output';\n\n/**\n * Render data to the DOM node\n */\nfunction render(props, node) {\n  var div = document.createElement(\"div\");\n  var script = document.createElement(\"script\");\n  node.appendChild(div);\n  node.appendChild(script);\n}\n\n/**\n * Handle when a new output is added\n */\nfunction handle_add_output(event, handle) {\n  var output_area = handle.output_area;\n  var output = handle.output;\n  if ((output.data == undefined) || (!output.data.hasOwnProperty(EXEC_MIME_TYPE))) {\n    return\n  }\n  var id = output.metadata[EXEC_MIME_TYPE][\"id\"];\n  var toinsert = output_area.element.find(\".\" + CLASS_NAME.split(' ')[0]);\n  if (id !== undefined) {\n    var nchildren = toinsert.length;\n    var html_node = toinsert[nchildren-1].children[0];\n    html_node.innerHTML = output.data[HTML_MIME_TYPE];\n    var scripts = [];\n    var nodelist = html_node.querySelectorAll(\"script\");\n    for (var i in nodelist) {\n      if (nodelist.hasOwnProperty(i)) {\n        scripts.push(nodelist[i])\n      }\n    }\n\n    scripts.forEach( function (oldScript) {\n      var newScript = document.createElement(\"script\");\n      var attrs = [];\n      var nodemap = oldScript.attributes;\n      for (var j in nodemap) {\n        if (nodemap.hasOwnProperty(j)) {\n          attrs.push(nodemap[j])\n        }\n      }\n      attrs.forEach(function(attr) { newScript.setAttribute(attr.name, attr.value) });\n      newScript.appendChild(document.createTextNode(oldScript.innerHTML));\n      oldScript.parentNode.replaceChild(newScript, oldScript);\n    });\n    if (JS_MIME_TYPE in output.data) {\n      toinsert[nchildren-1].children[1].textContent = output.data[JS_MIME_TYPE];\n    }\n    output_area._hv_plot_id = id;\n    if ((window.Bokeh !== undefined) && (id in Bokeh.index)) {\n      window.PyViz.plot_index[id] = Bokeh.index[id];\n    } else {\n      window.PyViz.plot_index[id] = null;\n    }\n  } else if (output.metadata[EXEC_MIME_TYPE][\"server_id\"] !== undefined) {\n    var bk_div = document.createElement(\"div\");\n    bk_div.innerHTML = output.data[HTML_MIME_TYPE];\n    var script_attrs = bk_div.children[0].attributes;\n    for (var i = 0; i < script_attrs.length; i++) {\n      toinsert[toinsert.length - 1].childNodes[1].setAttribute(script_attrs[i].name, script_attrs[i].value);\n    }\n    // store reference to server id on output_area\n    output_area._bokeh_server_id = output.metadata[EXEC_MIME_TYPE][\"server_id\"];\n  }\n}\n\n/**\n * Handle when an output is cleared or removed\n */\nfunction handle_clear_output(event, handle) {\n  var id = handle.cell.output_area._hv_plot_id;\n  var server_id = handle.cell.output_area._bokeh_server_id;\n  if (((id === undefined) || !(id in PyViz.plot_index)) && (server_id !== undefined)) { return; }\n  var comm = window.PyViz.comm_manager.get_client_comm(\"hv-extension-comm\", \"hv-extension-comm\", function () {});\n  if (server_id !== null) {\n    comm.send({event_type: 'server_delete', 'id': server_id});\n    return;\n  } else if (comm !== null) {\n    comm.send({event_type: 'delete', 'id': id});\n  }\n  delete PyViz.plot_index[id];\n  if ((window.Bokeh !== undefined) & (id in window.Bokeh.index)) {\n    var doc = window.Bokeh.index[id].model.document\n    doc.clear();\n    const i = window.Bokeh.documents.indexOf(doc);\n    if (i > -1) {\n      window.Bokeh.documents.splice(i, 1);\n    }\n  }\n}\n\n/**\n * Handle kernel restart event\n */\nfunction handle_kernel_cleanup(event, handle) {\n  delete PyViz.comms[\"hv-extension-comm\"];\n  window.PyViz.plot_index = {}\n}\n\n/**\n * Handle update_display_data messages\n */\nfunction handle_update_output(event, handle) {\n  handle_clear_output(event, {cell: {output_area: handle.output_area}})\n  handle_add_output(event, handle)\n}\n\nfunction register_renderer(events, OutputArea) {\n  function append_mime(data, metadata, element) {\n    // create a DOM node to render to\n    var toinsert = this.create_output_subarea(\n    metadata,\n    CLASS_NAME,\n    EXEC_MIME_TYPE\n    );\n    this.keyboard_manager.register_events(toinsert);\n    // Render to node\n    var props = {data: data, metadata: metadata[EXEC_MIME_TYPE]};\n    render(props, toinsert[0]);\n    element.append(toinsert);\n    return toinsert\n  }\n\n  events.on('output_added.OutputArea', handle_add_output);\n  events.on('output_updated.OutputArea', handle_update_output);\n  events.on('clear_output.CodeCell', handle_clear_output);\n  events.on('delete.Cell', handle_clear_output);\n  events.on('kernel_ready.Kernel', handle_kernel_cleanup);\n\n  OutputArea.prototype.register_mime_type(EXEC_MIME_TYPE, append_mime, {\n    safe: true,\n    index: 0\n  });\n}\n\nif (window.Jupyter !== undefined) {\n  try {\n    var events = require('base/js/events');\n    var OutputArea = require('notebook/js/outputarea').OutputArea;\n    if (OutputArea.prototype.mime_types().indexOf(EXEC_MIME_TYPE) == -1) {\n      register_renderer(events, OutputArea);\n    }\n  } catch(err) {\n  }\n}\n"
     },
     "metadata": {},
     "output_type": "display_data"
    },
    {
     "data": {
      "text/html": [
       "<style>*[data-root-id],\n",
       "*[data-root-id] > * {\n",
       "  box-sizing: border-box;\n",
       "  font-family: var(--jp-ui-font-family);\n",
       "  font-size: var(--jp-ui-font-size1);\n",
       "  color: var(--vscode-editor-foreground, var(--jp-ui-font-color1));\n",
       "}\n",
       "\n",
       "/* Override VSCode background color */\n",
       ".cell-output-ipywidget-background:has(\n",
       "    > .cell-output-ipywidget-background > .lm-Widget > *[data-root-id]\n",
       "  ),\n",
       ".cell-output-ipywidget-background:has(> .lm-Widget > *[data-root-id]) {\n",
       "  background-color: transparent !important;\n",
       "}\n",
       "</style>"
      ]
     },
     "metadata": {},
     "output_type": "display_data"
    },
    {
     "data": {
      "text/html": [
       "<div id='71d11d80-9870-4892-928f-45574ab71ba7'>\n",
       "  <div id=\"e81844f4-20c6-4464-bfbc-0608b57c8020\" data-root-id=\"71d11d80-9870-4892-928f-45574ab71ba7\" style=\"display: contents;\"></div>\n",
       "</div>\n",
       "<script type=\"application/javascript\">(function(root) {\n",
       "  var docs_json = {\"55089911-c66a-45fb-b493-f48c0fa1c21a\":{\"version\":\"3.4.1\",\"title\":\"Bokeh Application\",\"roots\":[{\"type\":\"object\",\"name\":\"panel.models.browser.BrowserInfo\",\"id\":\"71d11d80-9870-4892-928f-45574ab71ba7\"},{\"type\":\"object\",\"name\":\"panel.models.comm_manager.CommManager\",\"id\":\"115b737e-b5a8-40fe-a843-6399cafcd3fa\",\"attributes\":{\"plot_id\":\"71d11d80-9870-4892-928f-45574ab71ba7\",\"comm_id\":\"711917a9332f4ad8a16e8c9ec4524464\",\"client_comm_id\":\"e0b3a59149464856aa8c186a73ec860f\"}}],\"defs\":[{\"type\":\"model\",\"name\":\"ReactiveHTML1\"},{\"type\":\"model\",\"name\":\"FlexBox1\",\"properties\":[{\"name\":\"align_content\",\"kind\":\"Any\",\"default\":\"flex-start\"},{\"name\":\"align_items\",\"kind\":\"Any\",\"default\":\"flex-start\"},{\"name\":\"flex_direction\",\"kind\":\"Any\",\"default\":\"row\"},{\"name\":\"flex_wrap\",\"kind\":\"Any\",\"default\":\"wrap\"},{\"name\":\"gap\",\"kind\":\"Any\",\"default\":\"\"},{\"name\":\"justify_content\",\"kind\":\"Any\",\"default\":\"flex-start\"}]},{\"type\":\"model\",\"name\":\"FloatPanel1\",\"properties\":[{\"name\":\"config\",\"kind\":\"Any\",\"default\":{\"type\":\"map\"}},{\"name\":\"contained\",\"kind\":\"Any\",\"default\":true},{\"name\":\"position\",\"kind\":\"Any\",\"default\":\"right-top\"},{\"name\":\"offsetx\",\"kind\":\"Any\",\"default\":null},{\"name\":\"offsety\",\"kind\":\"Any\",\"default\":null},{\"name\":\"theme\",\"kind\":\"Any\",\"default\":\"primary\"},{\"name\":\"status\",\"kind\":\"Any\",\"default\":\"normalized\"}]},{\"type\":\"model\",\"name\":\"GridStack1\",\"properties\":[{\"name\":\"mode\",\"kind\":\"Any\",\"default\":\"warn\"},{\"name\":\"ncols\",\"kind\":\"Any\",\"default\":null},{\"name\":\"nrows\",\"kind\":\"Any\",\"default\":null},{\"name\":\"allow_resize\",\"kind\":\"Any\",\"default\":true},{\"name\":\"allow_drag\",\"kind\":\"Any\",\"default\":true},{\"name\":\"state\",\"kind\":\"Any\",\"default\":[]}]},{\"type\":\"model\",\"name\":\"drag1\",\"properties\":[{\"name\":\"slider_width\",\"kind\":\"Any\",\"default\":5},{\"name\":\"slider_color\",\"kind\":\"Any\",\"default\":\"black\"},{\"name\":\"value\",\"kind\":\"Any\",\"default\":50}]},{\"type\":\"model\",\"name\":\"click1\",\"properties\":[{\"name\":\"terminal_output\",\"kind\":\"Any\",\"default\":\"\"},{\"name\":\"debug_name\",\"kind\":\"Any\",\"default\":\"\"},{\"name\":\"clears\",\"kind\":\"Any\",\"default\":0}]},{\"type\":\"model\",\"name\":\"FastWrapper1\",\"properties\":[{\"name\":\"object\",\"kind\":\"Any\",\"default\":null},{\"name\":\"style\",\"kind\":\"Any\",\"default\":null}]},{\"type\":\"model\",\"name\":\"NotificationAreaBase1\",\"properties\":[{\"name\":\"js_events\",\"kind\":\"Any\",\"default\":{\"type\":\"map\"}},{\"name\":\"position\",\"kind\":\"Any\",\"default\":\"bottom-right\"},{\"name\":\"_clear\",\"kind\":\"Any\",\"default\":0}]},{\"type\":\"model\",\"name\":\"NotificationArea1\",\"properties\":[{\"name\":\"js_events\",\"kind\":\"Any\",\"default\":{\"type\":\"map\"}},{\"name\":\"notifications\",\"kind\":\"Any\",\"default\":[]},{\"name\":\"position\",\"kind\":\"Any\",\"default\":\"bottom-right\"},{\"name\":\"_clear\",\"kind\":\"Any\",\"default\":0},{\"name\":\"types\",\"kind\":\"Any\",\"default\":[{\"type\":\"map\",\"entries\":[[\"type\",\"warning\"],[\"background\",\"#ffc107\"],[\"icon\",{\"type\":\"map\",\"entries\":[[\"className\",\"fas fa-exclamation-triangle\"],[\"tagName\",\"i\"],[\"color\",\"white\"]]}]]},{\"type\":\"map\",\"entries\":[[\"type\",\"info\"],[\"background\",\"#007bff\"],[\"icon\",{\"type\":\"map\",\"entries\":[[\"className\",\"fas fa-info-circle\"],[\"tagName\",\"i\"],[\"color\",\"white\"]]}]]}]}]},{\"type\":\"model\",\"name\":\"Notification\",\"properties\":[{\"name\":\"background\",\"kind\":\"Any\",\"default\":null},{\"name\":\"duration\",\"kind\":\"Any\",\"default\":3000},{\"name\":\"icon\",\"kind\":\"Any\",\"default\":null},{\"name\":\"message\",\"kind\":\"Any\",\"default\":\"\"},{\"name\":\"notification_type\",\"kind\":\"Any\",\"default\":null},{\"name\":\"_destroyed\",\"kind\":\"Any\",\"default\":false}]},{\"type\":\"model\",\"name\":\"TemplateActions1\",\"properties\":[{\"name\":\"open_modal\",\"kind\":\"Any\",\"default\":0},{\"name\":\"close_modal\",\"kind\":\"Any\",\"default\":0}]},{\"type\":\"model\",\"name\":\"BootstrapTemplateActions1\",\"properties\":[{\"name\":\"open_modal\",\"kind\":\"Any\",\"default\":0},{\"name\":\"close_modal\",\"kind\":\"Any\",\"default\":0}]},{\"type\":\"model\",\"name\":\"TemplateEditor1\",\"properties\":[{\"name\":\"layout\",\"kind\":\"Any\",\"default\":[]}]},{\"type\":\"model\",\"name\":\"MaterialTemplateActions1\",\"properties\":[{\"name\":\"open_modal\",\"kind\":\"Any\",\"default\":0},{\"name\":\"close_modal\",\"kind\":\"Any\",\"default\":0}]},{\"type\":\"model\",\"name\":\"copy_to_clipboard1\",\"properties\":[{\"name\":\"fill\",\"kind\":\"Any\",\"default\":\"none\"},{\"name\":\"value\",\"kind\":\"Any\",\"default\":null}]}]}};\n",
       "  var render_items = [{\"docid\":\"55089911-c66a-45fb-b493-f48c0fa1c21a\",\"roots\":{\"71d11d80-9870-4892-928f-45574ab71ba7\":\"e81844f4-20c6-4464-bfbc-0608b57c8020\"},\"root_ids\":[\"71d11d80-9870-4892-928f-45574ab71ba7\"]}];\n",
       "  var docs = Object.values(docs_json)\n",
       "  if (!docs) {\n",
       "    return\n",
       "  }\n",
       "  const py_version = docs[0].version.replace('rc', '-rc.').replace('.dev', '-dev.')\n",
       "  function embed_document(root) {\n",
       "    var Bokeh = get_bokeh(root)\n",
       "    Bokeh.embed.embed_items_notebook(docs_json, render_items);\n",
       "    for (const render_item of render_items) {\n",
       "      for (const root_id of render_item.root_ids) {\n",
       "\tconst id_el = document.getElementById(root_id)\n",
       "\tif (id_el.children.length && (id_el.children[0].className === 'bk-root')) {\n",
       "\t  const root_el = id_el.children[0]\n",
       "\t  root_el.id = root_el.id + '-rendered'\n",
       "\t}\n",
       "      }\n",
       "    }\n",
       "  }\n",
       "  function get_bokeh(root) {\n",
       "    if (root.Bokeh === undefined) {\n",
       "      return null\n",
       "    } else if (root.Bokeh.version !== py_version) {\n",
       "      if (root.Bokeh.versions === undefined || !root.Bokeh.versions.has(py_version)) {\n",
       "\treturn null\n",
       "      }\n",
       "      return root.Bokeh.versions.get(py_version);\n",
       "    } else if (root.Bokeh.version === py_version) {\n",
       "      return root.Bokeh\n",
       "    }\n",
       "    return null\n",
       "  }\n",
       "  function is_loaded(root) {\n",
       "    var Bokeh = get_bokeh(root)\n",
       "    return (Bokeh != null && Bokeh.Panel !== undefined && ( root.Tabulator !== undefined) && ( root.Tabulator !== undefined) && ( root.Tabulator !== undefined))\n",
       "  }\n",
       "  if (is_loaded(root)) {\n",
       "    embed_document(root);\n",
       "  } else {\n",
       "    var attempts = 0;\n",
       "    var timer = setInterval(function(root) {\n",
       "      if (is_loaded(root)) {\n",
       "        clearInterval(timer);\n",
       "        embed_document(root);\n",
       "      } else if (document.readyState == \"complete\") {\n",
       "        attempts++;\n",
       "        if (attempts > 200) {\n",
       "          clearInterval(timer);\n",
       "\t  var Bokeh = get_bokeh(root)\n",
       "\t  if (Bokeh == null || Bokeh.Panel == null) {\n",
       "            console.warn(\"Panel: ERROR: Unable to run Panel code because Bokeh or Panel library is missing\");\n",
       "\t  } else {\n",
       "\t    console.warn(\"Panel: WARNING: Attempting to render but not all required libraries could be resolved.\")\n",
       "\t    embed_document(root)\n",
       "\t  }\n",
       "        }\n",
       "      }\n",
       "    }, 25, root)\n",
       "  }\n",
       "})(window);</script>"
      ],
      "application/vnd.holoviews_exec.v0+json": ""
     },
     "metadata": {
      "application/vnd.holoviews_exec.v0+json": {
       "id": "71d11d80-9870-4892-928f-45574ab71ba7"
      }
     },
     "output_type": "display_data"
    }
   ],
   "execution_count": 11
  },
  {
   "cell_type": "code",
   "id": "89a1d4924645f6bb",
   "metadata": {
    "ExecuteTime": {
     "end_time": "2024-05-08T06:35:56.764320Z",
     "start_time": "2024-05-08T06:35:56.012906Z"
    }
   },
   "source": [
    "# Create for-loop to generate a list of size-time dictionary\n",
    "temp_data = [{'Algorithm': 'Greedy', 'Size': 0, 'Runtime in nanoseconds': 0},\n",
    "             {'Algorithm': 'Divide and Conquer', 'Size': 0, 'Runtime in nanoseconds': 0},\n",
    "             {'Algorithm': 'Dynamic', 'Size': 0, 'Runtime in nanoseconds': 0}]\n",
    "for i in range(1, 277):\n",
    "    # For Greedy Algorithm\n",
    "    start_wall = time.time_ns()\n",
    "    sample = greedy_algo(rand_tuple(i, 2))\n",
    "    end_wall = time.time_ns()\n",
    "    total_time = end_wall - start_wall\n",
    "    temp_data.append({'Algorithm': 'Greedy', 'Size': i, 'Runtime in nanoseconds': total_time})\n",
    "    \n",
    "    # For Divide and Conquer Algorithm\n",
    "    start_wall = time.time_ns()\n",
    "    sample = div_algo(rand_tuple(i, 2))\n",
    "    end_wall = time.time_ns()\n",
    "    total_time = end_wall - start_wall\n",
    "    temp_data.append({'Algorithm': 'Divide and Conquer', 'Size': i, 'Runtime in nanoseconds': total_time})\n",
    "    \n",
    "    # For Dynamic Programming Algorithm\n",
    "    start_wall = time.time_ns()\n",
    "    sample = dynamic_algo(rand_tuple(i, 2))\n",
    "    end_wall = time.time_ns()\n",
    "    total_time = end_wall - start_wall\n",
    "    temp_data.append({'Algorithm': 'Dynamic', 'Size': i, 'Runtime in nanoseconds': total_time})\n"
   ],
   "outputs": [],
   "execution_count": 96
  },
  {
   "cell_type": "code",
   "id": "15539e58c1b40169",
   "metadata": {
    "ExecuteTime": {
     "end_time": "2024-05-08T06:35:57.530553Z",
     "start_time": "2024-05-08T06:35:57.513307Z"
    }
   },
   "source": [
    "# Make a dataframe\n",
    "df = pd.DataFrame(temp_data)\n",
    "print(df)\n",
    "\n",
    "# Make it interactive\n",
    "idf = df.interactive()"
   ],
   "outputs": [
    {
     "name": "stdout",
     "output_type": "stream",
     "text": [
      "              Algorithm  Size  Runtime in nanoseconds\n",
      "0                Greedy     0                       0\n",
      "1    Divide and Conquer     0                       0\n",
      "2               Dynamic     0                       0\n",
      "3                Greedy     1                       0\n",
      "4    Divide and Conquer     1                       0\n",
      "..                  ...   ...                     ...\n",
      "826  Divide and Conquer   275                 2999700\n",
      "827             Dynamic   275                 4044500\n",
      "828              Greedy   276                 2968600\n",
      "829  Divide and Conquer   276                 2995700\n",
      "830             Dynamic   276                 4003000\n",
      "\n",
      "[831 rows x 3 columns]\n"
     ]
    }
   ],
   "execution_count": 97
  },
  {
   "cell_type": "code",
   "id": "db51c12b9e072db1",
   "metadata": {
    "ExecuteTime": {
     "end_time": "2024-05-08T06:35:58.272815Z",
     "start_time": "2024-05-08T06:35:58.269092Z"
    }
   },
   "source": [
    "# Define panel widgets\n",
    "size_slider = pn.widgets.IntSlider(name='Size', start=1, end=276, step=1)"
   ],
   "outputs": [],
   "execution_count": 98
  },
  {
   "cell_type": "code",
   "id": "8cb4e81a520625ef",
   "metadata": {
    "ExecuteTime": {
     "end_time": "2024-05-08T06:35:59.215253Z",
     "start_time": "2024-05-08T06:35:59.027167Z"
    }
   },
   "source": [
    "algos = ['Greedy', 'Divide and Conquer', 'Dynamic']\n",
    "runtime_pipeline = (\n",
    "    idf[(idf['Size'] <= size_slider) & (idf['Algorithm'].isin(algos))]\n",
    "    .reset_index()\n",
    "    .reset_index(drop=True)\n",
    ")"
   ],
   "outputs": [],
   "execution_count": 99
  },
  {
   "cell_type": "code",
   "id": "d1e5ff4a37b24384",
   "metadata": {
    "ExecuteTime": {
     "end_time": "2024-05-08T06:36:30.393834Z",
     "start_time": "2024-05-08T06:36:30.242543Z"
    }
   },
   "source": [
    "runtime_plot = runtime_pipeline.hvplot(x = 'Size',by='Algorithm', y='Runtime in nanoseconds', line_width=2, title='Runtime Comparison')\n",
    "runtime_plot"
   ],
   "outputs": [
    {
     "data": {},
     "metadata": {},
     "output_type": "display_data"
    },
    {
     "data": {},
     "metadata": {},
     "output_type": "display_data"
    },
    {
     "data": {
      "text/html": [
       "<div id='e9bf4a70-0304-4c68-9fa3-645234e8fcab'>\n",
       "  <div id=\"b2582c5b-c7ed-4748-a432-20e85fa4c33f\" data-root-id=\"e9bf4a70-0304-4c68-9fa3-645234e8fcab\" style=\"display: contents;\"></div>\n",
       "</div>\n",
       "<script type=\"application/javascript\">(function(root) {\n",
       "  var docs_json = {\"d8eec42b-ca6d-49e7-aa62-5fa82275551b\":{\"version\":\"3.4.1\",\"title\":\"Bokeh Application\",\"roots\":[{\"type\":\"object\",\"name\":\"Row\",\"id\":\"e9bf4a70-0304-4c68-9fa3-645234e8fcab\",\"attributes\":{\"name\":\"Row148667\",\"stylesheets\":[\"\\n:host(.pn-loading):before, .pn-loading:before {\\n  background-color: #c3c3c3;\\n  mask-size: auto calc(min(50%, 400px));\\n  -webkit-mask-size: auto calc(min(50%, 400px));\\n}\",{\"type\":\"object\",\"name\":\"ImportedStyleSheet\",\"id\":\"4d4334d9-25cd-4cc8-ac33-a4b36877d965\",\"attributes\":{\"url\":\"https://cdn.holoviz.org/panel/1.4.2/dist/css/loading.css\"}},{\"type\":\"object\",\"name\":\"ImportedStyleSheet\",\"id\":\"d10642a2-826d-4adf-b850-f9da2633be6c\",\"attributes\":{\"url\":\"https://cdn.holoviz.org/panel/1.4.2/dist/css/listpanel.css\"}},{\"type\":\"object\",\"name\":\"ImportedStyleSheet\",\"id\":\"7af987a0-e2d4-481a-ab24-467aa85c08c7\",\"attributes\":{\"url\":\"https://cdn.holoviz.org/panel/1.4.2/dist/bundled/theme/default.css\"}},{\"type\":\"object\",\"name\":\"ImportedStyleSheet\",\"id\":\"31c5fdc0-8181-4314-aad0-7fbcb6d3f1b7\",\"attributes\":{\"url\":\"https://cdn.holoviz.org/panel/1.4.2/dist/bundled/theme/native.css\"}}],\"margin\":0,\"align\":\"start\",\"children\":[{\"type\":\"object\",\"name\":\"panel.models.layout.Column\",\"id\":\"81b3727c-65da-45ed-9947-c03894002898\",\"attributes\":{\"name\":\"Column148666\",\"stylesheets\":[\"\\n:host(.pn-loading):before, .pn-loading:before {\\n  background-color: #c3c3c3;\\n  mask-size: auto calc(min(50%, 400px));\\n  -webkit-mask-size: auto calc(min(50%, 400px));\\n}\",{\"id\":\"4d4334d9-25cd-4cc8-ac33-a4b36877d965\"},{\"id\":\"d10642a2-826d-4adf-b850-f9da2633be6c\"},{\"id\":\"7af987a0-e2d4-481a-ab24-467aa85c08c7\"},{\"id\":\"31c5fdc0-8181-4314-aad0-7fbcb6d3f1b7\"}],\"margin\":0,\"align\":\"start\",\"children\":[{\"type\":\"object\",\"name\":\"panel.models.layout.Column\",\"id\":\"f3871bcf-51fd-4fc6-b644-e4ca06453a20\",\"attributes\":{\"name\":\"Column148657\",\"stylesheets\":[\"\\n:host(.pn-loading):before, .pn-loading:before {\\n  background-color: #c3c3c3;\\n  mask-size: auto calc(min(50%, 400px));\\n  -webkit-mask-size: auto calc(min(50%, 400px));\\n}\",{\"id\":\"4d4334d9-25cd-4cc8-ac33-a4b36877d965\"},{\"id\":\"d10642a2-826d-4adf-b850-f9da2633be6c\"},{\"id\":\"7af987a0-e2d4-481a-ab24-467aa85c08c7\"},{\"id\":\"31c5fdc0-8181-4314-aad0-7fbcb6d3f1b7\"}],\"margin\":0,\"align\":\"start\",\"children\":[{\"type\":\"object\",\"name\":\"Slider\",\"id\":\"201b1369-fec3-4776-bf3d-a1cca1d22c8f\",\"attributes\":{\"stylesheets\":[\"\\n:host(.pn-loading):before, .pn-loading:before {\\n  background-color: #c3c3c3;\\n  mask-size: auto calc(min(50%, 400px));\\n  -webkit-mask-size: auto calc(min(50%, 400px));\\n}\",{\"id\":\"4d4334d9-25cd-4cc8-ac33-a4b36877d965\"},{\"id\":\"7af987a0-e2d4-481a-ab24-467aa85c08c7\"},{\"id\":\"31c5fdc0-8181-4314-aad0-7fbcb6d3f1b7\"}],\"margin\":[5,10],\"align\":\"start\",\"title\":\"Size\",\"start\":1,\"end\":276,\"value\":276}}]}},{\"type\":\"object\",\"name\":\"Figure\",\"id\":\"3217fe02-0fd2-4ffb-ad64-ad018e23707e\",\"attributes\":{\"width\":700,\"height\":300,\"margin\":[5,10],\"sizing_mode\":\"fixed\",\"align\":\"start\",\"x_range\":{\"type\":\"object\",\"name\":\"Range1d\",\"id\":\"933881c8-4f32-4751-9aaf-8079ea1b4232\",\"attributes\":{\"tags\":[[[\"Size\",\"Size\",null]],[]],\"end\":276.0,\"reset_start\":0.0,\"reset_end\":276.0}},\"y_range\":{\"type\":\"object\",\"name\":\"Range1d\",\"id\":\"f638cd5d-c10c-4b7b-ab6d-a5d018dc6cc4\",\"attributes\":{\"tags\":[[[\"Runtime in nanoseconds\",\"Runtime in nanoseconds\",null]],{\"type\":\"map\",\"entries\":[[\"invert_yaxis\",false],[\"autorange\",false]]}],\"start\":-811960.0,\"end\":8931560.0,\"reset_start\":-811960.0,\"reset_end\":8931560.0}},\"x_scale\":{\"type\":\"object\",\"name\":\"LinearScale\",\"id\":\"a4483fcc-93fe-4464-9963-a1652d5f303b\"},\"y_scale\":{\"type\":\"object\",\"name\":\"LinearScale\",\"id\":\"283ae6fe-acad-4f6d-8750-6415440b3b29\"},\"title\":{\"type\":\"object\",\"name\":\"Title\",\"id\":\"29f096d1-0bef-4b65-af86-f9ab880c1a5a\",\"attributes\":{\"text\":\"Runtime Comparison\",\"text_color\":\"black\",\"text_font_size\":\"12pt\"}},\"renderers\":[{\"type\":\"object\",\"name\":\"GlyphRenderer\",\"id\":\"dc5a6ccb-3e88-4de6-ad35-fc090117f745\",\"attributes\":{\"name\":\"Divide and Conquer\",\"data_source\":{\"type\":\"object\",\"name\":\"ColumnDataSource\",\"id\":\"b05cfd9c-39eb-471d-adb5-0b0cc7cd4ac1\",\"attributes\":{\"selected\":{\"type\":\"object\",\"name\":\"Selection\",\"id\":\"e31f754f-b780-40af-9991-0684411177ee\",\"attributes\":{\"indices\":[],\"line_indices\":[]}},\"selection_policy\":{\"type\":\"object\",\"name\":\"UnionRenderers\",\"id\":\"eed5b256-2373-4626-a6a3-4f82076b832f\"},\"data\":{\"type\":\"map\",\"entries\":[[\"Size\",{\"type\":\"ndarray\",\"array\":{\"type\":\"bytes\",\"data\":\"AAAAAAEAAAACAAAAAwAAAAQAAAAFAAAABgAAAAcAAAAIAAAACQAAAAoAAAALAAAADAAAAA0AAAAOAAAADwAAABAAAAARAAAAEgAAABMAAAAUAAAAFQAAABYAAAAXAAAAGAAAABkAAAAaAAAAGwAAABwAAAAdAAAAHgAAAB8AAAAgAAAAIQAAACIAAAAjAAAAJAAAACUAAAAmAAAAJwAAACgAAAApAAAAKgAAACsAAAAsAAAALQAAAC4AAAAvAAAAMAAAADEAAAAyAAAAMwAAADQAAAA1AAAANgAAADcAAAA4AAAAOQAAADoAAAA7AAAAPAAAAD0AAAA+AAAAPwAAAEAAAABBAAAAQgAAAEMAAABEAAAARQAAAEYAAABHAAAASAAAAEkAAABKAAAASwAAAEwAAABNAAAATgAAAE8AAABQAAAAUQAAAFIAAABTAAAAVAAAAFUAAABWAAAAVwAAAFgAAABZAAAAWgAAAFsAAABcAAAAXQAAAF4AAABfAAAAYAAAAGEAAABiAAAAYwAAAGQAAABlAAAAZgAAAGcAAABoAAAAaQAAAGoAAABrAAAAbAAAAG0AAABuAAAAbwAAAHAAAABxAAAAcgAAAHMAAAB0AAAAdQAAAHYAAAB3AAAAeAAAAHkAAAB6AAAAewAAAHwAAAB9AAAAfgAAAH8AAACAAAAAgQAAAIIAAACDAAAAhAAAAIUAAACGAAAAhwAAAIgAAACJAAAAigAAAIsAAACMAAAAjQAAAI4AAACPAAAAkAAAAJEAAACSAAAAkwAAAJQAAACVAAAAlgAAAJcAAACYAAAAmQAAAJoAAACbAAAAnAAAAJ0AAACeAAAAnwAAAKAAAAChAAAAogAAAKMAAACkAAAApQAAAKYAAACnAAAAqAAAAKkAAACqAAAAqwAAAKwAAACtAAAArgAAAK8AAACwAAAAsQAAALIAAACzAAAAtAAAALUAAAC2AAAAtwAAALgAAAC5AAAAugAAALsAAAC8AAAAvQAAAL4AAAC/AAAAwAAAAMEAAADCAAAAwwAAAMQAAADFAAAAxgAAAMcAAADIAAAAyQAAAMoAAADLAAAAzAAAAM0AAADOAAAAzwAAANAAAADRAAAA0gAAANMAAADUAAAA1QAAANYAAADXAAAA2AAAANkAAADaAAAA2wAAANwAAADdAAAA3gAAAN8AAADgAAAA4QAAAOIAAADjAAAA5AAAAOUAAADmAAAA5wAAAOgAAADpAAAA6gAAAOsAAADsAAAA7QAAAO4AAADvAAAA8AAAAPEAAADyAAAA8wAAAPQAAAD1AAAA9gAAAPcAAAD4AAAA+QAAAPoAAAD7AAAA/AAAAP0AAAD+AAAA/wAAAAABAAABAQAAAgEAAAMBAAAEAQAABQEAAAYBAAAHAQAACAEAAAkBAAAKAQAACwEAAAwBAAANAQAADgEAAA8BAAAQAQAAEQEAABIBAAATAQAAFAEAAA==\"},\"shape\":[277],\"dtype\":\"int32\",\"order\":\"little\"}],[\"Runtime in nanoseconds\",{\"type\":\"ndarray\",\"array\":{\"type\":\"bytes\",\"data\":\"AAAAAAAAAAAAAAAAAAAAAAAAAAAAAAAA2DEPAAAAAAAAAAAAAAAAAAAAAAAAAAAAAAAAAAAAAAAAAAAAAAAAAOg/DwAAAAAAAAAAAAAAAAAAAAAAAAAAAAAAAAAAAAAAAAAAAAAAAAAAAAAAAAAAAAAAAAAAAAAAqDkPAAAAAAAAAAAAAAAAAAAAAAAAAAAAAAAAAAAAAAAAAAAAAAAAAAAAAAAAAAAAAAAAAAAAAAAAAAAAAAAAAAAAAAAAAAAACEMPAAAAAAAAAAAA6D8PAAAAAAAAAAAAAAAAAAAAAAAAAAAAAAAAAAAAAAAAAAAA/EQPAAAAAADoPw8AAAAAAAAAAAAAAAAAAAAAAAAAAAAAAAAAAAAAAAAAAAAAAAAAAAAAAAAAAAAAAAAAAAAAAAAAAAAAAAAAMDQPAAAAAAAAAAAAAAAAAAAAAAAAAAAAAAAAAAAAAAAYHw8A4FEPAEgwDwAAAAAAAAAAAAAAAAAAAAAAAAAAAAAAAAAAAAAAAAAAANxBDwAAAAAAAAAAAAAAAAAAAAAAQEIPAAAAAAAAAAAATEAPALBADwAAAAAAAAAAAAAAAAAAAAAAAAAAAAAAAAAAAAAAAAAAAAAAAACwQA8A3PAPANh2EAAAAAAAAAAAAAAAAAAAAAAAAAAAAAAAAADAsg8ARLwOAEhJDwAAAAAAAAAAAAAAAAAAAAAAYMIPAAAAAAAAAAAADGwPAAAAAAAAAAAAxA0QAAAAAAAAAAAA2HwPAAAAAACsSQ8AAAAAAAAAAAB0Sg8AAAAAAAAAAAAAAAAA2GkOAAAAAADcKA8AAAAAAJQODQAAAAAAAAAAAAxTDwCMfg4AAAAAAAAAAAAAAAAAAAAAAEBCDwBAQg8AQEIPAKRCDwCwQA8AQEIPAAAAAADcQQ8ApEIPAAhDDwDcQQ8AAAAAAAAAAAAAAAAAAAAAAAAAAAAAAAAAcIUPANxBDwAAAAAAQEIPALSyBwAAAAAAQEIPAAAAAAAIQw8AJPgQAIiBDwDYfA8ABH4PAAAAAAAQPxUAQEIPAEBCDwAAAAAAQEIPAEBCDwBAQg8AQEIPAEBCDwBAQg8A3EEPAEBCDwAAAAAA3EEPAEBCDwAM6hMAAAAAAEBCDwBAQg8ApEIPALyJDwAkaA8A5HoPAPg2FwBsjg8A2HwPADB/DwBAQg8AjJEPANxBDwAEsA8AUIIPAPS1FAAUQQ8ACEMPAChYcACIxy0AtN8lAJhbIAB8PB8AgH8jAFDRHwDwaEwAKM03AAzLLQAQATAAUCwuACwALgDkhB4AHIQeAKTHLwAU+h4AuIMeAETyHgBc+BQA5IQeAICEHgCAhB4A5IQeAMCKHgAchB4AyCUXAByEHgBY3h4AhPgeADyaHwBY8R8AyJ8kACyyIQC0uicAHIQeAFDILQAYxiEAwLMTAEDKIgC4nB4AvL8fALSMHgBY9x4A1OQtAMDGLQCUxS0A9LUtAA==\"},\"shape\":[277],\"dtype\":\"int32\",\"order\":\"little\"}],[\"Runtime_in_nanoseconds\",{\"type\":\"ndarray\",\"array\":{\"type\":\"bytes\",\"data\":\"AAAAAAAAAAAAAAAAAAAAAAAAAAAAAAAA2DEPAAAAAAAAAAAAAAAAAAAAAAAAAAAAAAAAAAAAAAAAAAAAAAAAAOg/DwAAAAAAAAAAAAAAAAAAAAAAAAAAAAAAAAAAAAAAAAAAAAAAAAAAAAAAAAAAAAAAAAAAAAAAqDkPAAAAAAAAAAAAAAAAAAAAAAAAAAAAAAAAAAAAAAAAAAAAAAAAAAAAAAAAAAAAAAAAAAAAAAAAAAAAAAAAAAAAAAAAAAAACEMPAAAAAAAAAAAA6D8PAAAAAAAAAAAAAAAAAAAAAAAAAAAAAAAAAAAAAAAAAAAA/EQPAAAAAADoPw8AAAAAAAAAAAAAAAAAAAAAAAAAAAAAAAAAAAAAAAAAAAAAAAAAAAAAAAAAAAAAAAAAAAAAAAAAAAAAAAAAMDQPAAAAAAAAAAAAAAAAAAAAAAAAAAAAAAAAAAAAAAAYHw8A4FEPAEgwDwAAAAAAAAAAAAAAAAAAAAAAAAAAAAAAAAAAAAAAAAAAANxBDwAAAAAAAAAAAAAAAAAAAAAAQEIPAAAAAAAAAAAATEAPALBADwAAAAAAAAAAAAAAAAAAAAAAAAAAAAAAAAAAAAAAAAAAAAAAAACwQA8A3PAPANh2EAAAAAAAAAAAAAAAAAAAAAAAAAAAAAAAAADAsg8ARLwOAEhJDwAAAAAAAAAAAAAAAAAAAAAAYMIPAAAAAAAAAAAADGwPAAAAAAAAAAAAxA0QAAAAAAAAAAAA2HwPAAAAAACsSQ8AAAAAAAAAAAB0Sg8AAAAAAAAAAAAAAAAA2GkOAAAAAADcKA8AAAAAAJQODQAAAAAAAAAAAAxTDwCMfg4AAAAAAAAAAAAAAAAAAAAAAEBCDwBAQg8AQEIPAKRCDwCwQA8AQEIPAAAAAADcQQ8ApEIPAAhDDwDcQQ8AAAAAAAAAAAAAAAAAAAAAAAAAAAAAAAAAcIUPANxBDwAAAAAAQEIPALSyBwAAAAAAQEIPAAAAAAAIQw8AJPgQAIiBDwDYfA8ABH4PAAAAAAAQPxUAQEIPAEBCDwAAAAAAQEIPAEBCDwBAQg8AQEIPAEBCDwBAQg8A3EEPAEBCDwAAAAAA3EEPAEBCDwAM6hMAAAAAAEBCDwBAQg8ApEIPALyJDwAkaA8A5HoPAPg2FwBsjg8A2HwPADB/DwBAQg8AjJEPANxBDwAEsA8AUIIPAPS1FAAUQQ8ACEMPAChYcACIxy0AtN8lAJhbIAB8PB8AgH8jAFDRHwDwaEwAKM03AAzLLQAQATAAUCwuACwALgDkhB4AHIQeAKTHLwAU+h4AuIMeAETyHgBc+BQA5IQeAICEHgCAhB4A5IQeAMCKHgAchB4AyCUXAByEHgBY3h4AhPgeADyaHwBY8R8AyJ8kACyyIQC0uicAHIQeAFDILQAYxiEAwLMTAEDKIgC4nB4AvL8fALSMHgBY9x4A1OQtAMDGLQCUxS0A9LUtAA==\"},\"shape\":[277],\"dtype\":\"int32\",\"order\":\"little\"}],[\"Algorithm\",[\"Divide and Conquer\",\"Divide and Conquer\",\"Divide and Conquer\",\"Divide and Conquer\",\"Divide and Conquer\",\"Divide and Conquer\",\"Divide and Conquer\",\"Divide and Conquer\",\"Divide and Conquer\",\"Divide and Conquer\",\"Divide and Conquer\",\"Divide and Conquer\",\"Divide and Conquer\",\"Divide and Conquer\",\"Divide and Conquer\",\"Divide and Conquer\",\"Divide and Conquer\",\"Divide and Conquer\",\"Divide and Conquer\",\"Divide and Conquer\",\"Divide and Conquer\",\"Divide and Conquer\",\"Divide and Conquer\",\"Divide and Conquer\",\"Divide and Conquer\",\"Divide and Conquer\",\"Divide and Conquer\",\"Divide and Conquer\",\"Divide and Conquer\",\"Divide and Conquer\",\"Divide and Conquer\",\"Divide and Conquer\",\"Divide and Conquer\",\"Divide and Conquer\",\"Divide and Conquer\",\"Divide and Conquer\",\"Divide and Conquer\",\"Divide and Conquer\",\"Divide and Conquer\",\"Divide and Conquer\",\"Divide and Conquer\",\"Divide and Conquer\",\"Divide and Conquer\",\"Divide and Conquer\",\"Divide and Conquer\",\"Divide and Conquer\",\"Divide and Conquer\",\"Divide and Conquer\",\"Divide and Conquer\",\"Divide and Conquer\",\"Divide and Conquer\",\"Divide and Conquer\",\"Divide and Conquer\",\"Divide and Conquer\",\"Divide and Conquer\",\"Divide and Conquer\",\"Divide and Conquer\",\"Divide and Conquer\",\"Divide and Conquer\",\"Divide and Conquer\",\"Divide and Conquer\",\"Divide and Conquer\",\"Divide and Conquer\",\"Divide and Conquer\",\"Divide and Conquer\",\"Divide and Conquer\",\"Divide and Conquer\",\"Divide and Conquer\",\"Divide and Conquer\",\"Divide and Conquer\",\"Divide and Conquer\",\"Divide and Conquer\",\"Divide and Conquer\",\"Divide and Conquer\",\"Divide and Conquer\",\"Divide and Conquer\",\"Divide and Conquer\",\"Divide and Conquer\",\"Divide and Conquer\",\"Divide and Conquer\",\"Divide and Conquer\",\"Divide and Conquer\",\"Divide and Conquer\",\"Divide and Conquer\",\"Divide and Conquer\",\"Divide and Conquer\",\"Divide and Conquer\",\"Divide and Conquer\",\"Divide and Conquer\",\"Divide and Conquer\",\"Divide and Conquer\",\"Divide and Conquer\",\"Divide and Conquer\",\"Divide and Conquer\",\"Divide and Conquer\",\"Divide and Conquer\",\"Divide and Conquer\",\"Divide and Conquer\",\"Divide and Conquer\",\"Divide and Conquer\",\"Divide and Conquer\",\"Divide and Conquer\",\"Divide and Conquer\",\"Divide and Conquer\",\"Divide and Conquer\",\"Divide and Conquer\",\"Divide and Conquer\",\"Divide and Conquer\",\"Divide and Conquer\",\"Divide and Conquer\",\"Divide and Conquer\",\"Divide and Conquer\",\"Divide and Conquer\",\"Divide and Conquer\",\"Divide and Conquer\",\"Divide and Conquer\",\"Divide and Conquer\",\"Divide and Conquer\",\"Divide and Conquer\",\"Divide and Conquer\",\"Divide and Conquer\",\"Divide and Conquer\",\"Divide and Conquer\",\"Divide and Conquer\",\"Divide and Conquer\",\"Divide and Conquer\",\"Divide and Conquer\",\"Divide and Conquer\",\"Divide and Conquer\",\"Divide and Conquer\",\"Divide and Conquer\",\"Divide and Conquer\",\"Divide and Conquer\",\"Divide and Conquer\",\"Divide and Conquer\",\"Divide and Conquer\",\"Divide and Conquer\",\"Divide and Conquer\",\"Divide and Conquer\",\"Divide and Conquer\",\"Divide and Conquer\",\"Divide and Conquer\",\"Divide and Conquer\",\"Divide and Conquer\",\"Divide and Conquer\",\"Divide and Conquer\",\"Divide and Conquer\",\"Divide and Conquer\",\"Divide and Conquer\",\"Divide and Conquer\",\"Divide and Conquer\",\"Divide and Conquer\",\"Divide and Conquer\",\"Divide and Conquer\",\"Divide and Conquer\",\"Divide and Conquer\",\"Divide and Conquer\",\"Divide and Conquer\",\"Divide and Conquer\",\"Divide and Conquer\",\"Divide and Conquer\",\"Divide and Conquer\",\"Divide and Conquer\",\"Divide and Conquer\",\"Divide and Conquer\",\"Divide and Conquer\",\"Divide and Conquer\",\"Divide and Conquer\",\"Divide and Conquer\",\"Divide and Conquer\",\"Divide and Conquer\",\"Divide and Conquer\",\"Divide and Conquer\",\"Divide and Conquer\",\"Divide and Conquer\",\"Divide and Conquer\",\"Divide and Conquer\",\"Divide and Conquer\",\"Divide and Conquer\",\"Divide and Conquer\",\"Divide and Conquer\",\"Divide and Conquer\",\"Divide and Conquer\",\"Divide and Conquer\",\"Divide and Conquer\",\"Divide and Conquer\",\"Divide and Conquer\",\"Divide and Conquer\",\"Divide and Conquer\",\"Divide and Conquer\",\"Divide and Conquer\",\"Divide and Conquer\",\"Divide and Conquer\",\"Divide and Conquer\",\"Divide and Conquer\",\"Divide and Conquer\",\"Divide and Conquer\",\"Divide and Conquer\",\"Divide and Conquer\",\"Divide and Conquer\",\"Divide and Conquer\",\"Divide and Conquer\",\"Divide and Conquer\",\"Divide and Conquer\",\"Divide and Conquer\",\"Divide and Conquer\",\"Divide and Conquer\",\"Divide and Conquer\",\"Divide and Conquer\",\"Divide and Conquer\",\"Divide and Conquer\",\"Divide and Conquer\",\"Divide and Conquer\",\"Divide and Conquer\",\"Divide and Conquer\",\"Divide and Conquer\",\"Divide and Conquer\",\"Divide and Conquer\",\"Divide and Conquer\",\"Divide and Conquer\",\"Divide and Conquer\",\"Divide and Conquer\",\"Divide and Conquer\",\"Divide and Conquer\",\"Divide and Conquer\",\"Divide and Conquer\",\"Divide and Conquer\",\"Divide and Conquer\",\"Divide and Conquer\",\"Divide and Conquer\",\"Divide and Conquer\",\"Divide and Conquer\",\"Divide and Conquer\",\"Divide and Conquer\",\"Divide and Conquer\",\"Divide and Conquer\",\"Divide and Conquer\",\"Divide and Conquer\",\"Divide and Conquer\",\"Divide and Conquer\",\"Divide and Conquer\",\"Divide and Conquer\",\"Divide and Conquer\",\"Divide and Conquer\",\"Divide and Conquer\",\"Divide and Conquer\",\"Divide and Conquer\",\"Divide and Conquer\",\"Divide and Conquer\",\"Divide and Conquer\",\"Divide and Conquer\",\"Divide and Conquer\",\"Divide and Conquer\",\"Divide and Conquer\",\"Divide and Conquer\",\"Divide and Conquer\",\"Divide and Conquer\",\"Divide and Conquer\",\"Divide and Conquer\",\"Divide and Conquer\",\"Divide and Conquer\",\"Divide and Conquer\",\"Divide and Conquer\",\"Divide and Conquer\",\"Divide and Conquer\",\"Divide and Conquer\",\"Divide and Conquer\",\"Divide and Conquer\",\"Divide and Conquer\",\"Divide and Conquer\",\"Divide and Conquer\",\"Divide and Conquer\",\"Divide and Conquer\",\"Divide and Conquer\",\"Divide and Conquer\",\"Divide and Conquer\",\"Divide and Conquer\"]]]}}},\"view\":{\"type\":\"object\",\"name\":\"CDSView\",\"id\":\"5d46a86c-2f57-4db5-a08a-98c93f78338b\",\"attributes\":{\"filter\":{\"type\":\"object\",\"name\":\"AllIndices\",\"id\":\"9b43e6b1-76d6-4fda-a27f-a86e4a08ca75\"}}},\"glyph\":{\"type\":\"object\",\"name\":\"Line\",\"id\":\"3623f7dc-82e9-44fc-b655-e1968241918b\",\"attributes\":{\"tags\":[\"apply_ranges\"],\"x\":{\"type\":\"field\",\"field\":\"Size\"},\"y\":{\"type\":\"field\",\"field\":\"Runtime in nanoseconds\"},\"line_color\":\"#30a2da\",\"line_width\":2}},\"selection_glyph\":{\"type\":\"object\",\"name\":\"Line\",\"id\":\"e230e369-b30b-4f56-994c-2257efcfcf1a\",\"attributes\":{\"tags\":[\"apply_ranges\"],\"x\":{\"type\":\"field\",\"field\":\"Size\"},\"y\":{\"type\":\"field\",\"field\":\"Runtime in nanoseconds\"},\"line_color\":\"#30a2da\",\"line_width\":2}},\"nonselection_glyph\":{\"type\":\"object\",\"name\":\"Line\",\"id\":\"fe53c350-4f9a-4b63-86c7-cdb37a2c55e5\",\"attributes\":{\"tags\":[\"apply_ranges\"],\"x\":{\"type\":\"field\",\"field\":\"Size\"},\"y\":{\"type\":\"field\",\"field\":\"Runtime in nanoseconds\"},\"line_color\":\"#30a2da\",\"line_alpha\":0.1,\"line_width\":2}},\"muted_glyph\":{\"type\":\"object\",\"name\":\"Line\",\"id\":\"7fe61fe7-64ba-4e54-8042-d73833adb447\",\"attributes\":{\"tags\":[\"apply_ranges\"],\"x\":{\"type\":\"field\",\"field\":\"Size\"},\"y\":{\"type\":\"field\",\"field\":\"Runtime in nanoseconds\"},\"line_color\":\"#30a2da\",\"line_alpha\":0.2,\"line_width\":2}}}},{\"type\":\"object\",\"name\":\"GlyphRenderer\",\"id\":\"a5f73c5a-deec-4d4f-ac20-ac4824e7ebed\",\"attributes\":{\"name\":\"Dynamic\",\"data_source\":{\"type\":\"object\",\"name\":\"ColumnDataSource\",\"id\":\"94c3a2a9-0853-4c25-a5fc-29c81ecb4814\",\"attributes\":{\"selected\":{\"type\":\"object\",\"name\":\"Selection\",\"id\":\"8c7c828b-4c47-463b-8a16-9d22c5359952\",\"attributes\":{\"indices\":[],\"line_indices\":[]}},\"selection_policy\":{\"type\":\"object\",\"name\":\"UnionRenderers\",\"id\":\"d7d11a6f-a312-4a7b-9361-b2694ef43b25\"},\"data\":{\"type\":\"map\",\"entries\":[[\"Size\",{\"type\":\"ndarray\",\"array\":{\"type\":\"bytes\",\"data\":\"AAAAAAEAAAACAAAAAwAAAAQAAAAFAAAABgAAAAcAAAAIAAAACQAAAAoAAAALAAAADAAAAA0AAAAOAAAADwAAABAAAAARAAAAEgAAABMAAAAUAAAAFQAAABYAAAAXAAAAGAAAABkAAAAaAAAAGwAAABwAAAAdAAAAHgAAAB8AAAAgAAAAIQAAACIAAAAjAAAAJAAAACUAAAAmAAAAJwAAACgAAAApAAAAKgAAACsAAAAsAAAALQAAAC4AAAAvAAAAMAAAADEAAAAyAAAAMwAAADQAAAA1AAAANgAAADcAAAA4AAAAOQAAADoAAAA7AAAAPAAAAD0AAAA+AAAAPwAAAEAAAABBAAAAQgAAAEMAAABEAAAARQAAAEYAAABHAAAASAAAAEkAAABKAAAASwAAAEwAAABNAAAATgAAAE8AAABQAAAAUQAAAFIAAABTAAAAVAAAAFUAAABWAAAAVwAAAFgAAABZAAAAWgAAAFsAAABcAAAAXQAAAF4AAABfAAAAYAAAAGEAAABiAAAAYwAAAGQAAABlAAAAZgAAAGcAAABoAAAAaQAAAGoAAABrAAAAbAAAAG0AAABuAAAAbwAAAHAAAABxAAAAcgAAAHMAAAB0AAAAdQAAAHYAAAB3AAAAeAAAAHkAAAB6AAAAewAAAHwAAAB9AAAAfgAAAH8AAACAAAAAgQAAAIIAAACDAAAAhAAAAIUAAACGAAAAhwAAAIgAAACJAAAAigAAAIsAAACMAAAAjQAAAI4AAACPAAAAkAAAAJEAAACSAAAAkwAAAJQAAACVAAAAlgAAAJcAAACYAAAAmQAAAJoAAACbAAAAnAAAAJ0AAACeAAAAnwAAAKAAAAChAAAAogAAAKMAAACkAAAApQAAAKYAAACnAAAAqAAAAKkAAACqAAAAqwAAAKwAAACtAAAArgAAAK8AAACwAAAAsQAAALIAAACzAAAAtAAAALUAAAC2AAAAtwAAALgAAAC5AAAAugAAALsAAAC8AAAAvQAAAL4AAAC/AAAAwAAAAMEAAADCAAAAwwAAAMQAAADFAAAAxgAAAMcAAADIAAAAyQAAAMoAAADLAAAAzAAAAM0AAADOAAAAzwAAANAAAADRAAAA0gAAANMAAADUAAAA1QAAANYAAADXAAAA2AAAANkAAADaAAAA2wAAANwAAADdAAAA3gAAAN8AAADgAAAA4QAAAOIAAADjAAAA5AAAAOUAAADmAAAA5wAAAOgAAADpAAAA6gAAAOsAAADsAAAA7QAAAO4AAADvAAAA8AAAAPEAAADyAAAA8wAAAPQAAAD1AAAA9gAAAPcAAAD4AAAA+QAAAPoAAAD7AAAA/AAAAP0AAAD+AAAA/wAAAAABAAABAQAAAgEAAAMBAAAEAQAABQEAAAYBAAAHAQAACAEAAAkBAAAKAQAACwEAAAwBAAANAQAADgEAAA8BAAAQAQAAEQEAABIBAAATAQAAFAEAAA==\"},\"shape\":[277],\"dtype\":\"int32\",\"order\":\"little\"}],[\"Runtime in nanoseconds\",{\"type\":\"ndarray\",\"array\":{\"type\":\"bytes\",\"data\":\"AAAAAAAAAAAAAAAAAAAAAAAAAAAAAAAAAAAAAAAAAAAAAAAAAAAAAAAAAAAAAAAAAAAAAAAAAAAAAAAAAAAAAAAAAAAAAAAAAAAAAAAAAAAAAAAAAAAAAAAAAAAYag8AAAAAAAAAAAAAAAAAAAAAAAAAAAAAAAAAAAAAAAAAAAAAAAAAAAAAALhHDwAAAAAAAAAAAAAAAADoPw8AAAAAAAAAAAAAAAAAID8PAAAAAAAAAAAApEIPAAAAAAAAAAAAAAAAAAAAAAAAAAAAAAAAAAAAAAAoRg8AAAAAAAAAAABAQg8AAAAAAAAAAAAAAAAAAAAAAAAAAAAAAAAAAAAAAEhiDwAAAAAA3EEPAAAAAAAoRg8AAAAAAAAAAABsXA8AAAAAAOjPEAAAAAAAAAAAAMxMDwAAAAAAAAAAAOBqDwAAAAAAAAAAAGgaDwDYhh4AAAAAAAAAAAAAAAAAAAAAAAAAAACAYQ8AAAAAAAAAAAAAAAAAvD4PALBADwAAAAAAAAAAAAAAAABgRQ8ATEAPAAAAAAAAAAAAAAAAAAAAAAAAAAAAAAAAAAAAAADcQQ8AQEIPAEBCDwAgJg8AKF8PABRBDwCIHQ8AGGoPABRBDwAAAAAAAAAAAPhmDwCEPw8AjEYPAMxMDwD0PQ8AGDgPADxLDwAAAAAAAAAAAAAAAABAQg8AmEQPAAAAAAAAAAAAAAAAAHw4DwBUYA8AAAAAAASdDgBAQg8AWHYOAExADwD8RA8AlMoPAJiVDgAo6A0A/EQPALzzDgAAAAAAUFAPAPDjEgBEARAAAAAAAODUDgBshR0A9HwRAPCLEAD8RA8AdDEPAPQFEAAAAAAAHI0QACTSDgBMQA8AQEIPAEBCDwBAQg8A3EEPAAhDDwAIQw8AHFwUALiDHgBAQg8AeEEPANxBDwBAQg8AeEEPAOwMFgCYuxAAIM8QANDsEADIMBEAeEEPAEBCDwDw5h4A3EEPAChGDwBAQg8AQEIPABxIDwBUxRMAxO4QADx9DwAgIBAAqEwQABT6HgCAeg8AQEIPANxBDwCAhB4AgIQeAICEHgCAhB4AgIQeAICEHgCAhB4AkHsmAKgkHwAchB4ACEMPAICEHgC4gx4AgIQeAEBCDwCAhB4AJDcTAPCVHwC01x4ASHsPAAiODwDshR8AmOQeAByEHgAYyS0A0KsfAHhBDwA8HR8AmIglACjwLQAQhh4ABOc8ADDlewCcjnoAOHpDAPAuRQDgzT0AhNQ9APwfQwBEVmoAnH5sALBJTABUzUwAGMlGAOS1TABAS0wAAAk9ABh4LgC8mz4A5Iw+APDVPgAACT0AXMYtAMDGLQAkxy0AJMctAPjFLQC0yC0AtPI/AMChLwBwfj4AyEouAIAFLwAEcy4AGHguAMSZMwAYnSwAZAk9ADy4MwAYkjIA7M80AHAdMQDwtTsAsIwsADwYPQDQKT0AyAk9AAAJPQDUtj0AuBQ9AA==\"},\"shape\":[277],\"dtype\":\"int32\",\"order\":\"little\"}],[\"Runtime_in_nanoseconds\",{\"type\":\"ndarray\",\"array\":{\"type\":\"bytes\",\"data\":\"AAAAAAAAAAAAAAAAAAAAAAAAAAAAAAAAAAAAAAAAAAAAAAAAAAAAAAAAAAAAAAAAAAAAAAAAAAAAAAAAAAAAAAAAAAAAAAAAAAAAAAAAAAAAAAAAAAAAAAAAAAAYag8AAAAAAAAAAAAAAAAAAAAAAAAAAAAAAAAAAAAAAAAAAAAAAAAAAAAAALhHDwAAAAAAAAAAAAAAAADoPw8AAAAAAAAAAAAAAAAAID8PAAAAAAAAAAAApEIPAAAAAAAAAAAAAAAAAAAAAAAAAAAAAAAAAAAAAAAoRg8AAAAAAAAAAABAQg8AAAAAAAAAAAAAAAAAAAAAAAAAAAAAAAAAAAAAAEhiDwAAAAAA3EEPAAAAAAAoRg8AAAAAAAAAAABsXA8AAAAAAOjPEAAAAAAAAAAAAMxMDwAAAAAAAAAAAOBqDwAAAAAAAAAAAGgaDwDYhh4AAAAAAAAAAAAAAAAAAAAAAAAAAACAYQ8AAAAAAAAAAAAAAAAAvD4PALBADwAAAAAAAAAAAAAAAABgRQ8ATEAPAAAAAAAAAAAAAAAAAAAAAAAAAAAAAAAAAAAAAADcQQ8AQEIPAEBCDwAgJg8AKF8PABRBDwCIHQ8AGGoPABRBDwAAAAAAAAAAAPhmDwCEPw8AjEYPAMxMDwD0PQ8AGDgPADxLDwAAAAAAAAAAAAAAAABAQg8AmEQPAAAAAAAAAAAAAAAAAHw4DwBUYA8AAAAAAASdDgBAQg8AWHYOAExADwD8RA8AlMoPAJiVDgAo6A0A/EQPALzzDgAAAAAAUFAPAPDjEgBEARAAAAAAAODUDgBshR0A9HwRAPCLEAD8RA8AdDEPAPQFEAAAAAAAHI0QACTSDgBMQA8AQEIPAEBCDwBAQg8A3EEPAAhDDwAIQw8AHFwUALiDHgBAQg8AeEEPANxBDwBAQg8AeEEPAOwMFgCYuxAAIM8QANDsEADIMBEAeEEPAEBCDwDw5h4A3EEPAChGDwBAQg8AQEIPABxIDwBUxRMAxO4QADx9DwAgIBAAqEwQABT6HgCAeg8AQEIPANxBDwCAhB4AgIQeAICEHgCAhB4AgIQeAICEHgCAhB4AkHsmAKgkHwAchB4ACEMPAICEHgC4gx4AgIQeAEBCDwCAhB4AJDcTAPCVHwC01x4ASHsPAAiODwDshR8AmOQeAByEHgAYyS0A0KsfAHhBDwA8HR8AmIglACjwLQAQhh4ABOc8ADDlewCcjnoAOHpDAPAuRQDgzT0AhNQ9APwfQwBEVmoAnH5sALBJTABUzUwAGMlGAOS1TABAS0wAAAk9ABh4LgC8mz4A5Iw+APDVPgAACT0AXMYtAMDGLQAkxy0AJMctAPjFLQC0yC0AtPI/AMChLwBwfj4AyEouAIAFLwAEcy4AGHguAMSZMwAYnSwAZAk9ADy4MwAYkjIA7M80AHAdMQDwtTsAsIwsADwYPQDQKT0AyAk9AAAJPQDUtj0AuBQ9AA==\"},\"shape\":[277],\"dtype\":\"int32\",\"order\":\"little\"}],[\"Algorithm\",[\"Dynamic\",\"Dynamic\",\"Dynamic\",\"Dynamic\",\"Dynamic\",\"Dynamic\",\"Dynamic\",\"Dynamic\",\"Dynamic\",\"Dynamic\",\"Dynamic\",\"Dynamic\",\"Dynamic\",\"Dynamic\",\"Dynamic\",\"Dynamic\",\"Dynamic\",\"Dynamic\",\"Dynamic\",\"Dynamic\",\"Dynamic\",\"Dynamic\",\"Dynamic\",\"Dynamic\",\"Dynamic\",\"Dynamic\",\"Dynamic\",\"Dynamic\",\"Dynamic\",\"Dynamic\",\"Dynamic\",\"Dynamic\",\"Dynamic\",\"Dynamic\",\"Dynamic\",\"Dynamic\",\"Dynamic\",\"Dynamic\",\"Dynamic\",\"Dynamic\",\"Dynamic\",\"Dynamic\",\"Dynamic\",\"Dynamic\",\"Dynamic\",\"Dynamic\",\"Dynamic\",\"Dynamic\",\"Dynamic\",\"Dynamic\",\"Dynamic\",\"Dynamic\",\"Dynamic\",\"Dynamic\",\"Dynamic\",\"Dynamic\",\"Dynamic\",\"Dynamic\",\"Dynamic\",\"Dynamic\",\"Dynamic\",\"Dynamic\",\"Dynamic\",\"Dynamic\",\"Dynamic\",\"Dynamic\",\"Dynamic\",\"Dynamic\",\"Dynamic\",\"Dynamic\",\"Dynamic\",\"Dynamic\",\"Dynamic\",\"Dynamic\",\"Dynamic\",\"Dynamic\",\"Dynamic\",\"Dynamic\",\"Dynamic\",\"Dynamic\",\"Dynamic\",\"Dynamic\",\"Dynamic\",\"Dynamic\",\"Dynamic\",\"Dynamic\",\"Dynamic\",\"Dynamic\",\"Dynamic\",\"Dynamic\",\"Dynamic\",\"Dynamic\",\"Dynamic\",\"Dynamic\",\"Dynamic\",\"Dynamic\",\"Dynamic\",\"Dynamic\",\"Dynamic\",\"Dynamic\",\"Dynamic\",\"Dynamic\",\"Dynamic\",\"Dynamic\",\"Dynamic\",\"Dynamic\",\"Dynamic\",\"Dynamic\",\"Dynamic\",\"Dynamic\",\"Dynamic\",\"Dynamic\",\"Dynamic\",\"Dynamic\",\"Dynamic\",\"Dynamic\",\"Dynamic\",\"Dynamic\",\"Dynamic\",\"Dynamic\",\"Dynamic\",\"Dynamic\",\"Dynamic\",\"Dynamic\",\"Dynamic\",\"Dynamic\",\"Dynamic\",\"Dynamic\",\"Dynamic\",\"Dynamic\",\"Dynamic\",\"Dynamic\",\"Dynamic\",\"Dynamic\",\"Dynamic\",\"Dynamic\",\"Dynamic\",\"Dynamic\",\"Dynamic\",\"Dynamic\",\"Dynamic\",\"Dynamic\",\"Dynamic\",\"Dynamic\",\"Dynamic\",\"Dynamic\",\"Dynamic\",\"Dynamic\",\"Dynamic\",\"Dynamic\",\"Dynamic\",\"Dynamic\",\"Dynamic\",\"Dynamic\",\"Dynamic\",\"Dynamic\",\"Dynamic\",\"Dynamic\",\"Dynamic\",\"Dynamic\",\"Dynamic\",\"Dynamic\",\"Dynamic\",\"Dynamic\",\"Dynamic\",\"Dynamic\",\"Dynamic\",\"Dynamic\",\"Dynamic\",\"Dynamic\",\"Dynamic\",\"Dynamic\",\"Dynamic\",\"Dynamic\",\"Dynamic\",\"Dynamic\",\"Dynamic\",\"Dynamic\",\"Dynamic\",\"Dynamic\",\"Dynamic\",\"Dynamic\",\"Dynamic\",\"Dynamic\",\"Dynamic\",\"Dynamic\",\"Dynamic\",\"Dynamic\",\"Dynamic\",\"Dynamic\",\"Dynamic\",\"Dynamic\",\"Dynamic\",\"Dynamic\",\"Dynamic\",\"Dynamic\",\"Dynamic\",\"Dynamic\",\"Dynamic\",\"Dynamic\",\"Dynamic\",\"Dynamic\",\"Dynamic\",\"Dynamic\",\"Dynamic\",\"Dynamic\",\"Dynamic\",\"Dynamic\",\"Dynamic\",\"Dynamic\",\"Dynamic\",\"Dynamic\",\"Dynamic\",\"Dynamic\",\"Dynamic\",\"Dynamic\",\"Dynamic\",\"Dynamic\",\"Dynamic\",\"Dynamic\",\"Dynamic\",\"Dynamic\",\"Dynamic\",\"Dynamic\",\"Dynamic\",\"Dynamic\",\"Dynamic\",\"Dynamic\",\"Dynamic\",\"Dynamic\",\"Dynamic\",\"Dynamic\",\"Dynamic\",\"Dynamic\",\"Dynamic\",\"Dynamic\",\"Dynamic\",\"Dynamic\",\"Dynamic\",\"Dynamic\",\"Dynamic\",\"Dynamic\",\"Dynamic\",\"Dynamic\",\"Dynamic\",\"Dynamic\",\"Dynamic\",\"Dynamic\",\"Dynamic\",\"Dynamic\",\"Dynamic\",\"Dynamic\",\"Dynamic\",\"Dynamic\",\"Dynamic\",\"Dynamic\",\"Dynamic\",\"Dynamic\",\"Dynamic\",\"Dynamic\",\"Dynamic\",\"Dynamic\",\"Dynamic\",\"Dynamic\",\"Dynamic\",\"Dynamic\",\"Dynamic\",\"Dynamic\",\"Dynamic\",\"Dynamic\",\"Dynamic\",\"Dynamic\",\"Dynamic\",\"Dynamic\",\"Dynamic\",\"Dynamic\",\"Dynamic\"]]]}}},\"view\":{\"type\":\"object\",\"name\":\"CDSView\",\"id\":\"ce7c69a8-12cd-45f6-90d4-14989208538d\",\"attributes\":{\"filter\":{\"type\":\"object\",\"name\":\"AllIndices\",\"id\":\"5a894f37-88aa-445f-960a-57351dafc7a4\"}}},\"glyph\":{\"type\":\"object\",\"name\":\"Line\",\"id\":\"9aa76e06-fb13-4ed8-9889-5ee96e6b4d90\",\"attributes\":{\"tags\":[\"apply_ranges\"],\"x\":{\"type\":\"field\",\"field\":\"Size\"},\"y\":{\"type\":\"field\",\"field\":\"Runtime in nanoseconds\"},\"line_color\":\"#fc4f30\",\"line_width\":2}},\"selection_glyph\":{\"type\":\"object\",\"name\":\"Line\",\"id\":\"e30b4632-6b06-417d-b924-9c017b23ce03\",\"attributes\":{\"tags\":[\"apply_ranges\"],\"x\":{\"type\":\"field\",\"field\":\"Size\"},\"y\":{\"type\":\"field\",\"field\":\"Runtime in nanoseconds\"},\"line_color\":\"#fc4f30\",\"line_width\":2}},\"nonselection_glyph\":{\"type\":\"object\",\"name\":\"Line\",\"id\":\"3b361600-5bd9-43d6-a7c6-ef461e37c440\",\"attributes\":{\"tags\":[\"apply_ranges\"],\"x\":{\"type\":\"field\",\"field\":\"Size\"},\"y\":{\"type\":\"field\",\"field\":\"Runtime in nanoseconds\"},\"line_color\":\"#fc4f30\",\"line_alpha\":0.1,\"line_width\":2}},\"muted_glyph\":{\"type\":\"object\",\"name\":\"Line\",\"id\":\"2c5de24a-3a55-4ab5-82a0-a1bfec117ac3\",\"attributes\":{\"tags\":[\"apply_ranges\"],\"x\":{\"type\":\"field\",\"field\":\"Size\"},\"y\":{\"type\":\"field\",\"field\":\"Runtime in nanoseconds\"},\"line_color\":\"#fc4f30\",\"line_alpha\":0.2,\"line_width\":2}}}},{\"type\":\"object\",\"name\":\"GlyphRenderer\",\"id\":\"88f54aca-4278-4b03-bdea-a7da355c49c6\",\"attributes\":{\"name\":\"Greedy\",\"data_source\":{\"type\":\"object\",\"name\":\"ColumnDataSource\",\"id\":\"219cdab8-fbc5-4a03-8c57-176e7da3afda\",\"attributes\":{\"selected\":{\"type\":\"object\",\"name\":\"Selection\",\"id\":\"70ae200b-aa03-49ca-ade9-9694749f0455\",\"attributes\":{\"indices\":[],\"line_indices\":[]}},\"selection_policy\":{\"type\":\"object\",\"name\":\"UnionRenderers\",\"id\":\"140e0aec-e7c7-4dc6-aee8-456da32d50db\"},\"data\":{\"type\":\"map\",\"entries\":[[\"Size\",{\"type\":\"ndarray\",\"array\":{\"type\":\"bytes\",\"data\":\"AAAAAAEAAAACAAAAAwAAAAQAAAAFAAAABgAAAAcAAAAIAAAACQAAAAoAAAALAAAADAAAAA0AAAAOAAAADwAAABAAAAARAAAAEgAAABMAAAAUAAAAFQAAABYAAAAXAAAAGAAAABkAAAAaAAAAGwAAABwAAAAdAAAAHgAAAB8AAAAgAAAAIQAAACIAAAAjAAAAJAAAACUAAAAmAAAAJwAAACgAAAApAAAAKgAAACsAAAAsAAAALQAAAC4AAAAvAAAAMAAAADEAAAAyAAAAMwAAADQAAAA1AAAANgAAADcAAAA4AAAAOQAAADoAAAA7AAAAPAAAAD0AAAA+AAAAPwAAAEAAAABBAAAAQgAAAEMAAABEAAAARQAAAEYAAABHAAAASAAAAEkAAABKAAAASwAAAEwAAABNAAAATgAAAE8AAABQAAAAUQAAAFIAAABTAAAAVAAAAFUAAABWAAAAVwAAAFgAAABZAAAAWgAAAFsAAABcAAAAXQAAAF4AAABfAAAAYAAAAGEAAABiAAAAYwAAAGQAAABlAAAAZgAAAGcAAABoAAAAaQAAAGoAAABrAAAAbAAAAG0AAABuAAAAbwAAAHAAAABxAAAAcgAAAHMAAAB0AAAAdQAAAHYAAAB3AAAAeAAAAHkAAAB6AAAAewAAAHwAAAB9AAAAfgAAAH8AAACAAAAAgQAAAIIAAACDAAAAhAAAAIUAAACGAAAAhwAAAIgAAACJAAAAigAAAIsAAACMAAAAjQAAAI4AAACPAAAAkAAAAJEAAACSAAAAkwAAAJQAAACVAAAAlgAAAJcAAACYAAAAmQAAAJoAAACbAAAAnAAAAJ0AAACeAAAAnwAAAKAAAAChAAAAogAAAKMAAACkAAAApQAAAKYAAACnAAAAqAAAAKkAAACqAAAAqwAAAKwAAACtAAAArgAAAK8AAACwAAAAsQAAALIAAACzAAAAtAAAALUAAAC2AAAAtwAAALgAAAC5AAAAugAAALsAAAC8AAAAvQAAAL4AAAC/AAAAwAAAAMEAAADCAAAAwwAAAMQAAADFAAAAxgAAAMcAAADIAAAAyQAAAMoAAADLAAAAzAAAAM0AAADOAAAAzwAAANAAAADRAAAA0gAAANMAAADUAAAA1QAAANYAAADXAAAA2AAAANkAAADaAAAA2wAAANwAAADdAAAA3gAAAN8AAADgAAAA4QAAAOIAAADjAAAA5AAAAOUAAADmAAAA5wAAAOgAAADpAAAA6gAAAOsAAADsAAAA7QAAAO4AAADvAAAA8AAAAPEAAADyAAAA8wAAAPQAAAD1AAAA9gAAAPcAAAD4AAAA+QAAAPoAAAD7AAAA/AAAAP0AAAD+AAAA/wAAAAABAAABAQAAAgEAAAMBAAAEAQAABQEAAAYBAAAHAQAACAEAAAkBAAAKAQAACwEAAAwBAAANAQAADgEAAA8BAAAQAQAAEQEAABIBAAATAQAAFAEAAA==\"},\"shape\":[277],\"dtype\":\"int32\",\"order\":\"little\"}],[\"Runtime in nanoseconds\",{\"type\":\"ndarray\",\"array\":{\"type\":\"bytes\",\"data\":\"AAAAAAAAAAAAAAAAAAAAAAAAAAAAAAAAAAAAAAAAAAAAAAAAAAAAAAAAAAAAAAAAAAAAAAAAAAAAAAAAAAAAAAAAAAAAAAAAAAAAAAAAAAAAAAAAAAAAAAAAAAAAAAAAAAAAAAAAAAAAAAAAAAAAAAAAAAAAAAAAAAAAAAAAAAAAAAAAAAAAAAAAAAAAAAAAAAAAAAAAAAAAAAAAAAAAAAAAAAAAAAAAAAAAAAAAAAAAAAAAAAAAAAAAAAAAAAAAAAAAAAAAAAAAAAAAAAAAAAAAAAAAAAAAAAAAAAAAAAAAAAAAAAAAALQeDwAAAAAAAAAAAAAAAAAAAAAAAAAAAAAAAAAAAAAAAAAAAAAAAAAAAAAAAAAAAMgjDwAAAAAAAAAAAAAAAAAAAAAA6JYNAAAAAAAAAAAAAAAAAAAAAAAAAAAANEQPAAAAAAAAAAAAAAAAAGhlDwAAAAAAAAAAAAAAAAAAAAAAAAAAAJwiDwAwZg8AAAAAAAAAAAAAAAAA3EEPAAAAAAAAAAAAAAAAAAAAAAC4Rw8AAAAAAMwaDwCcbQ8AAAAAAAAAAAAAAAAAAAAAAAAAAAAAAAAAAAAAAAAAAAAAAAAAAAAAAAAAAAAAAAAAAAAAAAAAAAAAAAAAAAAAAAAAAAAAAAAAAAAAAAAAAAAAAAAAAAAAAAAAAABEUg8AAAAAAAAAAACISxgAIJ0QADgJDwAAAAAAAAAAADxkDwAAAAAAAAAAAAAAAAAAAAAAAAAAAAAAAAAAAAAA/NQQAOA4DwAAAAAAADwPAAAAAABISQ8AAAAAAHilDwAAAAAAAAAAAAgRDwAAAAAAID8PAAAAAAAAAAAA4PMNAJR/DwBcgA8AQEIPAAAAAAAAAAAAAAAAAAAAAAAAAAAAAAAAANxBDwAAAAAAAAAAAAAAAAAAAAAACEMPAKRCDwDk2BAAzNwQAHAVEQDo6BAAiMYQAAAAAAAYfhQAAAAAAEBCDwBAQg8AQEIPAEBCDwAsPQ8AAAAAAEDxDwAAAAAAoH0PABiDDwAAAAAA3EEPAEBCDwCkQg8AAAAAAAAAAAAAAAAAAAAAAAAAAAAAAAAAAAAAAAAAAABAQg8ApEIPAHhBDwAAAAAAQEIPAEBCDwBAQg8AKEYPAMAvEAAAAAAASHsPAOR6DwCcSRUAXIAPAKytDwAAAAAAWFEQAEBCDwA4QxYA2HwPADQMEAB4QQ8AfAQgANxKTAAExC0A0LghAGBpIgBQLyEA6D8PACgGIgAI2zAAhFowAKyFHgBQrkIAGL8eALysHgBUUyYA8IIeAICEHgB4+h4AvKweAKx7DwD09h4AHIQeAICEHgCAhB4AHIQeAFSDHgBIhR4ANPcfANxBDwAsgSUAhCQgADwMJgCw+R4AoH0PAITNIQAA/hAAgIQeAKRCDwCUxBAANOshAGgSIQBQMSkAPIceANS7HwC4KS0AuD4dAGCkLQCIxy0AGEwtAA==\"},\"shape\":[277],\"dtype\":\"int32\",\"order\":\"little\"}],[\"Runtime_in_nanoseconds\",{\"type\":\"ndarray\",\"array\":{\"type\":\"bytes\",\"data\":\"AAAAAAAAAAAAAAAAAAAAAAAAAAAAAAAAAAAAAAAAAAAAAAAAAAAAAAAAAAAAAAAAAAAAAAAAAAAAAAAAAAAAAAAAAAAAAAAAAAAAAAAAAAAAAAAAAAAAAAAAAAAAAAAAAAAAAAAAAAAAAAAAAAAAAAAAAAAAAAAAAAAAAAAAAAAAAAAAAAAAAAAAAAAAAAAAAAAAAAAAAAAAAAAAAAAAAAAAAAAAAAAAAAAAAAAAAAAAAAAAAAAAAAAAAAAAAAAAAAAAAAAAAAAAAAAAAAAAAAAAAAAAAAAAAAAAAAAAAAAAAAAAAAAAALQeDwAAAAAAAAAAAAAAAAAAAAAAAAAAAAAAAAAAAAAAAAAAAAAAAAAAAAAAAAAAAMgjDwAAAAAAAAAAAAAAAAAAAAAA6JYNAAAAAAAAAAAAAAAAAAAAAAAAAAAANEQPAAAAAAAAAAAAAAAAAGhlDwAAAAAAAAAAAAAAAAAAAAAAAAAAAJwiDwAwZg8AAAAAAAAAAAAAAAAA3EEPAAAAAAAAAAAAAAAAAAAAAAC4Rw8AAAAAAMwaDwCcbQ8AAAAAAAAAAAAAAAAAAAAAAAAAAAAAAAAAAAAAAAAAAAAAAAAAAAAAAAAAAAAAAAAAAAAAAAAAAAAAAAAAAAAAAAAAAAAAAAAAAAAAAAAAAAAAAAAAAAAAAAAAAABEUg8AAAAAAAAAAACISxgAIJ0QADgJDwAAAAAAAAAAADxkDwAAAAAAAAAAAAAAAAAAAAAAAAAAAAAAAAAAAAAA/NQQAOA4DwAAAAAAADwPAAAAAABISQ8AAAAAAHilDwAAAAAAAAAAAAgRDwAAAAAAID8PAAAAAAAAAAAA4PMNAJR/DwBcgA8AQEIPAAAAAAAAAAAAAAAAAAAAAAAAAAAAAAAAANxBDwAAAAAAAAAAAAAAAAAAAAAACEMPAKRCDwDk2BAAzNwQAHAVEQDo6BAAiMYQAAAAAAAYfhQAAAAAAEBCDwBAQg8AQEIPAEBCDwAsPQ8AAAAAAEDxDwAAAAAAoH0PABiDDwAAAAAA3EEPAEBCDwCkQg8AAAAAAAAAAAAAAAAAAAAAAAAAAAAAAAAAAAAAAAAAAABAQg8ApEIPAHhBDwAAAAAAQEIPAEBCDwBAQg8AKEYPAMAvEAAAAAAASHsPAOR6DwCcSRUAXIAPAKytDwAAAAAAWFEQAEBCDwA4QxYA2HwPADQMEAB4QQ8AfAQgANxKTAAExC0A0LghAGBpIgBQLyEA6D8PACgGIgAI2zAAhFowAKyFHgBQrkIAGL8eALysHgBUUyYA8IIeAICEHgB4+h4AvKweAKx7DwD09h4AHIQeAICEHgCAhB4AHIQeAFSDHgBIhR4ANPcfANxBDwAsgSUAhCQgADwMJgCw+R4AoH0PAITNIQAA/hAAgIQeAKRCDwCUxBAANOshAGgSIQBQMSkAPIceANS7HwC4KS0AuD4dAGCkLQCIxy0AGEwtAA==\"},\"shape\":[277],\"dtype\":\"int32\",\"order\":\"little\"}],[\"Algorithm\",[\"Greedy\",\"Greedy\",\"Greedy\",\"Greedy\",\"Greedy\",\"Greedy\",\"Greedy\",\"Greedy\",\"Greedy\",\"Greedy\",\"Greedy\",\"Greedy\",\"Greedy\",\"Greedy\",\"Greedy\",\"Greedy\",\"Greedy\",\"Greedy\",\"Greedy\",\"Greedy\",\"Greedy\",\"Greedy\",\"Greedy\",\"Greedy\",\"Greedy\",\"Greedy\",\"Greedy\",\"Greedy\",\"Greedy\",\"Greedy\",\"Greedy\",\"Greedy\",\"Greedy\",\"Greedy\",\"Greedy\",\"Greedy\",\"Greedy\",\"Greedy\",\"Greedy\",\"Greedy\",\"Greedy\",\"Greedy\",\"Greedy\",\"Greedy\",\"Greedy\",\"Greedy\",\"Greedy\",\"Greedy\",\"Greedy\",\"Greedy\",\"Greedy\",\"Greedy\",\"Greedy\",\"Greedy\",\"Greedy\",\"Greedy\",\"Greedy\",\"Greedy\",\"Greedy\",\"Greedy\",\"Greedy\",\"Greedy\",\"Greedy\",\"Greedy\",\"Greedy\",\"Greedy\",\"Greedy\",\"Greedy\",\"Greedy\",\"Greedy\",\"Greedy\",\"Greedy\",\"Greedy\",\"Greedy\",\"Greedy\",\"Greedy\",\"Greedy\",\"Greedy\",\"Greedy\",\"Greedy\",\"Greedy\",\"Greedy\",\"Greedy\",\"Greedy\",\"Greedy\",\"Greedy\",\"Greedy\",\"Greedy\",\"Greedy\",\"Greedy\",\"Greedy\",\"Greedy\",\"Greedy\",\"Greedy\",\"Greedy\",\"Greedy\",\"Greedy\",\"Greedy\",\"Greedy\",\"Greedy\",\"Greedy\",\"Greedy\",\"Greedy\",\"Greedy\",\"Greedy\",\"Greedy\",\"Greedy\",\"Greedy\",\"Greedy\",\"Greedy\",\"Greedy\",\"Greedy\",\"Greedy\",\"Greedy\",\"Greedy\",\"Greedy\",\"Greedy\",\"Greedy\",\"Greedy\",\"Greedy\",\"Greedy\",\"Greedy\",\"Greedy\",\"Greedy\",\"Greedy\",\"Greedy\",\"Greedy\",\"Greedy\",\"Greedy\",\"Greedy\",\"Greedy\",\"Greedy\",\"Greedy\",\"Greedy\",\"Greedy\",\"Greedy\",\"Greedy\",\"Greedy\",\"Greedy\",\"Greedy\",\"Greedy\",\"Greedy\",\"Greedy\",\"Greedy\",\"Greedy\",\"Greedy\",\"Greedy\",\"Greedy\",\"Greedy\",\"Greedy\",\"Greedy\",\"Greedy\",\"Greedy\",\"Greedy\",\"Greedy\",\"Greedy\",\"Greedy\",\"Greedy\",\"Greedy\",\"Greedy\",\"Greedy\",\"Greedy\",\"Greedy\",\"Greedy\",\"Greedy\",\"Greedy\",\"Greedy\",\"Greedy\",\"Greedy\",\"Greedy\",\"Greedy\",\"Greedy\",\"Greedy\",\"Greedy\",\"Greedy\",\"Greedy\",\"Greedy\",\"Greedy\",\"Greedy\",\"Greedy\",\"Greedy\",\"Greedy\",\"Greedy\",\"Greedy\",\"Greedy\",\"Greedy\",\"Greedy\",\"Greedy\",\"Greedy\",\"Greedy\",\"Greedy\",\"Greedy\",\"Greedy\",\"Greedy\",\"Greedy\",\"Greedy\",\"Greedy\",\"Greedy\",\"Greedy\",\"Greedy\",\"Greedy\",\"Greedy\",\"Greedy\",\"Greedy\",\"Greedy\",\"Greedy\",\"Greedy\",\"Greedy\",\"Greedy\",\"Greedy\",\"Greedy\",\"Greedy\",\"Greedy\",\"Greedy\",\"Greedy\",\"Greedy\",\"Greedy\",\"Greedy\",\"Greedy\",\"Greedy\",\"Greedy\",\"Greedy\",\"Greedy\",\"Greedy\",\"Greedy\",\"Greedy\",\"Greedy\",\"Greedy\",\"Greedy\",\"Greedy\",\"Greedy\",\"Greedy\",\"Greedy\",\"Greedy\",\"Greedy\",\"Greedy\",\"Greedy\",\"Greedy\",\"Greedy\",\"Greedy\",\"Greedy\",\"Greedy\",\"Greedy\",\"Greedy\",\"Greedy\",\"Greedy\",\"Greedy\",\"Greedy\",\"Greedy\",\"Greedy\",\"Greedy\",\"Greedy\",\"Greedy\",\"Greedy\",\"Greedy\",\"Greedy\",\"Greedy\",\"Greedy\",\"Greedy\",\"Greedy\",\"Greedy\",\"Greedy\",\"Greedy\",\"Greedy\",\"Greedy\",\"Greedy\",\"Greedy\",\"Greedy\",\"Greedy\",\"Greedy\",\"Greedy\",\"Greedy\",\"Greedy\",\"Greedy\",\"Greedy\",\"Greedy\",\"Greedy\"]]]}}},\"view\":{\"type\":\"object\",\"name\":\"CDSView\",\"id\":\"926432a7-7452-472a-8a22-b31cb3e97ec4\",\"attributes\":{\"filter\":{\"type\":\"object\",\"name\":\"AllIndices\",\"id\":\"165614a3-4c17-4095-a2d5-c8c114e95d70\"}}},\"glyph\":{\"type\":\"object\",\"name\":\"Line\",\"id\":\"7130b498-745f-43d2-af55-0f57c447e21b\",\"attributes\":{\"tags\":[\"apply_ranges\"],\"x\":{\"type\":\"field\",\"field\":\"Size\"},\"y\":{\"type\":\"field\",\"field\":\"Runtime in nanoseconds\"},\"line_color\":\"#e5ae38\",\"line_width\":2}},\"selection_glyph\":{\"type\":\"object\",\"name\":\"Line\",\"id\":\"abc632dd-b8c0-4e20-8c01-e6033a8f1eb9\",\"attributes\":{\"tags\":[\"apply_ranges\"],\"x\":{\"type\":\"field\",\"field\":\"Size\"},\"y\":{\"type\":\"field\",\"field\":\"Runtime in nanoseconds\"},\"line_color\":\"#e5ae38\",\"line_width\":2}},\"nonselection_glyph\":{\"type\":\"object\",\"name\":\"Line\",\"id\":\"a88d470f-602e-4a64-84b6-856b3a920396\",\"attributes\":{\"tags\":[\"apply_ranges\"],\"x\":{\"type\":\"field\",\"field\":\"Size\"},\"y\":{\"type\":\"field\",\"field\":\"Runtime in nanoseconds\"},\"line_color\":\"#e5ae38\",\"line_alpha\":0.1,\"line_width\":2}},\"muted_glyph\":{\"type\":\"object\",\"name\":\"Line\",\"id\":\"9dc5d54e-a2f7-4696-b33e-106021588017\",\"attributes\":{\"tags\":[\"apply_ranges\"],\"x\":{\"type\":\"field\",\"field\":\"Size\"},\"y\":{\"type\":\"field\",\"field\":\"Runtime in nanoseconds\"},\"line_color\":\"#e5ae38\",\"line_alpha\":0.2,\"line_width\":2}}}}],\"toolbar\":{\"type\":\"object\",\"name\":\"Toolbar\",\"id\":\"3f033995-6686-4d69-b939-76b54c2d0166\",\"attributes\":{\"tools\":[{\"type\":\"object\",\"name\":\"WheelZoomTool\",\"id\":\"58c1c538-0f1b-4c84-ad61-ffa2cd7b9805\",\"attributes\":{\"tags\":[\"hv_created\"],\"renderers\":\"auto\",\"zoom_together\":\"none\"}},{\"type\":\"object\",\"name\":\"HoverTool\",\"id\":\"a27f235f-5bb6-44cd-9a9a-c68dabd8bea1\",\"attributes\":{\"tags\":[\"hv_created\"],\"renderers\":[{\"id\":\"dc5a6ccb-3e88-4de6-ad35-fc090117f745\"},{\"id\":\"a5f73c5a-deec-4d4f-ac20-ac4824e7ebed\"},{\"id\":\"88f54aca-4278-4b03-bdea-a7da355c49c6\"}],\"tooltips\":[[\"Algorithm\",\"@{Algorithm}\"],[\"Size\",\"@{Size}\"],[\"Runtime in nanoseconds\",\"@{Runtime_in_nanoseconds}\"]]}},{\"type\":\"object\",\"name\":\"SaveTool\",\"id\":\"b53f1c57-fae3-4f3b-9178-7ba867893dc1\"},{\"type\":\"object\",\"name\":\"PanTool\",\"id\":\"d5c64771-321f-4143-8139-c574cdb03857\"},{\"type\":\"object\",\"name\":\"BoxZoomTool\",\"id\":\"cfcac56e-bb97-45b3-b49d-0f4380fdf0b1\",\"attributes\":{\"overlay\":{\"type\":\"object\",\"name\":\"BoxAnnotation\",\"id\":\"90350211-de37-43af-a5dc-ba04f3bed18a\",\"attributes\":{\"syncable\":false,\"level\":\"overlay\",\"visible\":false,\"left\":{\"type\":\"number\",\"value\":\"nan\"},\"right\":{\"type\":\"number\",\"value\":\"nan\"},\"top\":{\"type\":\"number\",\"value\":\"nan\"},\"bottom\":{\"type\":\"number\",\"value\":\"nan\"},\"left_units\":\"canvas\",\"right_units\":\"canvas\",\"top_units\":\"canvas\",\"bottom_units\":\"canvas\",\"line_color\":\"black\",\"line_alpha\":1.0,\"line_width\":2,\"line_dash\":[4,4],\"fill_color\":\"lightgrey\",\"fill_alpha\":0.5}}}},{\"type\":\"object\",\"name\":\"ResetTool\",\"id\":\"b5419c3b-0bd4-4c03-b582-0ce3f6e2238a\"}],\"active_drag\":{\"id\":\"d5c64771-321f-4143-8139-c574cdb03857\"},\"active_scroll\":{\"id\":\"58c1c538-0f1b-4c84-ad61-ffa2cd7b9805\"}}},\"left\":[{\"type\":\"object\",\"name\":\"LinearAxis\",\"id\":\"942c7d7e-8b79-4d49-8ffd-2689148e4531\",\"attributes\":{\"ticker\":{\"type\":\"object\",\"name\":\"BasicTicker\",\"id\":\"f529aa29-2f3a-4728-b6c7-55afbd895d24\",\"attributes\":{\"mantissas\":[1,2,5]}},\"formatter\":{\"type\":\"object\",\"name\":\"BasicTickFormatter\",\"id\":\"bf6d4561-9076-4f24-bf99-0d250af7a475\"},\"axis_label\":\"Runtime in nanoseconds\",\"major_label_policy\":{\"type\":\"object\",\"name\":\"AllLabels\",\"id\":\"5c1d1253-cebf-4910-b844-5e42b8a5d2f2\"}}}],\"right\":[{\"type\":\"object\",\"name\":\"Legend\",\"id\":\"9bc7a270-3a31-44e5-a7dc-4b6725ae4f06\",\"attributes\":{\"location\":[0,0],\"title\":\"Algorithm\",\"click_policy\":\"mute\",\"items\":[{\"type\":\"object\",\"name\":\"LegendItem\",\"id\":\"99467de9-9e5b-4bd8-8d94-db801a5146c6\",\"attributes\":{\"label\":{\"type\":\"value\",\"value\":\"Divide and Conquer\"},\"renderers\":[{\"id\":\"dc5a6ccb-3e88-4de6-ad35-fc090117f745\"}]}},{\"type\":\"object\",\"name\":\"LegendItem\",\"id\":\"74c8b663-1615-4a21-af77-64aa3f0bef63\",\"attributes\":{\"label\":{\"type\":\"value\",\"value\":\"Dynamic\"},\"renderers\":[{\"id\":\"a5f73c5a-deec-4d4f-ac20-ac4824e7ebed\"}]}},{\"type\":\"object\",\"name\":\"LegendItem\",\"id\":\"984189ae-091d-4640-a7c9-9cc8c93ddf0e\",\"attributes\":{\"label\":{\"type\":\"value\",\"value\":\"Greedy\"},\"renderers\":[{\"id\":\"88f54aca-4278-4b03-bdea-a7da355c49c6\"}]}}]}}],\"below\":[{\"type\":\"object\",\"name\":\"LinearAxis\",\"id\":\"0ce1384a-aab5-407f-825b-23c1df650d1b\",\"attributes\":{\"ticker\":{\"type\":\"object\",\"name\":\"BasicTicker\",\"id\":\"a8500cd0-8f5e-4812-9dc3-b4a3c90b07c0\",\"attributes\":{\"mantissas\":[1,2,5]}},\"formatter\":{\"type\":\"object\",\"name\":\"BasicTickFormatter\",\"id\":\"4d86d382-b852-4868-926a-aca5c7d1b0f9\"},\"axis_label\":\"Size\",\"major_label_policy\":{\"type\":\"object\",\"name\":\"AllLabels\",\"id\":\"9f7f41d9-3d97-45bf-b878-1b6df0045790\"}}}],\"center\":[{\"type\":\"object\",\"name\":\"Grid\",\"id\":\"c452cf0e-0f90-49be-a547-8d7b07df758c\",\"attributes\":{\"axis\":{\"id\":\"0ce1384a-aab5-407f-825b-23c1df650d1b\"},\"grid_line_color\":null}},{\"type\":\"object\",\"name\":\"Grid\",\"id\":\"2f9c25cb-7aef-4551-b217-e2a917ff4d6a\",\"attributes\":{\"dimension\":1,\"axis\":{\"id\":\"942c7d7e-8b79-4d49-8ffd-2689148e4531\"},\"grid_line_color\":null}}],\"min_border_top\":10,\"min_border_bottom\":10,\"min_border_left\":10,\"min_border_right\":10,\"output_backend\":\"webgl\"}}]}}]}},{\"type\":\"object\",\"name\":\"panel.models.comm_manager.CommManager\",\"id\":\"68ea8142-f4bf-487b-a86a-1da7956c580e\",\"attributes\":{\"plot_id\":\"e9bf4a70-0304-4c68-9fa3-645234e8fcab\",\"comm_id\":\"70b7927c9a4d4658869193dcc85372ef\",\"client_comm_id\":\"9273f7017cb646629f81ea4a1e1d0037\"}}],\"defs\":[{\"type\":\"model\",\"name\":\"ReactiveHTML1\"},{\"type\":\"model\",\"name\":\"FlexBox1\",\"properties\":[{\"name\":\"align_content\",\"kind\":\"Any\",\"default\":\"flex-start\"},{\"name\":\"align_items\",\"kind\":\"Any\",\"default\":\"flex-start\"},{\"name\":\"flex_direction\",\"kind\":\"Any\",\"default\":\"row\"},{\"name\":\"flex_wrap\",\"kind\":\"Any\",\"default\":\"wrap\"},{\"name\":\"gap\",\"kind\":\"Any\",\"default\":\"\"},{\"name\":\"justify_content\",\"kind\":\"Any\",\"default\":\"flex-start\"}]},{\"type\":\"model\",\"name\":\"FloatPanel1\",\"properties\":[{\"name\":\"config\",\"kind\":\"Any\",\"default\":{\"type\":\"map\"}},{\"name\":\"contained\",\"kind\":\"Any\",\"default\":true},{\"name\":\"position\",\"kind\":\"Any\",\"default\":\"right-top\"},{\"name\":\"offsetx\",\"kind\":\"Any\",\"default\":null},{\"name\":\"offsety\",\"kind\":\"Any\",\"default\":null},{\"name\":\"theme\",\"kind\":\"Any\",\"default\":\"primary\"},{\"name\":\"status\",\"kind\":\"Any\",\"default\":\"normalized\"}]},{\"type\":\"model\",\"name\":\"GridStack1\",\"properties\":[{\"name\":\"mode\",\"kind\":\"Any\",\"default\":\"warn\"},{\"name\":\"ncols\",\"kind\":\"Any\",\"default\":null},{\"name\":\"nrows\",\"kind\":\"Any\",\"default\":null},{\"name\":\"allow_resize\",\"kind\":\"Any\",\"default\":true},{\"name\":\"allow_drag\",\"kind\":\"Any\",\"default\":true},{\"name\":\"state\",\"kind\":\"Any\",\"default\":[]}]},{\"type\":\"model\",\"name\":\"drag1\",\"properties\":[{\"name\":\"slider_width\",\"kind\":\"Any\",\"default\":5},{\"name\":\"slider_color\",\"kind\":\"Any\",\"default\":\"black\"},{\"name\":\"value\",\"kind\":\"Any\",\"default\":50}]},{\"type\":\"model\",\"name\":\"click1\",\"properties\":[{\"name\":\"terminal_output\",\"kind\":\"Any\",\"default\":\"\"},{\"name\":\"debug_name\",\"kind\":\"Any\",\"default\":\"\"},{\"name\":\"clears\",\"kind\":\"Any\",\"default\":0}]},{\"type\":\"model\",\"name\":\"FastWrapper1\",\"properties\":[{\"name\":\"object\",\"kind\":\"Any\",\"default\":null},{\"name\":\"style\",\"kind\":\"Any\",\"default\":null}]},{\"type\":\"model\",\"name\":\"NotificationAreaBase1\",\"properties\":[{\"name\":\"js_events\",\"kind\":\"Any\",\"default\":{\"type\":\"map\"}},{\"name\":\"position\",\"kind\":\"Any\",\"default\":\"bottom-right\"},{\"name\":\"_clear\",\"kind\":\"Any\",\"default\":0}]},{\"type\":\"model\",\"name\":\"NotificationArea1\",\"properties\":[{\"name\":\"js_events\",\"kind\":\"Any\",\"default\":{\"type\":\"map\"}},{\"name\":\"notifications\",\"kind\":\"Any\",\"default\":[]},{\"name\":\"position\",\"kind\":\"Any\",\"default\":\"bottom-right\"},{\"name\":\"_clear\",\"kind\":\"Any\",\"default\":0},{\"name\":\"types\",\"kind\":\"Any\",\"default\":[{\"type\":\"map\",\"entries\":[[\"type\",\"warning\"],[\"background\",\"#ffc107\"],[\"icon\",{\"type\":\"map\",\"entries\":[[\"className\",\"fas fa-exclamation-triangle\"],[\"tagName\",\"i\"],[\"color\",\"white\"]]}]]},{\"type\":\"map\",\"entries\":[[\"type\",\"info\"],[\"background\",\"#007bff\"],[\"icon\",{\"type\":\"map\",\"entries\":[[\"className\",\"fas fa-info-circle\"],[\"tagName\",\"i\"],[\"color\",\"white\"]]}]]}]}]},{\"type\":\"model\",\"name\":\"Notification\",\"properties\":[{\"name\":\"background\",\"kind\":\"Any\",\"default\":null},{\"name\":\"duration\",\"kind\":\"Any\",\"default\":3000},{\"name\":\"icon\",\"kind\":\"Any\",\"default\":null},{\"name\":\"message\",\"kind\":\"Any\",\"default\":\"\"},{\"name\":\"notification_type\",\"kind\":\"Any\",\"default\":null},{\"name\":\"_destroyed\",\"kind\":\"Any\",\"default\":false}]},{\"type\":\"model\",\"name\":\"TemplateActions1\",\"properties\":[{\"name\":\"open_modal\",\"kind\":\"Any\",\"default\":0},{\"name\":\"close_modal\",\"kind\":\"Any\",\"default\":0}]},{\"type\":\"model\",\"name\":\"BootstrapTemplateActions1\",\"properties\":[{\"name\":\"open_modal\",\"kind\":\"Any\",\"default\":0},{\"name\":\"close_modal\",\"kind\":\"Any\",\"default\":0}]},{\"type\":\"model\",\"name\":\"TemplateEditor1\",\"properties\":[{\"name\":\"layout\",\"kind\":\"Any\",\"default\":[]}]},{\"type\":\"model\",\"name\":\"MaterialTemplateActions1\",\"properties\":[{\"name\":\"open_modal\",\"kind\":\"Any\",\"default\":0},{\"name\":\"close_modal\",\"kind\":\"Any\",\"default\":0}]},{\"type\":\"model\",\"name\":\"copy_to_clipboard1\",\"properties\":[{\"name\":\"fill\",\"kind\":\"Any\",\"default\":\"none\"},{\"name\":\"value\",\"kind\":\"Any\",\"default\":null}]}]}};\n",
       "  var render_items = [{\"docid\":\"d8eec42b-ca6d-49e7-aa62-5fa82275551b\",\"roots\":{\"e9bf4a70-0304-4c68-9fa3-645234e8fcab\":\"b2582c5b-c7ed-4748-a432-20e85fa4c33f\"},\"root_ids\":[\"e9bf4a70-0304-4c68-9fa3-645234e8fcab\"]}];\n",
       "  var docs = Object.values(docs_json)\n",
       "  if (!docs) {\n",
       "    return\n",
       "  }\n",
       "  const py_version = docs[0].version.replace('rc', '-rc.').replace('.dev', '-dev.')\n",
       "  function embed_document(root) {\n",
       "    var Bokeh = get_bokeh(root)\n",
       "    Bokeh.embed.embed_items_notebook(docs_json, render_items);\n",
       "    for (const render_item of render_items) {\n",
       "      for (const root_id of render_item.root_ids) {\n",
       "\tconst id_el = document.getElementById(root_id)\n",
       "\tif (id_el.children.length && (id_el.children[0].className === 'bk-root')) {\n",
       "\t  const root_el = id_el.children[0]\n",
       "\t  root_el.id = root_el.id + '-rendered'\n",
       "\t}\n",
       "      }\n",
       "    }\n",
       "  }\n",
       "  function get_bokeh(root) {\n",
       "    if (root.Bokeh === undefined) {\n",
       "      return null\n",
       "    } else if (root.Bokeh.version !== py_version) {\n",
       "      if (root.Bokeh.versions === undefined || !root.Bokeh.versions.has(py_version)) {\n",
       "\treturn null\n",
       "      }\n",
       "      return root.Bokeh.versions.get(py_version);\n",
       "    } else if (root.Bokeh.version === py_version) {\n",
       "      return root.Bokeh\n",
       "    }\n",
       "    return null\n",
       "  }\n",
       "  function is_loaded(root) {\n",
       "    var Bokeh = get_bokeh(root)\n",
       "    return (Bokeh != null && Bokeh.Panel !== undefined && ( root.Tabulator !== undefined) && ( root.Tabulator !== undefined) && ( root.Tabulator !== undefined))\n",
       "  }\n",
       "  if (is_loaded(root)) {\n",
       "    embed_document(root);\n",
       "  } else {\n",
       "    var attempts = 0;\n",
       "    var timer = setInterval(function(root) {\n",
       "      if (is_loaded(root)) {\n",
       "        clearInterval(timer);\n",
       "        embed_document(root);\n",
       "      } else if (document.readyState == \"complete\") {\n",
       "        attempts++;\n",
       "        if (attempts > 200) {\n",
       "          clearInterval(timer);\n",
       "\t  var Bokeh = get_bokeh(root)\n",
       "\t  if (Bokeh == null || Bokeh.Panel == null) {\n",
       "            console.warn(\"Panel: ERROR: Unable to run Panel code because Bokeh or Panel library is missing\");\n",
       "\t  } else {\n",
       "\t    console.warn(\"Panel: WARNING: Attempting to render but not all required libraries could be resolved.\")\n",
       "\t    embed_document(root)\n",
       "\t  }\n",
       "        }\n",
       "      }\n",
       "    }, 25, root)\n",
       "  }\n",
       "})(window);</script>"
      ],
      "application/vnd.holoviews_exec.v0+json": "",
      "text/plain": [
       "<hvplot.interactive.Interactive at 0x20729791f10>"
      ]
     },
     "execution_count": 101,
     "metadata": {
      "application/vnd.holoviews_exec.v0+json": {
       "id": "e9bf4a70-0304-4c68-9fa3-645234e8fcab"
      }
     },
     "output_type": "execute_result"
    }
   ],
   "execution_count": 101
  },
  {
   "cell_type": "code",
   "id": "b2fd52c0e9212ede",
   "metadata": {
    "ExecuteTime": {
     "end_time": "2024-05-08T06:36:34.653800Z",
     "start_time": "2024-05-08T06:36:34.647520Z"
    }
   },
   "source": [
    "# Provide theoretical space and time analysis\n",
    "# Create for-loop to generate a list of theoretical size-time dictionary\n",
    "# FOR TIME AND SPACE COMPLEXITY\n",
    "import math\n",
    "\n",
    "\n",
    "temp_data1 = [{'Algorithm': 'Greedy', 'Size': 0, 'Time Complexity': 0, 'Space Complexity': 0},\n",
    "              {'Algorithm': 'Divide and Conquer', 'Size': 0, 'Time Complexity': 0, 'Space Complexity': 0},\n",
    "              {'Algorithm': 'Dynamic', 'Size': 0, 'Time Complexity': 0, 'Space Complexity': 0}\n",
    "              ]\n",
    "for i in range(1, 277):\n",
    "    # For all algos\n",
    "    g_time = i * math.log(i,2)\n",
    "    g_space = i\n",
    "    temp_data1.append({'Algorithm': 'Greedy', 'Size': i, 'Time Complexity': g_time, 'Space Complexity': i})\n",
    "    \n",
    "    div_time = i * math.log(i, 2)\n",
    "    temp_data1.append({'Algorithm': 'Divide and Conquer', 'Size': i, 'Time Complexity': div_time, 'Space Complexity': i})\n",
    "    \n",
    "    dyn_time = i ** 2\n",
    "    temp_data1.append({'Algorithm': 'Dynamic', 'Size': i, 'Time Complexity': dyn_time, 'Space Complexity': i ** 2})\n",
    "   # temp_data.append({'Size': i, 'Greedy Runtime': g_time, 'Divide and Conquer Runtime': div_time, 'Dynamic Runtime': dyn_time})\n",
    "\n"
   ],
   "outputs": [],
   "execution_count": 102
  },
  {
   "cell_type": "code",
   "id": "1980107a1eb2de24",
   "metadata": {
    "ExecuteTime": {
     "end_time": "2024-05-08T06:36:35.679344Z",
     "start_time": "2024-05-08T06:36:35.659397Z"
    }
   },
   "source": [
    "# Make a dataframe\n",
    "df1 = pd.DataFrame(temp_data1)\n",
    "print(df1)\n",
    "\n",
    "# Make it interactive\n",
    "idf1 = df1.interactive()"
   ],
   "outputs": [
    {
     "name": "stdout",
     "output_type": "stream",
     "text": [
      "              Algorithm  Size  Time Complexity  Space Complexity\n",
      "0                Greedy     0         0.000000                 0\n",
      "1    Divide and Conquer     0         0.000000                 0\n",
      "2               Dynamic     0         0.000000                 0\n",
      "3                Greedy     1         0.000000                 1\n",
      "4    Divide and Conquer     1         0.000000                 1\n",
      "..                  ...   ...              ...               ...\n",
      "826  Divide and Conquer   275      2228.404147               275\n",
      "827             Dynamic   275     75625.000000             75625\n",
      "828              Greedy   276      2237.952750               276\n",
      "829  Divide and Conquer   276      2237.952750               276\n",
      "830             Dynamic   276     76176.000000             76176\n",
      "\n",
      "[831 rows x 4 columns]\n"
     ]
    }
   ],
   "execution_count": 103
  },
  {
   "cell_type": "code",
   "id": "81c7c0c5840ee340",
   "metadata": {
    "ExecuteTime": {
     "end_time": "2024-05-08T06:36:36.556239Z",
     "start_time": "2024-05-08T06:36:36.551867Z"
    }
   },
   "source": [
    "# Define panel widgets\n",
    "size_slider = pn.widgets.IntSlider(name='Size', start=1, end=276, step=1)"
   ],
   "outputs": [],
   "execution_count": 104
  },
  {
   "cell_type": "code",
   "id": "e913062a71337ef3",
   "metadata": {
    "ExecuteTime": {
     "end_time": "2024-05-08T06:36:39.246800Z",
     "start_time": "2024-05-08T06:36:39.242317Z"
    }
   },
   "source": [
    "# Radio buttons for different algorithm runtimes\n",
    "yaxis = pn.widgets.RadioButtonGroup(\n",
    "    name = 'Y Axis',\n",
    "    options = ['Time Complexity','Space Complexity'],\n",
    "    button_type='success'\n",
    ")"
   ],
   "outputs": [],
   "execution_count": 105
  },
  {
   "cell_type": "code",
   "id": "962d0265d84f9b5a",
   "metadata": {
    "ExecuteTime": {
     "end_time": "2024-05-08T06:36:40.200613Z",
     "start_time": "2024-05-08T06:36:40.113761Z"
    }
   },
   "source": [
    "algos = ['Greedy', 'Divide and Conquer', 'Dynamic']\n",
    "runtime_pipeline = (\n",
    "    idf1[(idf1['Size'] <= size_slider)]\n",
    "    .reset_index()\n",
    "    .reset_index(drop=True)\n",
    ")\n"
   ],
   "outputs": [],
   "execution_count": 106
  },
  {
   "cell_type": "code",
   "id": "1e01b173d3f40b54",
   "metadata": {
    "ExecuteTime": {
     "end_time": "2024-05-08T06:36:41.010898Z",
     "start_time": "2024-05-08T06:36:40.878090Z"
    }
   },
   "source": [
    "runtime_plot = runtime_pipeline.hvplot(x = 'Size', by='Algorithm', y=yaxis, line_width=2, title='Theoretical Complexity Comparison')\n",
    "runtime_plot"
   ],
   "outputs": [
    {
     "data": {},
     "metadata": {},
     "output_type": "display_data"
    },
    {
     "data": {},
     "metadata": {},
     "output_type": "display_data"
    },
    {
     "data": {
      "text/html": [
       "<div id='ca174078-00ee-49f5-b41a-d080c22108b4'>\n",
       "  <div id=\"c71c5f76-0768-401e-a16d-4670a9f71bd3\" data-root-id=\"ca174078-00ee-49f5-b41a-d080c22108b4\" style=\"display: contents;\"></div>\n",
       "</div>\n",
       "<script type=\"application/javascript\">(function(root) {\n",
       "  var docs_json = {\"83c87e22-8e37-4bab-8aaa-ee8ebfd0273f\":{\"version\":\"3.4.1\",\"title\":\"Bokeh Application\",\"roots\":[{\"type\":\"object\",\"name\":\"Row\",\"id\":\"ca174078-00ee-49f5-b41a-d080c22108b4\",\"attributes\":{\"name\":\"Row149309\",\"stylesheets\":[\"\\n:host(.pn-loading):before, .pn-loading:before {\\n  background-color: #c3c3c3;\\n  mask-size: auto calc(min(50%, 400px));\\n  -webkit-mask-size: auto calc(min(50%, 400px));\\n}\",{\"type\":\"object\",\"name\":\"ImportedStyleSheet\",\"id\":\"341d618a-1bd8-4ced-b630-82ade50f1d21\",\"attributes\":{\"url\":\"https://cdn.holoviz.org/panel/1.4.2/dist/css/loading.css\"}},{\"type\":\"object\",\"name\":\"ImportedStyleSheet\",\"id\":\"00ad4111-7072-4fbe-9fe3-dc4eddc0c795\",\"attributes\":{\"url\":\"https://cdn.holoviz.org/panel/1.4.2/dist/css/listpanel.css\"}},{\"type\":\"object\",\"name\":\"ImportedStyleSheet\",\"id\":\"559732a6-279f-4727-8a8c-4a389bda605c\",\"attributes\":{\"url\":\"https://cdn.holoviz.org/panel/1.4.2/dist/bundled/theme/default.css\"}},{\"type\":\"object\",\"name\":\"ImportedStyleSheet\",\"id\":\"78122a35-ed39-4f80-b695-3f0b0de60802\",\"attributes\":{\"url\":\"https://cdn.holoviz.org/panel/1.4.2/dist/bundled/theme/native.css\"}}],\"margin\":0,\"align\":\"start\",\"children\":[{\"type\":\"object\",\"name\":\"panel.models.layout.Column\",\"id\":\"2e9fa581-edb0-4686-af4e-f1c343160b39\",\"attributes\":{\"name\":\"Column149308\",\"stylesheets\":[\"\\n:host(.pn-loading):before, .pn-loading:before {\\n  background-color: #c3c3c3;\\n  mask-size: auto calc(min(50%, 400px));\\n  -webkit-mask-size: auto calc(min(50%, 400px));\\n}\",{\"id\":\"341d618a-1bd8-4ced-b630-82ade50f1d21\"},{\"id\":\"00ad4111-7072-4fbe-9fe3-dc4eddc0c795\"},{\"id\":\"559732a6-279f-4727-8a8c-4a389bda605c\"},{\"id\":\"78122a35-ed39-4f80-b695-3f0b0de60802\"}],\"margin\":0,\"align\":\"start\",\"children\":[{\"type\":\"object\",\"name\":\"panel.models.layout.Column\",\"id\":\"570a70c5-d063-4945-b189-b7d8ff2f5d32\",\"attributes\":{\"name\":\"Column149299\",\"stylesheets\":[\"\\n:host(.pn-loading):before, .pn-loading:before {\\n  background-color: #c3c3c3;\\n  mask-size: auto calc(min(50%, 400px));\\n  -webkit-mask-size: auto calc(min(50%, 400px));\\n}\",{\"id\":\"341d618a-1bd8-4ced-b630-82ade50f1d21\"},{\"id\":\"00ad4111-7072-4fbe-9fe3-dc4eddc0c795\"},{\"id\":\"559732a6-279f-4727-8a8c-4a389bda605c\"},{\"id\":\"78122a35-ed39-4f80-b695-3f0b0de60802\"}],\"margin\":0,\"align\":\"start\",\"children\":[{\"type\":\"object\",\"name\":\"Slider\",\"id\":\"c2ca6d25-3194-4116-aeff-c15729d49b91\",\"attributes\":{\"stylesheets\":[\"\\n:host(.pn-loading):before, .pn-loading:before {\\n  background-color: #c3c3c3;\\n  mask-size: auto calc(min(50%, 400px));\\n  -webkit-mask-size: auto calc(min(50%, 400px));\\n}\",{\"id\":\"341d618a-1bd8-4ced-b630-82ade50f1d21\"},{\"id\":\"559732a6-279f-4727-8a8c-4a389bda605c\"},{\"id\":\"78122a35-ed39-4f80-b695-3f0b0de60802\"}],\"margin\":[5,10],\"align\":\"start\",\"title\":\"Size\",\"start\":1,\"end\":276,\"value\":1}},{\"type\":\"object\",\"name\":\"panel.models.widgets.RadioButtonGroup\",\"id\":\"9deb367a-04e0-4979-833f-2353d203604a\",\"attributes\":{\"button_type\":\"success\",\"css_classes\":[\"solid\"],\"stylesheets\":[\"\\n:host(.pn-loading):before, .pn-loading:before {\\n  background-color: #c3c3c3;\\n  mask-size: auto calc(min(50%, 400px));\\n  -webkit-mask-size: auto calc(min(50%, 400px));\\n}\",{\"id\":\"341d618a-1bd8-4ced-b630-82ade50f1d21\"},{\"type\":\"object\",\"name\":\"ImportedStyleSheet\",\"id\":\"8b196b36-3896-4727-ba2c-e2b7d779c66d\",\"attributes\":{\"url\":\"https://cdn.holoviz.org/panel/1.4.2/dist/css/button.css\"}},{\"id\":\"559732a6-279f-4727-8a8c-4a389bda605c\"},{\"id\":\"78122a35-ed39-4f80-b695-3f0b0de60802\"}],\"margin\":[5,10],\"align\":\"start\",\"labels\":[\"Time Complexity\",\"Space Complexity\"],\"active\":0}}]}},{\"type\":\"object\",\"name\":\"Figure\",\"id\":\"0b80ceeb-9f0b-4bf5-a2b4-8eaec32b8dc6\",\"attributes\":{\"width\":700,\"height\":300,\"margin\":[5,10],\"sizing_mode\":\"fixed\",\"align\":\"start\",\"x_range\":{\"type\":\"object\",\"name\":\"Range1d\",\"id\":\"6c7b13d8-7dba-4ac5-9574-50799d51709f\",\"attributes\":{\"tags\":[[[\"Size\",\"Size\",null]],[]],\"reset_start\":0.0,\"reset_end\":1.0}},\"y_range\":{\"type\":\"object\",\"name\":\"Range1d\",\"id\":\"9ea82147-9eab-47ec-9546-64c8a8dc11aa\",\"attributes\":{\"tags\":[[[\"Time Complexity\",\"Time Complexity\",null]],{\"type\":\"map\",\"entries\":[[\"invert_yaxis\",false],[\"autorange\",false]]}],\"start\":-0.1,\"end\":1.1,\"reset_start\":-0.1,\"reset_end\":1.1}},\"x_scale\":{\"type\":\"object\",\"name\":\"LinearScale\",\"id\":\"eacea70c-2aa3-4ce2-8c34-d36dd30da888\"},\"y_scale\":{\"type\":\"object\",\"name\":\"LinearScale\",\"id\":\"dfa79e2b-6e15-40f0-bb10-b2595438d1ab\"},\"title\":{\"type\":\"object\",\"name\":\"Title\",\"id\":\"fb51af5f-5a60-4ff5-bdd4-9e2c94a6302c\",\"attributes\":{\"text\":\"Theoretical Complexity Comparison\",\"text_color\":\"black\",\"text_font_size\":\"12pt\"}},\"renderers\":[{\"type\":\"object\",\"name\":\"GlyphRenderer\",\"id\":\"bf94b4d0-1426-49e6-9b2c-c88e9fd1e04a\",\"attributes\":{\"name\":\"Divide and Conquer\",\"data_source\":{\"type\":\"object\",\"name\":\"ColumnDataSource\",\"id\":\"5e8b017a-745e-484f-95a1-bbb35f3aa510\",\"attributes\":{\"selected\":{\"type\":\"object\",\"name\":\"Selection\",\"id\":\"c3e862ec-43df-4dd4-af80-0435464360ed\",\"attributes\":{\"indices\":[],\"line_indices\":[]}},\"selection_policy\":{\"type\":\"object\",\"name\":\"UnionRenderers\",\"id\":\"bf10767a-afd1-4d21-b515-44c7194d01f7\"},\"data\":{\"type\":\"map\",\"entries\":[[\"Size\",{\"type\":\"ndarray\",\"array\":{\"type\":\"bytes\",\"data\":\"AAAAAAEAAAA=\"},\"shape\":[2],\"dtype\":\"int32\",\"order\":\"little\"}],[\"Time Complexity\",{\"type\":\"ndarray\",\"array\":{\"type\":\"bytes\",\"data\":\"AAAAAAAAAAAAAAAAAAAAAA==\"},\"shape\":[2],\"dtype\":\"float64\",\"order\":\"little\"}],[\"Time_Complexity\",{\"type\":\"ndarray\",\"array\":{\"type\":\"bytes\",\"data\":\"AAAAAAAAAAAAAAAAAAAAAA==\"},\"shape\":[2],\"dtype\":\"float64\",\"order\":\"little\"}],[\"Algorithm\",[\"Divide and Conquer\",\"Divide and Conquer\"]]]}}},\"view\":{\"type\":\"object\",\"name\":\"CDSView\",\"id\":\"b87fa7fc-3335-4616-a1d0-e31ff08806dd\",\"attributes\":{\"filter\":{\"type\":\"object\",\"name\":\"AllIndices\",\"id\":\"30462b8a-df48-4edf-958f-e93ace6a961a\"}}},\"glyph\":{\"type\":\"object\",\"name\":\"Line\",\"id\":\"4c9c678e-cb8e-4622-8d34-482fb42aa6b6\",\"attributes\":{\"tags\":[\"apply_ranges\"],\"x\":{\"type\":\"field\",\"field\":\"Size\"},\"y\":{\"type\":\"field\",\"field\":\"Time Complexity\"},\"line_color\":\"#30a2da\",\"line_width\":2}},\"selection_glyph\":{\"type\":\"object\",\"name\":\"Line\",\"id\":\"d0d46cf9-251c-48f4-b5b6-0a179e98f4a6\",\"attributes\":{\"tags\":[\"apply_ranges\"],\"x\":{\"type\":\"field\",\"field\":\"Size\"},\"y\":{\"type\":\"field\",\"field\":\"Time Complexity\"},\"line_color\":\"#30a2da\",\"line_width\":2}},\"nonselection_glyph\":{\"type\":\"object\",\"name\":\"Line\",\"id\":\"b658a1a4-be52-496f-b673-584eed57cab8\",\"attributes\":{\"tags\":[\"apply_ranges\"],\"x\":{\"type\":\"field\",\"field\":\"Size\"},\"y\":{\"type\":\"field\",\"field\":\"Time Complexity\"},\"line_color\":\"#30a2da\",\"line_alpha\":0.1,\"line_width\":2}},\"muted_glyph\":{\"type\":\"object\",\"name\":\"Line\",\"id\":\"eff5d36c-361c-4b33-a001-556353d5f146\",\"attributes\":{\"tags\":[\"apply_ranges\"],\"x\":{\"type\":\"field\",\"field\":\"Size\"},\"y\":{\"type\":\"field\",\"field\":\"Time Complexity\"},\"line_color\":\"#30a2da\",\"line_alpha\":0.2,\"line_width\":2}}}},{\"type\":\"object\",\"name\":\"GlyphRenderer\",\"id\":\"07bf9186-dc9f-475b-b919-689edab39a8e\",\"attributes\":{\"name\":\"Dynamic\",\"data_source\":{\"type\":\"object\",\"name\":\"ColumnDataSource\",\"id\":\"dcb60ed6-5ff2-4ab8-ae10-9d55506ce070\",\"attributes\":{\"selected\":{\"type\":\"object\",\"name\":\"Selection\",\"id\":\"6a5321ef-1889-4a79-9a97-5bf3adf8438d\",\"attributes\":{\"indices\":[],\"line_indices\":[]}},\"selection_policy\":{\"type\":\"object\",\"name\":\"UnionRenderers\",\"id\":\"55ddbfed-e64c-4b01-8fad-1b57b771741d\"},\"data\":{\"type\":\"map\",\"entries\":[[\"Size\",{\"type\":\"ndarray\",\"array\":{\"type\":\"bytes\",\"data\":\"AAAAAAEAAAA=\"},\"shape\":[2],\"dtype\":\"int32\",\"order\":\"little\"}],[\"Time Complexity\",{\"type\":\"ndarray\",\"array\":{\"type\":\"bytes\",\"data\":\"AAAAAAAAAAAAAAAAAADwPw==\"},\"shape\":[2],\"dtype\":\"float64\",\"order\":\"little\"}],[\"Time_Complexity\",{\"type\":\"ndarray\",\"array\":{\"type\":\"bytes\",\"data\":\"AAAAAAAAAAAAAAAAAADwPw==\"},\"shape\":[2],\"dtype\":\"float64\",\"order\":\"little\"}],[\"Algorithm\",[\"Dynamic\",\"Dynamic\"]]]}}},\"view\":{\"type\":\"object\",\"name\":\"CDSView\",\"id\":\"a72203c7-6a1e-4085-a2cd-4a9c790e7bbe\",\"attributes\":{\"filter\":{\"type\":\"object\",\"name\":\"AllIndices\",\"id\":\"fe0b7626-cc30-46d8-8c73-8ae1dbac7f36\"}}},\"glyph\":{\"type\":\"object\",\"name\":\"Line\",\"id\":\"c031d921-c3c8-40b7-998a-1b7cd2bda7e1\",\"attributes\":{\"tags\":[\"apply_ranges\"],\"x\":{\"type\":\"field\",\"field\":\"Size\"},\"y\":{\"type\":\"field\",\"field\":\"Time Complexity\"},\"line_color\":\"#fc4f30\",\"line_width\":2}},\"selection_glyph\":{\"type\":\"object\",\"name\":\"Line\",\"id\":\"9d6a98c5-9a9b-4a4a-af99-1d92eeffed11\",\"attributes\":{\"tags\":[\"apply_ranges\"],\"x\":{\"type\":\"field\",\"field\":\"Size\"},\"y\":{\"type\":\"field\",\"field\":\"Time Complexity\"},\"line_color\":\"#fc4f30\",\"line_width\":2}},\"nonselection_glyph\":{\"type\":\"object\",\"name\":\"Line\",\"id\":\"be945059-c44b-4332-bd2d-4661639502e8\",\"attributes\":{\"tags\":[\"apply_ranges\"],\"x\":{\"type\":\"field\",\"field\":\"Size\"},\"y\":{\"type\":\"field\",\"field\":\"Time Complexity\"},\"line_color\":\"#fc4f30\",\"line_alpha\":0.1,\"line_width\":2}},\"muted_glyph\":{\"type\":\"object\",\"name\":\"Line\",\"id\":\"3e2f4bd5-3281-42fc-9654-bd04bc5aac18\",\"attributes\":{\"tags\":[\"apply_ranges\"],\"x\":{\"type\":\"field\",\"field\":\"Size\"},\"y\":{\"type\":\"field\",\"field\":\"Time Complexity\"},\"line_color\":\"#fc4f30\",\"line_alpha\":0.2,\"line_width\":2}}}},{\"type\":\"object\",\"name\":\"GlyphRenderer\",\"id\":\"942fb899-27b2-4540-a618-04b2d92f5010\",\"attributes\":{\"name\":\"Greedy\",\"data_source\":{\"type\":\"object\",\"name\":\"ColumnDataSource\",\"id\":\"86ec245d-24d9-42eb-9636-cfc24cfc2e24\",\"attributes\":{\"selected\":{\"type\":\"object\",\"name\":\"Selection\",\"id\":\"19561e11-d9dd-4f47-9ffa-e33331d6a71e\",\"attributes\":{\"indices\":[],\"line_indices\":[]}},\"selection_policy\":{\"type\":\"object\",\"name\":\"UnionRenderers\",\"id\":\"97d24e50-ac20-400a-beb7-0ff5263d7857\"},\"data\":{\"type\":\"map\",\"entries\":[[\"Size\",{\"type\":\"ndarray\",\"array\":{\"type\":\"bytes\",\"data\":\"AAAAAAEAAAA=\"},\"shape\":[2],\"dtype\":\"int32\",\"order\":\"little\"}],[\"Time Complexity\",{\"type\":\"ndarray\",\"array\":{\"type\":\"bytes\",\"data\":\"AAAAAAAAAAAAAAAAAAAAAA==\"},\"shape\":[2],\"dtype\":\"float64\",\"order\":\"little\"}],[\"Time_Complexity\",{\"type\":\"ndarray\",\"array\":{\"type\":\"bytes\",\"data\":\"AAAAAAAAAAAAAAAAAAAAAA==\"},\"shape\":[2],\"dtype\":\"float64\",\"order\":\"little\"}],[\"Algorithm\",[\"Greedy\",\"Greedy\"]]]}}},\"view\":{\"type\":\"object\",\"name\":\"CDSView\",\"id\":\"5faf9792-672f-45cd-9d4d-372951e7b323\",\"attributes\":{\"filter\":{\"type\":\"object\",\"name\":\"AllIndices\",\"id\":\"a3b8eebf-8d6d-4f39-8174-a0db3494c290\"}}},\"glyph\":{\"type\":\"object\",\"name\":\"Line\",\"id\":\"e44683c0-c48e-4452-a782-8c0345388168\",\"attributes\":{\"tags\":[\"apply_ranges\"],\"x\":{\"type\":\"field\",\"field\":\"Size\"},\"y\":{\"type\":\"field\",\"field\":\"Time Complexity\"},\"line_color\":\"#e5ae38\",\"line_width\":2}},\"selection_glyph\":{\"type\":\"object\",\"name\":\"Line\",\"id\":\"c5a6a027-e8ec-42ee-be9a-5fed759c9bd9\",\"attributes\":{\"tags\":[\"apply_ranges\"],\"x\":{\"type\":\"field\",\"field\":\"Size\"},\"y\":{\"type\":\"field\",\"field\":\"Time Complexity\"},\"line_color\":\"#e5ae38\",\"line_width\":2}},\"nonselection_glyph\":{\"type\":\"object\",\"name\":\"Line\",\"id\":\"74cff43d-7373-471f-a523-d98a4aeae78f\",\"attributes\":{\"tags\":[\"apply_ranges\"],\"x\":{\"type\":\"field\",\"field\":\"Size\"},\"y\":{\"type\":\"field\",\"field\":\"Time Complexity\"},\"line_color\":\"#e5ae38\",\"line_alpha\":0.1,\"line_width\":2}},\"muted_glyph\":{\"type\":\"object\",\"name\":\"Line\",\"id\":\"8eac343f-79ef-4954-b509-be1490751540\",\"attributes\":{\"tags\":[\"apply_ranges\"],\"x\":{\"type\":\"field\",\"field\":\"Size\"},\"y\":{\"type\":\"field\",\"field\":\"Time Complexity\"},\"line_color\":\"#e5ae38\",\"line_alpha\":0.2,\"line_width\":2}}}}],\"toolbar\":{\"type\":\"object\",\"name\":\"Toolbar\",\"id\":\"85400388-adca-4b2d-b7de-c9469665a337\",\"attributes\":{\"tools\":[{\"type\":\"object\",\"name\":\"WheelZoomTool\",\"id\":\"02eb7510-5feb-481f-9571-bbb081b0cb9d\",\"attributes\":{\"tags\":[\"hv_created\"],\"renderers\":\"auto\",\"zoom_together\":\"none\"}},{\"type\":\"object\",\"name\":\"HoverTool\",\"id\":\"06afc4c5-0b23-4445-bdf3-49156a5dcd51\",\"attributes\":{\"tags\":[\"hv_created\"],\"renderers\":[{\"id\":\"bf94b4d0-1426-49e6-9b2c-c88e9fd1e04a\"},{\"id\":\"07bf9186-dc9f-475b-b919-689edab39a8e\"},{\"id\":\"942fb899-27b2-4540-a618-04b2d92f5010\"}],\"tooltips\":[[\"Algorithm\",\"@{Algorithm}\"],[\"Size\",\"@{Size}\"],[\"Time Complexity\",\"@{Time_Complexity}\"]]}},{\"type\":\"object\",\"name\":\"SaveTool\",\"id\":\"13132d9f-225b-4ed0-a3cf-6670e6b66ebe\"},{\"type\":\"object\",\"name\":\"PanTool\",\"id\":\"98dbd4c8-0c2c-4361-abb1-751131634be1\"},{\"type\":\"object\",\"name\":\"BoxZoomTool\",\"id\":\"ae979264-489a-47c7-9f9b-e1fc225945d6\",\"attributes\":{\"overlay\":{\"type\":\"object\",\"name\":\"BoxAnnotation\",\"id\":\"5b1ca6ed-46d8-4e76-9688-24b722a0ec94\",\"attributes\":{\"syncable\":false,\"level\":\"overlay\",\"visible\":false,\"left\":{\"type\":\"number\",\"value\":\"nan\"},\"right\":{\"type\":\"number\",\"value\":\"nan\"},\"top\":{\"type\":\"number\",\"value\":\"nan\"},\"bottom\":{\"type\":\"number\",\"value\":\"nan\"},\"left_units\":\"canvas\",\"right_units\":\"canvas\",\"top_units\":\"canvas\",\"bottom_units\":\"canvas\",\"line_color\":\"black\",\"line_alpha\":1.0,\"line_width\":2,\"line_dash\":[4,4],\"fill_color\":\"lightgrey\",\"fill_alpha\":0.5}}}},{\"type\":\"object\",\"name\":\"ResetTool\",\"id\":\"27cf0f57-88ac-4722-9620-1954f07a2717\"}],\"active_drag\":{\"id\":\"98dbd4c8-0c2c-4361-abb1-751131634be1\"},\"active_scroll\":{\"id\":\"02eb7510-5feb-481f-9571-bbb081b0cb9d\"}}},\"left\":[{\"type\":\"object\",\"name\":\"LinearAxis\",\"id\":\"29aa9b1d-bd77-4e11-85ca-d171b9e1e3e4\",\"attributes\":{\"ticker\":{\"type\":\"object\",\"name\":\"BasicTicker\",\"id\":\"b31ed142-4830-4714-ac29-b10331e6d09f\",\"attributes\":{\"mantissas\":[1,2,5]}},\"formatter\":{\"type\":\"object\",\"name\":\"BasicTickFormatter\",\"id\":\"67bd2daa-f416-44ee-be89-56f31f5f57d6\"},\"axis_label\":\"Time Complexity\",\"major_label_policy\":{\"type\":\"object\",\"name\":\"AllLabels\",\"id\":\"ce830bcc-849b-4e47-a4e9-505738568662\"}}}],\"right\":[{\"type\":\"object\",\"name\":\"Legend\",\"id\":\"cfe97e60-c0fc-4fa5-9b9f-9a3385aac929\",\"attributes\":{\"location\":[0,0],\"title\":\"Algorithm\",\"click_policy\":\"mute\",\"items\":[{\"type\":\"object\",\"name\":\"LegendItem\",\"id\":\"4b993d80-3652-44c1-892e-1014f3e9a49c\",\"attributes\":{\"label\":{\"type\":\"value\",\"value\":\"Divide and Conquer\"},\"renderers\":[{\"id\":\"bf94b4d0-1426-49e6-9b2c-c88e9fd1e04a\"}]}},{\"type\":\"object\",\"name\":\"LegendItem\",\"id\":\"02e8af6e-bd01-44bd-9211-8bf39dee7533\",\"attributes\":{\"label\":{\"type\":\"value\",\"value\":\"Dynamic\"},\"renderers\":[{\"id\":\"07bf9186-dc9f-475b-b919-689edab39a8e\"}]}},{\"type\":\"object\",\"name\":\"LegendItem\",\"id\":\"5096bfeb-d545-4c58-9332-ea3019949c22\",\"attributes\":{\"label\":{\"type\":\"value\",\"value\":\"Greedy\"},\"renderers\":[{\"id\":\"942fb899-27b2-4540-a618-04b2d92f5010\"}]}}]}}],\"below\":[{\"type\":\"object\",\"name\":\"LinearAxis\",\"id\":\"34ea0c18-9fe3-4c7d-9198-9b3aa18e7241\",\"attributes\":{\"ticker\":{\"type\":\"object\",\"name\":\"BasicTicker\",\"id\":\"ea15a5a9-10dd-4bec-aadf-6c51ccebca4f\",\"attributes\":{\"mantissas\":[1,2,5]}},\"formatter\":{\"type\":\"object\",\"name\":\"BasicTickFormatter\",\"id\":\"dc6ac847-1fed-4054-a4c0-76688479431e\"},\"axis_label\":\"Size\",\"major_label_policy\":{\"type\":\"object\",\"name\":\"AllLabels\",\"id\":\"7080c074-4b04-45c7-a2f5-f7270742f087\"}}}],\"center\":[{\"type\":\"object\",\"name\":\"Grid\",\"id\":\"3fda3b4d-ce94-4760-a451-66b6f8e5f1e1\",\"attributes\":{\"axis\":{\"id\":\"34ea0c18-9fe3-4c7d-9198-9b3aa18e7241\"},\"grid_line_color\":null}},{\"type\":\"object\",\"name\":\"Grid\",\"id\":\"15c57281-94d0-48ac-b24b-ea3f22415c8f\",\"attributes\":{\"dimension\":1,\"axis\":{\"id\":\"29aa9b1d-bd77-4e11-85ca-d171b9e1e3e4\"},\"grid_line_color\":null}}],\"min_border_top\":10,\"min_border_bottom\":10,\"min_border_left\":10,\"min_border_right\":10,\"output_backend\":\"webgl\"}}]}}]}},{\"type\":\"object\",\"name\":\"panel.models.comm_manager.CommManager\",\"id\":\"0850126f-bd58-44dc-8c3e-90cad240873a\",\"attributes\":{\"plot_id\":\"ca174078-00ee-49f5-b41a-d080c22108b4\",\"comm_id\":\"0f8fb7461dbb43b5b78d4e2d9a3f9a72\",\"client_comm_id\":\"8940f90215da4b9295df04f7ff0d029a\"}}],\"defs\":[{\"type\":\"model\",\"name\":\"ReactiveHTML1\"},{\"type\":\"model\",\"name\":\"FlexBox1\",\"properties\":[{\"name\":\"align_content\",\"kind\":\"Any\",\"default\":\"flex-start\"},{\"name\":\"align_items\",\"kind\":\"Any\",\"default\":\"flex-start\"},{\"name\":\"flex_direction\",\"kind\":\"Any\",\"default\":\"row\"},{\"name\":\"flex_wrap\",\"kind\":\"Any\",\"default\":\"wrap\"},{\"name\":\"gap\",\"kind\":\"Any\",\"default\":\"\"},{\"name\":\"justify_content\",\"kind\":\"Any\",\"default\":\"flex-start\"}]},{\"type\":\"model\",\"name\":\"FloatPanel1\",\"properties\":[{\"name\":\"config\",\"kind\":\"Any\",\"default\":{\"type\":\"map\"}},{\"name\":\"contained\",\"kind\":\"Any\",\"default\":true},{\"name\":\"position\",\"kind\":\"Any\",\"default\":\"right-top\"},{\"name\":\"offsetx\",\"kind\":\"Any\",\"default\":null},{\"name\":\"offsety\",\"kind\":\"Any\",\"default\":null},{\"name\":\"theme\",\"kind\":\"Any\",\"default\":\"primary\"},{\"name\":\"status\",\"kind\":\"Any\",\"default\":\"normalized\"}]},{\"type\":\"model\",\"name\":\"GridStack1\",\"properties\":[{\"name\":\"mode\",\"kind\":\"Any\",\"default\":\"warn\"},{\"name\":\"ncols\",\"kind\":\"Any\",\"default\":null},{\"name\":\"nrows\",\"kind\":\"Any\",\"default\":null},{\"name\":\"allow_resize\",\"kind\":\"Any\",\"default\":true},{\"name\":\"allow_drag\",\"kind\":\"Any\",\"default\":true},{\"name\":\"state\",\"kind\":\"Any\",\"default\":[]}]},{\"type\":\"model\",\"name\":\"drag1\",\"properties\":[{\"name\":\"slider_width\",\"kind\":\"Any\",\"default\":5},{\"name\":\"slider_color\",\"kind\":\"Any\",\"default\":\"black\"},{\"name\":\"value\",\"kind\":\"Any\",\"default\":50}]},{\"type\":\"model\",\"name\":\"click1\",\"properties\":[{\"name\":\"terminal_output\",\"kind\":\"Any\",\"default\":\"\"},{\"name\":\"debug_name\",\"kind\":\"Any\",\"default\":\"\"},{\"name\":\"clears\",\"kind\":\"Any\",\"default\":0}]},{\"type\":\"model\",\"name\":\"FastWrapper1\",\"properties\":[{\"name\":\"object\",\"kind\":\"Any\",\"default\":null},{\"name\":\"style\",\"kind\":\"Any\",\"default\":null}]},{\"type\":\"model\",\"name\":\"NotificationAreaBase1\",\"properties\":[{\"name\":\"js_events\",\"kind\":\"Any\",\"default\":{\"type\":\"map\"}},{\"name\":\"position\",\"kind\":\"Any\",\"default\":\"bottom-right\"},{\"name\":\"_clear\",\"kind\":\"Any\",\"default\":0}]},{\"type\":\"model\",\"name\":\"NotificationArea1\",\"properties\":[{\"name\":\"js_events\",\"kind\":\"Any\",\"default\":{\"type\":\"map\"}},{\"name\":\"notifications\",\"kind\":\"Any\",\"default\":[]},{\"name\":\"position\",\"kind\":\"Any\",\"default\":\"bottom-right\"},{\"name\":\"_clear\",\"kind\":\"Any\",\"default\":0},{\"name\":\"types\",\"kind\":\"Any\",\"default\":[{\"type\":\"map\",\"entries\":[[\"type\",\"warning\"],[\"background\",\"#ffc107\"],[\"icon\",{\"type\":\"map\",\"entries\":[[\"className\",\"fas fa-exclamation-triangle\"],[\"tagName\",\"i\"],[\"color\",\"white\"]]}]]},{\"type\":\"map\",\"entries\":[[\"type\",\"info\"],[\"background\",\"#007bff\"],[\"icon\",{\"type\":\"map\",\"entries\":[[\"className\",\"fas fa-info-circle\"],[\"tagName\",\"i\"],[\"color\",\"white\"]]}]]}]}]},{\"type\":\"model\",\"name\":\"Notification\",\"properties\":[{\"name\":\"background\",\"kind\":\"Any\",\"default\":null},{\"name\":\"duration\",\"kind\":\"Any\",\"default\":3000},{\"name\":\"icon\",\"kind\":\"Any\",\"default\":null},{\"name\":\"message\",\"kind\":\"Any\",\"default\":\"\"},{\"name\":\"notification_type\",\"kind\":\"Any\",\"default\":null},{\"name\":\"_destroyed\",\"kind\":\"Any\",\"default\":false}]},{\"type\":\"model\",\"name\":\"TemplateActions1\",\"properties\":[{\"name\":\"open_modal\",\"kind\":\"Any\",\"default\":0},{\"name\":\"close_modal\",\"kind\":\"Any\",\"default\":0}]},{\"type\":\"model\",\"name\":\"BootstrapTemplateActions1\",\"properties\":[{\"name\":\"open_modal\",\"kind\":\"Any\",\"default\":0},{\"name\":\"close_modal\",\"kind\":\"Any\",\"default\":0}]},{\"type\":\"model\",\"name\":\"TemplateEditor1\",\"properties\":[{\"name\":\"layout\",\"kind\":\"Any\",\"default\":[]}]},{\"type\":\"model\",\"name\":\"MaterialTemplateActions1\",\"properties\":[{\"name\":\"open_modal\",\"kind\":\"Any\",\"default\":0},{\"name\":\"close_modal\",\"kind\":\"Any\",\"default\":0}]},{\"type\":\"model\",\"name\":\"copy_to_clipboard1\",\"properties\":[{\"name\":\"fill\",\"kind\":\"Any\",\"default\":\"none\"},{\"name\":\"value\",\"kind\":\"Any\",\"default\":null}]}]}};\n",
       "  var render_items = [{\"docid\":\"83c87e22-8e37-4bab-8aaa-ee8ebfd0273f\",\"roots\":{\"ca174078-00ee-49f5-b41a-d080c22108b4\":\"c71c5f76-0768-401e-a16d-4670a9f71bd3\"},\"root_ids\":[\"ca174078-00ee-49f5-b41a-d080c22108b4\"]}];\n",
       "  var docs = Object.values(docs_json)\n",
       "  if (!docs) {\n",
       "    return\n",
       "  }\n",
       "  const py_version = docs[0].version.replace('rc', '-rc.').replace('.dev', '-dev.')\n",
       "  function embed_document(root) {\n",
       "    var Bokeh = get_bokeh(root)\n",
       "    Bokeh.embed.embed_items_notebook(docs_json, render_items);\n",
       "    for (const render_item of render_items) {\n",
       "      for (const root_id of render_item.root_ids) {\n",
       "\tconst id_el = document.getElementById(root_id)\n",
       "\tif (id_el.children.length && (id_el.children[0].className === 'bk-root')) {\n",
       "\t  const root_el = id_el.children[0]\n",
       "\t  root_el.id = root_el.id + '-rendered'\n",
       "\t}\n",
       "      }\n",
       "    }\n",
       "  }\n",
       "  function get_bokeh(root) {\n",
       "    if (root.Bokeh === undefined) {\n",
       "      return null\n",
       "    } else if (root.Bokeh.version !== py_version) {\n",
       "      if (root.Bokeh.versions === undefined || !root.Bokeh.versions.has(py_version)) {\n",
       "\treturn null\n",
       "      }\n",
       "      return root.Bokeh.versions.get(py_version);\n",
       "    } else if (root.Bokeh.version === py_version) {\n",
       "      return root.Bokeh\n",
       "    }\n",
       "    return null\n",
       "  }\n",
       "  function is_loaded(root) {\n",
       "    var Bokeh = get_bokeh(root)\n",
       "    return (Bokeh != null && Bokeh.Panel !== undefined && ( root.Tabulator !== undefined) && ( root.Tabulator !== undefined) && ( root.Tabulator !== undefined))\n",
       "  }\n",
       "  if (is_loaded(root)) {\n",
       "    embed_document(root);\n",
       "  } else {\n",
       "    var attempts = 0;\n",
       "    var timer = setInterval(function(root) {\n",
       "      if (is_loaded(root)) {\n",
       "        clearInterval(timer);\n",
       "        embed_document(root);\n",
       "      } else if (document.readyState == \"complete\") {\n",
       "        attempts++;\n",
       "        if (attempts > 200) {\n",
       "          clearInterval(timer);\n",
       "\t  var Bokeh = get_bokeh(root)\n",
       "\t  if (Bokeh == null || Bokeh.Panel == null) {\n",
       "            console.warn(\"Panel: ERROR: Unable to run Panel code because Bokeh or Panel library is missing\");\n",
       "\t  } else {\n",
       "\t    console.warn(\"Panel: WARNING: Attempting to render but not all required libraries could be resolved.\")\n",
       "\t    embed_document(root)\n",
       "\t  }\n",
       "        }\n",
       "      }\n",
       "    }, 25, root)\n",
       "  }\n",
       "})(window);</script>"
      ],
      "application/vnd.holoviews_exec.v0+json": "",
      "text/plain": [
       "<hvplot.interactive.Interactive at 0x2072984bfe0>"
      ]
     },
     "execution_count": 107,
     "metadata": {
      "application/vnd.holoviews_exec.v0+json": {
       "id": "ca174078-00ee-49f5-b41a-d080c22108b4"
      }
     },
     "output_type": "execute_result"
    }
   ],
   "execution_count": 107
  },
  {
   "cell_type": "code",
   "execution_count": null,
   "id": "6f952973433f82f8",
   "metadata": {},
   "outputs": [],
   "source": []
  },
  {
   "metadata": {},
   "cell_type": "markdown",
   "source": [
    "## Conclusion\n",
    "Based on the grap"
   ],
   "id": "f5cb0464515c49a0"
  }
 ],
 "metadata": {
  "kernelspec": {
   "display_name": "Python 3 (ipykernel)",
   "language": "python",
   "name": "python3"
  },
  "language_info": {
   "codemirror_mode": {
    "name": "ipython",
    "version": 3
   },
   "file_extension": ".py",
   "mimetype": "text/x-python",
   "name": "python",
   "nbconvert_exporter": "python",
   "pygments_lexer": "ipython3",
   "version": "3.12.1"
  }
 },
 "nbformat": 4,
 "nbformat_minor": 5
}
