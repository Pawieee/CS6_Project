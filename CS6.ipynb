{
 "cells": [
  {
   "cell_type": "markdown",
   "id": "7e7c216e271a8eb3",
   "metadata": {},
   "source": [
    "# CS6 PROJECT\n",
    "# ACTIVITY SELECTION PROBLEM: A THREE-WAY APPROACH SOLUTION\n",
    "\n",
    "The activity selection problem is a combinatorial optimization problem that deals with the selection of non-conflicting activities to perform within a given time frame, given a set  of activities each marked by a start time (s)ᵢ and finish time (fᵢ). The problem is to select the maximum number of activities that can be performed by a single person or machine, assuming that a person can only work on a single activity at a time.\n"
   ]
  },
  {
   "cell_type": "markdown",
   "id": "b84b2921ff98dbde",
   "metadata": {},
   "source": [
    "## Problem Statement:\n",
    "Design and implement three approaches of algorithms to solve the activity selection problem, analyze the time and space complexity, and determine which approach is optimal."
   ]
  },
  {
   "cell_type": "markdown",
   "id": "901b44607c836259",
   "metadata": {},
   "source": [
    "## Requirements\n",
    "1. Implement each algorithm approach\n",
    "    * Greedy Algorithm\n",
    "    * Divide and Conquer Algorithm\n",
    "    * Dynamic Programming Algorithm\n",
    "2. Develop a program that generates random tuples of varying sizes for testing purposes.\n",
    "3. Measure the time and space complexity of each algorithm on different sample sizes.\n",
    "4. Analyze and compare the time and space complexity of each algorithm."
   ]
  },
  {
   "cell_type": "markdown",
   "id": "fcebe5f54a785505",
   "metadata": {},
   "source": [
    "## Implementation\n",
    "### Greedy Algorithm"
   ]
  },
  {
   "cell_type": "code",
   "execution_count": 1,
   "id": "255e6f4cbcb23aef",
   "metadata": {},
   "outputs": [],
   "source": [
    "def greedy_algo(activities):\n",
    "   # Sort activities by finish time\n",
    "   activities.sort(key=lambda x: x[1])\n",
    "\n",
    "   # The first activity is always selected\n",
    "   i = 0\n",
    "   final = [activities[0]]\n",
    "\n",
    "   # Consider rest of the activities\n",
    "   for j in range(len(activities)):\n",
    "       # If this activity has start time greater than\n",
    "       # or equal to the finish time of previously selected\n",
    "       # activity, then select it\n",
    "       if activities[j][0] >= activities[i][1]:\n",
    "           final.append(activities[j])\n",
    "           i = j\n",
    "           \n",
    "   return final"
   ]
  },
  {
   "cell_type": "code",
   "execution_count": null,
   "id": "f4837bf38aa57252",
   "metadata": {},
   "outputs": [],
   "source": []
  },
  {
   "cell_type": "markdown",
   "id": "a3e5d0dcab269545",
   "metadata": {},
   "source": [
    "### Divide and Conquer Algorithm"
   ]
  },
  {
   "cell_type": "code",
   "execution_count": 2,
   "id": "143ea9d22f4b03a2",
   "metadata": {},
   "outputs": [],
   "source": [
    "def div_algo(activities):\n",
    "   if len(activities) <= 1:\n",
    "       return activities\n",
    "\n",
    "   mid = len(activities) // 2\n",
    "   left = activities[:mid]\n",
    "   right = activities[mid:]\n",
    "\n",
    "   left = div_algo(left)\n",
    "   right = div_algo(right)\n",
    "\n",
    "   return merge(left, right)\n",
    "\n",
    "def merge(left, right):\n",
    "   merged = []\n",
    "   i = j = 0\n",
    "\n",
    "   while i < len(left) and j < len(right):\n",
    "       if merged:\n",
    "           # Case where merged[] has content/s\n",
    "           # Check for activity with the least finish time\n",
    "           if left[i][1] < right[j][1] and left[i][0] >= merged[-1][1]:\n",
    "               merged.append(left[i])\n",
    "               i += 1\n",
    "           elif left[i][1] > right[j][1] and right[j][0] >= merged[-1][1]:\n",
    "               merged.append(right[j])\n",
    "               j += 1\n",
    "           else:\n",
    "               # If finish times are the same, choose the one that has lesser duration\n",
    "               if left[i][1] - left[i][0] <= right[j][1] - right[j][0] and left[i][0] >= merged[-1][1]:\n",
    "                   merged.append(left[i])\n",
    "                   i += 1\n",
    "               else:\n",
    "                   if right[j][0] >= merged[-1][1]:\n",
    "                       merged.append(right[j])\n",
    "                   j += 1\n",
    "       else:\n",
    "           # Case where merged[] is empty\n",
    "           # Check for activity with the least finish time\n",
    "           if left[i][1] < right[j][1]:\n",
    "               merged.append(left[i])\n",
    "               i += 1\n",
    "           elif left[i][1] > right[j][1]:\n",
    "               merged.append(right[j])\n",
    "               j += 1\n",
    "           else:\n",
    "               # Filter for overlapping time and same finish time\n",
    "               # If finish times are the same, choose the one that has lesser duration\n",
    "               if left[i][1] - left[i][0] <= right[j][1] - right[j][0]:\n",
    "                   merged.append(left[i])\n",
    "                   i += 1\n",
    "               else:\n",
    "                   merged.append(right[j])\n",
    "                   j += 1\n",
    "\n",
    "   # Append any remaining activities from either list\n",
    "   while i < len(left) or j < len(right):\n",
    "       # If there are activities in both halves\n",
    "       if i < len(left) and j < len(right):\n",
    "           lefty = left[i]\n",
    "           righty = right[j]\n",
    "           # Choose the activity with the lowest duration\n",
    "           if lefty[1] - lefty[0] < righty[1] - righty[0]:\n",
    "               if not merged or lefty[0] >= merged[-1][1]:\n",
    "                   merged.append(lefty)\n",
    "               i += 1\n",
    "           else:\n",
    "               if not merged or righty[0] >= merged[-1][1]:\n",
    "                   merged.append(righty)\n",
    "               j += 1\n",
    "       # If there are only activities in the left half\n",
    "       elif i < len(left):\n",
    "           lefty = left[i]\n",
    "           if not merged or lefty[0] >= merged[-1][1]:\n",
    "               merged.append(lefty)\n",
    "           i += 1\n",
    "       # If there are only activities in the right half\n",
    "       elif j < len(right):\n",
    "           righty = right[j]\n",
    "           if not merged or righty[0] >= merged[-1][1]:\n",
    "               merged.append(righty)\n",
    "           j += 1\n",
    "\n",
    "   return merged"
   ]
  },
  {
   "cell_type": "markdown",
   "id": "d059ea28a928d651",
   "metadata": {},
   "source": [
    "### Dynamic Programming Algorithm"
   ]
  },
  {
   "cell_type": "code",
   "execution_count": 3,
   "id": "4a115dbe2026782c",
   "metadata": {},
   "outputs": [],
   "source": [
    "def dynamic_algo(activities):\n",
    "   # Sort activities according to their finish time\n",
    "   activities.sort(key=lambda x: x[1])\n",
    "\n",
    "   n = len(activities)\n",
    "\n",
    "   # Array to store solutions of sub-problems\n",
    "   dp = [0 for _ in range(n)]\n",
    "   selected = [[] for _ in range(n)]\n",
    "\n",
    "\n",
    "   # The first activity always gets selected\n",
    "   dp[0] = 1\n",
    "   selected[0] = [activities[0]]\n",
    "\n",
    "   # Fill entries in dp[] using recursive property\n",
    "   for i in range(1, n):\n",
    "       # Find the maximum number of activities that can\n",
    "       # be performed by including the i-th activity\n",
    "       for j in range(i):\n",
    "           if activities[j][1] <= activities[i][0] and dp[j] + 1 > dp[i]:\n",
    "               dp[i] = dp[j] + 1\n",
    "               selected[i] = selected[j].copy()\n",
    "       if not selected[i] or (selected[i] and selected[i][-1][1] <= activities[i][0]):\n",
    "           selected[i].append(activities[i])\n",
    "\n",
    "   # Find the index of the maximum value in dp[]\n",
    "   max_index = dp.index(max(dp))\n",
    "\n",
    "   return selected[max_index]\n"
   ]
  },
  {
   "cell_type": "markdown",
   "id": "58ed6ad0aa52ff19",
   "metadata": {},
   "source": [
    "### Random list of tuples generation"
   ]
  },
  {
   "cell_type": "code",
   "execution_count": 4,
   "id": "9f519a30598b2834",
   "metadata": {},
   "outputs": [],
   "source": [
    "import random\n",
    "\n",
    "def rand_tuple(size, seed):\n",
    "   random.seed(seed)\n",
    "\n",
    "   tuple_list = []\n",
    "   for _ in range(size):\n",
    "       while True:\n",
    "           s = random.randint(1, 9)\n",
    "           f = random.randint(1, 9)\n",
    "           if s < f:\n",
    "               if (s, f) not in tuple_list:\n",
    "                   tuple_list.append((s, f))\n",
    "                   break\n",
    "                   \n",
    "   return tuple_list"
   ]
  },
  {
   "cell_type": "markdown",
   "id": "b0da0b1ad48f396b",
   "metadata": {},
   "source": [
    "## Time Complexity Analysis\n",
    "### Greedy Algorithm \n",
    "\n",
    "```\n",
    "def greedy_algo(activities):      \t\n",
    " \tactivities.sort(key=lambda x: x[1])                                 \t        O(n log n)\n",
    "\n",
    " \ti = 0                                                                           O(1)\n",
    " \tfinal = [activities[0]]                                                      \tO(1)\n",
    " \tsize = len(activities)                                                     \t    O(1)\n",
    "\n",
    " \tfor j in range(size):                                                       \tO(1)\n",
    "     \tif activities[j][0] >= activities[i][1]:                               \t\n",
    "         \tfinal.append(activities[j])                                       \t\tO(1)\n",
    "         \ti = j                                                                     O(1)\n",
    " \treturn final                                                                   \tO(1)\n",
    " \n",
    "Tgreedy = O(n log n) + O(1) + O(1)  + O(1)  + O(1) + n(O(1) + O(1))\n",
    "      \t= O(n log n) 4 (O(1)) + n (2 O(1))\n",
    "      \t= n log n + C + nC\n",
    "Tgreedy  = O(n log n)\n",
    "```\n",
    "\n",
    "\n",
    "### Divide and Conquer Algorithm\n",
    "\n",
    "```\n",
    "def div_algo(activities):\n",
    " \tif len(activities) <= 1:                                                    \t      \t\n",
    "     \treturn activities                                                                  \tO(1)\n",
    "\n",
    " \tmid = len(activities) // 2                                                          \tO(1)\n",
    " \tleft = activities[:mid]                                                               \tO(1)\n",
    " \tright = activities[mid:]                                                             \tO(1)\n",
    "\n",
    " \tleft = div_algo(left)                                                                 \tO(n/2)\n",
    " \tright = div_algo(right)                                                             \tO(n/2)\n",
    "\n",
    " \treturn merge(left, right)                                                          \t    O(n)\n",
    "\n",
    "\n",
    " def merge(left, right):\n",
    " \tmerged = []                                                                           \tO(1)\n",
    " \ti = j = 0                                                                               O(1)\n",
    "\n",
    " \twhile i < len(left) and j < len(right):                                          \t    O(n)\n",
    "     \tif merged:\n",
    "         \tif left[i][1] < right[j][1] and left[i][0] >= merged[-1][1]:\n",
    "             \tmerged.append(left[i])                                                 \t    O(1)\n",
    "             \ti += 1                                                                      O(1)\n",
    "         \telif left[i][1] > right[j][1] and right[j][0] >= merged[-1][1]:\n",
    "             \tmerged.append(right[j])                                               \t    O(1)\n",
    "             \tj += 1                                                                      O(1)\n",
    "         \telse:\n",
    "             \tif left[i][1] - left[i][0] <= right[j][1] - right[j][0] and left[i][0] >= merged[-1][1]:\n",
    "                 \tmerged.append(left[i])                                             \t    O(1)\n",
    "                 \ti += 1                                                                  O(1)\n",
    "             \telse:\n",
    "                 \tif right[j][0] >= merged[-1][1]:\n",
    "                     \tmerged.append(right[j])                                       \t\tO(1)\n",
    "                 \tj += 1                                                                  O(1)\n",
    "     \telse:\n",
    "     \t    if left[i][1] < right[j][1]:\n",
    "             \tmerged.append(left[i])                                                 \t    O(1)\n",
    "             \ti += 1   \t                                                                O(1)\n",
    "         \telif left[i][1] > right[j][1]:\n",
    "             \tmerged.append(right[j])                                               \t    O(1)\n",
    "             \tj += 1                                                                      O(1)\n",
    "         \telse:\n",
    "             \tif left[i][1] - left[i][0] <= right[j][1] - right[j][0]:\n",
    "                 \tmerged.append(left[i])                                             \t    O(1)\n",
    "                 \ti += 1                                                                  O(1)\n",
    "             \telse:\n",
    "                 \tmerged.append(right[j])                                           \t    O(1)\n",
    "                 \tj += 1                                                                  O(1)\n",
    "\n",
    " \twhile i < len(left) or j < len(right):                                             \t    O(n)\n",
    "     \tif i < len(left) and j < len(right):\n",
    "         \tlefty = left[i]                                                                  O(1)\n",
    "         \trighty = right[j]                                                                O(1)\n",
    "         \tif lefty[1] - lefty[0] < righty[1] - righty[0]:\n",
    "             \tif not merged or lefty[0] >= merged[-1][1]:\n",
    "                 \tmerged.append(lefty)                                              \t     O(1)\n",
    "             \ti += 1                                                                       O(1)\n",
    "         \telse:\n",
    "             \tif not merged or righty[0] >= merged[-1][1]:\n",
    "                 \tmerged.append(righty)                                            \t     O(1)\n",
    "             \tj += 1                                                                       O(1)\n",
    "     \telif i < len(left):\n",
    "         \tlefty = left[i]                                                                  O(1)\n",
    "         \tif not merged or lefty[0] >= merged[-1][1]:\n",
    "             \tmerged.append(lefty)                                                  \t     O(1)\n",
    "         \ti += 1                                                                           O(1)\n",
    "     \telif j < len(right):\n",
    "         \trighty = right[j]                                                                O(1)\n",
    "         \tif not merged or righty[0] >= merged[-1][1]:\n",
    "             \tmerged.append(righty)                                                \t     O(1)\n",
    "         \tj += 1                                                                           O(1)\n",
    "\n",
    " \treturn merged                                                                       \t O(1)\n",
    " \n",
    "    Tdiv = Tdivide x Tmerge\n",
    " Tdivide = O(1) + O(1) + O(1) + O(1) + O(n/2) + O(n/2) + O(n)\n",
    "      \t= 4 x O(1) + 2 x O(n/2) + O(n)\n",
    "      \t= 4C + 2n/2k + n\n",
    "      \t= 4C + n/2k ; n/2k = 1, k = log2n\n",
    "Tdivide = O(log n)\n",
    " \n",
    "Tmerge = 2 x O(1) + n x (16 x O(1)) + n (13 x O(1))\n",
    "      \t= 2C + nC + nC\n",
    "      \t= 2C + 2nC\n",
    "Tmerge  = O(n)\n",
    "Tdiv \t= O (n log n)\n",
    "\n",
    "```\n",
    "\n",
    "### Dynamic Programming Algorithm\n",
    "```\n",
    "def dynamic_algo(activities):\n",
    " \tactivities.sort(key=lambda x: x[1])                                           \tO(n log n)\n",
    "\n",
    " \tn = len(activities)                                                                   \tO(1)\n",
    "\n",
    " \tdp = [0 for _ in range(n)]                                                        \tO(n)\n",
    " \tselected = [[] for _ in range(n)]                                                \tO(n)\n",
    "\n",
    " \tdp[0] = 1                                                                               \t\tO(1)\n",
    " \tselected[0] = [activities[0]]                                                      \tO(1)\n",
    "\n",
    " \t# Fill entries in dp[] using recursive property\n",
    " \tfor i in range(1, n):                                                                 \tO(n)\n",
    "     \tfor j in range(i):                                                                  \t\tO(n)\n",
    "         \tif activities[j][1] <= activities[i][0] and dp[j] + 1 > dp[i]:\n",
    "             \tdp[i] = dp[j] + 1                                                           \tO(1)\n",
    "             \tselected[i] = selected[j].copy()                                     \tO(1)\n",
    "     \tif not selected[i] or (selected[i] and selected[i][-1][1] <= activities[i][0]):\n",
    "         \tselected[i].append(activities[i])                                        \t\tO(1)\n",
    "\n",
    " \tmax_index = dp.index(max(dp))                                             \tO(1)\n",
    "\n",
    " \treturn selected[max_index]                      \t                          \tO(1)\n",
    " \n",
    "Tdynamic = O(n log n) + O(n) + O(n)+ O(1) + O(1) + O(1) + O(1) + O(1) + O(n (O (n) + O(1) + O(1) + O(1)))\n",
    "      \t = O(n log n)5 x O(1) + 2 x O(n) + O(n) x O(n) x 3 x O(1)\n",
    "      \t= n log n + 5C + 2n + n2 x 3n\n",
    "Tdynamic = O(n2)\n",
    "```"
   ]
  },
  {
   "cell_type": "markdown",
   "id": "562b5ca9eafe2752",
   "metadata": {},
   "source": [
    "## Space Complexity Analysis\n",
    "### Greedy Algorithm\n",
    "\n",
    "```\n",
    "def greedy_algo(activities):                                              \t\tO(n)\n",
    " \tactivities.sort(key=lambda x: x[1])                                 \t\n",
    "\n",
    " \ti = 0                                                                            \tO(1)\n",
    " \tfinal = [activities[0]]                                                      \tO(1)\n",
    " \tsize = len(activities)                                                     \tO(1)\n",
    "\n",
    " \tfor j in range(size):                                                       \tO(1)\n",
    "     \tif activities[j][0] >= activities[i][1]:                               \t\n",
    "         \tfinal.append(activities[j])                                       \t\n",
    "         \ti = j                                                                      \t\n",
    " \treturn final                                                                   \tO(n)         \t                                    \t\n",
    "Tgreedy = O(n) + O(1) + O(1)  + O(1)  + O(1)\n",
    "      \t= O(n) 4 x O(1)\n",
    "      \t= n + 4C1\n",
    "Tgreedy  = O(n)\n",
    "```\n",
    "\n",
    "## Divide and Conquer Algorithm\n",
    "```\n",
    "def div_algo(activities):                                                              \t\tO(n)\n",
    " \tif len(activities) <= 1:                                                    \t      \t\n",
    "     \treturn activities                                                                  \t\n",
    "\n",
    " \tmid = len(activities) // 2                                                          \tO(1)\n",
    " \tleft = activities[:mid]                                                               \tO(n/2)\n",
    " \tright = activities[mid:]                                                             \tO(n/2)\n",
    "\n",
    " \tleft = div_algo(left)                                                                 \tO(n)\n",
    " \tright = div_algo(right)                                                             \tO(n)\n",
    "\n",
    " \treturn merge(left, right)                                                          \tO(n)\n",
    "\n",
    "\n",
    " def merge(left, right):\n",
    " \tmerged = []                                                                           \tO(1)\n",
    " \ti = j = 0                                                                                  \t\tO(1)\n",
    "\n",
    " \twhile i < len(left) and j < len(right):                                          \t\n",
    "     \tif merged:\n",
    "         \tif left[i][1] < right[j][1] and left[i][0] >= merged[-1][1]:\n",
    "                 merged.append(left[i])                                                 \t\n",
    "             \ti += 1                                                                         \t\n",
    "         \telif left[i][1] > right[j][1] and right[j][0] >= merged[-1][1]:\n",
    "                 merged.append(right[j])                                               \t\n",
    "             \tj += 1                                                                         \t\n",
    "         \telse:\n",
    "             \tif left[i][1] - left[i][0] <= right[j][1] - right[j][0] and left[i][0] >= merged[-1][1]:\n",
    "                     merged.append(left[i])                                             \t\n",
    "                 \ti += 1                                                                     \t\n",
    "             \telse:\n",
    "                 \tif right[j][0] >= merged[-1][1]:\n",
    "                         merged.append(right[j])                                       \t\n",
    "                 \tj += 1                                                                     \t\n",
    "     \telse:\n",
    "         \tif left[i][1] < right[j][1]:\n",
    "                 merged.append(left[i])                                                 \t\n",
    "             \ti += 1   \t                                                                  \t\n",
    "         \telif left[i][1] > right[j][1]:\n",
    "                 merged.append(right[j])                                               \t\n",
    "             \tj += 1                                                                         \t\n",
    "         \telse:\n",
    "             \tif left[i][1] - left[i][0] <= right[j][1] - right[j][0]:\n",
    "                     merged.append(left[i])                                             \t\n",
    "                 \ti += 1                                                                     \t\n",
    "             \telse:\n",
    "                     merged.append(right[j])                                           \t\n",
    "                 \tj += 1                                                                     \t\n",
    "\n",
    " \twhile i < len(left) or j < len(right):                                             \t\n",
    "     \tif i < len(left) and j < len(right):\n",
    "         \tlefty = left[i]                                                                    \t\tO(1)\n",
    "         \trighty = right[j]                                                                \t\tO(1)\n",
    "         \tif lefty[1] - lefty[0] < righty[1] - righty[0]:\n",
    "             \tif not merged or lefty[0] >= merged[-1][1]:\n",
    "                 \tmerged.append(lefty)                                              \t\n",
    "             \ti += 1                                                                         \t\n",
    "         \telse:\n",
    "             \tif not merged or righty[0] >= merged[-1][1]:\n",
    "                     merged.append(righty)                                            \t\n",
    "             \tj += 1                                                                         \t\n",
    "     \telif i < len(left):\n",
    "         \tlefty = left[i]                                                                    \t\n",
    "         \tif not merged or lefty[0] >= merged[-1][1]:\n",
    "             \tmerged.append(lefty)                                                  \t\n",
    "         \ti += 1                                                                             \t\n",
    "     \telif j < len(right):\n",
    "         \trighty = right[j]                                                                \t\n",
    "         \tif not merged or righty[0] >= merged[-1][1]:\n",
    "                 merged.append(righty)                                                \t\n",
    "         \tj += 1                                                                             \t\n",
    "\n",
    " \treturn merged                                                                       \tO(n)\n",
    " \n",
    "    Tdiv = max(Tdivide, Tmerge) \n",
    " Tdivide = O(n) + O(n) + O(n) + O(n) + O(n/2) + O(n/2) + O(1)\n",
    "      \t= 4 x O(n) + 2 x O(n/2) + O(n)\n",
    "      \t= 4n + 2n/2k + n3 \n",
    "Tdivide = O(n)\n",
    "Tmerge = 4 x O(1) + O(n)\n",
    "      \t= 4C1 + n\n",
    "Tmerge  = O(n)\n",
    "Tdiv \t= O (n)\n",
    "```\n",
    "\n",
    "## Dynamic Programming Algorithm\n",
    "```\n",
    "def dynamic_algo(activities):                                                      \t\tO(n)\n",
    " \tactivities.sort(key=lambda x: x[1])                                           \t\n",
    "\n",
    " \tn = len(activities)                                                                   \tO(1)\n",
    "\n",
    " \tdp = [0 for _ in range(n)]                                                        \tO(n)\n",
    " \tselected = [[] for _ in range(n)]                                                \tO(n)\n",
    "\n",
    " \tdp[0] = 1                                                                               \t\tO(1)\n",
    " \tselected[0] = [activities[0]]                                                      \tO(1)\n",
    "\n",
    " \t# Fill entries in dp[] using recursive property\n",
    " \tfor i in range(1, n):                                                                 \t\n",
    "     \tfor j in range(i):                                                                  \t\tO(1)\n",
    "         \tif activities[j][1] <= activities[i][0] and dp[j] + 1 > dp[i]:\n",
    "             \tdp[i] = dp[j] + 1                                                           \t\n",
    "             \tselected[i] = selected[j].copy()                                     \t\n",
    "     \tif not selected[i] or (selected[i] and selected[i][-1][1] <= activities[i][0]):\n",
    "             selected[i].append(activities[i])                                        \t\n",
    "\n",
    " \tmax_index = dp.index(max(dp))                                             \tO(1)\n",
    "\n",
    " \treturn selected[max_index]                                                    \tO(n)\n",
    " Tdynamic = O(n) + O(n) +  O(n) + O(n) + O(1) + O(1) + O(1) + O(1) + O(1) + O(1)\n",
    "      \t = 5 x O(n) + 5 x O(1)\n",
    "      \t= 5n + 5C1\n",
    "Tdynamic = O(n)\n",
    "```"
   ]
  },
  {
   "cell_type": "markdown",
   "id": "3db40be1bb33d07e",
   "metadata": {},
   "source": [
    "### Sample List of Activities"
   ]
  },
  {
   "cell_type": "code",
   "execution_count": 5,
   "id": "178c5224e24ac78e",
   "metadata": {},
   "outputs": [
    {
     "name": "stdout",
     "output_type": "stream",
     "text": [
      "Act_1: [(1, 8), (2, 6), (1, 9), (1, 7), (4, 7), (4, 8), (8, 9), (4, 6), (3, 5), (3, 6)]\n",
      "Act_2: [(1, 2), (2, 6), (3, 5), (1, 3), (6, 8), (6, 7), (7, 9), (3, 9), (3, 4), (3, 6)]\n",
      "Act_3: [(4, 9), (3, 6), (1, 8), (5, 9), (8, 9), (1, 2), (5, 8), (7, 8), (3, 8), (4, 5)]\n"
     ]
    }
   ],
   "source": [
    "Act_1 = rand_tuple(10, 1)\n",
    "Act_2 = rand_tuple(10, 2)\n",
    "Act_3 = rand_tuple(10, 3)\n",
    "print(f\"Act_1: {Act_1}\")\n",
    "print(f\"Act_2: {Act_2}\")\n",
    "print(f\"Act_3: {Act_3}\")"
   ]
  },
  {
   "cell_type": "markdown",
   "id": "54fb7535c9c34898",
   "metadata": {},
   "source": [
    "### Sample runtimes"
   ]
  },
  {
   "cell_type": "code",
   "execution_count": 6,
   "id": "2fa377f69d7feeec",
   "metadata": {},
   "outputs": [],
   "source": [
    "greedy1 = 2.5\n",
    "greedy2 = 3.5\n",
    "greedy3 = 4.5\n",
    "greedy4 = 5.5\n",
    "greedy5 = 6.5\n",
    "\n",
    "dnq1 = 5.6\n",
    "dnq2 = 6.7\n",
    "dnq3 = 7.8\n",
    "dnq4 = 8.9\n",
    "dnq5 = 9.9\n",
    "\n",
    "dpa1 = 1.1\n",
    "dpa2 = 1.2\n",
    "dpa3 = 1.3\n",
    "dpa4 = 1.4\n",
    "dpa5 = 1.5"
   ]
  },
  {
   "cell_type": "markdown",
   "id": "4f7ac2df62fd55d0",
   "metadata": {},
   "source": [
    "## Visualization"
   ]
  },
  {
   "cell_type": "code",
   "execution_count": 7,
   "id": "e19d14b5b504aaaa",
   "metadata": {},
   "outputs": [
    {
     "data": {
      "image/png": "[encoded data removed]",
      "text/plain": [
       "<Figure size 640x480 with 1 Axes>"
      ]
     },
     "metadata": {},
     "output_type": "display_data"
    }
   ],
   "source": [
    "import matplotlib.pyplot as plt\n",
    "\n",
    "x = [\"10 2\", \"3 5\", \"1077 77\", \"9999 123\", \"12345 12345\"]\n",
    "y = [19800, 21700,  47900, 427200, 529300]\n",
    "\n",
    "plt.scatter(x, y, color='red')\n",
    "plt.plot(x, y)\n",
    "plt.ylabel(\"Time in nanoseconds\")\n",
    "plt.xlabel(\"Data Input\")\n",
    "plt.title(\"Proposed Algorithm \\n Running Time - Quadratic O(n)\")\n",
    "plt.show()"
   ]
  },
  {
   "cell_type": "markdown",
   "id": "7d8ac1f5ae48d113",
   "metadata": {},
   "source": [
    "## Visualization 2.0"
   ]
  },
  {
   "cell_type": "code",
   "id": "b263c64789951c14",
   "metadata": {
    "ExecuteTime": {
     "end_time": "2024-05-02T03:03:27.947312Z",
     "start_time": "2024-05-02T03:03:27.932875Z"
    }
   },
   "source": [
    "# Import necessary libraries\n",
    "import pandas as pd\n",
    "import numpy as np\n",
    "import panel as pn\n",
    "pn.extension('tabulator')\n",
    "import hvplot.pandas"
   ],
   "outputs": [
    {
     "data": {
      "application/javascript": "(function(root) {\n  function now() {\n    return new Date();\n  }\n\n  var force = true;\n  var py_version = '3.4.1'.replace('rc', '-rc.').replace('.dev', '-dev.');\n  var reloading = true;\n  var Bokeh = root.Bokeh;\n\n  if (typeof (root._bokeh_timeout) === \"undefined\" || force) {\n    root._bokeh_timeout = Date.now() + 5000;\n    root._bokeh_failed_load = false;\n  }\n\n  function run_callbacks() {\n    try {\n      root._bokeh_onload_callbacks.forEach(function(callback) {\n        if (callback != null)\n          callback();\n      });\n    } finally {\n      delete root._bokeh_onload_callbacks;\n    }\n    console.debug(\"Bokeh: all callbacks have finished\");\n  }\n\n  function load_libs(css_urls, js_urls, js_modules, js_exports, callback) {\n    if (css_urls == null) css_urls = [];\n    if (js_urls == null) js_urls = [];\n    if (js_modules == null) js_modules = [];\n    if (js_exports == null) js_exports = {};\n\n    root._bokeh_onload_callbacks.push(callback);\n\n    if (root._bokeh_is_loading > 0) {\n      console.debug(\"Bokeh: BokehJS is being loaded, scheduling callback at\", now());\n      return null;\n    }\n    if (js_urls.length === 0 && js_modules.length === 0 && Object.keys(js_exports).length === 0) {\n      run_callbacks();\n      return null;\n    }\n    if (!reloading) {\n      console.debug(\"Bokeh: BokehJS not loaded, scheduling load and callback at\", now());\n    }\n\n    function on_load() {\n      root._bokeh_is_loading--;\n      if (root._bokeh_is_loading === 0) {\n        console.debug(\"Bokeh: all BokehJS libraries/stylesheets loaded\");\n        run_callbacks()\n      }\n    }\n    window._bokeh_on_load = on_load\n\n    function on_error() {\n      console.error(\"failed to load \" + url);\n    }\n\n    var skip = [];\n    if (window.requirejs) {\n      window.requirejs.config({'packages': {}, 'paths': {'tabulator': 'https://cdn.jsdelivr.net/npm/tabulator-tables@5.5.0/dist/js/tabulator.min', 'moment': 'https://cdn.jsdelivr.net/npm/luxon/build/global/luxon.min'}, 'shim': {}});\n      require([\"tabulator\"], function(Tabulator) {\n\twindow.Tabulator = Tabulator\n\ton_load()\n      })\n      require([\"moment\"], function(moment) {\n\twindow.moment = moment\n\ton_load()\n      })\n      root._bokeh_is_loading = css_urls.length + 2;\n    } else {\n      root._bokeh_is_loading = css_urls.length + js_urls.length + js_modules.length + Object.keys(js_exports).length;\n    }\n\n    var existing_stylesheets = []\n    var links = document.getElementsByTagName('link')\n    for (var i = 0; i < links.length; i++) {\n      var link = links[i]\n      if (link.href != null) {\n\texisting_stylesheets.push(link.href)\n      }\n    }\n    for (var i = 0; i < css_urls.length; i++) {\n      var url = css_urls[i];\n      if (existing_stylesheets.indexOf(url) !== -1) {\n\ton_load()\n\tcontinue;\n      }\n      const element = document.createElement(\"link\");\n      element.onload = on_load;\n      element.onerror = on_error;\n      element.rel = \"stylesheet\";\n      element.type = \"text/css\";\n      element.href = url;\n      console.debug(\"Bokeh: injecting link tag for BokehJS stylesheet: \", url);\n      document.body.appendChild(element);\n    }    if (((window.Tabulator !== undefined) && (!(window.Tabulator instanceof HTMLElement))) || window.requirejs) {\n      var urls = ['https://cdn.holoviz.org/panel/1.4.2/dist/bundled/datatabulator/tabulator-tables@5.5.0/dist/js/tabulator.min.js'];\n      for (var i = 0; i < urls.length; i++) {\n        skip.push(urls[i])\n      }\n    }    if (((window.moment !== undefined) && (!(window.moment instanceof HTMLElement))) || window.requirejs) {\n      var urls = ['https://cdn.holoviz.org/panel/1.4.2/dist/bundled/datatabulator/luxon/build/global/luxon.min.js'];\n      for (var i = 0; i < urls.length; i++) {\n        skip.push(urls[i])\n      }\n    }    var existing_scripts = []\n    var scripts = document.getElementsByTagName('script')\n    for (var i = 0; i < scripts.length; i++) {\n      var script = scripts[i]\n      if (script.src != null) {\n\texisting_scripts.push(script.src)\n      }\n    }\n    for (var i = 0; i < js_urls.length; i++) {\n      var url = js_urls[i];\n      if (skip.indexOf(url) !== -1 || existing_scripts.indexOf(url) !== -1) {\n\tif (!window.requirejs) {\n\t  on_load();\n\t}\n\tcontinue;\n      }\n      var element = document.createElement('script');\n      element.onload = on_load;\n      element.onerror = on_error;\n      element.async = false;\n      element.src = url;\n      console.debug(\"Bokeh: injecting script tag for BokehJS library: \", url);\n      document.head.appendChild(element);\n    }\n    for (var i = 0; i < js_modules.length; i++) {\n      var url = js_modules[i];\n      if (skip.indexOf(url) !== -1 || existing_scripts.indexOf(url) !== -1) {\n\tif (!window.requirejs) {\n\t  on_load();\n\t}\n\tcontinue;\n      }\n      var element = document.createElement('script');\n      element.onload = on_load;\n      element.onerror = on_error;\n      element.async = false;\n      element.src = url;\n      element.type = \"module\";\n      console.debug(\"Bokeh: injecting script tag for BokehJS library: \", url);\n      document.head.appendChild(element);\n    }\n    for (const name in js_exports) {\n      var url = js_exports[name];\n      if (skip.indexOf(url) >= 0 || root[name] != null) {\n\tif (!window.requirejs) {\n\t  on_load();\n\t}\n\tcontinue;\n      }\n      var element = document.createElement('script');\n      element.onerror = on_error;\n      element.async = false;\n      element.type = \"module\";\n      console.debug(\"Bokeh: injecting script tag for BokehJS library: \", url);\n      element.textContent = `\n      import ${name} from \"${url}\"\n      window.${name} = ${name}\n      window._bokeh_on_load()\n      `\n      document.head.appendChild(element);\n    }\n    if (!js_urls.length && !js_modules.length) {\n      on_load()\n    }\n  };\n\n  function inject_raw_css(css) {\n    const element = document.createElement(\"style\");\n    element.appendChild(document.createTextNode(css));\n    document.body.appendChild(element);\n  }\n\n  var js_urls = [\"https://cdn.holoviz.org/panel/1.4.2/dist/bundled/datatabulator/tabulator-tables@5.5.0/dist/js/tabulator.min.js\", \"https://cdn.holoviz.org/panel/1.4.2/dist/bundled/datatabulator/luxon/build/global/luxon.min.js\"];\n  var js_modules = [];\n  var js_exports = {};\n  var css_urls = [\"https://cdn.holoviz.org/panel/1.4.2/dist/bundled/datatabulator/tabulator-tables@5.5.0/dist/css/tabulator_simple.min.css?v=1.4.2\"];\n  var inline_js = [    function(Bokeh) {\n      Bokeh.set_log_level(\"info\");\n    },\nfunction(Bokeh) {} // ensure no trailing comma for IE\n  ];\n\n  function run_inline_js() {\n    if ((root.Bokeh !== undefined) || (force === true)) {\n      for (var i = 0; i < inline_js.length; i++) {\n\ttry {\n          inline_js[i].call(root, root.Bokeh);\n\t} catch(e) {\n\t  if (!reloading) {\n\t    throw e;\n\t  }\n\t}\n      }\n      // Cache old bokeh versions\n      if (Bokeh != undefined && !reloading) {\n\tvar NewBokeh = root.Bokeh;\n\tif (Bokeh.versions === undefined) {\n\t  Bokeh.versions = new Map();\n\t}\n\tif (NewBokeh.version !== Bokeh.version) {\n\t  Bokeh.versions.set(NewBokeh.version, NewBokeh)\n\t}\n\troot.Bokeh = Bokeh;\n      }} else if (Date.now() < root._bokeh_timeout) {\n      setTimeout(run_inline_js, 100);\n    } else if (!root._bokeh_failed_load) {\n      console.log(\"Bokeh: BokehJS failed to load within specified timeout.\");\n      root._bokeh_failed_load = true;\n    }\n    root._bokeh_is_initializing = false\n  }\n\n  function load_or_wait() {\n    // Implement a backoff loop that tries to ensure we do not load multiple\n    // versions of Bokeh and its dependencies at the same time.\n    // In recent versions we use the root._bokeh_is_initializing flag\n    // to determine whether there is an ongoing attempt to initialize\n    // bokeh, however for backward compatibility we also try to ensure\n    // that we do not start loading a newer (Panel>=1.0 and Bokeh>3) version\n    // before older versions are fully initialized.\n    if (root._bokeh_is_initializing && Date.now() > root._bokeh_timeout) {\n      root._bokeh_is_initializing = false;\n      root._bokeh_onload_callbacks = undefined;\n      console.log(\"Bokeh: BokehJS was loaded multiple times but one version failed to initialize.\");\n      load_or_wait();\n    } else if (root._bokeh_is_initializing || (typeof root._bokeh_is_initializing === \"undefined\" && root._bokeh_onload_callbacks !== undefined)) {\n      setTimeout(load_or_wait, 100);\n    } else {\n      root._bokeh_is_initializing = true\n      root._bokeh_onload_callbacks = []\n      var bokeh_loaded = Bokeh != null && (Bokeh.version === py_version || (Bokeh.versions !== undefined && Bokeh.versions.has(py_version)));\n      if (!reloading && !bokeh_loaded) {\n\troot.Bokeh = undefined;\n      }\n      load_libs(css_urls, js_urls, js_modules, js_exports, function() {\n\tconsole.debug(\"Bokeh: BokehJS plotting callback run at\", now());\n\trun_inline_js();\n      });\n    }\n  }\n  // Give older versions of the autoload script a head-start to ensure\n  // they initialize before we start loading newer version.\n  setTimeout(load_or_wait, 100)\n}(window));",
      "application/vnd.holoviews_load.v0+json": "(function(root) {\n  function now() {\n    return new Date();\n  }\n\n  var force = true;\n  var py_version = '3.4.1'.replace('rc', '-rc.').replace('.dev', '-dev.');\n  var reloading = true;\n  var Bokeh = root.Bokeh;\n\n  if (typeof (root._bokeh_timeout) === \"undefined\" || force) {\n    root._bokeh_timeout = Date.now() + 5000;\n    root._bokeh_failed_load = false;\n  }\n\n  function run_callbacks() {\n    try {\n      root._bokeh_onload_callbacks.forEach(function(callback) {\n        if (callback != null)\n          callback();\n      });\n    } finally {\n      delete root._bokeh_onload_callbacks;\n    }\n    console.debug(\"Bokeh: all callbacks have finished\");\n  }\n\n  function load_libs(css_urls, js_urls, js_modules, js_exports, callback) {\n    if (css_urls == null) css_urls = [];\n    if (js_urls == null) js_urls = [];\n    if (js_modules == null) js_modules = [];\n    if (js_exports == null) js_exports = {};\n\n    root._bokeh_onload_callbacks.push(callback);\n\n    if (root._bokeh_is_loading > 0) {\n      console.debug(\"Bokeh: BokehJS is being loaded, scheduling callback at\", now());\n      return null;\n    }\n    if (js_urls.length === 0 && js_modules.length === 0 && Object.keys(js_exports).length === 0) {\n      run_callbacks();\n      return null;\n    }\n    if (!reloading) {\n      console.debug(\"Bokeh: BokehJS not loaded, scheduling load and callback at\", now());\n    }\n\n    function on_load() {\n      root._bokeh_is_loading--;\n      if (root._bokeh_is_loading === 0) {\n        console.debug(\"Bokeh: all BokehJS libraries/stylesheets loaded\");\n        run_callbacks()\n      }\n    }\n    window._bokeh_on_load = on_load\n\n    function on_error() {\n      console.error(\"failed to load \" + url);\n    }\n\n    var skip = [];\n    if (window.requirejs) {\n      window.requirejs.config({'packages': {}, 'paths': {'tabulator': 'https://cdn.jsdelivr.net/npm/tabulator-tables@5.5.0/dist/js/tabulator.min', 'moment': 'https://cdn.jsdelivr.net/npm/luxon/build/global/luxon.min'}, 'shim': {}});\n      require([\"tabulator\"], function(Tabulator) {\n\twindow.Tabulator = Tabulator\n\ton_load()\n      })\n      require([\"moment\"], function(moment) {\n\twindow.moment = moment\n\ton_load()\n      })\n      root._bokeh_is_loading = css_urls.length + 2;\n    } else {\n      root._bokeh_is_loading = css_urls.length + js_urls.length + js_modules.length + Object.keys(js_exports).length;\n    }\n\n    var existing_stylesheets = []\n    var links = document.getElementsByTagName('link')\n    for (var i = 0; i < links.length; i++) {\n      var link = links[i]\n      if (link.href != null) {\n\texisting_stylesheets.push(link.href)\n      }\n    }\n    for (var i = 0; i < css_urls.length; i++) {\n      var url = css_urls[i];\n      if (existing_stylesheets.indexOf(url) !== -1) {\n\ton_load()\n\tcontinue;\n      }\n      const element = document.createElement(\"link\");\n      element.onload = on_load;\n      element.onerror = on_error;\n      element.rel = \"stylesheet\";\n      element.type = \"text/css\";\n      element.href = url;\n      console.debug(\"Bokeh: injecting link tag for BokehJS stylesheet: \", url);\n      document.body.appendChild(element);\n    }    if (((window.Tabulator !== undefined) && (!(window.Tabulator instanceof HTMLElement))) || window.requirejs) {\n      var urls = ['https://cdn.holoviz.org/panel/1.4.2/dist/bundled/datatabulator/tabulator-tables@5.5.0/dist/js/tabulator.min.js'];\n      for (var i = 0; i < urls.length; i++) {\n        skip.push(urls[i])\n      }\n    }    if (((window.moment !== undefined) && (!(window.moment instanceof HTMLElement))) || window.requirejs) {\n      var urls = ['https://cdn.holoviz.org/panel/1.4.2/dist/bundled/datatabulator/luxon/build/global/luxon.min.js'];\n      for (var i = 0; i < urls.length; i++) {\n        skip.push(urls[i])\n      }\n    }    var existing_scripts = []\n    var scripts = document.getElementsByTagName('script')\n    for (var i = 0; i < scripts.length; i++) {\n      var script = scripts[i]\n      if (script.src != null) {\n\texisting_scripts.push(script.src)\n      }\n    }\n    for (var i = 0; i < js_urls.length; i++) {\n      var url = js_urls[i];\n      if (skip.indexOf(url) !== -1 || existing_scripts.indexOf(url) !== -1) {\n\tif (!window.requirejs) {\n\t  on_load();\n\t}\n\tcontinue;\n      }\n      var element = document.createElement('script');\n      element.onload = on_load;\n      element.onerror = on_error;\n      element.async = false;\n      element.src = url;\n      console.debug(\"Bokeh: injecting script tag for BokehJS library: \", url);\n      document.head.appendChild(element);\n    }\n    for (var i = 0; i < js_modules.length; i++) {\n      var url = js_modules[i];\n      if (skip.indexOf(url) !== -1 || existing_scripts.indexOf(url) !== -1) {\n\tif (!window.requirejs) {\n\t  on_load();\n\t}\n\tcontinue;\n      }\n      var element = document.createElement('script');\n      element.onload = on_load;\n      element.onerror = on_error;\n      element.async = false;\n      element.src = url;\n      element.type = \"module\";\n      console.debug(\"Bokeh: injecting script tag for BokehJS library: \", url);\n      document.head.appendChild(element);\n    }\n    for (const name in js_exports) {\n      var url = js_exports[name];\n      if (skip.indexOf(url) >= 0 || root[name] != null) {\n\tif (!window.requirejs) {\n\t  on_load();\n\t}\n\tcontinue;\n      }\n      var element = document.createElement('script');\n      element.onerror = on_error;\n      element.async = false;\n      element.type = \"module\";\n      console.debug(\"Bokeh: injecting script tag for BokehJS library: \", url);\n      element.textContent = `\n      import ${name} from \"${url}\"\n      window.${name} = ${name}\n      window._bokeh_on_load()\n      `\n      document.head.appendChild(element);\n    }\n    if (!js_urls.length && !js_modules.length) {\n      on_load()\n    }\n  };\n\n  function inject_raw_css(css) {\n    const element = document.createElement(\"style\");\n    element.appendChild(document.createTextNode(css));\n    document.body.appendChild(element);\n  }\n\n  var js_urls = [\"https://cdn.holoviz.org/panel/1.4.2/dist/bundled/datatabulator/tabulator-tables@5.5.0/dist/js/tabulator.min.js\", \"https://cdn.holoviz.org/panel/1.4.2/dist/bundled/datatabulator/luxon/build/global/luxon.min.js\"];\n  var js_modules = [];\n  var js_exports = {};\n  var css_urls = [\"https://cdn.holoviz.org/panel/1.4.2/dist/bundled/datatabulator/tabulator-tables@5.5.0/dist/css/tabulator_simple.min.css?v=1.4.2\"];\n  var inline_js = [    function(Bokeh) {\n      Bokeh.set_log_level(\"info\");\n    },\nfunction(Bokeh) {} // ensure no trailing comma for IE\n  ];\n\n  function run_inline_js() {\n    if ((root.Bokeh !== undefined) || (force === true)) {\n      for (var i = 0; i < inline_js.length; i++) {\n\ttry {\n          inline_js[i].call(root, root.Bokeh);\n\t} catch(e) {\n\t  if (!reloading) {\n\t    throw e;\n\t  }\n\t}\n      }\n      // Cache old bokeh versions\n      if (Bokeh != undefined && !reloading) {\n\tvar NewBokeh = root.Bokeh;\n\tif (Bokeh.versions === undefined) {\n\t  Bokeh.versions = new Map();\n\t}\n\tif (NewBokeh.version !== Bokeh.version) {\n\t  Bokeh.versions.set(NewBokeh.version, NewBokeh)\n\t}\n\troot.Bokeh = Bokeh;\n      }} else if (Date.now() < root._bokeh_timeout) {\n      setTimeout(run_inline_js, 100);\n    } else if (!root._bokeh_failed_load) {\n      console.log(\"Bokeh: BokehJS failed to load within specified timeout.\");\n      root._bokeh_failed_load = true;\n    }\n    root._bokeh_is_initializing = false\n  }\n\n  function load_or_wait() {\n    // Implement a backoff loop that tries to ensure we do not load multiple\n    // versions of Bokeh and its dependencies at the same time.\n    // In recent versions we use the root._bokeh_is_initializing flag\n    // to determine whether there is an ongoing attempt to initialize\n    // bokeh, however for backward compatibility we also try to ensure\n    // that we do not start loading a newer (Panel>=1.0 and Bokeh>3) version\n    // before older versions are fully initialized.\n    if (root._bokeh_is_initializing && Date.now() > root._bokeh_timeout) {\n      root._bokeh_is_initializing = false;\n      root._bokeh_onload_callbacks = undefined;\n      console.log(\"Bokeh: BokehJS was loaded multiple times but one version failed to initialize.\");\n      load_or_wait();\n    } else if (root._bokeh_is_initializing || (typeof root._bokeh_is_initializing === \"undefined\" && root._bokeh_onload_callbacks !== undefined)) {\n      setTimeout(load_or_wait, 100);\n    } else {\n      root._bokeh_is_initializing = true\n      root._bokeh_onload_callbacks = []\n      var bokeh_loaded = Bokeh != null && (Bokeh.version === py_version || (Bokeh.versions !== undefined && Bokeh.versions.has(py_version)));\n      if (!reloading && !bokeh_loaded) {\n\troot.Bokeh = undefined;\n      }\n      load_libs(css_urls, js_urls, js_modules, js_exports, function() {\n\tconsole.debug(\"Bokeh: BokehJS plotting callback run at\", now());\n\trun_inline_js();\n      });\n    }\n  }\n  // Give older versions of the autoload script a head-start to ensure\n  // they initialize before we start loading newer version.\n  setTimeout(load_or_wait, 100)\n}(window));"
     },
     "metadata": {},
     "output_type": "display_data"
    },
    {
     "data": {
      "application/vnd.holoviews_load.v0+json": "\nif ((window.PyViz === undefined) || (window.PyViz instanceof HTMLElement)) {\n  window.PyViz = {comms: {}, comm_status:{}, kernels:{}, receivers: {}, plot_index: []}\n}\n\n\n    function JupyterCommManager() {\n    }\n\n    JupyterCommManager.prototype.register_target = function(plot_id, comm_id, msg_handler) {\n      if (window.comm_manager || ((window.Jupyter !== undefined) && (Jupyter.notebook.kernel != null))) {\n        var comm_manager = window.comm_manager || Jupyter.notebook.kernel.comm_manager;\n        comm_manager.register_target(comm_id, function(comm) {\n          comm.on_msg(msg_handler);\n        });\n      } else if ((plot_id in window.PyViz.kernels) && (window.PyViz.kernels[plot_id])) {\n        window.PyViz.kernels[plot_id].registerCommTarget(comm_id, function(comm) {\n          comm.onMsg = msg_handler;\n        });\n      } else if (typeof google != 'undefined' && google.colab.kernel != null) {\n        google.colab.kernel.comms.registerTarget(comm_id, (comm) => {\n          var messages = comm.messages[Symbol.asyncIterator]();\n          function processIteratorResult(result) {\n            var message = result.value;\n            console.log(message)\n            var content = {data: message.data, comm_id};\n            var buffers = []\n            for (var buffer of message.buffers || []) {\n              buffers.push(new DataView(buffer))\n            }\n            var metadata = message.metadata || {};\n            var msg = {content, buffers, metadata}\n            msg_handler(msg);\n            return messages.next().then(processIteratorResult);\n          }\n          return messages.next().then(processIteratorResult);\n        })\n      }\n    }\n\n    JupyterCommManager.prototype.get_client_comm = function(plot_id, comm_id, msg_handler) {\n      if (comm_id in window.PyViz.comms) {\n        return window.PyViz.comms[comm_id];\n      } else if (window.comm_manager || ((window.Jupyter !== undefined) && (Jupyter.notebook.kernel != null))) {\n        var comm_manager = window.comm_manager || Jupyter.notebook.kernel.comm_manager;\n        var comm = comm_manager.new_comm(comm_id, {}, {}, {}, comm_id);\n        if (msg_handler) {\n          comm.on_msg(msg_handler);\n        }\n      } else if ((plot_id in window.PyViz.kernels) && (window.PyViz.kernels[plot_id])) {\n        var comm = window.PyViz.kernels[plot_id].connectToComm(comm_id);\n        comm.open();\n        if (msg_handler) {\n          comm.onMsg = msg_handler;\n        }\n      } else if (typeof google != 'undefined' && google.colab.kernel != null) {\n        var comm_promise = google.colab.kernel.comms.open(comm_id)\n        comm_promise.then((comm) => {\n          window.PyViz.comms[comm_id] = comm;\n          if (msg_handler) {\n            var messages = comm.messages[Symbol.asyncIterator]();\n            function processIteratorResult(result) {\n              var message = result.value;\n              var content = {data: message.data};\n              var metadata = message.metadata || {comm_id};\n              var msg = {content, metadata}\n              msg_handler(msg);\n              return messages.next().then(processIteratorResult);\n            }\n            return messages.next().then(processIteratorResult);\n          }\n        }) \n        var sendClosure = (data, metadata, buffers, disposeOnDone) => {\n          return comm_promise.then((comm) => {\n            comm.send(data, metadata, buffers, disposeOnDone);\n          });\n        };\n        var comm = {\n          send: sendClosure\n        };\n      }\n      window.PyViz.comms[comm_id] = comm;\n      return comm;\n    }\n    window.PyViz.comm_manager = new JupyterCommManager();\n    \n\n\nvar JS_MIME_TYPE = 'application/javascript';\nvar HTML_MIME_TYPE = 'text/html';\nvar EXEC_MIME_TYPE = 'application/vnd.holoviews_exec.v0+json';\nvar CLASS_NAME = 'output';\n\n/**\n * Render data to the DOM node\n */\nfunction render(props, node) {\n  var div = document.createElement(\"div\");\n  var script = document.createElement(\"script\");\n  node.appendChild(div);\n  node.appendChild(script);\n}\n\n/**\n * Handle when a new output is added\n */\nfunction handle_add_output(event, handle) {\n  var output_area = handle.output_area;\n  var output = handle.output;\n  if ((output.data == undefined) || (!output.data.hasOwnProperty(EXEC_MIME_TYPE))) {\n    return\n  }\n  var id = output.metadata[EXEC_MIME_TYPE][\"id\"];\n  var toinsert = output_area.element.find(\".\" + CLASS_NAME.split(' ')[0]);\n  if (id !== undefined) {\n    var nchildren = toinsert.length;\n    var html_node = toinsert[nchildren-1].children[0];\n    html_node.innerHTML = output.data[HTML_MIME_TYPE];\n    var scripts = [];\n    var nodelist = html_node.querySelectorAll(\"script\");\n    for (var i in nodelist) {\n      if (nodelist.hasOwnProperty(i)) {\n        scripts.push(nodelist[i])\n      }\n    }\n\n    scripts.forEach( function (oldScript) {\n      var newScript = document.createElement(\"script\");\n      var attrs = [];\n      var nodemap = oldScript.attributes;\n      for (var j in nodemap) {\n        if (nodemap.hasOwnProperty(j)) {\n          attrs.push(nodemap[j])\n        }\n      }\n      attrs.forEach(function(attr) { newScript.setAttribute(attr.name, attr.value) });\n      newScript.appendChild(document.createTextNode(oldScript.innerHTML));\n      oldScript.parentNode.replaceChild(newScript, oldScript);\n    });\n    if (JS_MIME_TYPE in output.data) {\n      toinsert[nchildren-1].children[1].textContent = output.data[JS_MIME_TYPE];\n    }\n    output_area._hv_plot_id = id;\n    if ((window.Bokeh !== undefined) && (id in Bokeh.index)) {\n      window.PyViz.plot_index[id] = Bokeh.index[id];\n    } else {\n      window.PyViz.plot_index[id] = null;\n    }\n  } else if (output.metadata[EXEC_MIME_TYPE][\"server_id\"] !== undefined) {\n    var bk_div = document.createElement(\"div\");\n    bk_div.innerHTML = output.data[HTML_MIME_TYPE];\n    var script_attrs = bk_div.children[0].attributes;\n    for (var i = 0; i < script_attrs.length; i++) {\n      toinsert[toinsert.length - 1].childNodes[1].setAttribute(script_attrs[i].name, script_attrs[i].value);\n    }\n    // store reference to server id on output_area\n    output_area._bokeh_server_id = output.metadata[EXEC_MIME_TYPE][\"server_id\"];\n  }\n}\n\n/**\n * Handle when an output is cleared or removed\n */\nfunction handle_clear_output(event, handle) {\n  var id = handle.cell.output_area._hv_plot_id;\n  var server_id = handle.cell.output_area._bokeh_server_id;\n  if (((id === undefined) || !(id in PyViz.plot_index)) && (server_id !== undefined)) { return; }\n  var comm = window.PyViz.comm_manager.get_client_comm(\"hv-extension-comm\", \"hv-extension-comm\", function () {});\n  if (server_id !== null) {\n    comm.send({event_type: 'server_delete', 'id': server_id});\n    return;\n  } else if (comm !== null) {\n    comm.send({event_type: 'delete', 'id': id});\n  }\n  delete PyViz.plot_index[id];\n  if ((window.Bokeh !== undefined) & (id in window.Bokeh.index)) {\n    var doc = window.Bokeh.index[id].model.document\n    doc.clear();\n    const i = window.Bokeh.documents.indexOf(doc);\n    if (i > -1) {\n      window.Bokeh.documents.splice(i, 1);\n    }\n  }\n}\n\n/**\n * Handle kernel restart event\n */\nfunction handle_kernel_cleanup(event, handle) {\n  delete PyViz.comms[\"hv-extension-comm\"];\n  window.PyViz.plot_index = {}\n}\n\n/**\n * Handle update_display_data messages\n */\nfunction handle_update_output(event, handle) {\n  handle_clear_output(event, {cell: {output_area: handle.output_area}})\n  handle_add_output(event, handle)\n}\n\nfunction register_renderer(events, OutputArea) {\n  function append_mime(data, metadata, element) {\n    // create a DOM node to render to\n    var toinsert = this.create_output_subarea(\n    metadata,\n    CLASS_NAME,\n    EXEC_MIME_TYPE\n    );\n    this.keyboard_manager.register_events(toinsert);\n    // Render to node\n    var props = {data: data, metadata: metadata[EXEC_MIME_TYPE]};\n    render(props, toinsert[0]);\n    element.append(toinsert);\n    return toinsert\n  }\n\n  events.on('output_added.OutputArea', handle_add_output);\n  events.on('output_updated.OutputArea', handle_update_output);\n  events.on('clear_output.CodeCell', handle_clear_output);\n  events.on('delete.Cell', handle_clear_output);\n  events.on('kernel_ready.Kernel', handle_kernel_cleanup);\n\n  OutputArea.prototype.register_mime_type(EXEC_MIME_TYPE, append_mime, {\n    safe: true,\n    index: 0\n  });\n}\n\nif (window.Jupyter !== undefined) {\n  try {\n    var events = require('base/js/events');\n    var OutputArea = require('notebook/js/outputarea').OutputArea;\n    if (OutputArea.prototype.mime_types().indexOf(EXEC_MIME_TYPE) == -1) {\n      register_renderer(events, OutputArea);\n    }\n  } catch(err) {\n  }\n}\n",
      "application/javascript": "\nif ((window.PyViz === undefined) || (window.PyViz instanceof HTMLElement)) {\n  window.PyViz = {comms: {}, comm_status:{}, kernels:{}, receivers: {}, plot_index: []}\n}\n\n\n    function JupyterCommManager() {\n    }\n\n    JupyterCommManager.prototype.register_target = function(plot_id, comm_id, msg_handler) {\n      if (window.comm_manager || ((window.Jupyter !== undefined) && (Jupyter.notebook.kernel != null))) {\n        var comm_manager = window.comm_manager || Jupyter.notebook.kernel.comm_manager;\n        comm_manager.register_target(comm_id, function(comm) {\n          comm.on_msg(msg_handler);\n        });\n      } else if ((plot_id in window.PyViz.kernels) && (window.PyViz.kernels[plot_id])) {\n        window.PyViz.kernels[plot_id].registerCommTarget(comm_id, function(comm) {\n          comm.onMsg = msg_handler;\n        });\n      } else if (typeof google != 'undefined' && google.colab.kernel != null) {\n        google.colab.kernel.comms.registerTarget(comm_id, (comm) => {\n          var messages = comm.messages[Symbol.asyncIterator]();\n          function processIteratorResult(result) {\n            var message = result.value;\n            console.log(message)\n            var content = {data: message.data, comm_id};\n            var buffers = []\n            for (var buffer of message.buffers || []) {\n              buffers.push(new DataView(buffer))\n            }\n            var metadata = message.metadata || {};\n            var msg = {content, buffers, metadata}\n            msg_handler(msg);\n            return messages.next().then(processIteratorResult);\n          }\n          return messages.next().then(processIteratorResult);\n        })\n      }\n    }\n\n    JupyterCommManager.prototype.get_client_comm = function(plot_id, comm_id, msg_handler) {\n      if (comm_id in window.PyViz.comms) {\n        return window.PyViz.comms[comm_id];\n      } else if (window.comm_manager || ((window.Jupyter !== undefined) && (Jupyter.notebook.kernel != null))) {\n        var comm_manager = window.comm_manager || Jupyter.notebook.kernel.comm_manager;\n        var comm = comm_manager.new_comm(comm_id, {}, {}, {}, comm_id);\n        if (msg_handler) {\n          comm.on_msg(msg_handler);\n        }\n      } else if ((plot_id in window.PyViz.kernels) && (window.PyViz.kernels[plot_id])) {\n        var comm = window.PyViz.kernels[plot_id].connectToComm(comm_id);\n        comm.open();\n        if (msg_handler) {\n          comm.onMsg = msg_handler;\n        }\n      } else if (typeof google != 'undefined' && google.colab.kernel != null) {\n        var comm_promise = google.colab.kernel.comms.open(comm_id)\n        comm_promise.then((comm) => {\n          window.PyViz.comms[comm_id] = comm;\n          if (msg_handler) {\n            var messages = comm.messages[Symbol.asyncIterator]();\n            function processIteratorResult(result) {\n              var message = result.value;\n              var content = {data: message.data};\n              var metadata = message.metadata || {comm_id};\n              var msg = {content, metadata}\n              msg_handler(msg);\n              return messages.next().then(processIteratorResult);\n            }\n            return messages.next().then(processIteratorResult);\n          }\n        }) \n        var sendClosure = (data, metadata, buffers, disposeOnDone) => {\n          return comm_promise.then((comm) => {\n            comm.send(data, metadata, buffers, disposeOnDone);\n          });\n        };\n        var comm = {\n          send: sendClosure\n        };\n      }\n      window.PyViz.comms[comm_id] = comm;\n      return comm;\n    }\n    window.PyViz.comm_manager = new JupyterCommManager();\n    \n\n\nvar JS_MIME_TYPE = 'application/javascript';\nvar HTML_MIME_TYPE = 'text/html';\nvar EXEC_MIME_TYPE = 'application/vnd.holoviews_exec.v0+json';\nvar CLASS_NAME = 'output';\n\n/**\n * Render data to the DOM node\n */\nfunction render(props, node) {\n  var div = document.createElement(\"div\");\n  var script = document.createElement(\"script\");\n  node.appendChild(div);\n  node.appendChild(script);\n}\n\n/**\n * Handle when a new output is added\n */\nfunction handle_add_output(event, handle) {\n  var output_area = handle.output_area;\n  var output = handle.output;\n  if ((output.data == undefined) || (!output.data.hasOwnProperty(EXEC_MIME_TYPE))) {\n    return\n  }\n  var id = output.metadata[EXEC_MIME_TYPE][\"id\"];\n  var toinsert = output_area.element.find(\".\" + CLASS_NAME.split(' ')[0]);\n  if (id !== undefined) {\n    var nchildren = toinsert.length;\n    var html_node = toinsert[nchildren-1].children[0];\n    html_node.innerHTML = output.data[HTML_MIME_TYPE];\n    var scripts = [];\n    var nodelist = html_node.querySelectorAll(\"script\");\n    for (var i in nodelist) {\n      if (nodelist.hasOwnProperty(i)) {\n        scripts.push(nodelist[i])\n      }\n    }\n\n    scripts.forEach( function (oldScript) {\n      var newScript = document.createElement(\"script\");\n      var attrs = [];\n      var nodemap = oldScript.attributes;\n      for (var j in nodemap) {\n        if (nodemap.hasOwnProperty(j)) {\n          attrs.push(nodemap[j])\n        }\n      }\n      attrs.forEach(function(attr) { newScript.setAttribute(attr.name, attr.value) });\n      newScript.appendChild(document.createTextNode(oldScript.innerHTML));\n      oldScript.parentNode.replaceChild(newScript, oldScript);\n    });\n    if (JS_MIME_TYPE in output.data) {\n      toinsert[nchildren-1].children[1].textContent = output.data[JS_MIME_TYPE];\n    }\n    output_area._hv_plot_id = id;\n    if ((window.Bokeh !== undefined) && (id in Bokeh.index)) {\n      window.PyViz.plot_index[id] = Bokeh.index[id];\n    } else {\n      window.PyViz.plot_index[id] = null;\n    }\n  } else if (output.metadata[EXEC_MIME_TYPE][\"server_id\"] !== undefined) {\n    var bk_div = document.createElement(\"div\");\n    bk_div.innerHTML = output.data[HTML_MIME_TYPE];\n    var script_attrs = bk_div.children[0].attributes;\n    for (var i = 0; i < script_attrs.length; i++) {\n      toinsert[toinsert.length - 1].childNodes[1].setAttribute(script_attrs[i].name, script_attrs[i].value);\n    }\n    // store reference to server id on output_area\n    output_area._bokeh_server_id = output.metadata[EXEC_MIME_TYPE][\"server_id\"];\n  }\n}\n\n/**\n * Handle when an output is cleared or removed\n */\nfunction handle_clear_output(event, handle) {\n  var id = handle.cell.output_area._hv_plot_id;\n  var server_id = handle.cell.output_area._bokeh_server_id;\n  if (((id === undefined) || !(id in PyViz.plot_index)) && (server_id !== undefined)) { return; }\n  var comm = window.PyViz.comm_manager.get_client_comm(\"hv-extension-comm\", \"hv-extension-comm\", function () {});\n  if (server_id !== null) {\n    comm.send({event_type: 'server_delete', 'id': server_id});\n    return;\n  } else if (comm !== null) {\n    comm.send({event_type: 'delete', 'id': id});\n  }\n  delete PyViz.plot_index[id];\n  if ((window.Bokeh !== undefined) & (id in window.Bokeh.index)) {\n    var doc = window.Bokeh.index[id].model.document\n    doc.clear();\n    const i = window.Bokeh.documents.indexOf(doc);\n    if (i > -1) {\n      window.Bokeh.documents.splice(i, 1);\n    }\n  }\n}\n\n/**\n * Handle kernel restart event\n */\nfunction handle_kernel_cleanup(event, handle) {\n  delete PyViz.comms[\"hv-extension-comm\"];\n  window.PyViz.plot_index = {}\n}\n\n/**\n * Handle update_display_data messages\n */\nfunction handle_update_output(event, handle) {\n  handle_clear_output(event, {cell: {output_area: handle.output_area}})\n  handle_add_output(event, handle)\n}\n\nfunction register_renderer(events, OutputArea) {\n  function append_mime(data, metadata, element) {\n    // create a DOM node to render to\n    var toinsert = this.create_output_subarea(\n    metadata,\n    CLASS_NAME,\n    EXEC_MIME_TYPE\n    );\n    this.keyboard_manager.register_events(toinsert);\n    // Render to node\n    var props = {data: data, metadata: metadata[EXEC_MIME_TYPE]};\n    render(props, toinsert[0]);\n    element.append(toinsert);\n    return toinsert\n  }\n\n  events.on('output_added.OutputArea', handle_add_output);\n  events.on('output_updated.OutputArea', handle_update_output);\n  events.on('clear_output.CodeCell', handle_clear_output);\n  events.on('delete.Cell', handle_clear_output);\n  events.on('kernel_ready.Kernel', handle_kernel_cleanup);\n\n  OutputArea.prototype.register_mime_type(EXEC_MIME_TYPE, append_mime, {\n    safe: true,\n    index: 0\n  });\n}\n\nif (window.Jupyter !== undefined) {\n  try {\n    var events = require('base/js/events');\n    var OutputArea = require('notebook/js/outputarea').OutputArea;\n    if (OutputArea.prototype.mime_types().indexOf(EXEC_MIME_TYPE) == -1) {\n      register_renderer(events, OutputArea);\n    }\n  } catch(err) {\n  }\n}\n"
     },
     "metadata": {},
     "output_type": "display_data"
    },
    {
     "data": {
      "text/html": [
       "<style>*[data-root-id],\n",
       "*[data-root-id] > * {\n",
       "  box-sizing: border-box;\n",
       "  font-family: var(--jp-ui-font-family);\n",
       "  font-size: var(--jp-ui-font-size1);\n",
       "  color: var(--vscode-editor-foreground, var(--jp-ui-font-color1));\n",
       "}\n",
       "\n",
       "/* Override VSCode background color */\n",
       ".cell-output-ipywidget-background:has(\n",
       "    > .cell-output-ipywidget-background > .lm-Widget > *[data-root-id]\n",
       "  ),\n",
       ".cell-output-ipywidget-background:has(> .lm-Widget > *[data-root-id]) {\n",
       "  background-color: transparent !important;\n",
       "}\n",
       "</style>"
      ]
     },
     "metadata": {},
     "output_type": "display_data"
    },
    {
     "data": {
      "text/html": [
       "<div id='3696b614-d65c-4ae1-964c-03641eb7689f'>\n",
       "  <div id=\"e0c492c8-bd80-4243-8491-8258dc8b5599\" data-root-id=\"3696b614-d65c-4ae1-964c-03641eb7689f\" style=\"display: contents;\"></div>\n",
       "</div>\n",
       "<script type=\"application/javascript\">(function(root) {\n",
       "  var docs_json = {\"1baffb4a-b17e-4bae-b0ce-0d3fa366f6c0\":{\"version\":\"3.4.1\",\"title\":\"Bokeh Application\",\"roots\":[{\"type\":\"object\",\"name\":\"panel.models.browser.BrowserInfo\",\"id\":\"3696b614-d65c-4ae1-964c-03641eb7689f\"},{\"type\":\"object\",\"name\":\"panel.models.comm_manager.CommManager\",\"id\":\"57a80345-9c2e-4cb6-8030-fa5aa398331f\",\"attributes\":{\"plot_id\":\"3696b614-d65c-4ae1-964c-03641eb7689f\",\"comm_id\":\"f75219bd3c594990b768ff658a474787\",\"client_comm_id\":\"5172a67acda34eba9723d36b7874b289\"}}],\"defs\":[{\"type\":\"model\",\"name\":\"ReactiveHTML1\"},{\"type\":\"model\",\"name\":\"FlexBox1\",\"properties\":[{\"name\":\"align_content\",\"kind\":\"Any\",\"default\":\"flex-start\"},{\"name\":\"align_items\",\"kind\":\"Any\",\"default\":\"flex-start\"},{\"name\":\"flex_direction\",\"kind\":\"Any\",\"default\":\"row\"},{\"name\":\"flex_wrap\",\"kind\":\"Any\",\"default\":\"wrap\"},{\"name\":\"gap\",\"kind\":\"Any\",\"default\":\"\"},{\"name\":\"justify_content\",\"kind\":\"Any\",\"default\":\"flex-start\"}]},{\"type\":\"model\",\"name\":\"FloatPanel1\",\"properties\":[{\"name\":\"config\",\"kind\":\"Any\",\"default\":{\"type\":\"map\"}},{\"name\":\"contained\",\"kind\":\"Any\",\"default\":true},{\"name\":\"position\",\"kind\":\"Any\",\"default\":\"right-top\"},{\"name\":\"offsetx\",\"kind\":\"Any\",\"default\":null},{\"name\":\"offsety\",\"kind\":\"Any\",\"default\":null},{\"name\":\"theme\",\"kind\":\"Any\",\"default\":\"primary\"},{\"name\":\"status\",\"kind\":\"Any\",\"default\":\"normalized\"}]},{\"type\":\"model\",\"name\":\"GridStack1\",\"properties\":[{\"name\":\"mode\",\"kind\":\"Any\",\"default\":\"warn\"},{\"name\":\"ncols\",\"kind\":\"Any\",\"default\":null},{\"name\":\"nrows\",\"kind\":\"Any\",\"default\":null},{\"name\":\"allow_resize\",\"kind\":\"Any\",\"default\":true},{\"name\":\"allow_drag\",\"kind\":\"Any\",\"default\":true},{\"name\":\"state\",\"kind\":\"Any\",\"default\":[]}]},{\"type\":\"model\",\"name\":\"drag1\",\"properties\":[{\"name\":\"slider_width\",\"kind\":\"Any\",\"default\":5},{\"name\":\"slider_color\",\"kind\":\"Any\",\"default\":\"black\"},{\"name\":\"value\",\"kind\":\"Any\",\"default\":50}]},{\"type\":\"model\",\"name\":\"click1\",\"properties\":[{\"name\":\"terminal_output\",\"kind\":\"Any\",\"default\":\"\"},{\"name\":\"debug_name\",\"kind\":\"Any\",\"default\":\"\"},{\"name\":\"clears\",\"kind\":\"Any\",\"default\":0}]},{\"type\":\"model\",\"name\":\"FastWrapper1\",\"properties\":[{\"name\":\"object\",\"kind\":\"Any\",\"default\":null},{\"name\":\"style\",\"kind\":\"Any\",\"default\":null}]},{\"type\":\"model\",\"name\":\"NotificationAreaBase1\",\"properties\":[{\"name\":\"js_events\",\"kind\":\"Any\",\"default\":{\"type\":\"map\"}},{\"name\":\"position\",\"kind\":\"Any\",\"default\":\"bottom-right\"},{\"name\":\"_clear\",\"kind\":\"Any\",\"default\":0}]},{\"type\":\"model\",\"name\":\"NotificationArea1\",\"properties\":[{\"name\":\"js_events\",\"kind\":\"Any\",\"default\":{\"type\":\"map\"}},{\"name\":\"notifications\",\"kind\":\"Any\",\"default\":[]},{\"name\":\"position\",\"kind\":\"Any\",\"default\":\"bottom-right\"},{\"name\":\"_clear\",\"kind\":\"Any\",\"default\":0},{\"name\":\"types\",\"kind\":\"Any\",\"default\":[{\"type\":\"map\",\"entries\":[[\"type\",\"warning\"],[\"background\",\"#ffc107\"],[\"icon\",{\"type\":\"map\",\"entries\":[[\"className\",\"fas fa-exclamation-triangle\"],[\"tagName\",\"i\"],[\"color\",\"white\"]]}]]},{\"type\":\"map\",\"entries\":[[\"type\",\"info\"],[\"background\",\"#007bff\"],[\"icon\",{\"type\":\"map\",\"entries\":[[\"className\",\"fas fa-info-circle\"],[\"tagName\",\"i\"],[\"color\",\"white\"]]}]]}]}]},{\"type\":\"model\",\"name\":\"Notification\",\"properties\":[{\"name\":\"background\",\"kind\":\"Any\",\"default\":null},{\"name\":\"duration\",\"kind\":\"Any\",\"default\":3000},{\"name\":\"icon\",\"kind\":\"Any\",\"default\":null},{\"name\":\"message\",\"kind\":\"Any\",\"default\":\"\"},{\"name\":\"notification_type\",\"kind\":\"Any\",\"default\":null},{\"name\":\"_destroyed\",\"kind\":\"Any\",\"default\":false}]},{\"type\":\"model\",\"name\":\"TemplateActions1\",\"properties\":[{\"name\":\"open_modal\",\"kind\":\"Any\",\"default\":0},{\"name\":\"close_modal\",\"kind\":\"Any\",\"default\":0}]},{\"type\":\"model\",\"name\":\"BootstrapTemplateActions1\",\"properties\":[{\"name\":\"open_modal\",\"kind\":\"Any\",\"default\":0},{\"name\":\"close_modal\",\"kind\":\"Any\",\"default\":0}]},{\"type\":\"model\",\"name\":\"TemplateEditor1\",\"properties\":[{\"name\":\"layout\",\"kind\":\"Any\",\"default\":[]}]},{\"type\":\"model\",\"name\":\"MaterialTemplateActions1\",\"properties\":[{\"name\":\"open_modal\",\"kind\":\"Any\",\"default\":0},{\"name\":\"close_modal\",\"kind\":\"Any\",\"default\":0}]},{\"type\":\"model\",\"name\":\"copy_to_clipboard1\",\"properties\":[{\"name\":\"fill\",\"kind\":\"Any\",\"default\":\"none\"},{\"name\":\"value\",\"kind\":\"Any\",\"default\":null}]}]}};\n",
       "  var render_items = [{\"docid\":\"1baffb4a-b17e-4bae-b0ce-0d3fa366f6c0\",\"roots\":{\"3696b614-d65c-4ae1-964c-03641eb7689f\":\"e0c492c8-bd80-4243-8491-8258dc8b5599\"},\"root_ids\":[\"3696b614-d65c-4ae1-964c-03641eb7689f\"]}];\n",
       "  var docs = Object.values(docs_json)\n",
       "  if (!docs) {\n",
       "    return\n",
       "  }\n",
       "  const py_version = docs[0].version.replace('rc', '-rc.').replace('.dev', '-dev.')\n",
       "  function embed_document(root) {\n",
       "    var Bokeh = get_bokeh(root)\n",
       "    Bokeh.embed.embed_items_notebook(docs_json, render_items);\n",
       "    for (const render_item of render_items) {\n",
       "      for (const root_id of render_item.root_ids) {\n",
       "\tconst id_el = document.getElementById(root_id)\n",
       "\tif (id_el.children.length && (id_el.children[0].className === 'bk-root')) {\n",
       "\t  const root_el = id_el.children[0]\n",
       "\t  root_el.id = root_el.id + '-rendered'\n",
       "\t}\n",
       "      }\n",
       "    }\n",
       "  }\n",
       "  function get_bokeh(root) {\n",
       "    if (root.Bokeh === undefined) {\n",
       "      return null\n",
       "    } else if (root.Bokeh.version !== py_version) {\n",
       "      if (root.Bokeh.versions === undefined || !root.Bokeh.versions.has(py_version)) {\n",
       "\treturn null\n",
       "      }\n",
       "      return root.Bokeh.versions.get(py_version);\n",
       "    } else if (root.Bokeh.version === py_version) {\n",
       "      return root.Bokeh\n",
       "    }\n",
       "    return null\n",
       "  }\n",
       "  function is_loaded(root) {\n",
       "    var Bokeh = get_bokeh(root)\n",
       "    return (Bokeh != null && Bokeh.Panel !== undefined && ( root.Tabulator !== undefined) && ( root.Tabulator !== undefined) && ( root.Tabulator !== undefined) && ( root.Tabulator !== undefined) && ( root.Tabulator !== undefined))\n",
       "  }\n",
       "  if (is_loaded(root)) {\n",
       "    embed_document(root);\n",
       "  } else {\n",
       "    var attempts = 0;\n",
       "    var timer = setInterval(function(root) {\n",
       "      if (is_loaded(root)) {\n",
       "        clearInterval(timer);\n",
       "        embed_document(root);\n",
       "      } else if (document.readyState == \"complete\") {\n",
       "        attempts++;\n",
       "        if (attempts > 200) {\n",
       "          clearInterval(timer);\n",
       "\t  var Bokeh = get_bokeh(root)\n",
       "\t  if (Bokeh == null || Bokeh.Panel == null) {\n",
       "            console.warn(\"Panel: ERROR: Unable to run Panel code because Bokeh or Panel library is missing\");\n",
       "\t  } else {\n",
       "\t    console.warn(\"Panel: WARNING: Attempting to render but not all required libraries could be resolved.\")\n",
       "\t    embed_document(root)\n",
       "\t  }\n",
       "        }\n",
       "      }\n",
       "    }, 25, root)\n",
       "  }\n",
       "})(window);</script>"
      ],
      "application/vnd.holoviews_exec.v0+json": ""
     },
     "metadata": {
      "application/vnd.holoviews_exec.v0+json": {
       "id": "3696b614-d65c-4ae1-964c-03641eb7689f"
      }
     },
     "output_type": "display_data"
    }
   ],
   "execution_count": 43
  },
  {
   "cell_type": "code",
   "id": "89a1d4924645f6bb",
   "metadata": {
    "ExecuteTime": {
     "end_time": "2024-05-02T03:03:29.426356Z",
     "start_time": "2024-05-02T03:03:29.423715Z"
    }
   },
   "source": [
    "# Create a temp for-loop to generate a dict of size-time value pairs\n",
    "temp_data = {}\n",
    "for i in range(0, 101):\n",
    "    if i % 2 == 0:\n",
    "        temp_data[i] = {'Algorithm': 'Square', 'Size': i, 'Runtime': i**2}\n",
    "    else:\n",
    "        temp_data[i] = {'Algorithm': 'Triple', 'Size': i, 'Runtime': i/3}\n"
   ],
   "outputs": [],
   "execution_count": 44
  },
  {
   "cell_type": "code",
   "id": "15539e58c1b40169",
   "metadata": {
    "ExecuteTime": {
     "end_time": "2024-05-02T03:03:31.269043Z",
     "start_time": "2024-05-02T03:03:31.251660Z"
    }
   },
   "source": [
    "# Make a dataframe\n",
    "df = pd.DataFrame(temp_data.values())\n",
    "print(df.head())\n",
    "\n",
    "# Make it interactive\n",
    "idf = df.interactive()"
   ],
   "outputs": [
    {
     "name": "stdout",
     "output_type": "stream",
     "text": [
      "  Algorithm  Size    Runtime\n",
      "0    Square     0   0.000000\n",
      "1    Triple     1   0.333333\n",
      "2    Square     2   4.000000\n",
      "3    Triple     3   1.000000\n",
      "4    Square     4  16.000000\n"
     ]
    }
   ],
   "execution_count": 45
  },
  {
   "cell_type": "code",
   "id": "db51c12b9e072db1",
   "metadata": {
    "ExecuteTime": {
     "end_time": "2024-05-02T03:03:33.421677Z",
     "start_time": "2024-05-02T03:03:33.418185Z"
    }
   },
   "source": [
    "# Define panel widgets\n",
    "size_slider = pn.widgets.IntSlider(name='Size', start=1, end=100, step=1)"
   ],
   "outputs": [],
   "execution_count": 46
  },
  {
   "cell_type": "code",
   "execution_count": 12,
   "id": "67ef204e828d85f5",
   "metadata": {
    "ExecuteTime": {
     "end_time": "2024-05-02T02:36:43.058624Z",
     "start_time": "2024-05-02T02:36:43.000289Z"
    }
   },
   "outputs": [
    {
     "data": {},
     "metadata": {},
     "output_type": "display_data"
    },
    {
     "data": {},
     "metadata": {},
     "output_type": "display_data"
    },
    {
     "data": {
      "application/vnd.holoviews_exec.v0+json": "",
      "text/html": [
       "<div id='1b4e9dbb-401c-4f11-a565-4f765f21b467'>\n",
       "  <div id=\"feac0e4c-f26d-4e0d-9f8d-d44309953aea\" data-root-id=\"1b4e9dbb-401c-4f11-a565-4f765f21b467\" style=\"display: contents;\"></div>\n",
       "</div>\n",
       "<script type=\"application/javascript\">(function(root) {\n",
       "  var docs_json = {\"09a51648-8222-4bc5-b406-9c5ca7b49f4f\":{\"version\":\"3.4.1\",\"title\":\"Bokeh Application\",\"roots\":[{\"type\":\"object\",\"name\":\"Row\",\"id\":\"1b4e9dbb-401c-4f11-a565-4f765f21b467\",\"attributes\":{\"name\":\"Row00976\",\"stylesheets\":[\"\\n:host(.pn-loading):before, .pn-loading:before {\\n  background-color: #c3c3c3;\\n  mask-size: auto calc(min(50%, 400px));\\n  -webkit-mask-size: auto calc(min(50%, 400px));\\n}\",{\"type\":\"object\",\"name\":\"ImportedStyleSheet\",\"id\":\"4777c69d-11ee-419e-baa0-c511a4566ee2\",\"attributes\":{\"url\":\"https://cdn.holoviz.org/panel/1.4.2/dist/css/loading.css\"}},{\"type\":\"object\",\"name\":\"ImportedStyleSheet\",\"id\":\"cc76bfca-80e0-48c8-857d-41897d6fb2e3\",\"attributes\":{\"url\":\"https://cdn.holoviz.org/panel/1.4.2/dist/css/listpanel.css\"}},{\"type\":\"object\",\"name\":\"ImportedStyleSheet\",\"id\":\"2f4ca987-215f-4597-ad3c-6e29687fd46f\",\"attributes\":{\"url\":\"https://cdn.holoviz.org/panel/1.4.2/dist/bundled/theme/default.css\"}},{\"type\":\"object\",\"name\":\"ImportedStyleSheet\",\"id\":\"e6dffc50-73ce-48de-af2a-5ff402e5d0b9\",\"attributes\":{\"url\":\"https://cdn.holoviz.org/panel/1.4.2/dist/bundled/theme/native.css\"}}],\"margin\":0,\"align\":\"start\",\"children\":[{\"type\":\"object\",\"name\":\"Slider\",\"id\":\"45792996-bdbd-41e9-b839-ab70d4a9ae91\",\"attributes\":{\"stylesheets\":[\"\\n:host(.pn-loading):before, .pn-loading:before {\\n  background-color: #c3c3c3;\\n  mask-size: auto calc(min(50%, 400px));\\n  -webkit-mask-size: auto calc(min(50%, 400px));\\n}\",{\"id\":\"4777c69d-11ee-419e-baa0-c511a4566ee2\"},{\"id\":\"2f4ca987-215f-4597-ad3c-6e29687fd46f\"},{\"id\":\"e6dffc50-73ce-48de-af2a-5ff402e5d0b9\"}],\"margin\":[5,10],\"align\":\"start\",\"title\":\"Size\",\"start\":1,\"end\":100,\"value\":1}},{\"type\":\"object\",\"name\":\"panel.models.layout.Column\",\"id\":\"e124685e-92c4-4135-9149-7ff932852a86\",\"attributes\":{\"name\":\"Column00886\",\"stylesheets\":[\"\\n:host(.pn-loading):before, .pn-loading:before {\\n  background-color: #c3c3c3;\\n  mask-size: auto calc(min(50%, 400px));\\n  -webkit-mask-size: auto calc(min(50%, 400px));\\n}\",{\"id\":\"4777c69d-11ee-419e-baa0-c511a4566ee2\"},{\"id\":\"cc76bfca-80e0-48c8-857d-41897d6fb2e3\"},{\"id\":\"2f4ca987-215f-4597-ad3c-6e29687fd46f\"},{\"id\":\"e6dffc50-73ce-48de-af2a-5ff402e5d0b9\"}],\"margin\":0,\"sizing_mode\":\"fixed\",\"align\":\"start\",\"children\":[{\"type\":\"object\",\"name\":\"Figure\",\"id\":\"877857ea-4790-428c-a55e-f901e06996aa\",\"attributes\":{\"name\":\"ParamFunction00882\",\"width\":700,\"height\":300,\"margin\":[5,10],\"sizing_mode\":\"fixed\",\"align\":\"start\",\"x_range\":{\"type\":\"object\",\"name\":\"Range1d\",\"id\":\"2fbfb1de-0613-47bc-afb1-f3a53b8a0ed9\",\"attributes\":{\"tags\":[[[\"Size\",\"Size\",null]],[]],\"reset_start\":0.0,\"reset_end\":1.0}},\"y_range\":{\"type\":\"object\",\"name\":\"Range1d\",\"id\":\"c9850aa2-4daf-4008-80f0-c9893cc610d5\",\"attributes\":{\"tags\":[[[\"Runtime\",\"Runtime\",null]],{\"type\":\"map\",\"entries\":[[\"invert_yaxis\",false],[\"autorange\",false]]}],\"start\":-0.03333333333333333,\"end\":0.36666666666666664,\"reset_start\":-0.03333333333333333,\"reset_end\":0.36666666666666664}},\"x_scale\":{\"type\":\"object\",\"name\":\"LinearScale\",\"id\":\"279cd7f4-2282-4462-9fd0-f440148fc199\"},\"y_scale\":{\"type\":\"object\",\"name\":\"LinearScale\",\"id\":\"d91a6c17-224e-4d0c-89dd-5fdd3d6e67bc\"},\"title\":{\"type\":\"object\",\"name\":\"Title\",\"id\":\"32b85108-297a-4cb0-9d42-ce91bacb05af\",\"attributes\":{\"text\":\"Test Runtimes\",\"text_color\":\"black\",\"text_font_size\":\"12pt\"}},\"renderers\":[{\"type\":\"object\",\"name\":\"GlyphRenderer\",\"id\":\"e4214370-4047-4a9a-9877-9410c56a7865\",\"attributes\":{\"data_source\":{\"type\":\"object\",\"name\":\"ColumnDataSource\",\"id\":\"a8a69708-c8c3-4450-b299-1562a14bfef1\",\"attributes\":{\"selected\":{\"type\":\"object\",\"name\":\"Selection\",\"id\":\"c2d8925f-2030-4df6-a70e-0c07793147c0\",\"attributes\":{\"indices\":[],\"line_indices\":[]}},\"selection_policy\":{\"type\":\"object\",\"name\":\"UnionRenderers\",\"id\":\"3825f90c-9401-4b36-9c89-fc7b364db9cc\"},\"data\":{\"type\":\"map\",\"entries\":[[\"Size\",{\"type\":\"ndarray\",\"array\":{\"type\":\"bytes\",\"data\":\"AAAAAAEAAAA=\"},\"shape\":[2],\"dtype\":\"int32\",\"order\":\"little\"}],[\"Runtime\",{\"type\":\"ndarray\",\"array\":{\"type\":\"bytes\",\"data\":\"AAAAAAAAAABVVVVVVVXVPw==\"},\"shape\":[2],\"dtype\":\"float64\",\"order\":\"little\"}]]}}},\"view\":{\"type\":\"object\",\"name\":\"CDSView\",\"id\":\"d63e1c4a-fdc2-406d-a092-b779ce5a39ca\",\"attributes\":{\"filter\":{\"type\":\"object\",\"name\":\"AllIndices\",\"id\":\"1dada0f6-1145-4db6-a8a4-6b375890bb2d\"}}},\"glyph\":{\"type\":\"object\",\"name\":\"Line\",\"id\":\"4f5d2d35-a41a-409c-9423-8038b0c45b17\",\"attributes\":{\"tags\":[\"apply_ranges\"],\"x\":{\"type\":\"field\",\"field\":\"Size\"},\"y\":{\"type\":\"field\",\"field\":\"Runtime\"},\"line_color\":\"#30a2da\",\"line_width\":2}},\"selection_glyph\":{\"type\":\"object\",\"name\":\"Line\",\"id\":\"824d5cb3-a018-46c9-a110-aecd5ffdb709\",\"attributes\":{\"tags\":[\"apply_ranges\"],\"x\":{\"type\":\"field\",\"field\":\"Size\"},\"y\":{\"type\":\"field\",\"field\":\"Runtime\"},\"line_color\":\"#30a2da\",\"line_width\":2}},\"nonselection_glyph\":{\"type\":\"object\",\"name\":\"Line\",\"id\":\"f5e2cf8f-07b8-4916-9203-d7be808a2535\",\"attributes\":{\"tags\":[\"apply_ranges\"],\"x\":{\"type\":\"field\",\"field\":\"Size\"},\"y\":{\"type\":\"field\",\"field\":\"Runtime\"},\"line_color\":\"#30a2da\",\"line_alpha\":0.1,\"line_width\":2}},\"muted_glyph\":{\"type\":\"object\",\"name\":\"Line\",\"id\":\"51b3ea79-2dd7-4e05-803d-c93315545b29\",\"attributes\":{\"tags\":[\"apply_ranges\"],\"x\":{\"type\":\"field\",\"field\":\"Size\"},\"y\":{\"type\":\"field\",\"field\":\"Runtime\"},\"line_color\":\"#30a2da\",\"line_alpha\":0.2,\"line_width\":2}}}}],\"toolbar\":{\"type\":\"object\",\"name\":\"Toolbar\",\"id\":\"e78b825b-667c-4b29-a10a-4e7e29279e6e\",\"attributes\":{\"tools\":[{\"type\":\"object\",\"name\":\"WheelZoomTool\",\"id\":\"1fd4bd67-4b55-4b5e-921d-f64d0a974d02\",\"attributes\":{\"tags\":[\"hv_created\"],\"renderers\":\"auto\",\"zoom_together\":\"none\"}},{\"type\":\"object\",\"name\":\"HoverTool\",\"id\":\"4e525153-b4e4-4ce5-b5e7-4aa371f6bc4f\",\"attributes\":{\"tags\":[\"hv_created\"],\"renderers\":[{\"id\":\"e4214370-4047-4a9a-9877-9410c56a7865\"}],\"tooltips\":[[\"Size\",\"@{Size}\"],[\"Runtime\",\"@{Runtime}\"]]}},{\"type\":\"object\",\"name\":\"SaveTool\",\"id\":\"f0882fef-6829-4179-ae27-f6c19d29a79d\"},{\"type\":\"object\",\"name\":\"PanTool\",\"id\":\"40bae217-0a67-494d-b2bd-319c7c6482a5\"},{\"type\":\"object\",\"name\":\"BoxZoomTool\",\"id\":\"3737ed48-b3bb-4d21-863e-7f5ce0ee2357\",\"attributes\":{\"overlay\":{\"type\":\"object\",\"name\":\"BoxAnnotation\",\"id\":\"ceab8066-62ff-4253-afbb-16d9a24947b8\",\"attributes\":{\"syncable\":false,\"level\":\"overlay\",\"visible\":false,\"left\":{\"type\":\"number\",\"value\":\"nan\"},\"right\":{\"type\":\"number\",\"value\":\"nan\"},\"top\":{\"type\":\"number\",\"value\":\"nan\"},\"bottom\":{\"type\":\"number\",\"value\":\"nan\"},\"left_units\":\"canvas\",\"right_units\":\"canvas\",\"top_units\":\"canvas\",\"bottom_units\":\"canvas\",\"line_color\":\"black\",\"line_alpha\":1.0,\"line_width\":2,\"line_dash\":[4,4],\"fill_color\":\"lightgrey\",\"fill_alpha\":0.5}}}},{\"type\":\"object\",\"name\":\"ResetTool\",\"id\":\"2481ff35-dc89-4869-ba35-3ddd9e785b43\"}],\"active_drag\":{\"id\":\"40bae217-0a67-494d-b2bd-319c7c6482a5\"},\"active_scroll\":{\"id\":\"1fd4bd67-4b55-4b5e-921d-f64d0a974d02\"}}},\"left\":[{\"type\":\"object\",\"name\":\"LinearAxis\",\"id\":\"9df8d291-401d-4dc2-9500-6274e3a07ad3\",\"attributes\":{\"ticker\":{\"type\":\"object\",\"name\":\"BasicTicker\",\"id\":\"1d194875-59fa-4788-ae2b-7208fba3ad14\",\"attributes\":{\"mantissas\":[1,2,5]}},\"formatter\":{\"type\":\"object\",\"name\":\"BasicTickFormatter\",\"id\":\"08b2684f-8ad0-44f8-9c90-b850e2f7f3ba\"},\"axis_label\":\"Runtime\",\"major_label_policy\":{\"type\":\"object\",\"name\":\"AllLabels\",\"id\":\"8a0932a1-2551-4ff8-854f-b0c827a8a56e\"}}}],\"below\":[{\"type\":\"object\",\"name\":\"LinearAxis\",\"id\":\"75ac8c26-e61d-4c17-b03d-fbaee648eb51\",\"attributes\":{\"ticker\":{\"type\":\"object\",\"name\":\"BasicTicker\",\"id\":\"6923f209-9855-476b-a702-a3710c4033d5\",\"attributes\":{\"mantissas\":[1,2,5]}},\"formatter\":{\"type\":\"object\",\"name\":\"BasicTickFormatter\",\"id\":\"b091cc66-f40f-43e8-b442-fcbc60cfe932\"},\"axis_label\":\"Size\",\"major_label_policy\":{\"type\":\"object\",\"name\":\"AllLabels\",\"id\":\"819a6935-65b0-44cc-b2d1-f7f318a38933\"}}}],\"center\":[{\"type\":\"object\",\"name\":\"Grid\",\"id\":\"0634a80d-571f-467f-ba64-5fe2122ed85c\",\"attributes\":{\"axis\":{\"id\":\"75ac8c26-e61d-4c17-b03d-fbaee648eb51\"},\"grid_line_color\":null}},{\"type\":\"object\",\"name\":\"Grid\",\"id\":\"2fcc4238-cd7e-4997-bf7d-e806550db3ce\",\"attributes\":{\"dimension\":1,\"axis\":{\"id\":\"9df8d291-401d-4dc2-9500-6274e3a07ad3\"},\"grid_line_color\":null}}],\"min_border_top\":10,\"min_border_bottom\":10,\"min_border_left\":10,\"min_border_right\":10,\"output_backend\":\"webgl\"}}]}}]}},{\"type\":\"object\",\"name\":\"panel.models.comm_manager.CommManager\",\"id\":\"19caa3d6-1865-40bd-b73a-fd126a17bb57\",\"attributes\":{\"plot_id\":\"1b4e9dbb-401c-4f11-a565-4f765f21b467\",\"comm_id\":\"36278dda6b6b496fa2726a010ae9603b\",\"client_comm_id\":\"ebc678935aa844368647b7bab2fcf876\"}}],\"defs\":[{\"type\":\"model\",\"name\":\"ReactiveHTML1\"},{\"type\":\"model\",\"name\":\"FlexBox1\",\"properties\":[{\"name\":\"align_content\",\"kind\":\"Any\",\"default\":\"flex-start\"},{\"name\":\"align_items\",\"kind\":\"Any\",\"default\":\"flex-start\"},{\"name\":\"flex_direction\",\"kind\":\"Any\",\"default\":\"row\"},{\"name\":\"flex_wrap\",\"kind\":\"Any\",\"default\":\"wrap\"},{\"name\":\"gap\",\"kind\":\"Any\",\"default\":\"\"},{\"name\":\"justify_content\",\"kind\":\"Any\",\"default\":\"flex-start\"}]},{\"type\":\"model\",\"name\":\"FloatPanel1\",\"properties\":[{\"name\":\"config\",\"kind\":\"Any\",\"default\":{\"type\":\"map\"}},{\"name\":\"contained\",\"kind\":\"Any\",\"default\":true},{\"name\":\"position\",\"kind\":\"Any\",\"default\":\"right-top\"},{\"name\":\"offsetx\",\"kind\":\"Any\",\"default\":null},{\"name\":\"offsety\",\"kind\":\"Any\",\"default\":null},{\"name\":\"theme\",\"kind\":\"Any\",\"default\":\"primary\"},{\"name\":\"status\",\"kind\":\"Any\",\"default\":\"normalized\"}]},{\"type\":\"model\",\"name\":\"GridStack1\",\"properties\":[{\"name\":\"mode\",\"kind\":\"Any\",\"default\":\"warn\"},{\"name\":\"ncols\",\"kind\":\"Any\",\"default\":null},{\"name\":\"nrows\",\"kind\":\"Any\",\"default\":null},{\"name\":\"allow_resize\",\"kind\":\"Any\",\"default\":true},{\"name\":\"allow_drag\",\"kind\":\"Any\",\"default\":true},{\"name\":\"state\",\"kind\":\"Any\",\"default\":[]}]},{\"type\":\"model\",\"name\":\"drag1\",\"properties\":[{\"name\":\"slider_width\",\"kind\":\"Any\",\"default\":5},{\"name\":\"slider_color\",\"kind\":\"Any\",\"default\":\"black\"},{\"name\":\"value\",\"kind\":\"Any\",\"default\":50}]},{\"type\":\"model\",\"name\":\"click1\",\"properties\":[{\"name\":\"terminal_output\",\"kind\":\"Any\",\"default\":\"\"},{\"name\":\"debug_name\",\"kind\":\"Any\",\"default\":\"\"},{\"name\":\"clears\",\"kind\":\"Any\",\"default\":0}]},{\"type\":\"model\",\"name\":\"FastWrapper1\",\"properties\":[{\"name\":\"object\",\"kind\":\"Any\",\"default\":null},{\"name\":\"style\",\"kind\":\"Any\",\"default\":null}]},{\"type\":\"model\",\"name\":\"NotificationAreaBase1\",\"properties\":[{\"name\":\"js_events\",\"kind\":\"Any\",\"default\":{\"type\":\"map\"}},{\"name\":\"position\",\"kind\":\"Any\",\"default\":\"bottom-right\"},{\"name\":\"_clear\",\"kind\":\"Any\",\"default\":0}]},{\"type\":\"model\",\"name\":\"NotificationArea1\",\"properties\":[{\"name\":\"js_events\",\"kind\":\"Any\",\"default\":{\"type\":\"map\"}},{\"name\":\"notifications\",\"kind\":\"Any\",\"default\":[]},{\"name\":\"position\",\"kind\":\"Any\",\"default\":\"bottom-right\"},{\"name\":\"_clear\",\"kind\":\"Any\",\"default\":0},{\"name\":\"types\",\"kind\":\"Any\",\"default\":[{\"type\":\"map\",\"entries\":[[\"type\",\"warning\"],[\"background\",\"#ffc107\"],[\"icon\",{\"type\":\"map\",\"entries\":[[\"className\",\"fas fa-exclamation-triangle\"],[\"tagName\",\"i\"],[\"color\",\"white\"]]}]]},{\"type\":\"map\",\"entries\":[[\"type\",\"info\"],[\"background\",\"#007bff\"],[\"icon\",{\"type\":\"map\",\"entries\":[[\"className\",\"fas fa-info-circle\"],[\"tagName\",\"i\"],[\"color\",\"white\"]]}]]}]}]},{\"type\":\"model\",\"name\":\"Notification\",\"properties\":[{\"name\":\"background\",\"kind\":\"Any\",\"default\":null},{\"name\":\"duration\",\"kind\":\"Any\",\"default\":3000},{\"name\":\"icon\",\"kind\":\"Any\",\"default\":null},{\"name\":\"message\",\"kind\":\"Any\",\"default\":\"\"},{\"name\":\"notification_type\",\"kind\":\"Any\",\"default\":null},{\"name\":\"_destroyed\",\"kind\":\"Any\",\"default\":false}]},{\"type\":\"model\",\"name\":\"TemplateActions1\",\"properties\":[{\"name\":\"open_modal\",\"kind\":\"Any\",\"default\":0},{\"name\":\"close_modal\",\"kind\":\"Any\",\"default\":0}]},{\"type\":\"model\",\"name\":\"BootstrapTemplateActions1\",\"properties\":[{\"name\":\"open_modal\",\"kind\":\"Any\",\"default\":0},{\"name\":\"close_modal\",\"kind\":\"Any\",\"default\":0}]},{\"type\":\"model\",\"name\":\"TemplateEditor1\",\"properties\":[{\"name\":\"layout\",\"kind\":\"Any\",\"default\":[]}]},{\"type\":\"model\",\"name\":\"MaterialTemplateActions1\",\"properties\":[{\"name\":\"open_modal\",\"kind\":\"Any\",\"default\":0},{\"name\":\"close_modal\",\"kind\":\"Any\",\"default\":0}]},{\"type\":\"model\",\"name\":\"copy_to_clipboard1\",\"properties\":[{\"name\":\"fill\",\"kind\":\"Any\",\"default\":\"none\"},{\"name\":\"value\",\"kind\":\"Any\",\"default\":null}]}]}};\n",
       "  var render_items = [{\"docid\":\"09a51648-8222-4bc5-b406-9c5ca7b49f4f\",\"roots\":{\"1b4e9dbb-401c-4f11-a565-4f765f21b467\":\"feac0e4c-f26d-4e0d-9f8d-d44309953aea\"},\"root_ids\":[\"1b4e9dbb-401c-4f11-a565-4f765f21b467\"]}];\n",
       "  var docs = Object.values(docs_json)\n",
       "  if (!docs) {\n",
       "    return\n",
       "  }\n",
       "  const py_version = docs[0].version.replace('rc', '-rc.').replace('.dev', '-dev.')\n",
       "  function embed_document(root) {\n",
       "    var Bokeh = get_bokeh(root)\n",
       "    Bokeh.embed.embed_items_notebook(docs_json, render_items);\n",
       "    for (const render_item of render_items) {\n",
       "      for (const root_id of render_item.root_ids) {\n",
       "\tconst id_el = document.getElementById(root_id)\n",
       "\tif (id_el.children.length && (id_el.children[0].className === 'bk-root')) {\n",
       "\t  const root_el = id_el.children[0]\n",
       "\t  root_el.id = root_el.id + '-rendered'\n",
       "\t}\n",
       "      }\n",
       "    }\n",
       "  }\n",
       "  function get_bokeh(root) {\n",
       "    if (root.Bokeh === undefined) {\n",
       "      return null\n",
       "    } else if (root.Bokeh.version !== py_version) {\n",
       "      if (root.Bokeh.versions === undefined || !root.Bokeh.versions.has(py_version)) {\n",
       "\treturn null\n",
       "      }\n",
       "      return root.Bokeh.versions.get(py_version);\n",
       "    } else if (root.Bokeh.version === py_version) {\n",
       "      return root.Bokeh\n",
       "    }\n",
       "    return null\n",
       "  }\n",
       "  function is_loaded(root) {\n",
       "    var Bokeh = get_bokeh(root)\n",
       "    return (Bokeh != null && Bokeh.Panel !== undefined && ( root.Tabulator !== undefined) && ( root.Tabulator !== undefined))\n",
       "  }\n",
       "  if (is_loaded(root)) {\n",
       "    embed_document(root);\n",
       "  } else {\n",
       "    var attempts = 0;\n",
       "    var timer = setInterval(function(root) {\n",
       "      if (is_loaded(root)) {\n",
       "        clearInterval(timer);\n",
       "        embed_document(root);\n",
       "      } else if (document.readyState == \"complete\") {\n",
       "        attempts++;\n",
       "        if (attempts > 200) {\n",
       "          clearInterval(timer);\n",
       "\t  var Bokeh = get_bokeh(root)\n",
       "\t  if (Bokeh == null || Bokeh.Panel == null) {\n",
       "            console.warn(\"Panel: ERROR: Unable to run Panel code because Bokeh or Panel library is missing\");\n",
       "\t  } else {\n",
       "\t    console.warn(\"Panel: WARNING: Attempting to render but not all required libraries could be resolved.\")\n",
       "\t    embed_document(root)\n",
       "\t  }\n",
       "        }\n",
       "      }\n",
       "    }, 25, root)\n",
       "  }\n",
       "})(window);</script>"
      ],
      "text/plain": [
       "Row\n",
       "    [0] IntSlider(end=100, name='Size', start=1, value=1)\n",
       "    [1] ParamFunction(function, _pane=HoloViews, defer_load=False)"
      ]
     },
     "execution_count": 12,
     "metadata": {
      "application/vnd.holoviews_exec.v0+json": {
       "id": "1b4e9dbb-401c-4f11-a565-4f765f21b467"
      }
     },
     "output_type": "execute_result"
    }
   ],
   "source": [
    "@pn.depends(size_slider.param.value)\n",
    "def update_plot(size):\n",
    "    filtered_df = df[df['Size'] <= size]\n",
    "    return filtered_df.hvplot(x='Size', y='Runtime', line_width=2, title='Test Runtimes')\n",
    "\n",
    "pn.Row(size_slider, update_plot)"
   ]
  },
  {
   "cell_type": "code",
   "execution_count": 13,
   "id": "f939962174d62ca8",
   "metadata": {
    "ExecuteTime": {
     "end_time": "2024-05-02T02:36:48.683834Z",
     "start_time": "2024-05-02T02:36:48.681415Z"
    }
   },
   "outputs": [],
   "source": [
    "# Radio buttons for Runtimes\n",
    "# IDK, one metric ra i-measure which is runtime"
   ]
  },
  {
   "cell_type": "code",
   "id": "8cb4e81a520625ef",
   "metadata": {
    "ExecuteTime": {
     "end_time": "2024-05-02T03:03:41.460868Z",
     "start_time": "2024-05-02T03:03:41.301760Z"
    }
   },
   "source": [
    "algos = ['Square', 'Triple']\n",
    "runtime_pipeline = (\n",
    "    idf[(idf['Size'] <= size_slider) & (idf['Algorithm'].isin(algos))]\n",
    "    .reset_index()\n",
    "    .sort_values(by='Runtime')\n",
    "    .reset_index(drop=True)\n",
    ")\n"
   ],
   "outputs": [],
   "execution_count": 47
  },
  {
   "cell_type": "code",
   "id": "d1e5ff4a37b24384",
   "metadata": {
    "ExecuteTime": {
     "end_time": "2024-05-02T03:03:43.331489Z",
     "start_time": "2024-05-02T03:03:43.226727Z"
    }
   },
   "source": [
    "runtime_plot = runtime_pipeline.hvplot(x = 'Size',by='Algorithm', y='Runtime', line_width=2, title='Test Runtimes')\n",
    "runtime_plot"
   ],
   "outputs": [
    {
     "data": {},
     "metadata": {},
     "output_type": "display_data"
    },
    {
     "data": {},
     "metadata": {},
     "output_type": "display_data"
    },
    {
     "data": {
      "text/html": [
       "<div id='92b019ef-a48d-4c72-9269-00b16044a078'>\n",
       "  <div id=\"b77f0392-e281-4543-8289-a4d30b00da50\" data-root-id=\"92b019ef-a48d-4c72-9269-00b16044a078\" style=\"display: contents;\"></div>\n",
       "</div>\n",
       "<script type=\"application/javascript\">(function(root) {\n",
       "  var docs_json = {\"6ef8feb8-2541-448c-905b-584a55f89d99\":{\"version\":\"3.4.1\",\"title\":\"Bokeh Application\",\"roots\":[{\"type\":\"object\",\"name\":\"Row\",\"id\":\"92b019ef-a48d-4c72-9269-00b16044a078\",\"attributes\":{\"name\":\"Row84538\",\"stylesheets\":[\"\\n:host(.pn-loading):before, .pn-loading:before {\\n  background-color: #c3c3c3;\\n  mask-size: auto calc(min(50%, 400px));\\n  -webkit-mask-size: auto calc(min(50%, 400px));\\n}\",{\"type\":\"object\",\"name\":\"ImportedStyleSheet\",\"id\":\"9bc4d90e-0b60-483f-87d3-3940f61facc3\",\"attributes\":{\"url\":\"https://cdn.holoviz.org/panel/1.4.2/dist/css/loading.css\"}},{\"type\":\"object\",\"name\":\"ImportedStyleSheet\",\"id\":\"8760acb4-829e-4dee-af89-ad7f33f929da\",\"attributes\":{\"url\":\"https://cdn.holoviz.org/panel/1.4.2/dist/css/listpanel.css\"}},{\"type\":\"object\",\"name\":\"ImportedStyleSheet\",\"id\":\"ca7fd68b-a56c-4519-b3bb-40340bdfa578\",\"attributes\":{\"url\":\"https://cdn.holoviz.org/panel/1.4.2/dist/bundled/theme/default.css\"}},{\"type\":\"object\",\"name\":\"ImportedStyleSheet\",\"id\":\"8e786b06-ca4d-44ae-a137-51cf92118dce\",\"attributes\":{\"url\":\"https://cdn.holoviz.org/panel/1.4.2/dist/bundled/theme/native.css\"}}],\"margin\":0,\"align\":\"start\",\"children\":[{\"type\":\"object\",\"name\":\"panel.models.layout.Column\",\"id\":\"4312b16e-6e7c-4232-95d4-7d845569c700\",\"attributes\":{\"name\":\"Column84537\",\"stylesheets\":[\"\\n:host(.pn-loading):before, .pn-loading:before {\\n  background-color: #c3c3c3;\\n  mask-size: auto calc(min(50%, 400px));\\n  -webkit-mask-size: auto calc(min(50%, 400px));\\n}\",{\"id\":\"9bc4d90e-0b60-483f-87d3-3940f61facc3\"},{\"id\":\"8760acb4-829e-4dee-af89-ad7f33f929da\"},{\"id\":\"ca7fd68b-a56c-4519-b3bb-40340bdfa578\"},{\"id\":\"8e786b06-ca4d-44ae-a137-51cf92118dce\"}],\"margin\":0,\"align\":\"start\",\"children\":[{\"type\":\"object\",\"name\":\"panel.models.layout.Column\",\"id\":\"1c2f7598-637b-42be-aa45-e921f2d7a290\",\"attributes\":{\"name\":\"Column84528\",\"stylesheets\":[\"\\n:host(.pn-loading):before, .pn-loading:before {\\n  background-color: #c3c3c3;\\n  mask-size: auto calc(min(50%, 400px));\\n  -webkit-mask-size: auto calc(min(50%, 400px));\\n}\",{\"id\":\"9bc4d90e-0b60-483f-87d3-3940f61facc3\"},{\"id\":\"8760acb4-829e-4dee-af89-ad7f33f929da\"},{\"id\":\"ca7fd68b-a56c-4519-b3bb-40340bdfa578\"},{\"id\":\"8e786b06-ca4d-44ae-a137-51cf92118dce\"}],\"margin\":0,\"align\":\"start\",\"children\":[{\"type\":\"object\",\"name\":\"Slider\",\"id\":\"99433e76-166f-441b-b88f-e5c2d98b2cde\",\"attributes\":{\"stylesheets\":[\"\\n:host(.pn-loading):before, .pn-loading:before {\\n  background-color: #c3c3c3;\\n  mask-size: auto calc(min(50%, 400px));\\n  -webkit-mask-size: auto calc(min(50%, 400px));\\n}\",{\"id\":\"9bc4d90e-0b60-483f-87d3-3940f61facc3\"},{\"id\":\"ca7fd68b-a56c-4519-b3bb-40340bdfa578\"},{\"id\":\"8e786b06-ca4d-44ae-a137-51cf92118dce\"}],\"margin\":[5,10],\"align\":\"start\",\"title\":\"Size\",\"start\":1,\"end\":100,\"value\":1}}]}},{\"type\":\"object\",\"name\":\"Figure\",\"id\":\"8db39f63-f9cb-48ce-8474-866488224e49\",\"attributes\":{\"width\":700,\"height\":300,\"margin\":[5,10],\"sizing_mode\":\"fixed\",\"align\":\"start\",\"x_range\":{\"type\":\"object\",\"name\":\"Range1d\",\"id\":\"f023f0a1-e0f6-43db-b34b-5d696e7060b6\",\"attributes\":{\"tags\":[[[\"Size\",\"Size\",null]],[]],\"reset_start\":0.0,\"reset_end\":1.0}},\"y_range\":{\"type\":\"object\",\"name\":\"Range1d\",\"id\":\"4137ab2b-f9f3-4228-8f4b-504e9a897d65\",\"attributes\":{\"tags\":[[[\"Runtime\",\"Runtime\",null]],{\"type\":\"map\",\"entries\":[[\"invert_yaxis\",false],[\"autorange\",false]]}],\"start\":-0.03333333333333333,\"end\":0.36666666666666664,\"reset_start\":-0.03333333333333333,\"reset_end\":0.36666666666666664}},\"x_scale\":{\"type\":\"object\",\"name\":\"LinearScale\",\"id\":\"8ea14943-8c64-493a-8fd2-d68d2fd6061e\"},\"y_scale\":{\"type\":\"object\",\"name\":\"LinearScale\",\"id\":\"83d1bfb3-1449-4643-b593-62b887e3f2c1\"},\"title\":{\"type\":\"object\",\"name\":\"Title\",\"id\":\"7c0a3732-c37a-498b-ba25-0422ce1b00a3\",\"attributes\":{\"text\":\"Test Runtimes\",\"text_color\":\"black\",\"text_font_size\":\"12pt\"}},\"renderers\":[{\"type\":\"object\",\"name\":\"GlyphRenderer\",\"id\":\"1ed53b9d-2c1f-48f2-ab15-be47c222c62c\",\"attributes\":{\"name\":\"Square\",\"data_source\":{\"type\":\"object\",\"name\":\"ColumnDataSource\",\"id\":\"f61eb618-2d26-44fd-bb83-565b5a084260\",\"attributes\":{\"selected\":{\"type\":\"object\",\"name\":\"Selection\",\"id\":\"a091bcd1-eab3-4195-8c8c-0e4f13c7003e\",\"attributes\":{\"indices\":[],\"line_indices\":[]}},\"selection_policy\":{\"type\":\"object\",\"name\":\"UnionRenderers\",\"id\":\"6e01330b-84b1-4d44-a0cb-e8877e0dab8d\"},\"data\":{\"type\":\"map\",\"entries\":[[\"Size\",{\"type\":\"ndarray\",\"array\":{\"type\":\"bytes\",\"data\":\"AAAAAA==\"},\"shape\":[1],\"dtype\":\"int32\",\"order\":\"little\"}],[\"Runtime\",{\"type\":\"ndarray\",\"array\":{\"type\":\"bytes\",\"data\":\"AAAAAAAAAAA=\"},\"shape\":[1],\"dtype\":\"float64\",\"order\":\"little\"}],[\"Algorithm\",[\"Square\"]]]}}},\"view\":{\"type\":\"object\",\"name\":\"CDSView\",\"id\":\"5c7d49d0-998a-455d-b0db-c7f565ac6359\",\"attributes\":{\"filter\":{\"type\":\"object\",\"name\":\"AllIndices\",\"id\":\"9a8584b2-08f8-4c10-ba57-b99cc68e4b7b\"}}},\"glyph\":{\"type\":\"object\",\"name\":\"Line\",\"id\":\"359553f5-ca85-42a3-8694-d67dec097b44\",\"attributes\":{\"tags\":[\"apply_ranges\"],\"x\":{\"type\":\"field\",\"field\":\"Size\"},\"y\":{\"type\":\"field\",\"field\":\"Runtime\"},\"line_color\":\"#30a2da\",\"line_width\":2}},\"selection_glyph\":{\"type\":\"object\",\"name\":\"Line\",\"id\":\"6ba5af2b-d7ee-4624-bce4-9cf3391fc602\",\"attributes\":{\"tags\":[\"apply_ranges\"],\"x\":{\"type\":\"field\",\"field\":\"Size\"},\"y\":{\"type\":\"field\",\"field\":\"Runtime\"},\"line_color\":\"#30a2da\",\"line_width\":2}},\"nonselection_glyph\":{\"type\":\"object\",\"name\":\"Line\",\"id\":\"70801ebb-e10d-42de-abeb-3abfcf566f73\",\"attributes\":{\"tags\":[\"apply_ranges\"],\"x\":{\"type\":\"field\",\"field\":\"Size\"},\"y\":{\"type\":\"field\",\"field\":\"Runtime\"},\"line_color\":\"#30a2da\",\"line_alpha\":0.1,\"line_width\":2}},\"muted_glyph\":{\"type\":\"object\",\"name\":\"Line\",\"id\":\"ecb7470e-1637-420e-9f46-cda092b82be9\",\"attributes\":{\"tags\":[\"apply_ranges\"],\"x\":{\"type\":\"field\",\"field\":\"Size\"},\"y\":{\"type\":\"field\",\"field\":\"Runtime\"},\"line_color\":\"#30a2da\",\"line_alpha\":0.2,\"line_width\":2}}}},{\"type\":\"object\",\"name\":\"GlyphRenderer\",\"id\":\"1fea5874-b7a0-4986-9b77-432ef3be1fe6\",\"attributes\":{\"name\":\"Triple\",\"data_source\":{\"type\":\"object\",\"name\":\"ColumnDataSource\",\"id\":\"d79bf6ca-bb6a-4250-9291-38e64a556cdc\",\"attributes\":{\"selected\":{\"type\":\"object\",\"name\":\"Selection\",\"id\":\"73f9c6c1-2a31-43b1-b997-1904d7b0cf9a\",\"attributes\":{\"indices\":[],\"line_indices\":[]}},\"selection_policy\":{\"type\":\"object\",\"name\":\"UnionRenderers\",\"id\":\"11429c09-bae4-432b-a641-dc8f4e6d3564\"},\"data\":{\"type\":\"map\",\"entries\":[[\"Size\",{\"type\":\"ndarray\",\"array\":{\"type\":\"bytes\",\"data\":\"AQAAAA==\"},\"shape\":[1],\"dtype\":\"int32\",\"order\":\"little\"}],[\"Runtime\",{\"type\":\"ndarray\",\"array\":{\"type\":\"bytes\",\"data\":\"VVVVVVVV1T8=\"},\"shape\":[1],\"dtype\":\"float64\",\"order\":\"little\"}],[\"Algorithm\",[\"Triple\"]]]}}},\"view\":{\"type\":\"object\",\"name\":\"CDSView\",\"id\":\"733d0c8b-276e-4613-a4f4-df78cbc87df7\",\"attributes\":{\"filter\":{\"type\":\"object\",\"name\":\"AllIndices\",\"id\":\"31734d9c-6a55-4ba1-9c9b-124728ec8dcf\"}}},\"glyph\":{\"type\":\"object\",\"name\":\"Line\",\"id\":\"acca2c2a-7155-41ff-a464-cfeddef1f3ca\",\"attributes\":{\"tags\":[\"apply_ranges\"],\"x\":{\"type\":\"field\",\"field\":\"Size\"},\"y\":{\"type\":\"field\",\"field\":\"Runtime\"},\"line_color\":\"#fc4f30\",\"line_width\":2}},\"selection_glyph\":{\"type\":\"object\",\"name\":\"Line\",\"id\":\"28f57b69-69aa-4de4-9dad-f957a743858b\",\"attributes\":{\"tags\":[\"apply_ranges\"],\"x\":{\"type\":\"field\",\"field\":\"Size\"},\"y\":{\"type\":\"field\",\"field\":\"Runtime\"},\"line_color\":\"#fc4f30\",\"line_width\":2}},\"nonselection_glyph\":{\"type\":\"object\",\"name\":\"Line\",\"id\":\"9d830e7d-6811-4711-b28f-2e21914d279f\",\"attributes\":{\"tags\":[\"apply_ranges\"],\"x\":{\"type\":\"field\",\"field\":\"Size\"},\"y\":{\"type\":\"field\",\"field\":\"Runtime\"},\"line_color\":\"#fc4f30\",\"line_alpha\":0.1,\"line_width\":2}},\"muted_glyph\":{\"type\":\"object\",\"name\":\"Line\",\"id\":\"d906d4e9-99dc-46c5-b8c3-02bb78107f25\",\"attributes\":{\"tags\":[\"apply_ranges\"],\"x\":{\"type\":\"field\",\"field\":\"Size\"},\"y\":{\"type\":\"field\",\"field\":\"Runtime\"},\"line_color\":\"#fc4f30\",\"line_alpha\":0.2,\"line_width\":2}}}}],\"toolbar\":{\"type\":\"object\",\"name\":\"Toolbar\",\"id\":\"9528b499-87f3-4f5e-a3c1-9666a421994f\",\"attributes\":{\"tools\":[{\"type\":\"object\",\"name\":\"WheelZoomTool\",\"id\":\"01dfc3a7-8875-4288-9c74-30c9b1c97fd7\",\"attributes\":{\"tags\":[\"hv_created\"],\"renderers\":\"auto\",\"zoom_together\":\"none\"}},{\"type\":\"object\",\"name\":\"HoverTool\",\"id\":\"5b153de2-8e5d-4fd6-b9e3-421b16868b44\",\"attributes\":{\"tags\":[\"hv_created\"],\"renderers\":[{\"id\":\"1ed53b9d-2c1f-48f2-ab15-be47c222c62c\"},{\"id\":\"1fea5874-b7a0-4986-9b77-432ef3be1fe6\"}],\"tooltips\":[[\"Algorithm\",\"@{Algorithm}\"],[\"Size\",\"@{Size}\"],[\"Runtime\",\"@{Runtime}\"]]}},{\"type\":\"object\",\"name\":\"SaveTool\",\"id\":\"08751e6a-5eec-4713-bad1-15dc8cce9f11\"},{\"type\":\"object\",\"name\":\"PanTool\",\"id\":\"03a85ca5-4221-4726-968f-ea97c01e7abd\"},{\"type\":\"object\",\"name\":\"BoxZoomTool\",\"id\":\"fa6395c9-5def-4422-b6e3-9d39141e7980\",\"attributes\":{\"overlay\":{\"type\":\"object\",\"name\":\"BoxAnnotation\",\"id\":\"738b4b69-4f1e-4d36-af02-a446e86f596e\",\"attributes\":{\"syncable\":false,\"level\":\"overlay\",\"visible\":false,\"left\":{\"type\":\"number\",\"value\":\"nan\"},\"right\":{\"type\":\"number\",\"value\":\"nan\"},\"top\":{\"type\":\"number\",\"value\":\"nan\"},\"bottom\":{\"type\":\"number\",\"value\":\"nan\"},\"left_units\":\"canvas\",\"right_units\":\"canvas\",\"top_units\":\"canvas\",\"bottom_units\":\"canvas\",\"line_color\":\"black\",\"line_alpha\":1.0,\"line_width\":2,\"line_dash\":[4,4],\"fill_color\":\"lightgrey\",\"fill_alpha\":0.5}}}},{\"type\":\"object\",\"name\":\"ResetTool\",\"id\":\"19a58d4f-93a4-451b-b0f7-f552957f50a2\"}],\"active_drag\":{\"id\":\"03a85ca5-4221-4726-968f-ea97c01e7abd\"},\"active_scroll\":{\"id\":\"01dfc3a7-8875-4288-9c74-30c9b1c97fd7\"}}},\"left\":[{\"type\":\"object\",\"name\":\"LinearAxis\",\"id\":\"1b6354ef-aa9a-4ca1-b509-361bb32a4876\",\"attributes\":{\"ticker\":{\"type\":\"object\",\"name\":\"BasicTicker\",\"id\":\"af921b59-e5ba-4343-9ddb-a92d6187e503\",\"attributes\":{\"mantissas\":[1,2,5]}},\"formatter\":{\"type\":\"object\",\"name\":\"BasicTickFormatter\",\"id\":\"30261ced-10bd-4fd8-aa08-e3cec5c21d79\"},\"axis_label\":\"Runtime\",\"major_label_policy\":{\"type\":\"object\",\"name\":\"AllLabels\",\"id\":\"80adb57c-823a-4b29-a4f2-41f1b2a25458\"}}}],\"right\":[{\"type\":\"object\",\"name\":\"Legend\",\"id\":\"b9ddf021-62cc-4f8e-9208-bbda77a4fc9e\",\"attributes\":{\"location\":[0,0],\"title\":\"Algorithm\",\"click_policy\":\"mute\",\"items\":[{\"type\":\"object\",\"name\":\"LegendItem\",\"id\":\"2f7690c4-feb4-4665-9e45-bfffb3518105\",\"attributes\":{\"label\":{\"type\":\"value\",\"value\":\"Square\"},\"renderers\":[{\"id\":\"1ed53b9d-2c1f-48f2-ab15-be47c222c62c\"}]}},{\"type\":\"object\",\"name\":\"LegendItem\",\"id\":\"119c682e-3f9d-410b-a4d1-388290ea6b86\",\"attributes\":{\"label\":{\"type\":\"value\",\"value\":\"Triple\"},\"renderers\":[{\"id\":\"1fea5874-b7a0-4986-9b77-432ef3be1fe6\"}]}}]}}],\"below\":[{\"type\":\"object\",\"name\":\"LinearAxis\",\"id\":\"1331d519-58d6-42e1-b42c-9eddf1bdfba9\",\"attributes\":{\"ticker\":{\"type\":\"object\",\"name\":\"BasicTicker\",\"id\":\"227ca662-3696-4c86-9dbf-a03106bf0520\",\"attributes\":{\"mantissas\":[1,2,5]}},\"formatter\":{\"type\":\"object\",\"name\":\"BasicTickFormatter\",\"id\":\"598b496b-fda2-4b98-a5c8-e7791769f4dc\"},\"axis_label\":\"Size\",\"major_label_policy\":{\"type\":\"object\",\"name\":\"AllLabels\",\"id\":\"54167111-765d-4f8d-9bb9-6738ae2ea190\"}}}],\"center\":[{\"type\":\"object\",\"name\":\"Grid\",\"id\":\"e7067ecc-bfc0-4311-9c34-6b86d52281a3\",\"attributes\":{\"axis\":{\"id\":\"1331d519-58d6-42e1-b42c-9eddf1bdfba9\"},\"grid_line_color\":null}},{\"type\":\"object\",\"name\":\"Grid\",\"id\":\"a49df401-cec1-44cd-85df-7954501c1cd2\",\"attributes\":{\"dimension\":1,\"axis\":{\"id\":\"1b6354ef-aa9a-4ca1-b509-361bb32a4876\"},\"grid_line_color\":null}}],\"min_border_top\":10,\"min_border_bottom\":10,\"min_border_left\":10,\"min_border_right\":10,\"output_backend\":\"webgl\"}}]}}]}},{\"type\":\"object\",\"name\":\"panel.models.comm_manager.CommManager\",\"id\":\"5070fcde-4cc4-4ce0-a89d-a8f256e20910\",\"attributes\":{\"plot_id\":\"92b019ef-a48d-4c72-9269-00b16044a078\",\"comm_id\":\"287ae38f39d74d0b8e94b56e7ec021f0\",\"client_comm_id\":\"1e99acd13ed8425bb89c406b140ab9c1\"}}],\"defs\":[{\"type\":\"model\",\"name\":\"ReactiveHTML1\"},{\"type\":\"model\",\"name\":\"FlexBox1\",\"properties\":[{\"name\":\"align_content\",\"kind\":\"Any\",\"default\":\"flex-start\"},{\"name\":\"align_items\",\"kind\":\"Any\",\"default\":\"flex-start\"},{\"name\":\"flex_direction\",\"kind\":\"Any\",\"default\":\"row\"},{\"name\":\"flex_wrap\",\"kind\":\"Any\",\"default\":\"wrap\"},{\"name\":\"gap\",\"kind\":\"Any\",\"default\":\"\"},{\"name\":\"justify_content\",\"kind\":\"Any\",\"default\":\"flex-start\"}]},{\"type\":\"model\",\"name\":\"FloatPanel1\",\"properties\":[{\"name\":\"config\",\"kind\":\"Any\",\"default\":{\"type\":\"map\"}},{\"name\":\"contained\",\"kind\":\"Any\",\"default\":true},{\"name\":\"position\",\"kind\":\"Any\",\"default\":\"right-top\"},{\"name\":\"offsetx\",\"kind\":\"Any\",\"default\":null},{\"name\":\"offsety\",\"kind\":\"Any\",\"default\":null},{\"name\":\"theme\",\"kind\":\"Any\",\"default\":\"primary\"},{\"name\":\"status\",\"kind\":\"Any\",\"default\":\"normalized\"}]},{\"type\":\"model\",\"name\":\"GridStack1\",\"properties\":[{\"name\":\"mode\",\"kind\":\"Any\",\"default\":\"warn\"},{\"name\":\"ncols\",\"kind\":\"Any\",\"default\":null},{\"name\":\"nrows\",\"kind\":\"Any\",\"default\":null},{\"name\":\"allow_resize\",\"kind\":\"Any\",\"default\":true},{\"name\":\"allow_drag\",\"kind\":\"Any\",\"default\":true},{\"name\":\"state\",\"kind\":\"Any\",\"default\":[]}]},{\"type\":\"model\",\"name\":\"drag1\",\"properties\":[{\"name\":\"slider_width\",\"kind\":\"Any\",\"default\":5},{\"name\":\"slider_color\",\"kind\":\"Any\",\"default\":\"black\"},{\"name\":\"value\",\"kind\":\"Any\",\"default\":50}]},{\"type\":\"model\",\"name\":\"click1\",\"properties\":[{\"name\":\"terminal_output\",\"kind\":\"Any\",\"default\":\"\"},{\"name\":\"debug_name\",\"kind\":\"Any\",\"default\":\"\"},{\"name\":\"clears\",\"kind\":\"Any\",\"default\":0}]},{\"type\":\"model\",\"name\":\"FastWrapper1\",\"properties\":[{\"name\":\"object\",\"kind\":\"Any\",\"default\":null},{\"name\":\"style\",\"kind\":\"Any\",\"default\":null}]},{\"type\":\"model\",\"name\":\"NotificationAreaBase1\",\"properties\":[{\"name\":\"js_events\",\"kind\":\"Any\",\"default\":{\"type\":\"map\"}},{\"name\":\"position\",\"kind\":\"Any\",\"default\":\"bottom-right\"},{\"name\":\"_clear\",\"kind\":\"Any\",\"default\":0}]},{\"type\":\"model\",\"name\":\"NotificationArea1\",\"properties\":[{\"name\":\"js_events\",\"kind\":\"Any\",\"default\":{\"type\":\"map\"}},{\"name\":\"notifications\",\"kind\":\"Any\",\"default\":[]},{\"name\":\"position\",\"kind\":\"Any\",\"default\":\"bottom-right\"},{\"name\":\"_clear\",\"kind\":\"Any\",\"default\":0},{\"name\":\"types\",\"kind\":\"Any\",\"default\":[{\"type\":\"map\",\"entries\":[[\"type\",\"warning\"],[\"background\",\"#ffc107\"],[\"icon\",{\"type\":\"map\",\"entries\":[[\"className\",\"fas fa-exclamation-triangle\"],[\"tagName\",\"i\"],[\"color\",\"white\"]]}]]},{\"type\":\"map\",\"entries\":[[\"type\",\"info\"],[\"background\",\"#007bff\"],[\"icon\",{\"type\":\"map\",\"entries\":[[\"className\",\"fas fa-info-circle\"],[\"tagName\",\"i\"],[\"color\",\"white\"]]}]]}]}]},{\"type\":\"model\",\"name\":\"Notification\",\"properties\":[{\"name\":\"background\",\"kind\":\"Any\",\"default\":null},{\"name\":\"duration\",\"kind\":\"Any\",\"default\":3000},{\"name\":\"icon\",\"kind\":\"Any\",\"default\":null},{\"name\":\"message\",\"kind\":\"Any\",\"default\":\"\"},{\"name\":\"notification_type\",\"kind\":\"Any\",\"default\":null},{\"name\":\"_destroyed\",\"kind\":\"Any\",\"default\":false}]},{\"type\":\"model\",\"name\":\"TemplateActions1\",\"properties\":[{\"name\":\"open_modal\",\"kind\":\"Any\",\"default\":0},{\"name\":\"close_modal\",\"kind\":\"Any\",\"default\":0}]},{\"type\":\"model\",\"name\":\"BootstrapTemplateActions1\",\"properties\":[{\"name\":\"open_modal\",\"kind\":\"Any\",\"default\":0},{\"name\":\"close_modal\",\"kind\":\"Any\",\"default\":0}]},{\"type\":\"model\",\"name\":\"TemplateEditor1\",\"properties\":[{\"name\":\"layout\",\"kind\":\"Any\",\"default\":[]}]},{\"type\":\"model\",\"name\":\"MaterialTemplateActions1\",\"properties\":[{\"name\":\"open_modal\",\"kind\":\"Any\",\"default\":0},{\"name\":\"close_modal\",\"kind\":\"Any\",\"default\":0}]},{\"type\":\"model\",\"name\":\"copy_to_clipboard1\",\"properties\":[{\"name\":\"fill\",\"kind\":\"Any\",\"default\":\"none\"},{\"name\":\"value\",\"kind\":\"Any\",\"default\":null}]}]}};\n",
       "  var render_items = [{\"docid\":\"6ef8feb8-2541-448c-905b-584a55f89d99\",\"roots\":{\"92b019ef-a48d-4c72-9269-00b16044a078\":\"b77f0392-e281-4543-8289-a4d30b00da50\"},\"root_ids\":[\"92b019ef-a48d-4c72-9269-00b16044a078\"]}];\n",
       "  var docs = Object.values(docs_json)\n",
       "  if (!docs) {\n",
       "    return\n",
       "  }\n",
       "  const py_version = docs[0].version.replace('rc', '-rc.').replace('.dev', '-dev.')\n",
       "  function embed_document(root) {\n",
       "    var Bokeh = get_bokeh(root)\n",
       "    Bokeh.embed.embed_items_notebook(docs_json, render_items);\n",
       "    for (const render_item of render_items) {\n",
       "      for (const root_id of render_item.root_ids) {\n",
       "\tconst id_el = document.getElementById(root_id)\n",
       "\tif (id_el.children.length && (id_el.children[0].className === 'bk-root')) {\n",
       "\t  const root_el = id_el.children[0]\n",
       "\t  root_el.id = root_el.id + '-rendered'\n",
       "\t}\n",
       "      }\n",
       "    }\n",
       "  }\n",
       "  function get_bokeh(root) {\n",
       "    if (root.Bokeh === undefined) {\n",
       "      return null\n",
       "    } else if (root.Bokeh.version !== py_version) {\n",
       "      if (root.Bokeh.versions === undefined || !root.Bokeh.versions.has(py_version)) {\n",
       "\treturn null\n",
       "      }\n",
       "      return root.Bokeh.versions.get(py_version);\n",
       "    } else if (root.Bokeh.version === py_version) {\n",
       "      return root.Bokeh\n",
       "    }\n",
       "    return null\n",
       "  }\n",
       "  function is_loaded(root) {\n",
       "    var Bokeh = get_bokeh(root)\n",
       "    return (Bokeh != null && Bokeh.Panel !== undefined && ( root.Tabulator !== undefined) && ( root.Tabulator !== undefined) && ( root.Tabulator !== undefined) && ( root.Tabulator !== undefined) && ( root.Tabulator !== undefined))\n",
       "  }\n",
       "  if (is_loaded(root)) {\n",
       "    embed_document(root);\n",
       "  } else {\n",
       "    var attempts = 0;\n",
       "    var timer = setInterval(function(root) {\n",
       "      if (is_loaded(root)) {\n",
       "        clearInterval(timer);\n",
       "        embed_document(root);\n",
       "      } else if (document.readyState == \"complete\") {\n",
       "        attempts++;\n",
       "        if (attempts > 200) {\n",
       "          clearInterval(timer);\n",
       "\t  var Bokeh = get_bokeh(root)\n",
       "\t  if (Bokeh == null || Bokeh.Panel == null) {\n",
       "            console.warn(\"Panel: ERROR: Unable to run Panel code because Bokeh or Panel library is missing\");\n",
       "\t  } else {\n",
       "\t    console.warn(\"Panel: WARNING: Attempting to render but not all required libraries could be resolved.\")\n",
       "\t    embed_document(root)\n",
       "\t  }\n",
       "        }\n",
       "      }\n",
       "    }, 25, root)\n",
       "  }\n",
       "})(window);</script>"
      ],
      "application/vnd.holoviews_exec.v0+json": "",
      "text/plain": [
       "<hvplot.interactive.Interactive at 0x215e69bbad0>"
      ]
     },
     "execution_count": 48,
     "metadata": {
      "application/vnd.holoviews_exec.v0+json": {
       "id": "92b019ef-a48d-4c72-9269-00b16044a078"
      }
     },
     "output_type": "execute_result"
    }
   ],
   "execution_count": 48
  },
  {
   "cell_type": "code",
   "execution_count": null,
   "id": "c4291e745ee79e11",
   "metadata": {
    "ExecuteTime": {
     "end_time": "2024-05-02T02:37:02.501640Z",
     "start_time": "2024-05-02T02:37:02.499754Z"
    }
   },
   "outputs": [],
   "source": []
  },
  {
   "cell_type": "code",
   "execution_count": null,
   "id": "467fcef0dcce4ff5",
   "metadata": {},
   "outputs": [],
   "source": []
  }
 ],
 "metadata": {
  "kernelspec": {
   "display_name": "Python 3 (ipykernel)",
   "language": "python",
   "name": "python3"
  },
  "language_info": {
   "codemirror_mode": {
    "name": "ipython",
    "version": 3
   },
   "file_extension": ".py",
   "mimetype": "text/x-python",
   "name": "python",
   "nbconvert_exporter": "python",
   "pygments_lexer": "ipython3",
   "version": "3.12.1"
  }
 },
 "nbformat": 4,
 "nbformat_minor": 5
}
